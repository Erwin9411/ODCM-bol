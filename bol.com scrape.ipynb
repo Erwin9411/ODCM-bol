{
 "cells": [
  {
   "cell_type": "markdown",
   "metadata": {},
   "source": [
    "# bol.com\n",
    "scraper The purpose of this scraper is to scrape all the phones from bol.com to find out what are the prices for the different phones and what are the ratings per phone. \n",
    "\n",
    "## Structure \n",
    "To create a readable and understandable document the document will consist of several paragraphs, those are listed below: \n",
    "- Paragraph 1: Collecting the pages \n",
    "- Paragraph 2: Entering the right pages \n",
    "- Paragraph 3: Collecting the right information from the different pages \n",
    "\n",
    "### Paragraph 1 \n",
    "In paragraph 1 we will take the following steps:  \n",
    "- Importing the right packages and links Create the page urls for the different phones Create the links to all different bol.com pages with phones \n",
    "    - Step 1 In this step we will as said before starting with importing the right packages and links"
   ]
  },
  {
   "cell_type": "markdown",
   "metadata": {},
   "source": [
    "## Question for feedback session\n",
    "- How to open a weblink from a list of links."
   ]
  },
  {
   "cell_type": "code",
   "execution_count": 1,
   "metadata": {},
   "outputs": [],
   "source": [
    "from datetime import date\n",
    "import time\n",
    "import pandas as pd\n",
    "import requests\n",
    "from bs4 import BeautifulSoup\n",
    "def connect():\n",
    "    global driver\n",
    "    #import packages\n",
    "    import selenium.webdriver\n",
    "    driver = selenium.webdriver.Chrome()\n",
    "    driver.get(\"https://www.bol.com/nl/l/smartphones/N/4010/\")\n",
    "        \n",
    "    time.sleep(5)\n",
    "    #accept coockies\n",
    "    accept = driver.find_elements_by_class_name(\"js-confirm-button\")[0]\n",
    "    accept.click()"
   ]
  },
  {
   "cell_type": "code",
   "execution_count": 2,
   "metadata": {},
   "outputs": [],
   "source": [
    "connect()"
   ]
  },
  {
   "cell_type": "code",
   "execution_count": null,
   "metadata": {},
   "outputs": [],
   "source": [
    " #yet to import\n",
    "    #import numpy as np\n",
    "\n",
    "    #df = pd.DataFrame(np.random.randn(10, 5))\n",
    "    #df.head()"
   ]
  },
  {
   "cell_type": "markdown",
   "metadata": {},
   "source": [
    "# Modules"
   ]
  },
  {
   "cell_type": "markdown",
   "metadata": {},
   "source": [
    "- open product category\n",
    "- function: collect all page links (page1, page2, ...)\n",
    "- function: on each page, scroll down and collect all phones\n",
    "- function: open product page and collect attributes"
   ]
  },
  {
   "cell_type": "code",
   "execution_count": null,
   "metadata": {},
   "outputs": [],
   "source": [
    "# Beautiful soup\n",
    "#url = 'https://www.bol.com/nl/l/smartphones/N/4010/'\n",
    "#res = requests.get(url)\n",
    "#soup = BeautifulSoup(res.text, \"html.parser\")"
   ]
  },
  {
   "cell_type": "markdown",
   "metadata": {},
   "source": [
    "# get page urls"
   ]
  },
  {
   "cell_type": "code",
   "execution_count": 3,
   "metadata": {},
   "outputs": [
    {
     "data": {
      "text/plain": [
       "97"
      ]
     },
     "execution_count": 3,
     "metadata": {},
     "output_type": "execute_result"
    }
   ],
   "source": [
    "#Get max pages\n",
    "res = driver.page_source.encode('utf-8')\n",
    "soup = BeautifulSoup(res, \"html.parser\")\n",
    "page_numbers = soup.find_all(class_=\"js_pagination_item\")[4].text\n",
    "#page_numbers\n",
    "#page_numbers = str(page_numbers).replace('<a class=\"js_pagination_item\" data-page-number=\"', '')\n",
    "#page_numbers\n",
    "#page_numbers =  str(page_numbers).replace(\"</a>\", \"\")\n",
    "#page_numbers\n",
    "max_pages = int(page_numbers) + 1\n",
    "max_pages"
   ]
  },
  {
   "cell_type": "code",
   "execution_count": 5,
   "metadata": {},
   "outputs": [],
   "source": [
    "# Function get pages\n",
    "def get_pages():\n",
    "    base_url = \"https://bol.com/nl/l/smartphones/N/4010/\"\n",
    "    page_urls = []\n",
    "\n",
    "    #Counter range\n",
    "    for counter in range(1,max_pages): \n",
    "        full_url = base_url + \"?page=\" + str(counter)\n",
    "        page_urls.append(full_url)\n",
    "    return(page_urls)"
   ]
  },
  {
   "cell_type": "markdown",
   "metadata": {},
   "source": [
    "Execution"
   ]
  },
  {
   "cell_type": "code",
   "execution_count": 6,
   "metadata": {},
   "outputs": [
    {
     "name": "stdout",
     "output_type": "stream",
     "text": [
      "Category pages compiled!\n"
     ]
    },
    {
     "data": {
      "text/plain": [
       "['https://bol.com/nl/l/smartphones/N/4010/?page=1',\n",
       " 'https://bol.com/nl/l/smartphones/N/4010/?page=2',\n",
       " 'https://bol.com/nl/l/smartphones/N/4010/?page=3',\n",
       " 'https://bol.com/nl/l/smartphones/N/4010/?page=4',\n",
       " 'https://bol.com/nl/l/smartphones/N/4010/?page=5',\n",
       " 'https://bol.com/nl/l/smartphones/N/4010/?page=6',\n",
       " 'https://bol.com/nl/l/smartphones/N/4010/?page=7',\n",
       " 'https://bol.com/nl/l/smartphones/N/4010/?page=8',\n",
       " 'https://bol.com/nl/l/smartphones/N/4010/?page=9',\n",
       " 'https://bol.com/nl/l/smartphones/N/4010/?page=10',\n",
       " 'https://bol.com/nl/l/smartphones/N/4010/?page=11',\n",
       " 'https://bol.com/nl/l/smartphones/N/4010/?page=12',\n",
       " 'https://bol.com/nl/l/smartphones/N/4010/?page=13',\n",
       " 'https://bol.com/nl/l/smartphones/N/4010/?page=14',\n",
       " 'https://bol.com/nl/l/smartphones/N/4010/?page=15',\n",
       " 'https://bol.com/nl/l/smartphones/N/4010/?page=16',\n",
       " 'https://bol.com/nl/l/smartphones/N/4010/?page=17',\n",
       " 'https://bol.com/nl/l/smartphones/N/4010/?page=18',\n",
       " 'https://bol.com/nl/l/smartphones/N/4010/?page=19',\n",
       " 'https://bol.com/nl/l/smartphones/N/4010/?page=20',\n",
       " 'https://bol.com/nl/l/smartphones/N/4010/?page=21',\n",
       " 'https://bol.com/nl/l/smartphones/N/4010/?page=22',\n",
       " 'https://bol.com/nl/l/smartphones/N/4010/?page=23',\n",
       " 'https://bol.com/nl/l/smartphones/N/4010/?page=24',\n",
       " 'https://bol.com/nl/l/smartphones/N/4010/?page=25',\n",
       " 'https://bol.com/nl/l/smartphones/N/4010/?page=26',\n",
       " 'https://bol.com/nl/l/smartphones/N/4010/?page=27',\n",
       " 'https://bol.com/nl/l/smartphones/N/4010/?page=28',\n",
       " 'https://bol.com/nl/l/smartphones/N/4010/?page=29',\n",
       " 'https://bol.com/nl/l/smartphones/N/4010/?page=30',\n",
       " 'https://bol.com/nl/l/smartphones/N/4010/?page=31',\n",
       " 'https://bol.com/nl/l/smartphones/N/4010/?page=32',\n",
       " 'https://bol.com/nl/l/smartphones/N/4010/?page=33',\n",
       " 'https://bol.com/nl/l/smartphones/N/4010/?page=34',\n",
       " 'https://bol.com/nl/l/smartphones/N/4010/?page=35',\n",
       " 'https://bol.com/nl/l/smartphones/N/4010/?page=36',\n",
       " 'https://bol.com/nl/l/smartphones/N/4010/?page=37',\n",
       " 'https://bol.com/nl/l/smartphones/N/4010/?page=38',\n",
       " 'https://bol.com/nl/l/smartphones/N/4010/?page=39',\n",
       " 'https://bol.com/nl/l/smartphones/N/4010/?page=40',\n",
       " 'https://bol.com/nl/l/smartphones/N/4010/?page=41',\n",
       " 'https://bol.com/nl/l/smartphones/N/4010/?page=42',\n",
       " 'https://bol.com/nl/l/smartphones/N/4010/?page=43',\n",
       " 'https://bol.com/nl/l/smartphones/N/4010/?page=44',\n",
       " 'https://bol.com/nl/l/smartphones/N/4010/?page=45',\n",
       " 'https://bol.com/nl/l/smartphones/N/4010/?page=46',\n",
       " 'https://bol.com/nl/l/smartphones/N/4010/?page=47',\n",
       " 'https://bol.com/nl/l/smartphones/N/4010/?page=48',\n",
       " 'https://bol.com/nl/l/smartphones/N/4010/?page=49',\n",
       " 'https://bol.com/nl/l/smartphones/N/4010/?page=50',\n",
       " 'https://bol.com/nl/l/smartphones/N/4010/?page=51',\n",
       " 'https://bol.com/nl/l/smartphones/N/4010/?page=52',\n",
       " 'https://bol.com/nl/l/smartphones/N/4010/?page=53',\n",
       " 'https://bol.com/nl/l/smartphones/N/4010/?page=54',\n",
       " 'https://bol.com/nl/l/smartphones/N/4010/?page=55',\n",
       " 'https://bol.com/nl/l/smartphones/N/4010/?page=56',\n",
       " 'https://bol.com/nl/l/smartphones/N/4010/?page=57',\n",
       " 'https://bol.com/nl/l/smartphones/N/4010/?page=58',\n",
       " 'https://bol.com/nl/l/smartphones/N/4010/?page=59',\n",
       " 'https://bol.com/nl/l/smartphones/N/4010/?page=60',\n",
       " 'https://bol.com/nl/l/smartphones/N/4010/?page=61',\n",
       " 'https://bol.com/nl/l/smartphones/N/4010/?page=62',\n",
       " 'https://bol.com/nl/l/smartphones/N/4010/?page=63',\n",
       " 'https://bol.com/nl/l/smartphones/N/4010/?page=64',\n",
       " 'https://bol.com/nl/l/smartphones/N/4010/?page=65',\n",
       " 'https://bol.com/nl/l/smartphones/N/4010/?page=66',\n",
       " 'https://bol.com/nl/l/smartphones/N/4010/?page=67',\n",
       " 'https://bol.com/nl/l/smartphones/N/4010/?page=68',\n",
       " 'https://bol.com/nl/l/smartphones/N/4010/?page=69',\n",
       " 'https://bol.com/nl/l/smartphones/N/4010/?page=70',\n",
       " 'https://bol.com/nl/l/smartphones/N/4010/?page=71',\n",
       " 'https://bol.com/nl/l/smartphones/N/4010/?page=72',\n",
       " 'https://bol.com/nl/l/smartphones/N/4010/?page=73',\n",
       " 'https://bol.com/nl/l/smartphones/N/4010/?page=74',\n",
       " 'https://bol.com/nl/l/smartphones/N/4010/?page=75',\n",
       " 'https://bol.com/nl/l/smartphones/N/4010/?page=76',\n",
       " 'https://bol.com/nl/l/smartphones/N/4010/?page=77',\n",
       " 'https://bol.com/nl/l/smartphones/N/4010/?page=78',\n",
       " 'https://bol.com/nl/l/smartphones/N/4010/?page=79',\n",
       " 'https://bol.com/nl/l/smartphones/N/4010/?page=80',\n",
       " 'https://bol.com/nl/l/smartphones/N/4010/?page=81',\n",
       " 'https://bol.com/nl/l/smartphones/N/4010/?page=82',\n",
       " 'https://bol.com/nl/l/smartphones/N/4010/?page=83',\n",
       " 'https://bol.com/nl/l/smartphones/N/4010/?page=84',\n",
       " 'https://bol.com/nl/l/smartphones/N/4010/?page=85',\n",
       " 'https://bol.com/nl/l/smartphones/N/4010/?page=86',\n",
       " 'https://bol.com/nl/l/smartphones/N/4010/?page=87',\n",
       " 'https://bol.com/nl/l/smartphones/N/4010/?page=88',\n",
       " 'https://bol.com/nl/l/smartphones/N/4010/?page=89',\n",
       " 'https://bol.com/nl/l/smartphones/N/4010/?page=90',\n",
       " 'https://bol.com/nl/l/smartphones/N/4010/?page=91',\n",
       " 'https://bol.com/nl/l/smartphones/N/4010/?page=92',\n",
       " 'https://bol.com/nl/l/smartphones/N/4010/?page=93',\n",
       " 'https://bol.com/nl/l/smartphones/N/4010/?page=94',\n",
       " 'https://bol.com/nl/l/smartphones/N/4010/?page=95',\n",
       " 'https://bol.com/nl/l/smartphones/N/4010/?page=96']"
      ]
     },
     "execution_count": 6,
     "metadata": {},
     "output_type": "execute_result"
    }
   ],
   "source": [
    "my_urls = get_pages()\n",
    "print(\"Category pages compiled!\")\n",
    "my_urls"
   ]
  },
  {
   "cell_type": "markdown",
   "metadata": {},
   "source": [
    "## Retrieve phone urls"
   ]
  },
  {
   "cell_type": "code",
   "execution_count": 7,
   "metadata": {},
   "outputs": [],
   "source": [
    "# Function get phone urls\n",
    "\n",
    "def get_phones(my_urls):\n",
    "    base_phone_url = \"https://bol.com\" \n",
    "    phones_urls = []\n",
    "    for url in my_urls[:2]:\n",
    "        driver.get(url) \n",
    "        time.sleep(6)\n",
    "        res = driver.page_source.encode('utf-8')\n",
    "        soup = BeautifulSoup(res, \"html.parser\")\n",
    "\n",
    "\n",
    "        phones = soup.find_all(class_=\"product-item--row js_item_root\")\n",
    "        \n",
    "\n",
    "        for phone in phones: \n",
    "            phones_url = phone.find(\"a\").attrs[\"href\"]\n",
    "            full_url = base_phone_url + phones_url\n",
    "            phones_urls.append(full_url)\n",
    "\n",
    "            driver.execute_script('window.scrollTo(0, document.body.scrollHeight);')\n",
    "\n",
    "    return(phones_urls)\n"
   ]
  },
  {
   "cell_type": "code",
   "execution_count": 8,
   "metadata": {},
   "outputs": [],
   "source": [
    "phone_urls = get_phones(my_urls)"
   ]
  },
  {
   "cell_type": "code",
   "execution_count": null,
   "metadata": {},
   "outputs": [],
   "source": [
    "# obsolete\n",
    "#all_pages = []\n",
    "#for url in my_urls[:3]:\n",
    "    #print(url)\n",
    "    #for phone in get_phones(url):\n",
    "        #all_pages.append(phone)\n",
    "\n"
   ]
  },
  {
   "cell_type": "code",
   "execution_count": null,
   "metadata": {},
   "outputs": [],
   "source": [
    "#obsolete\n",
    "#my_phones = get_phones(my_urls) \n",
    "#print(my_phones) # <-delete after"
   ]
  },
  {
   "cell_type": "code",
   "execution_count": 9,
   "metadata": {},
   "outputs": [
    {
     "name": "stdout",
     "output_type": "stream",
     "text": [
      "https://bol.com/nl/p/samsung-galaxy-a51-128gb-zwart/9200000127101717/\n",
      "https://bol.com/nl/p/samsung-galaxy-a20e-32gb-zwart/9200000109073236/\n",
      "https://bol.com/nl/p/samsung-galaxy-a52-4g-128gb-awesome-black/9300000020732477/\n",
      "https://bol.com/nl/p/samsung-galaxy-a41-64gb-zwart/9300000000132992/\n",
      "https://bol.com/nl/p/apple-iphone-se-64gb-zwart/9300000000886605/\n",
      "https://bol.com/nl/p/samsung-galaxy-a71-128gb-zwart/9200000127101810/\n",
      "https://bol.com/nl/p/samsung-galaxy-a21s-64gb-zwart/9300000000132986/\n",
      "https://bol.com/nl/p/apple-iphone-12-64gb-zwart/9300000013742278/\n",
      "https://bol.com/nl/p/alcatel-1c-3g-8gb-zwart/9200000112629003/\n",
      "https://bol.com/nl/p/samsung-galaxy-a21s-128gb-zwart/9300000015820720/\n",
      "https://bol.com/nl/p/samsung-galaxy-a12-128gb-zwart/9300000019419396/\n",
      "https://bol.com/nl/p/samsung-galaxy-a52-5g-128gb-awesome-black/9300000023366015/\n",
      "https://bol.com/nl/p/apple-iphone-11-64gb-zwart/9200000119815601/\n",
      "https://bol.com/nl/p/motorola-moto-e6-play-32gb-steel-black/9200000122803221/\n",
      "https://bol.com/nl/p/samsung-galaxy-s20-fe-4g-128gb-cloud-navy/9300000008841647/\n",
      "https://bol.com/nl/p/samsung-galaxy-a10-32gb-zwart/9200000111950985/\n",
      "https://bol.com/nl/p/samsung-galaxy-a01-core-16gb-zwart/9300000007420502/\n",
      "https://bol.com/nl/p/apple-iphone-12-pro-128gb-oceaan-blauw/9300000013742251/\n",
      "https://bol.com/nl/p/samsung-galaxy-a40-64gb-zwart/9200000107463262/\n",
      "https://bol.com/nl/p/samsung-galaxy-a42-5g-128gb-prism-dot-black/9300000010098436/\n",
      "https://bol.com/nl/p/samsung-galaxy-a12-64gb-zwart/9300000020208465/\n",
      "https://bol.com/nl/p/apple-iphone-xr-64gb-zwart/9200000098453451/\n",
      "https://bol.com/nl/p/samsung-galaxy-s10e-128gb-prism-zwart/9200000106450648/\n",
      "https://bol.com/nl/p/samsung-galaxy-a51-128gb-wit/9200000127101721/\n",
      "https://bol.com/nl/p/samsung-galaxy-a20e-dual-sim-32gb-blauw/9300000002133409/\n",
      "https://bol.com/nl/p/samsung-galaxy-a72-4g-128gb-awesome-white/9300000024960222/\n",
      "https://bol.com/nl/p/oppo-a72-128gb-zwart/9300000002779754/\n",
      "https://bol.com/nl/p/samsung-galaxy-s21-5g-128gb-phantom-gray/9300000020732481/\n",
      "https://bol.com/nl/p/apple-iphone-12-mini-64gb-zwart/9300000013742257/\n",
      "https://bol.com/nl/p/apple-iphone-se-64gb-wit/9300000027402848/\n",
      "https://bol.com/nl/p/samsung-galaxy-a50-128gb-zwart/9200000106883561/\n",
      "https://bol.com/nl/p/apple-iphone-11-128gb-zwart/9200000119816199/\n",
      "https://bol.com/nl/p/samsung-galaxy-a10s-32gb-zwart/9200000121265417/\n",
      "https://bol.com/nl/p/samsung-galaxy-xcover-4s-32gb-zwart/9200000111950981/\n",
      "https://bol.com/nl/p/samsung-galaxy-a52-4g-128gb-awesome-blue/9300000023366013/\n",
      "https://bol.com/nl/p/alcatel-1se-32gb-grijs/9300000001580712/\n",
      "https://bol.com/nl/p/samsung-galaxy-a32-5g-128gb-awesome-black/9300000022106004/\n",
      "https://bol.com/nl/p/samsung-galaxy-a02s-32gb-zwart/9300000020547718/\n",
      "https://bol.com/nl/p/huawei-p30-lite-new-edition-256gb-midnight-black/9200000126132549/\n",
      "https://bol.com/nl/p/apple-iphone-se-128gb-zwart/9300000000886601/\n",
      "https://bol.com/nl/p/motorola-moto-g9-power-128gb-groen/9300000012375717/\n",
      "https://bol.com/nl/p/samsung-galaxy-s21-ultra-5g-128gb-phantom-black/9300000020732466/\n",
      "https://bol.com/nl/p/motorola-moto-g8-power-lite-blauw/9200000127141343/\n",
      "https://bol.com/nl/p/samsung-galaxy-a21s-32gb-zwart/9300000000133003/\n",
      "https://bol.com/nl/p/samsung-galaxy-a10-32gb-blauw/9200000111950979/\n",
      "https://bol.com/nl/p/samsung-galaxy-m21-power-64gb-zwart/9300000000133004/\n"
     ]
    }
   ],
   "source": [
    "for url in phone_urls:\n",
    "    print(url)"
   ]
  },
  {
   "cell_type": "code",
   "execution_count": 10,
   "metadata": {},
   "outputs": [],
   "source": [
    "#Create phone list.csv\n",
    "fn=\"bol_phone_list.csv\"\n",
    "f=open(fn,'w',encoding='utf-8')\n",
    "for url in phone_urls:\n",
    "    f.write(url+'\\n')\n",
    "f.close()\n"
   ]
  },
  {
   "cell_type": "code",
   "execution_count": null,
   "metadata": {},
   "outputs": [],
   "source": [
    "#Not right version\n",
    "#fn=\"my_output.csv\"\n",
    "#my_phones = get_phones(my_urls) \n",
    "#print(my_phones) # <-delete after\n",
    "#f=open(fn,'w',encoding='utf-8')\n",
    "#for url in my_phones:\n",
    "    #f.write(url+'\\n')\n",
    "#f.close()\n"
   ]
  },
  {
   "cell_type": "code",
   "execution_count": null,
   "metadata": {},
   "outputs": [],
   "source": [
    "#Obsolete\n",
    "#fn=\"my_output.csv\"\n",
    "#my_phones = get_phones(my_urls) \n",
    "#print(my_phones) # <-delete after\n",
    "#f=open(fn,'w',encoding='utf-8')\n",
    "#for url in my_urls [:2]:\n",
    "    #print(get_phones(url))     \n",
    "    #f.write(str(get_phones(url))+'\\n')\n",
    "#f.close()\n",
    "#time.sleep(1)"
   ]
  },
  {
   "cell_type": "code",
   "execution_count": null,
   "metadata": {},
   "outputs": [],
   "source": [
    "# This cell can probably be deleted\n",
    "#def get_complete_urls(my_urls):\n",
    "    #complete_urls = []\n",
    "    #for url in my_urls:\n",
    "        #get_phones(url)\n",
    "        \n",
    "    #return(complete_urls) "
   ]
  },
  {
   "cell_type": "code",
   "execution_count": null,
   "metadata": {},
   "outputs": [],
   "source": [
    "# This cell can probably be deleted\n",
    "#complete_urls = get_complete_urls(my_urls)"
   ]
  },
  {
   "cell_type": "markdown",
   "metadata": {},
   "source": [
    "## Input phone list file"
   ]
  },
  {
   "cell_type": "code",
   "execution_count": null,
   "metadata": {},
   "outputs": [],
   "source": [
    "#TRIAL\n",
    "#f=open('my_output.csv','r',encoding='utf-8')\n",
    "\n",
    "#f.readlines()"
   ]
  },
  {
   "cell_type": "code",
   "execution_count": null,
   "metadata": {},
   "outputs": [],
   "source": [
    "# TRIAL\n",
    "#import csv\n",
    "\n",
    "#with open('my_output.csv', newline='') as f:\n",
    "    #reader = csv.reader(f)\n",
    "    #your_list = list(reader)\n",
    "\n",
    "#print(your_list)\n"
   ]
  },
  {
   "cell_type": "code",
   "execution_count": 11,
   "metadata": {},
   "outputs": [],
   "source": [
    "#Retrieve phone list and put in list\n",
    "f = open('bol_phone_list.csv', 'r', encoding='utf-8').readlines()\n",
    "all_phone_urls = []\n",
    "for i in f: all_phone_urls.append(i.replace('\\n',''))"
   ]
  },
  {
   "cell_type": "code",
   "execution_count": 12,
   "metadata": {},
   "outputs": [
    {
     "data": {
      "text/plain": [
       "['https://bol.com/nl/p/samsung-galaxy-a51-128gb-zwart/9200000127101717/',\n",
       " 'https://bol.com/nl/p/samsung-galaxy-a20e-32gb-zwart/9200000109073236/',\n",
       " 'https://bol.com/nl/p/samsung-galaxy-a52-4g-128gb-awesome-black/9300000020732477/',\n",
       " 'https://bol.com/nl/p/samsung-galaxy-a41-64gb-zwart/9300000000132992/',\n",
       " 'https://bol.com/nl/p/apple-iphone-se-64gb-zwart/9300000000886605/',\n",
       " 'https://bol.com/nl/p/samsung-galaxy-a71-128gb-zwart/9200000127101810/',\n",
       " 'https://bol.com/nl/p/samsung-galaxy-a21s-64gb-zwart/9300000000132986/',\n",
       " 'https://bol.com/nl/p/apple-iphone-12-64gb-zwart/9300000013742278/',\n",
       " 'https://bol.com/nl/p/alcatel-1c-3g-8gb-zwart/9200000112629003/',\n",
       " 'https://bol.com/nl/p/samsung-galaxy-a21s-128gb-zwart/9300000015820720/',\n",
       " 'https://bol.com/nl/p/samsung-galaxy-a12-128gb-zwart/9300000019419396/',\n",
       " 'https://bol.com/nl/p/samsung-galaxy-a52-5g-128gb-awesome-black/9300000023366015/',\n",
       " 'https://bol.com/nl/p/apple-iphone-11-64gb-zwart/9200000119815601/',\n",
       " 'https://bol.com/nl/p/motorola-moto-e6-play-32gb-steel-black/9200000122803221/',\n",
       " 'https://bol.com/nl/p/samsung-galaxy-s20-fe-4g-128gb-cloud-navy/9300000008841647/',\n",
       " 'https://bol.com/nl/p/samsung-galaxy-a10-32gb-zwart/9200000111950985/',\n",
       " 'https://bol.com/nl/p/samsung-galaxy-a01-core-16gb-zwart/9300000007420502/',\n",
       " 'https://bol.com/nl/p/apple-iphone-12-pro-128gb-oceaan-blauw/9300000013742251/',\n",
       " 'https://bol.com/nl/p/samsung-galaxy-a40-64gb-zwart/9200000107463262/',\n",
       " 'https://bol.com/nl/p/samsung-galaxy-a42-5g-128gb-prism-dot-black/9300000010098436/',\n",
       " 'https://bol.com/nl/p/samsung-galaxy-a12-64gb-zwart/9300000020208465/',\n",
       " 'https://bol.com/nl/p/apple-iphone-xr-64gb-zwart/9200000098453451/',\n",
       " 'https://bol.com/nl/p/samsung-galaxy-s10e-128gb-prism-zwart/9200000106450648/',\n",
       " 'https://bol.com/nl/p/samsung-galaxy-a51-128gb-wit/9200000127101721/',\n",
       " 'https://bol.com/nl/p/samsung-galaxy-a20e-dual-sim-32gb-blauw/9300000002133409/',\n",
       " 'https://bol.com/nl/p/samsung-galaxy-a72-4g-128gb-awesome-white/9300000024960222/',\n",
       " 'https://bol.com/nl/p/oppo-a72-128gb-zwart/9300000002779754/',\n",
       " 'https://bol.com/nl/p/samsung-galaxy-s21-5g-128gb-phantom-gray/9300000020732481/',\n",
       " 'https://bol.com/nl/p/apple-iphone-12-mini-64gb-zwart/9300000013742257/',\n",
       " 'https://bol.com/nl/p/apple-iphone-se-64gb-wit/9300000027402848/',\n",
       " 'https://bol.com/nl/p/samsung-galaxy-a50-128gb-zwart/9200000106883561/',\n",
       " 'https://bol.com/nl/p/apple-iphone-11-128gb-zwart/9200000119816199/',\n",
       " 'https://bol.com/nl/p/samsung-galaxy-a10s-32gb-zwart/9200000121265417/',\n",
       " 'https://bol.com/nl/p/samsung-galaxy-xcover-4s-32gb-zwart/9200000111950981/',\n",
       " 'https://bol.com/nl/p/samsung-galaxy-a52-4g-128gb-awesome-blue/9300000023366013/',\n",
       " 'https://bol.com/nl/p/alcatel-1se-32gb-grijs/9300000001580712/',\n",
       " 'https://bol.com/nl/p/samsung-galaxy-a32-5g-128gb-awesome-black/9300000022106004/',\n",
       " 'https://bol.com/nl/p/samsung-galaxy-a02s-32gb-zwart/9300000020547718/',\n",
       " 'https://bol.com/nl/p/huawei-p30-lite-new-edition-256gb-midnight-black/9200000126132549/',\n",
       " 'https://bol.com/nl/p/apple-iphone-se-128gb-zwart/9300000000886601/',\n",
       " 'https://bol.com/nl/p/motorola-moto-g9-power-128gb-groen/9300000012375717/',\n",
       " 'https://bol.com/nl/p/samsung-galaxy-s21-ultra-5g-128gb-phantom-black/9300000020732466/',\n",
       " 'https://bol.com/nl/p/motorola-moto-g8-power-lite-blauw/9200000127141343/',\n",
       " 'https://bol.com/nl/p/samsung-galaxy-a21s-32gb-zwart/9300000000133003/',\n",
       " 'https://bol.com/nl/p/samsung-galaxy-a10-32gb-blauw/9200000111950979/',\n",
       " 'https://bol.com/nl/p/samsung-galaxy-m21-power-64gb-zwart/9300000000133004/']"
      ]
     },
     "execution_count": 12,
     "metadata": {},
     "output_type": "execute_result"
    }
   ],
   "source": [
    "all_phone_urls"
   ]
  },
  {
   "cell_type": "code",
   "execution_count": null,
   "metadata": {},
   "outputs": [],
   "source": [
    "#new_lines = [word for line in lines for word in line.split()]\n",
    "#print(new_lines)\n",
    "#len(new_lines)"
   ]
  },
  {
   "cell_type": "code",
   "execution_count": null,
   "metadata": {},
   "outputs": [],
   "source": [
    "#for url in new_lines:\n",
    "    #print(url[1:-2])\n",
    "    \n",
    "#return(url) "
   ]
  },
  {
   "cell_type": "code",
   "execution_count": null,
   "metadata": {},
   "outputs": [],
   "source": [
    "#Doesn't work but save for now\n",
    "#new_lines = [i.replace(\"'\", \" \") for i in new_lines]\n",
    "#print(new_lines)"
   ]
  },
  {
   "cell_type": "code",
   "execution_count": null,
   "metadata": {},
   "outputs": [],
   "source": [
    "#stripped_new_lines = new_lines.strip(\"'\")\n"
   ]
  },
  {
   "cell_type": "code",
   "execution_count": null,
   "metadata": {},
   "outputs": [],
   "source": [
    "#def all_urls():\n",
    "    #all_urls_list = []    \n",
    "    #for url in lines:\n",
    "        #print(url)\n",
    "        #all_urls_list.append(url)\n",
    "    #return(all_urls_list)"
   ]
  },
  {
   "cell_type": "code",
   "execution_count": null,
   "metadata": {},
   "outputs": [],
   "source": [
    "#Doesn't work\n",
    "#import csv\n",
    "\n",
    "#with open('my_output.csv', newline='') as f:\n",
    "    #reader = csv.reader(f)\n",
    "    #data = list(reader)\n",
    "\n",
    "#print(data)"
   ]
  },
  {
   "cell_type": "markdown",
   "metadata": {},
   "source": [
    "## Get data from phone urls"
   ]
  },
  {
   "cell_type": "code",
   "execution_count": null,
   "metadata": {},
   "outputs": [],
   "source": [
    "#def get_product_data(url):\n",
    "    #driver.get(your_list)\n",
    "    #your_list[]"
   ]
  },
  {
   "cell_type": "code",
   "execution_count": null,
   "metadata": {},
   "outputs": [],
   "source": [
    "# DON'T USE THIS ONE\n",
    "#def get_product_data(my_phones):\n",
    "    #driver.get(url)\n",
    "    #time.sleep(2)\n",
    "    #res = driver.page_source.encode('utf-8')\n",
    "    #soup = BeautifulSoup(res, \"html.parser\")\n",
    "    \n",
    "    #get prodcuts\n",
    "    #title = soup.find(attrs={\"data-test\": \"title\"}).text\n",
    "    #price = soup.find(attrs={\"data-test\": \"price\"}).text\n",
    "    #price = price.replace(\"\\n\", \"\")\n",
    "    #star_rating = soup.find(attrs={\"data-test\": 'reviews'}).text\n",
    "    #star_rating = star_rating.replace(\"\\n\\n\\n\", \"\")\n",
    "    #today = date.today()\n",
    "    \n",
    "    #jsondict = {\"title\": title,\n",
    "               #\"price\": price,\n",
    "               #\"star_rating\": star_rating,\n",
    "               #\"date\": str(today)}\n",
    "               \n",
    "    #return(jsondict)\n",
    "    "
   ]
  },
  {
   "cell_type": "code",
   "execution_count": null,
   "metadata": {},
   "outputs": [],
   "source": [
    "# DON'T USE THIS ONE!\n",
    "# Function to retrieve the data from the phone list\n",
    "#def get_product_data(all_phone_urls):\n",
    "    #driver.get(url)\n",
    "    #time.sleep(6)\n",
    "    #res = driver.page_source.encode('utf-8')\n",
    "    #soup = BeautifulSoup(res, \"html.parser\")\n",
    "\n",
    "    #get prodcuts\n",
    "    #title = soup.find(attrs={\"data-test\": \"title\"}).text\n",
    "             \n",
    "    #def brand_title():\n",
    "        #for brand_title in all_phone_urls:\n",
    "            #try:\n",
    "                #brand_title = driver.find_elements_by_class_name(\"specs__party\")[0].get_text()\n",
    "                #return(brand_title)\n",
    "            #except:\n",
    "                #continue\n",
    "    #def model():\n",
    "        #for model in all_phone_urls:\n",
    "            #try:\n",
    "                #model = driver.find_elements_by_tag_name(\"dd\")[1].get_text()\n",
    "                #return(model)\n",
    "            #except:\n",
    "                #continue\n",
    "    #def price():\n",
    "        #for price in all_phone_urls:\n",
    "            #try:\n",
    "                #price = soup.find(attrs={\"data-test\": \"price\"}).text\n",
    "                #price = price.replace(\"\\n\", \"\")\n",
    "                #return(price)\n",
    "            #except:\n",
    "                #continue\n",
    "    #def star_rating():\n",
    "        #for star_rating in all_phone_urls:\n",
    "            #try:\n",
    "                #star_rating = soup.find(attrs={\"data-test\": 'reviews'}).text\n",
    "                #star_rating = star_rating.replace(\"\\n\\n\\n\", \"\")\n",
    "                #return(star_rating)\n",
    "            #except:\n",
    "                #continue\n",
    "    #today = date.today()\n",
    "\n",
    "    #jsondict = {\"title\": title,\n",
    "                #\"brand\": brand_title,\n",
    "                #\"model\": model,\n",
    "                #\"price\": price,\n",
    "                #\"star_rating\": star_rating,\n",
    "                #\"date\": str(today)}\n",
    "\n",
    "    #return(jsondict)\n",
    "    "
   ]
  },
  {
   "cell_type": "code",
   "execution_count": 13,
   "metadata": {},
   "outputs": [],
   "source": [
    "# Function to retrieve the data from the phone list\n",
    "def get_product_data(all_phone_urls):\n",
    "    driver.get(url)\n",
    "    time.sleep(6)\n",
    "    res = driver.page_source.encode('utf-8')\n",
    "    soup = BeautifulSoup(res, \"html.parser\")\n",
    "\n",
    "    #get prodcuts\n",
    "    title = soup.find(attrs={\"data-test\": \"title\"}).text\n",
    "    def brand_title():\n",
    "        for brand_title in all_phone_urls:\n",
    "            try:\n",
    "                brand_title = driver.find_elements_by_class_name(\"specs__party\")[0].text\n",
    "                return(brand_title)\n",
    "            except:\n",
    "                continue\n",
    "    def model():\n",
    "        for model in all_phone_urls:\n",
    "            try:\n",
    "                model = driver.find_elements_by_tag_name(\"dd\")[1].text\n",
    "                return(model)\n",
    "            except:\n",
    "                continue\n",
    "    def price():\n",
    "        for price in all_phone_urls:\n",
    "            try:\n",
    "                price = driver.find_elements_by_class_name(\"price-block__price\")[0].text\n",
    "                price = price.replace(\"\\n\", \",\")\n",
    "                return(price)\n",
    "            except:\n",
    "                continue\n",
    "    def star_rating():\n",
    "        for star_rating in all_phone_urls:\n",
    "            try:\n",
    "                star_rating = soup.find(attrs={\"data-test\": 'reviews'}).text\n",
    "                star_rating = star_rating.replace(\"\\n\\n\\n\", \"\")\n",
    "                star_rating = star_rating.replace(\" \",\"/\")\n",
    "                return(star_rating)\n",
    "            except:\n",
    "                continue\n",
    "    \n",
    "    def get_ean():\n",
    "        all_specs = driver.find_elements_by_class_name(\"specs__list\")    \n",
    "        for counter in range(0,10):\n",
    "            for spec in all_specs:\n",
    "\n",
    "        ## for each dt in test\n",
    "                try:\n",
    "                    if driver.find_elements_by_tag_name(\"dt\")[counter].text == \"EAN\":\n",
    "                        return(driver.find_elements_by_tag_name(\"dd\")[counter].text)\n",
    "                        break\n",
    "\n",
    "                    else: \n",
    "\n",
    "                        break\n",
    "\n",
    "                except: continue           \n",
    "                \n",
    "    today = date.today()\n",
    "\n",
    "    jsondict = {\"title\": title,\n",
    "                \"brand\": brand_title(),\n",
    "                \"model\": model(),\n",
    "                \"price\": price(),\n",
    "                \"star_rating\": star_rating(),\n",
    "                \"EAN\": get_ean(),\n",
    "                \"date\": str(today)}\n",
    "\n",
    "    return(jsondict)\n",
    "    "
   ]
  },
  {
   "cell_type": "code",
   "execution_count": 14,
   "metadata": {},
   "outputs": [
    {
     "data": {
      "text/plain": [
       "{'title': 'Samsung Galaxy M21 Power - 64GB - Zwart',\n",
       " 'brand': 'Samsung',\n",
       " 'model': 'Samsung Galaxy M21',\n",
       " 'price': '173,60',\n",
       " 'star_rating': '\\n4.6/5\\n256/reviews\\n',\n",
       " 'EAN': '8806090486807',\n",
       " 'date': '2021-03-22'}"
      ]
     },
     "execution_count": 14,
     "metadata": {},
     "output_type": "execute_result"
    }
   ],
   "source": [
    "bol_json = get_product_data(all_phone_urls[0])\n",
    "bol_json"
   ]
  },
  {
   "cell_type": "code",
   "execution_count": 15,
   "metadata": {},
   "outputs": [],
   "source": [
    "# Create json file with phone data\n",
    "f = open('bol_phone_data.json','w',encoding='utf-8')\n",
    "f.close()"
   ]
  },
  {
   "cell_type": "code",
   "execution_count": 16,
   "metadata": {},
   "outputs": [],
   "source": [
    "# Create json file with phone data\n",
    "import json\n",
    "\n",
    "def get_filename(prefix='data_bol_phones_', suffix='.csv'):\n",
    "    timestr = time.strftime(\"%Y%m%d\")\n",
    "    return(prefix + timestr + suffix)"
   ]
  },
  {
   "cell_type": "code",
   "execution_count": 17,
   "metadata": {},
   "outputs": [
    {
     "data": {
      "text/plain": [
       "'data_bol_phones_20210322.csv'"
      ]
     },
     "execution_count": 17,
     "metadata": {},
     "output_type": "execute_result"
    }
   ],
   "source": [
    "get_filename()"
   ]
  },
  {
   "cell_type": "code",
   "execution_count": 18,
   "metadata": {},
   "outputs": [
    {
     "name": "stdout",
     "output_type": "stream",
     "text": [
      "https://bol.com/nl/p/samsung-galaxy-a51-128gb-zwart/9200000127101717/\n",
      "https://bol.com/nl/p/samsung-galaxy-a20e-32gb-zwart/9200000109073236/\n",
      "https://bol.com/nl/p/samsung-galaxy-a52-4g-128gb-awesome-black/9300000020732477/\n",
      "https://bol.com/nl/p/samsung-galaxy-a41-64gb-zwart/9300000000132992/\n",
      "https://bol.com/nl/p/apple-iphone-se-64gb-zwart/9300000000886605/\n",
      "https://bol.com/nl/p/samsung-galaxy-a71-128gb-zwart/9200000127101810/\n",
      "https://bol.com/nl/p/samsung-galaxy-a21s-64gb-zwart/9300000000132986/\n",
      "https://bol.com/nl/p/apple-iphone-12-64gb-zwart/9300000013742278/\n",
      "https://bol.com/nl/p/alcatel-1c-3g-8gb-zwart/9200000112629003/\n",
      "https://bol.com/nl/p/samsung-galaxy-a21s-128gb-zwart/9300000015820720/\n",
      "https://bol.com/nl/p/samsung-galaxy-a12-128gb-zwart/9300000019419396/\n",
      "https://bol.com/nl/p/samsung-galaxy-a52-5g-128gb-awesome-black/9300000023366015/\n",
      "https://bol.com/nl/p/apple-iphone-11-64gb-zwart/9200000119815601/\n",
      "https://bol.com/nl/p/motorola-moto-e6-play-32gb-steel-black/9200000122803221/\n",
      "https://bol.com/nl/p/samsung-galaxy-s20-fe-4g-128gb-cloud-navy/9300000008841647/\n",
      "https://bol.com/nl/p/samsung-galaxy-a10-32gb-zwart/9200000111950985/\n",
      "https://bol.com/nl/p/samsung-galaxy-a01-core-16gb-zwart/9300000007420502/\n",
      "https://bol.com/nl/p/apple-iphone-12-pro-128gb-oceaan-blauw/9300000013742251/\n",
      "https://bol.com/nl/p/samsung-galaxy-a40-64gb-zwart/9200000107463262/\n",
      "https://bol.com/nl/p/samsung-galaxy-a42-5g-128gb-prism-dot-black/9300000010098436/\n",
      "https://bol.com/nl/p/samsung-galaxy-a12-64gb-zwart/9300000020208465/\n",
      "https://bol.com/nl/p/apple-iphone-xr-64gb-zwart/9200000098453451/\n",
      "https://bol.com/nl/p/samsung-galaxy-s10e-128gb-prism-zwart/9200000106450648/\n",
      "https://bol.com/nl/p/samsung-galaxy-a51-128gb-wit/9200000127101721/\n",
      "https://bol.com/nl/p/samsung-galaxy-a20e-dual-sim-32gb-blauw/9300000002133409/\n",
      "https://bol.com/nl/p/samsung-galaxy-a72-4g-128gb-awesome-white/9300000024960222/\n",
      "https://bol.com/nl/p/oppo-a72-128gb-zwart/9300000002779754/\n",
      "https://bol.com/nl/p/samsung-galaxy-s21-5g-128gb-phantom-gray/9300000020732481/\n",
      "https://bol.com/nl/p/apple-iphone-12-mini-64gb-zwart/9300000013742257/\n",
      "https://bol.com/nl/p/apple-iphone-se-64gb-wit/9300000027402848/\n",
      "https://bol.com/nl/p/samsung-galaxy-a50-128gb-zwart/9200000106883561/\n",
      "https://bol.com/nl/p/apple-iphone-11-128gb-zwart/9200000119816199/\n",
      "https://bol.com/nl/p/samsung-galaxy-a10s-32gb-zwart/9200000121265417/\n",
      "https://bol.com/nl/p/samsung-galaxy-xcover-4s-32gb-zwart/9200000111950981/\n",
      "https://bol.com/nl/p/samsung-galaxy-a52-4g-128gb-awesome-blue/9300000023366013/\n",
      "https://bol.com/nl/p/alcatel-1se-32gb-grijs/9300000001580712/\n",
      "https://bol.com/nl/p/samsung-galaxy-a32-5g-128gb-awesome-black/9300000022106004/\n",
      "https://bol.com/nl/p/samsung-galaxy-a02s-32gb-zwart/9300000020547718/\n",
      "https://bol.com/nl/p/huawei-p30-lite-new-edition-256gb-midnight-black/9200000126132549/\n",
      "https://bol.com/nl/p/apple-iphone-se-128gb-zwart/9300000000886601/\n",
      "https://bol.com/nl/p/motorola-moto-g9-power-128gb-groen/9300000012375717/\n",
      "https://bol.com/nl/p/samsung-galaxy-s21-ultra-5g-128gb-phantom-black/9300000020732466/\n",
      "https://bol.com/nl/p/motorola-moto-g8-power-lite-blauw/9200000127141343/\n",
      "https://bol.com/nl/p/samsung-galaxy-a21s-32gb-zwart/9300000000133003/\n",
      "https://bol.com/nl/p/samsung-galaxy-a10-32gb-blauw/9200000111950979/\n",
      "https://bol.com/nl/p/samsung-galaxy-m21-power-64gb-zwart/9300000000133004/\n"
     ]
    }
   ],
   "source": [
    "for url in all_phone_urls:\n",
    "    print(url)\n",
    "     \n",
    "    bol_json = get_product_data(url)\n",
    "    f = open(get_filename(),'a',encoding='utf-8')\n",
    "    f.write(json.dumps(bol_json)+'\\n')\n",
    "    f.close()"
   ]
  },
  {
   "cell_type": "markdown",
   "metadata": {},
   "source": [
    "## Get all page urls TRIAL"
   ]
  },
  {
   "cell_type": "code",
   "execution_count": null,
   "metadata": {},
   "outputs": [],
   "source": [
    "for url in my_urls:\n",
    "    print(my_phones)"
   ]
  },
  {
   "cell_type": "code",
   "execution_count": null,
   "metadata": {},
   "outputs": [],
   "source": [
    "# Function get pages test delete after\n",
    "def get_pages(url):\n",
    "    base_url = \"https://bol.com/nl/l/smartphones/N/4010/\"\n",
    "    page_urls = []\n",
    "\n",
    "    #fix counter range\n",
    "    for counter in range(1,98): #work with num_pages variable instead of fixed ranged\n",
    "        full_url = base_url + \"?page=\" + str(counter)\n",
    "        page_urls.append(full_url)\n",
    "    return(page_urls)"
   ]
  },
  {
   "cell_type": "code",
   "execution_count": null,
   "metadata": {},
   "outputs": [],
   "source": [
    "#test delete after\n",
    "my_urls = get_pages(my_urls)\n",
    "print(my_urls)"
   ]
  },
  {
   "cell_type": "code",
   "execution_count": null,
   "metadata": {},
   "outputs": [],
   "source": [
    "# Trialing to loop over each page in my_urls and then execute function my_phones\n",
    "for url in my_urls[0:5]:\n",
    "    print(url)\n",
    "    \n",
    "    my_phones = get_phones(my_urls)\n",
    "    f = open(get_filename(),'a',encoding='utf-8')\n",
    "    f.write(json.dumps(my_json)+'\\n')\n",
    "    f.close()"
   ]
  },
  {
   "cell_type": "markdown",
   "metadata": {},
   "source": [
    "# variable collection trialing\n",
    "- Name\n",
    "- Price\n",
    "- Star rating\n",
    "- Number of reviews\n",
    "- Date"
   ]
  },
  {
   "cell_type": "markdown",
   "metadata": {},
   "source": [
    "### Packages and urls (to bo deleted when in function)"
   ]
  },
  {
   "cell_type": "code",
   "execution_count": null,
   "metadata": {},
   "outputs": [],
   "source": [
    "# Get TEST URL\n",
    "url = 'https://www.bol.com/nl/p/samsung-galaxy-a51-128gb-wit/9200000127101721/?s2a=#productTitle'\n",
    "res = requests.get(url)\n",
    "soup = BeautifulSoup(res.text, \"html.parser\")"
   ]
  },
  {
   "cell_type": "code",
   "execution_count": null,
   "metadata": {},
   "outputs": [],
   "source": [
    "# Get SELENIUM TEST URL\n",
    "driver.get(\"https://www.bol.com/nl/p/samsung-galaxy-a51-128gb-wit/9200000127101721/?s2a=#productTitle\")"
   ]
  },
  {
   "cell_type": "code",
   "execution_count": null,
   "metadata": {},
   "outputs": [],
   "source": [
    "driver.get(\"https://www.bol.com/nl/p/samsung-galaxy-s10e-128gb-prism-zwart/9200000106450648/\")"
   ]
  },
  {
   "cell_type": "markdown",
   "metadata": {},
   "source": [
    "### Phone title"
   ]
  },
  {
   "cell_type": "code",
   "execution_count": null,
   "metadata": {},
   "outputs": [],
   "source": [
    "## Scrape phone title\n",
    "phone_title = soup.find(attrs={\"data-test\": \"title\"}).text\n",
    "print(phone_title)"
   ]
  },
  {
   "cell_type": "markdown",
   "metadata": {},
   "source": [
    "### Price"
   ]
  },
  {
   "cell_type": "code",
   "execution_count": null,
   "metadata": {},
   "outputs": [],
   "source": [
    "## Scrape price \n",
    "price = soup.find(attrs={\"data-test\": \"price\"}).text\n",
    "price = price.replace(\"\\n\", \"\")\n",
    "price = price.replace(\"  \",\",\")\n",
    "print(price)"
   ]
  },
  {
   "cell_type": "code",
   "execution_count": null,
   "metadata": {},
   "outputs": [],
   "source": [
    "## Scrape price V2 <- currently used\n",
    "price = driver.find_elements_by_class_name(\"price-block__price\")[0].text\n",
    "price = price.replace(\"\\n\", \",\")\n",
    "#price = price.replace(\"  \",\",\")\n",
    "print(price)"
   ]
  },
  {
   "cell_type": "markdown",
   "metadata": {},
   "source": [
    "### Rating"
   ]
  },
  {
   "cell_type": "code",
   "execution_count": null,
   "metadata": {},
   "outputs": [],
   "source": [
    "## Scrape star rating and number of reviews\n",
    "star_rating = soup.find(attrs={\"data-test\": 'reviews'}).text\n",
    "star_rating = star_rating.replace(\"\\n\\n\\n\", \"\")\n",
    "print(star_rating)\n"
   ]
  },
  {
   "cell_type": "markdown",
   "metadata": {},
   "source": [
    "### Date"
   ]
  },
  {
   "cell_type": "code",
   "execution_count": null,
   "metadata": {},
   "outputs": [],
   "source": [
    "## DATE\n",
    "from datetime import date\n",
    "\n",
    "today = date.today()\n",
    "print(today)\n"
   ]
  },
  {
   "cell_type": "markdown",
   "metadata": {},
   "source": [
    "## Toon meer button WIP"
   ]
  },
  {
   "cell_type": "code",
   "execution_count": null,
   "metadata": {},
   "outputs": [],
   "source": [
    "# Works\n",
    "show_more = driver.find_elements_by_class_name(\"show-more__button\")[1]\n",
    "show_more.click()"
   ]
  },
  {
   "cell_type": "code",
   "execution_count": null,
   "metadata": {},
   "outputs": [],
   "source": [
    "#Extract variable 1 (brand)\n",
    "brand_title = driver.find_elements_by_tag_name(\"dt\")[0].text\n",
    "brand = driver.find_elements_by_tag_name(\"dd\")[0].text\n",
    "brand = brand_title + \": \" + brand\n",
    "print(brand)"
   ]
  },
  {
   "cell_type": "code",
   "execution_count": null,
   "metadata": {},
   "outputs": [],
   "source": [
    "#Extract variable 1 (brandV2)\n",
    "brand_title = driver.find_elements_by_class_name(\"specs__party\")[0].text\n",
    "print(\"Brand: \" + brand_title)"
   ]
  },
  {
   "cell_type": "code",
   "execution_count": null,
   "metadata": {},
   "outputs": [],
   "source": [
    "#Extract variable 2 (model)\n",
    "model_title = driver.find_elements_by_tag_name(\"dt\")[1].text\n",
    "model = driver.find_elements_by_tag_name(\"dd\")[1].text\n",
    "model = model_title + \": \" + model\n",
    "print(model)"
   ]
  },
  {
   "cell_type": "code",
   "execution_count": null,
   "metadata": {},
   "outputs": [],
   "source": [
    "#Very promissing! try to find this\n",
    "\n",
    "def get_ean():\n",
    "    all_specs = driver.find_elements_by_class_name(\"specs__list\")    \n",
    "    for counter in range(0,10):\n",
    "        for spec in all_specs:\n",
    "\n",
    "    ## for each dd in test\n",
    "            try:\n",
    "                if driver.find_elements_by_tag_name(\"dt\")[counter].text == \"EAN\":\n",
    "                    return(driver.find_elements_by_tag_name(\"dd\")[counter].text)\n",
    "                    break\n",
    "\n",
    "                else: \n",
    "\n",
    "                    break\n",
    "\n",
    "            except: continue\n"
   ]
  },
  {
   "cell_type": "code",
   "execution_count": null,
   "metadata": {},
   "outputs": [],
   "source": [
    "get_ean()"
   ]
  },
  {
   "cell_type": "code",
   "execution_count": null,
   "metadata": {},
   "outputs": [],
   "source": [
    "test = driver.find_elements_by_class_name(\"specs__list\")\n",
    "print(test[0].text)\n",
    "#for i in test[0:1]:\n",
    "    #print(i.text)\n",
    "#for element in test:"
   ]
  },
  {
   "cell_type": "code",
   "execution_count": null,
   "metadata": {},
   "outputs": [],
   "source": [
    "ean = driver.find_elements_by_id(\"js_taxonomy_data_5ade7c6d-ddc8-4a68-ad67-9a00ce564424\")\n",
    "print(ean[0].text)"
   ]
  },
  {
   "cell_type": "code",
   "execution_count": null,
   "metadata": {},
   "outputs": [],
   "source": [
    "model = soup.find(attrs={\"data-test\": \" driver.find_elements_by_tag_name\"})\n",
    "print(model)"
   ]
  },
  {
   "cell_type": "markdown",
   "metadata": {},
   "source": [
    "## Overbodig (prototyping)"
   ]
  },
  {
   "cell_type": "code",
   "execution_count": null,
   "metadata": {},
   "outputs": [],
   "source": [
    "## OVerbodig\n",
    "#collecting product links\n",
    "phones = soup.find_all(class_=\"product-item--row js_item_root\")\n",
    "phones_urls = []\n",
    "\n",
    "for phone in phones: \n",
    "    phones_url = phone.find(\"a\").attrs[\"href\"]\n",
    "    phones_urls.append(phones_url)\n",
    "    \n",
    "    driver.execute_script('window.scrollTo(0, document.body.scrollHeight);')\n",
    "    \n",
    "        \n",
    "# print first 20 urls for each page\n",
    "\n",
    "print(phones_urls[0:28])\n",
    "\n",
    "#We are able to scrape the first 21 hits on each page. Why aren't we able to print the last 6 of them?"
   ]
  },
  {
   "cell_type": "code",
   "execution_count": null,
   "metadata": {},
   "outputs": [],
   "source": [
    "## Overbodig\n",
    "## all smartphone pages\n",
    "base_url = \"https://bol.com/nl/l/smartphones/N/4010/\"\n",
    "page_urls = []\n",
    "\n",
    "for counter in range(1, 98):\n",
    "    full_url = base_url + \"?page=\" + str(counter)\n",
    "    page_urls.append(full_url)\n",
    "    \n",
    "print(page_urls)"
   ]
  },
  {
   "cell_type": "code",
   "execution_count": null,
   "metadata": {},
   "outputs": [],
   "source": [
    "## Overbodig\n",
    "#click next page button\n",
    "next_page = driver.find_elements_by_class_name(\"js_pagination_item\")[0]\n",
    "next_page.click()"
   ]
  },
  {
   "cell_type": "code",
   "execution_count": null,
   "metadata": {},
   "outputs": [],
   "source": [
    "## Overbodig\n",
    "#click next page button v2\n",
    "next_page = driver.find_elements_by_class_name(\"[ pagination__controls pagination__controls--next ]\")\n",
    "next_page.click()"
   ]
  },
  {
   "cell_type": "code",
   "execution_count": null,
   "metadata": {},
   "outputs": [],
   "source": [
    "## OVerbodig\n",
    "#Selenium get, product link test\n",
    "product_link = soup.find(class_=\"product-item--row js_item_root\").find(\"a\").attrs[\"href\"]\n",
    "base_url = \"https://bol.com\"\n",
    "\n",
    "print(base_url + product_link)"
   ]
  },
  {
   "cell_type": "code",
   "execution_count": null,
   "metadata": {},
   "outputs": [],
   "source": [
    "## Overbodig\n",
    "#collecting product links\n",
    "phones = soup.find_all(class_=\"product-item--row js_item_root\")\n",
    "phones_urls = []\n",
    "\n",
    "for phone in phones: \n",
    "    phones_url = phone.find(\"a\").attrs[\"href\"]\n",
    "    phones_urls.append(phones_url)\n",
    "    \n",
    "    driver.execute_script('window.scrollTo(0, document.body.scrollHeight);')\n",
    "    \n",
    "        \n",
    "# print first 20 urls for each page\n",
    "\n",
    "print(phones_urls[0:28])\n",
    "\n",
    "#We are able to scrape the first 21 hits on each page. Why aren't we able to print the last 6 of them?\n"
   ]
  },
  {
   "cell_type": "code",
   "execution_count": null,
   "metadata": {},
   "outputs": [],
   "source": [
    "#import csv\n",
    "#import json\n",
    "\n",
    "#def csv_to_json(csvFilePath, jsonFilePath):\n",
    "    #jsonArray = []\n",
    "    \n",
    "    #read csv file\n",
    "    #with open(csvFilePath, encoding='utf-8') as csvf: \n",
    "        #load csv file data using csv library's dictionary reader\n",
    "        #csvReader = csv.DictReader(csvf) \n",
    "\n",
    "        #convert each csv row into python dict\n",
    "        #for row in csvReader: \n",
    "            #add this python dict to json array\n",
    "            #jsonArray.append(row)\n",
    "  \n",
    "    #convert python jsonArray to JSON String and write to file\n",
    "    #with open(jsonFilePath, 'w', encoding='utf-8') as jsonf: \n",
    "        #$jsonString = json.dumps(jsonArray, indent=4)\n",
    "        #jsonf.write(jsonString)\n",
    "          \n",
    "#csvFilePath = r'my_output' + '.csv'\n",
    "#jsonFilePath = r'my_output' + '.json'\n",
    "#csv_to_json(csvFilePath, jsonFilePath)"
   ]
  },
  {
   "cell_type": "code",
   "execution_count": null,
   "metadata": {},
   "outputs": [],
   "source": [
    "#import json\n",
    "\n",
    "#with open('my_output.json') as f:\n",
    "  #data = json.load(f)\n",
    "\n",
    "# Output: {'name': 'Bob', 'languages': ['English', 'Fench']}\n",
    "#print(data)"
   ]
  }
 ],
 "metadata": {
  "kernelspec": {
   "display_name": "Python 3",
   "language": "python",
   "name": "python3"
  },
  "language_info": {
   "codemirror_mode": {
    "name": "ipython",
    "version": 3
   },
   "file_extension": ".py",
   "mimetype": "text/x-python",
   "name": "python",
   "nbconvert_exporter": "python",
   "pygments_lexer": "ipython3",
   "version": "3.8.5"
  }
 },
 "nbformat": 4,
 "nbformat_minor": 4
}
