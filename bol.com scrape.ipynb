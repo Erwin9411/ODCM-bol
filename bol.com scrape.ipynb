{
 "cells": [
  {
   "cell_type": "markdown",
   "metadata": {},
   "source": [
    "# bol.com\n",
    "scraper The purpose of this scraper is to scrape all the phones from bol.com to find out what are the prices for the different phones and what are the ratings per phone. \n",
    "\n",
    "## Structure \n",
    "To create a readable and understandable document the document will consist of several paragraphs, those are listed below: \n",
    "- Paragraph 1: Collecting the pages \n",
    "- Paragraph 2: Entering the right pages \n",
    "- Paragraph 3: Collecting the right information from the different pages \n",
    "\n",
    "### Paragraph 1 \n",
    "In paragraph 1 we will take the following steps:  \n",
    "- Importing the right packages and links Create the page urls for the different phones Create the links to all different bol.com pages with phones \n",
    "    - Step 1 In this step we will as said before starting with importing the right packages and links"
   ]
  },
  {
   "cell_type": "markdown",
   "metadata": {},
   "source": [
    "## Question for feedback session\n",
    "- How to open a weblink from a list of links."
   ]
  },
  {
   "cell_type": "code",
   "execution_count": 1,
   "metadata": {},
   "outputs": [],
   "source": [
    "from datetime import date\n",
    "import time\n",
    "import pandas as pd\n",
    "import requests\n",
    "from bs4 import BeautifulSoup\n",
    "def connect():\n",
    "    global driver\n",
    "    #import packages\n",
    "    import selenium.webdriver\n",
    "    driver = selenium.webdriver.Chrome()\n",
    "    driver.get(\"https://www.bol.com/nl/l/smartphones/N/4010/\")\n",
    "        \n",
    "    time.sleep(5)\n",
    "    #accept coockies\n",
    "    accept = driver.find_elements_by_class_name(\"js-confirm-button\")[0]\n",
    "    accept.click()"
   ]
  },
  {
   "cell_type": "code",
   "execution_count": 2,
   "metadata": {},
   "outputs": [],
   "source": [
    "connect()"
   ]
  },
  {
   "cell_type": "code",
   "execution_count": null,
   "metadata": {},
   "outputs": [],
   "source": [
    " #yet to import\n",
    "    #import numpy as np\n",
    "\n",
    "    #df = pd.DataFrame(np.random.randn(10, 5))\n",
    "    #df.head()"
   ]
  },
  {
   "cell_type": "markdown",
   "metadata": {},
   "source": [
    "# Modules"
   ]
  },
  {
   "cell_type": "markdown",
   "metadata": {},
   "source": [
    "- open product category\n",
    "- function: collect all page links (page1, page2, ...)\n",
    "- function: on each page, scroll down and collect all phones\n",
    "- function: open product page and collect attributes"
   ]
  },
  {
   "cell_type": "code",
   "execution_count": null,
   "metadata": {},
   "outputs": [],
   "source": [
    "# Beautiful soup\n",
    "#url = 'https://www.bol.com/nl/l/smartphones/N/4010/'\n",
    "#res = requests.get(url)\n",
    "#soup = BeautifulSoup(res.text, \"html.parser\")"
   ]
  },
  {
   "cell_type": "markdown",
   "metadata": {},
   "source": [
    "# get page urls"
   ]
  },
  {
   "cell_type": "code",
   "execution_count": 3,
   "metadata": {},
   "outputs": [],
   "source": [
    "# Function get pages\n",
    "def get_pages():\n",
    "    base_url = \"https://bol.com/nl/l/smartphones/N/4010/\"\n",
    "    page_urls = []\n",
    "\n",
    "    #fix counter range\n",
    "    for counter in range(1,98): #work with num_pages variable instead of fixed ranged\n",
    "        full_url = base_url + \"?page=\" + str(counter)\n",
    "        page_urls.append(full_url)\n",
    "    return(page_urls)"
   ]
  },
  {
   "cell_type": "markdown",
   "metadata": {},
   "source": [
    "Execution"
   ]
  },
  {
   "cell_type": "code",
   "execution_count": 4,
   "metadata": {},
   "outputs": [
    {
     "name": "stdout",
     "output_type": "stream",
     "text": [
      "page urls compiled!\n"
     ]
    }
   ],
   "source": [
    "my_urls = get_pages()\n",
    "print('page urls compiled!')"
   ]
  },
  {
   "cell_type": "markdown",
   "metadata": {},
   "source": [
    "## Retrieve phone urls"
   ]
  },
  {
   "cell_type": "code",
   "execution_count": 7,
   "metadata": {},
   "outputs": [],
   "source": [
    "# Function get phone urls\n",
    "def get_phones(my_urls):\n",
    "    base_phone_url = \"https://bol.com\" \n",
    "    driver.get(url) #changed the link from base catergory link ...4010/\n",
    "    res = driver.page_source.encode('utf-8')\n",
    "    soup = BeautifulSoup(res, \"html.parser\")\n",
    "    \n",
    "    \n",
    "    phones = soup.find_all(class_=\"product-item--row js_item_root\")\n",
    "    phones_urls = []\n",
    "    \n",
    "    for phone in phones: \n",
    "        phones_url = phone.find(\"a\").attrs[\"href\"]\n",
    "        full_url = base_phone_url + phones_url\n",
    "        phones_urls.append(full_url)\n",
    "            \n",
    "        driver.execute_script('window.scrollTo(0, document.body.scrollHeight);')\n",
    "           \n",
    "    return(phones_urls)"
   ]
  },
  {
   "cell_type": "code",
   "execution_count": 8,
   "metadata": {},
   "outputs": [
    {
     "ename": "NameError",
     "evalue": "name 'url' is not defined",
     "output_type": "error",
     "traceback": [
      "\u001b[1;31m---------------------------------------------------------------------------\u001b[0m",
      "\u001b[1;31mNameError\u001b[0m                                 Traceback (most recent call last)",
      "\u001b[1;32m<ipython-input-8-9d46267f66a0>\u001b[0m in \u001b[0;36m<module>\u001b[1;34m\u001b[0m\n\u001b[0;32m      1\u001b[0m \u001b[1;31m#This cell can be deleted\u001b[0m\u001b[1;33m\u001b[0m\u001b[1;33m\u001b[0m\u001b[1;33m\u001b[0m\u001b[0m\n\u001b[0;32m      2\u001b[0m \u001b[1;31m#fn=\"my_output.csv\"\u001b[0m\u001b[1;33m\u001b[0m\u001b[1;33m\u001b[0m\u001b[1;33m\u001b[0m\u001b[0m\n\u001b[1;32m----> 3\u001b[1;33m \u001b[0mmy_phones\u001b[0m \u001b[1;33m=\u001b[0m \u001b[0mget_phones\u001b[0m\u001b[1;33m(\u001b[0m\u001b[0mmy_urls\u001b[0m\u001b[1;33m)\u001b[0m\u001b[1;33m\u001b[0m\u001b[1;33m\u001b[0m\u001b[0m\n\u001b[0m\u001b[0;32m      4\u001b[0m \u001b[0mprint\u001b[0m\u001b[1;33m(\u001b[0m\u001b[0mmy_phones\u001b[0m\u001b[1;33m)\u001b[0m \u001b[1;31m# <-delete after\u001b[0m\u001b[1;33m\u001b[0m\u001b[1;33m\u001b[0m\u001b[0m\n",
      "\u001b[1;32m<ipython-input-7-75b8c51d90c1>\u001b[0m in \u001b[0;36mget_phones\u001b[1;34m(my_urls)\u001b[0m\n\u001b[0;32m      2\u001b[0m \u001b[1;32mdef\u001b[0m \u001b[0mget_phones\u001b[0m\u001b[1;33m(\u001b[0m\u001b[0mmy_urls\u001b[0m\u001b[1;33m)\u001b[0m\u001b[1;33m:\u001b[0m\u001b[1;33m\u001b[0m\u001b[1;33m\u001b[0m\u001b[0m\n\u001b[0;32m      3\u001b[0m     \u001b[0mbase_phone_url\u001b[0m \u001b[1;33m=\u001b[0m \u001b[1;34m\"https://bol.com\"\u001b[0m\u001b[1;33m\u001b[0m\u001b[1;33m\u001b[0m\u001b[0m\n\u001b[1;32m----> 4\u001b[1;33m     \u001b[0mdriver\u001b[0m\u001b[1;33m.\u001b[0m\u001b[0mget\u001b[0m\u001b[1;33m(\u001b[0m\u001b[0murl\u001b[0m\u001b[1;33m)\u001b[0m \u001b[1;31m#changed the link from base catergory link ...4010/\u001b[0m\u001b[1;33m\u001b[0m\u001b[1;33m\u001b[0m\u001b[0m\n\u001b[0m\u001b[0;32m      5\u001b[0m     \u001b[0mres\u001b[0m \u001b[1;33m=\u001b[0m \u001b[0mdriver\u001b[0m\u001b[1;33m.\u001b[0m\u001b[0mpage_source\u001b[0m\u001b[1;33m.\u001b[0m\u001b[0mencode\u001b[0m\u001b[1;33m(\u001b[0m\u001b[1;34m'utf-8'\u001b[0m\u001b[1;33m)\u001b[0m\u001b[1;33m\u001b[0m\u001b[1;33m\u001b[0m\u001b[0m\n\u001b[0;32m      6\u001b[0m     \u001b[0msoup\u001b[0m \u001b[1;33m=\u001b[0m \u001b[0mBeautifulSoup\u001b[0m\u001b[1;33m(\u001b[0m\u001b[0mres\u001b[0m\u001b[1;33m,\u001b[0m \u001b[1;34m\"html.parser\"\u001b[0m\u001b[1;33m)\u001b[0m\u001b[1;33m\u001b[0m\u001b[1;33m\u001b[0m\u001b[0m\n",
      "\u001b[1;31mNameError\u001b[0m: name 'url' is not defined"
     ]
    }
   ],
   "source": [
    "#This cell can be deleted\n",
    "#fn=\"my_output.csv\"\n",
    "my_phones = get_phones(my_urls) \n",
    "print(my_phones) # <-delete after"
   ]
  },
  {
   "cell_type": "code",
   "execution_count": 9,
   "metadata": {},
   "outputs": [
    {
     "name": "stdout",
     "output_type": "stream",
     "text": [
      "['https://bol.com/nl/p/samsung-galaxy-a51-128gb-zwart/9200000127101717/', 'https://bol.com/nl/p/samsung-galaxy-a20e-32gb-zwart/9200000109073236/', 'https://bol.com/nl/p/samsung-galaxy-a41-64gb-zwart/9300000000132992/', 'https://bol.com/nl/p/samsung-galaxy-a71-128gb-zwart/9200000127101810/', 'https://bol.com/nl/p/apple-iphone-se-64gb-zwart/9300000000886605/', 'https://bol.com/nl/p/apple-iphone-12-64gb-zwart/9300000013742278/', 'https://bol.com/nl/p/alcatel-1c-3g-8gb-zwart/9200000112629003/', 'https://bol.com/nl/p/motorola-moto-e6-play-32gb-steel-black/9200000122803221/', 'https://bol.com/nl/p/samsung-galaxy-a12-128gb-zwart/9300000019419396/', 'https://bol.com/nl/p/samsung-galaxy-s20-fe-4g-128gb-cloud-navy/9300000008841647/', 'https://bol.com/nl/p/samsung-galaxy-a21s-32gb-blauw/9300000000132994/', 'https://bol.com/nl/p/apple-iphone-11-64gb-zwart/9200000119815601/', 'https://bol.com/nl/p/samsung-galaxy-a42-5g-128gb-prism-dot-black/9300000010098436/', 'https://bol.com/nl/p/apple-iphone-12-pro-128gb-oceaan-blauw/9300000013742251/', 'https://bol.com/nl/p/samsung-galaxy-a01-core-16gb-zwart/9300000007420502/', 'https://bol.com/nl/p/samsung-galaxy-a10-32gb-zwart/9200000111950985/', 'https://bol.com/nl/p/samsung-galaxy-a21s-128gb-zwart/9300000015820720/', 'https://bol.com/nl/p/samsung-galaxy-a12-64gb-zwart/9300000020208465/', 'https://bol.com/nl/p/apple-iphone-xr-64gb-zwart/9200000098453451/', 'https://bol.com/nl/p/samsung-galaxy-a40-64gb-zwart/9200000107463262/']\n",
      "['https://bol.com/nl/p/samsung-galaxy-s10e-128gb-prism-zwart/9200000106450648/', 'https://bol.com/nl/p/samsung-galaxy-s21-5g-128gb-phantom-gray/9300000020732481/', 'https://bol.com/nl/p/apple-iphone-12-mini-64gb-zwart/9300000013742257/', 'https://bol.com/nl/p/apple-iphone-11-128gb-zwart/9200000119816199/', 'https://bol.com/nl/p/huawei-p30-lite-128gb-midnight-zwart/9200000107750278/', 'https://bol.com/nl/p/samsung-galaxy-a50-128gb-zwart/9200000106883561/', 'https://bol.com/nl/p/motorola-moto-g8-power-lite-blauw/9200000127141343/', 'https://bol.com/nl/p/samsung-galaxy-a10-32gb-blauw/9200000111950979/', 'https://bol.com/nl/p/samsung-galaxy-xcover-4s-32gb-zwart/9200000111950981/', 'https://bol.com/nl/p/apple-iphone-se-128gb-zwart/9300000000886601/', 'https://bol.com/nl/p/motorola-moto-g9-power-128gb-groen/9300000012375717/', 'https://bol.com/nl/p/samsung-galaxy-a32-5g-128gb-awesome-black/9300000022106004/', 'https://bol.com/nl/p/huawei-p30-lite-new-edition-256gb-midnight-black/9200000126132549/', 'https://bol.com/nl/p/oppo-a72-128gb-zwart/9300000002779754/', 'https://bol.com/nl/p/alcatel-1se-32gb-grijs/9300000001580712/', 'https://bol.com/nl/p/samsung-galaxy-a10s-32gb-zwart/9200000121265417/', 'https://bol.com/nl/p/apple-iphone-12-pro-max-256gb-grafiet/9300000013742208/', 'https://bol.com/nl/p/apple-iphone-x-refurbished-door-forza-c-grade-64gb-spacegrijs/9200000101335076/', 'https://bol.com/nl/p/oneplus-nord-n100-64gb-grijs/9300000017872622/', 'https://bol.com/nl/p/samsung-galaxy-a21s-64gb-wit/9300000000132987/', 'https://bol.com/nl/p/samsung-galaxy-s20-5g-128gb-cosmic-grey/9200000128429194/', 'https://bol.com/nl/p/samsung-galaxy-a71-128gb-blauw/9200000127101719/', 'https://bol.com/nl/p/samsung-galaxy-a02s-32gb-zwart/9300000020547718/', 'https://bol.com/nl/p/nokia-5-4-64gb-blauw/9300000021882472/']\n"
     ]
    },
    {
     "ename": "SyntaxError",
     "evalue": "'return' outside function (<ipython-input-9-c0667c7dfbc4>, line 5)",
     "output_type": "error",
     "traceback": [
      "\u001b[1;36m  File \u001b[1;32m\"<ipython-input-9-c0667c7dfbc4>\"\u001b[1;36m, line \u001b[1;32m5\u001b[0m\n\u001b[1;33m    return(complete_urls)\u001b[0m\n\u001b[1;37m    ^\u001b[0m\n\u001b[1;31mSyntaxError\u001b[0m\u001b[1;31m:\u001b[0m 'return' outside function\n"
     ]
    }
   ],
   "source": [
    "for url in my_urls[:2]:\n",
    "    complete_urls = []\n",
    "    print(get_phones(url))\n",
    "\n",
    "return(complete_urls)"
   ]
  },
  {
   "cell_type": "code",
   "execution_count": 70,
   "metadata": {},
   "outputs": [
    {
     "name": "stdout",
     "output_type": "stream",
     "text": [
      "['https://bol.com/nl/p/samsung-galaxy-a51-128gb-zwart/9200000127101717/', 'https://bol.com/nl/p/samsung-galaxy-a20e-32gb-zwart/9200000109073236/', 'https://bol.com/nl/p/samsung-galaxy-a41-64gb-zwart/9300000000132992/', 'https://bol.com/nl/p/samsung-galaxy-a71-128gb-zwart/9200000127101810/', 'https://bol.com/nl/p/apple-iphone-se-64gb-zwart/9300000000886605/', 'https://bol.com/nl/p/apple-iphone-12-64gb-zwart/9300000013742278/', 'https://bol.com/nl/p/alcatel-1c-3g-8gb-zwart/9200000112629003/', 'https://bol.com/nl/p/motorola-moto-e6-play-32gb-steel-black/9200000122803221/', 'https://bol.com/nl/p/samsung-galaxy-a12-128gb-zwart/9300000019419396/', 'https://bol.com/nl/p/samsung-galaxy-s20-fe-4g-128gb-cloud-navy/9300000008841647/', 'https://bol.com/nl/p/samsung-galaxy-a21s-32gb-blauw/9300000000132994/', 'https://bol.com/nl/p/apple-iphone-11-64gb-zwart/9200000119815601/', 'https://bol.com/nl/p/samsung-galaxy-a42-5g-128gb-prism-dot-black/9300000010098436/', 'https://bol.com/nl/p/apple-iphone-12-pro-128gb-oceaan-blauw/9300000013742251/', 'https://bol.com/nl/p/samsung-galaxy-a01-core-16gb-zwart/9300000007420502/', 'https://bol.com/nl/p/samsung-galaxy-a10-32gb-zwart/9200000111950985/', 'https://bol.com/nl/p/samsung-galaxy-a21s-128gb-zwart/9300000015820720/', 'https://bol.com/nl/p/samsung-galaxy-a12-64gb-zwart/9300000020208465/', 'https://bol.com/nl/p/apple-iphone-xr-64gb-zwart/9200000098453451/', 'https://bol.com/nl/p/samsung-galaxy-a40-64gb-zwart/9200000107463262/']\n",
      "['https://bol.com/nl/p/samsung-galaxy-s10e-128gb-prism-zwart/9200000106450648/', 'https://bol.com/nl/p/samsung-galaxy-s21-5g-128gb-phantom-gray/9300000020732481/', 'https://bol.com/nl/p/apple-iphone-12-mini-64gb-zwart/9300000013742257/', 'https://bol.com/nl/p/apple-iphone-11-128gb-zwart/9200000119816199/', 'https://bol.com/nl/p/huawei-p30-lite-128gb-midnight-zwart/9200000107750278/', 'https://bol.com/nl/p/samsung-galaxy-a50-128gb-zwart/9200000106883561/', 'https://bol.com/nl/p/motorola-moto-g8-power-lite-blauw/9200000127141343/', 'https://bol.com/nl/p/samsung-galaxy-a10-32gb-blauw/9200000111950979/', 'https://bol.com/nl/p/samsung-galaxy-xcover-4s-32gb-zwart/9200000111950981/', 'https://bol.com/nl/p/apple-iphone-se-128gb-zwart/9300000000886601/', 'https://bol.com/nl/p/motorola-moto-g9-power-128gb-groen/9300000012375717/', 'https://bol.com/nl/p/samsung-galaxy-a32-5g-128gb-awesome-black/9300000022106004/', 'https://bol.com/nl/p/huawei-p30-lite-new-edition-256gb-midnight-black/9200000126132549/', 'https://bol.com/nl/p/oppo-a72-128gb-zwart/9300000002779754/', 'https://bol.com/nl/p/alcatel-1se-32gb-grijs/9300000001580712/', 'https://bol.com/nl/p/samsung-galaxy-a10s-32gb-zwart/9200000121265417/', 'https://bol.com/nl/p/apple-iphone-12-pro-max-256gb-grafiet/9300000013742208/', 'https://bol.com/nl/p/apple-iphone-x-refurbished-door-forza-c-grade-64gb-spacegrijs/9200000101335076/', 'https://bol.com/nl/p/oneplus-nord-n100-64gb-grijs/9300000017872622/', 'https://bol.com/nl/p/samsung-galaxy-a21s-64gb-wit/9300000000132987/', 'https://bol.com/nl/p/samsung-galaxy-s20-5g-128gb-cosmic-grey/9200000128429194/', 'https://bol.com/nl/p/samsung-galaxy-a71-128gb-blauw/9200000127101719/', 'https://bol.com/nl/p/samsung-galaxy-a02s-32gb-zwart/9300000020547718/', 'https://bol.com/nl/p/nokia-5-4-64gb-blauw/9300000021882472/']\n"
     ]
    }
   ],
   "source": [
    "fn=\"my_output.csv\"\n",
    "my_phones = get_phones(my_urls) \n",
    "#print(my_phones) # <-delete after\n",
    "f=open(fn,'a',encoding='utf-8')\n",
    "for url in my_urls [:2]:\n",
    "    print(get_phones(url))     \n",
    "    f.write(str(get_phones(url)))\n",
    "f.close()\n",
    "time.sleep(1)"
   ]
  },
  {
   "cell_type": "code",
   "execution_count": null,
   "metadata": {},
   "outputs": [],
   "source": [
    "# This cell can probably be deleted\n",
    "#def get_complete_urls(my_urls):\n",
    "    #complete_urls = []\n",
    "    #for url in my_urls:\n",
    "        #get_phones(url)\n",
    "        \n",
    "    #return(complete_urls) "
   ]
  },
  {
   "cell_type": "code",
   "execution_count": null,
   "metadata": {},
   "outputs": [],
   "source": [
    "# This cell can probably be deleted\n",
    "#complete_urls = get_complete_urls(my_urls)"
   ]
  },
  {
   "cell_type": "markdown",
   "metadata": {},
   "source": [
    "## Trialing to input file"
   ]
  },
  {
   "cell_type": "code",
   "execution_count": null,
   "metadata": {},
   "outputs": [],
   "source": [
    "f=open('my_output.csv','r',encoding='utf-8')\n",
    "\n",
    "f.readlines()"
   ]
  },
  {
   "cell_type": "code",
   "execution_count": null,
   "metadata": {},
   "outputs": [],
   "source": [
    "import csv\n",
    "\n",
    "with open('my_output.csv', newline='') as f:\n",
    "    reader = csv.reader(f)\n",
    "    your_list = list(reader)\n",
    "\n",
    "print(your_list)\n"
   ]
  },
  {
   "cell_type": "code",
   "execution_count": 71,
   "metadata": {},
   "outputs": [],
   "source": [
    "#Another option for importing TRIAL\n",
    "with open(\"my_output.csv\") as file_in:\n",
    "    lines = []\n",
    "    for line in file_in:\n",
    "        lines.append(line)"
   ]
  },
  {
   "cell_type": "code",
   "execution_count": 72,
   "metadata": {},
   "outputs": [
    {
     "name": "stdout",
     "output_type": "stream",
     "text": [
      "[\"'https://bol.com/nl/p/samsung-galaxy-a51-128gb-zwart/9200000127101717/', 'https://bol.com/nl/p/samsung-galaxy-a20e-32gb-zwart/9200000109073236/', 'https://bol.com/nl/p/samsung-galaxy-a41-64gb-zwart/9300000000132992/', 'https://bol.com/nl/p/samsung-galaxy-a71-128gb-zwart/9200000127101810/', 'https://bol.com/nl/p/apple-iphone-se-64gb-zwart/9300000000886605/', 'https://bol.com/nl/p/samsung-galaxy-a21s-64gb-zwart/9300000000132986/', 'https://bol.com/nl/p/apple-iphone-12-64gb-zwart/9300000013742278/', 'https://bol.com/nl/p/alcatel-1c-3g-8gb-zwart/9200000112629003/', 'https://bol.com/nl/p/motorola-moto-e6-play-32gb-steel-black/9200000122803221/', 'https://bol.com/nl/p/samsung-galaxy-a51-128gb-blauw/9200000127101588/', 'https://bol.com/nl/p/samsung-galaxy-s20-fe-4g-128gb-cloud-navy/9300000008841647/', 'https://bol.com/nl/p/apple-iphone-11-64gb-zwart/9200000119815601/', 'https://bol.com/nl/p/samsung-galaxy-a12-128gb-zwart/9300000019419396/', 'https://bol.com/nl/p/samsung-galaxy-a21s-32gb-blauw/9300000000132994/', 'https://bol.com/nl/p/samsung-galaxy-a42-5g-128gb-prism-dot-black/9300000010098436/', 'https://bol.com/nl/p/apple-iphone-12-pro-128gb-oceaan-blauw/9300000013742251/', 'https://bol.com/nl/p/samsung-galaxy-a01-core-16gb-zwart/9300000007420502/', 'https://bol.com/nl/p/samsung-galaxy-a10-32gb-zwart/9200000111950985/', 'https://bol.com/nl/p/samsung-galaxy-a21s-128gb-zwart/9300000015820720/', 'https://bol.com/nl/p/apple-iphone-xr-64gb-zwart/9200000098453451/', 'https://bol.com/nl/p/samsung-galaxy-a40-64gb-zwart/9200000107463262/', 'https://bol.com/nl/p/samsung-galaxy-a12-64gb-zwart/9300000020208465/', 'https://bol.com/nl/p/samsung-galaxy-a51-128gb-wit/9200000127101721/''https://bol.com/nl/p/samsung-galaxy-a20e-dual-sim-32gb-blauw/9300000002133409/', 'https://bol.com/nl/p/samsung-galaxy-s10e-128gb-prism-zwart/9200000106450648/', 'https://bol.com/nl/p/apple-iphone-11-128gb-zwart/9200000119816199/', 'https://bol.com/nl/p/samsung-galaxy-s21-5g-128gb-phantom-gray/9300000020732481/', 'https://bol.com/nl/p/apple-iphone-12-mini-64gb-zwart/9300000013742257/', 'https://bol.com/nl/p/samsung-galaxy-a50-128gb-zwart/9200000106883561/', 'https://bol.com/nl/p/motorola-moto-g8-power-lite-blauw/9200000127141343/', 'https://bol.com/nl/p/huawei-p30-lite-128gb-midnight-zwart/9200000107750278/', 'https://bol.com/nl/p/samsung-galaxy-a10-32gb-blauw/9200000111950979/', 'https://bol.com/nl/p/samsung-galaxy-xcover-4s-32gb-zwart/9200000111950981/', 'https://bol.com/nl/p/apple-iphone-se-128gb-zwart/9300000000886601/', 'https://bol.com/nl/p/oneplus-nord-n100-64gb-grijs/9300000017872622/', 'https://bol.com/nl/p/motorola-moto-g9-power-128gb-groen/9300000012375717/', 'https://bol.com/nl/p/samsung-galaxy-a32-5g-128gb-awesome-black/9300000022106004/', 'https://bol.com/nl/p/huawei-p30-lite-new-edition-256gb-midnight-black/9200000126132549/', 'https://bol.com/nl/p/oppo-a72-128gb-zwart/9300000002779754/', 'https://bol.com/nl/p/samsung-galaxy-a10s-32gb-zwart/9200000121265417/', 'https://bol.com/nl/p/samsung-galaxy-s20-5g-128gb-cosmic-grey/9200000128429194/', 'https://bol.com/nl/p/apple-iphone-x-refurbished-door-forza-c-grade-64gb-spacegrijs/9200000101335076/', 'https://bol.com/nl/p/apple-iphone-12-pro-max-256gb-grafiet/9300000013742208/', 'https://bol.com/nl/p/alcatel-1se-32gb-grijs/9300000001580712/', 'https://bol.com/nl/p/nokia-5-4-64gb-blauw/9300000021882472/', 'https://bol.com/nl/p/samsung-galaxy-a02s-32gb-zwart/9300000020547718/'https://bol.com/nl/p/samsung-galaxy-a51-128gb-zwart/9200000127101717/', 'https://bol.com/nl/p/samsung-galaxy-a20e-32gb-zwart/9200000109073236/', 'https://bol.com/nl/p/samsung-galaxy-a41-64gb-zwart/9300000000132992/', 'https://bol.com/nl/p/samsung-galaxy-a71-128gb-zwart/9200000127101810/', 'https://bol.com/nl/p/apple-iphone-se-64gb-zwart/9300000000886605/', 'https://bol.com/nl/p/samsung-galaxy-a21s-64gb-zwart/9300000000132986/', 'https://bol.com/nl/p/apple-iphone-12-64gb-zwart/9300000013742278/', 'https://bol.com/nl/p/alcatel-1c-3g-8gb-zwart/9200000112629003/', 'https://bol.com/nl/p/motorola-moto-e6-play-32gb-steel-black/9200000122803221/', 'https://bol.com/nl/p/samsung-galaxy-a51-128gb-blauw/9200000127101588/', 'https://bol.com/nl/p/samsung-galaxy-s20-fe-4g-128gb-cloud-navy/9300000008841647/', 'https://bol.com/nl/p/apple-iphone-11-64gb-zwart/9200000119815601/', 'https://bol.com/nl/p/samsung-galaxy-a12-128gb-zwart/9300000019419396/', 'https://bol.com/nl/p/samsung-galaxy-a21s-32gb-blauw/9300000000132994/', 'https://bol.com/nl/p/samsung-galaxy-a42-5g-128gb-prism-dot-black/9300000010098436/', 'https://bol.com/nl/p/apple-iphone-12-pro-128gb-oceaan-blauw/9300000013742251/', 'https://bol.com/nl/p/samsung-galaxy-a01-core-16gb-zwart/9300000007420502/', 'https://bol.com/nl/p/samsung-galaxy-a10-32gb-zwart/9200000111950985/', 'https://bol.com/nl/p/samsung-galaxy-a21s-128gb-zwart/9300000015820720/', 'https://bol.com/nl/p/apple-iphone-xr-64gb-zwart/9200000098453451/', 'https://bol.com/nl/p/samsung-galaxy-a40-64gb-zwart/9200000107463262/', 'https://bol.com/nl/p/samsung-galaxy-a12-64gb-zwart/9300000020208465/', 'https://bol.com/nl/p/samsung-galaxy-a51-128gb-wit/9200000127101721/https://bol.com/nl/p/samsung-galaxy-a20e-dual-sim-32gb-blauw/9300000002133409/', 'https://bol.com/nl/p/samsung-galaxy-s10e-128gb-prism-zwart/9200000106450648/', 'https://bol.com/nl/p/apple-iphone-11-128gb-zwart/9200000119816199/', 'https://bol.com/nl/p/samsung-galaxy-s21-5g-128gb-phantom-gray/9300000020732481/', 'https://bol.com/nl/p/apple-iphone-12-mini-64gb-zwart/9300000013742257/', 'https://bol.com/nl/p/samsung-galaxy-a50-128gb-zwart/9200000106883561/', 'https://bol.com/nl/p/motorola-moto-g8-power-lite-blauw/9200000127141343/', 'https://bol.com/nl/p/huawei-p30-lite-128gb-midnight-zwart/9200000107750278/', 'https://bol.com/nl/p/samsung-galaxy-a10-32gb-blauw/9200000111950979/', 'https://bol.com/nl/p/samsung-galaxy-xcover-4s-32gb-zwart/9200000111950981/', 'https://bol.com/nl/p/apple-iphone-se-128gb-zwart/9300000000886601/', 'https://bol.com/nl/p/oneplus-nord-n100-64gb-grijs/9300000017872622/', 'https://bol.com/nl/p/motorola-moto-g9-power-128gb-groen/9300000012375717/', 'https://bol.com/nl/p/samsung-galaxy-a32-5g-128gb-awesome-black/9300000022106004/', 'https://bol.com/nl/p/huawei-p30-lite-new-edition-256gb-midnight-black/9200000126132549/', 'https://bol.com/nl/p/oppo-a72-128gb-zwart/9300000002779754/', 'https://bol.com/nl/p/samsung-galaxy-a10s-32gb-zwart/9200000121265417/', 'https://bol.com/nl/p/samsung-galaxy-s20-5g-128gb-cosmic-grey/9200000128429194/', 'https://bol.com/nl/p/apple-iphone-x-refurbished-door-forza-c-grade-64gb-spacegrijs/9200000101335076/', 'https://bol.com/nl/p/apple-iphone-12-pro-max-256gb-grafiet/9300000013742208/', 'https://bol.com/nl/p/alcatel-1se-32gb-grijs/9300000001580712/', 'https://bol.com/nl/p/nokia-5-4-64gb-blauw/9300000021882472/', 'https://bol.com/nl/p/samsung-galaxy-a02s-32gb-zwart/9300000020547718/'https://bol.com/nl/p/samsung-galaxy-a51-128gb-zwart/9200000127101717/', 'https://bol.com/nl/p/samsung-galaxy-a20e-32gb-zwart/9200000109073236/', 'https://bol.com/nl/p/samsung-galaxy-a41-64gb-zwart/9300000000132992/', 'https://bol.com/nl/p/samsung-galaxy-a71-128gb-zwart/9200000127101810/', 'https://bol.com/nl/p/apple-iphone-se-64gb-zwart/9300000000886605/', 'https://bol.com/nl/p/samsung-galaxy-a21s-64gb-zwart/9300000000132986/', 'https://bol.com/nl/p/apple-iphone-12-64gb-zwart/9300000013742278/', 'https://bol.com/nl/p/alcatel-1c-3g-8gb-zwart/9200000112629003/', 'https://bol.com/nl/p/motorola-moto-e6-play-32gb-steel-black/9200000122803221/', 'https://bol.com/nl/p/samsung-galaxy-a51-128gb-blauw/9200000127101588/', 'https://bol.com/nl/p/samsung-galaxy-s20-fe-4g-128gb-cloud-navy/9300000008841647/', 'https://bol.com/nl/p/apple-iphone-11-64gb-zwart/9200000119815601/', 'https://bol.com/nl/p/samsung-galaxy-a12-128gb-zwart/9300000019419396/', 'https://bol.com/nl/p/samsung-galaxy-a21s-32gb-blauw/9300000000132994/', 'https://bol.com/nl/p/samsung-galaxy-a42-5g-128gb-prism-dot-black/9300000010098436/', 'https://bol.com/nl/p/apple-iphone-12-pro-128gb-oceaan-blauw/9300000013742251/', 'https://bol.com/nl/p/samsung-galaxy-a01-core-16gb-zwart/9300000007420502/', 'https://bol.com/nl/p/samsung-galaxy-a10-32gb-zwart/9200000111950985/', 'https://bol.com/nl/p/samsung-galaxy-a21s-128gb-zwart/9300000015820720/', 'https://bol.com/nl/p/apple-iphone-xr-64gb-zwart/9200000098453451/', 'https://bol.com/nl/p/samsung-galaxy-a40-64gb-zwart/9200000107463262/', 'https://bol.com/nl/p/samsung-galaxy-a12-64gb-zwart/9300000020208465/', 'https://bol.com/nl/p/samsung-galaxy-a51-128gb-wit/9200000127101721/''https://bol.com/nl/p/samsung-galaxy-a20e-dual-sim-32gb-blauw/9300000002133409/', 'https://bol.com/nl/p/samsung-galaxy-s10e-128gb-prism-zwart/9200000106450648/', 'https://bol.com/nl/p/apple-iphone-11-128gb-zwart/9200000119816199/', 'https://bol.com/nl/p/samsung-galaxy-s21-5g-128gb-phantom-gray/9300000020732481/', 'https://bol.com/nl/p/apple-iphone-12-mini-64gb-zwart/9300000013742257/', 'https://bol.com/nl/p/samsung-galaxy-a50-128gb-zwart/9200000106883561/', 'https://bol.com/nl/p/motorola-moto-g8-power-lite-blauw/9200000127141343/', 'https://bol.com/nl/p/huawei-p30-lite-128gb-midnight-zwart/9200000107750278/', 'https://bol.com/nl/p/samsung-galaxy-a10-32gb-blauw/9200000111950979/', 'https://bol.com/nl/p/samsung-galaxy-xcover-4s-32gb-zwart/9200000111950981/', 'https://bol.com/nl/p/apple-iphone-se-128gb-zwart/9300000000886601/', 'https://bol.com/nl/p/oneplus-nord-n100-64gb-grijs/9300000017872622/', 'https://bol.com/nl/p/motorola-moto-g9-power-128gb-groen/9300000012375717/', 'https://bol.com/nl/p/samsung-galaxy-a32-5g-128gb-awesome-black/9300000022106004/', 'https://bol.com/nl/p/huawei-p30-lite-new-edition-256gb-midnight-black/9200000126132549/', 'https://bol.com/nl/p/oppo-a72-128gb-zwart/9300000002779754/', 'https://bol.com/nl/p/samsung-galaxy-a10s-32gb-zwart/9200000121265417/', 'https://bol.com/nl/p/samsung-galaxy-s20-5g-128gb-cosmic-grey/9200000128429194/', 'https://bol.com/nl/p/apple-iphone-x-refurbished-door-forza-c-grade-64gb-spacegrijs/9200000101335076/', 'https://bol.com/nl/p/apple-iphone-12-pro-max-256gb-grafiet/9300000013742208/', 'https://bol.com/nl/p/alcatel-1se-32gb-grijs/9300000001580712/', 'https://bol.com/nl/p/nokia-5-4-64gb-blauw/9300000021882472/', 'https://bol.com/nl/p/samsung-galaxy-a02s-32gb-zwart/9300000020547718/''https://bol.com/nl/p/samsung-galaxy-a51-128gb-zwart/9200000127101717/', 'https://bol.com/nl/p/samsung-galaxy-a20e-32gb-zwart/9200000109073236/', 'https://bol.com/nl/p/samsung-galaxy-a41-64gb-zwart/9300000000132992/', 'https://bol.com/nl/p/samsung-galaxy-a71-128gb-zwart/9200000127101810/', 'https://bol.com/nl/p/apple-iphone-se-64gb-zwart/9300000000886605/', 'https://bol.com/nl/p/samsung-galaxy-a21s-64gb-zwart/9300000000132986/', 'https://bol.com/nl/p/apple-iphone-12-64gb-zwart/9300000013742278/', 'https://bol.com/nl/p/alcatel-1c-3g-8gb-zwart/9200000112629003/', 'https://bol.com/nl/p/motorola-moto-e6-play-32gb-steel-black/9200000122803221/', 'https://bol.com/nl/p/samsung-galaxy-a51-128gb-blauw/9200000127101588/', 'https://bol.com/nl/p/samsung-galaxy-s20-fe-4g-128gb-cloud-navy/9300000008841647/', 'https://bol.com/nl/p/apple-iphone-11-64gb-zwart/9200000119815601/', 'https://bol.com/nl/p/samsung-galaxy-a12-128gb-zwart/9300000019419396/', 'https://bol.com/nl/p/samsung-galaxy-a21s-32gb-blauw/9300000000132994/', 'https://bol.com/nl/p/samsung-galaxy-a42-5g-128gb-prism-dot-black/9300000010098436/', 'https://bol.com/nl/p/apple-iphone-12-pro-128gb-oceaan-blauw/9300000013742251/', 'https://bol.com/nl/p/samsung-galaxy-a01-core-16gb-zwart/9300000007420502/', 'https://bol.com/nl/p/samsung-galaxy-a10-32gb-zwart/9200000111950985/', 'https://bol.com/nl/p/samsung-galaxy-a21s-128gb-zwart/9300000015820720/', 'https://bol.com/nl/p/apple-iphone-xr-64gb-zwart/9200000098453451/', 'https://bol.com/nl/p/samsung-galaxy-a40-64gb-zwart/9200000107463262/', 'https://bol.com/nl/p/samsung-galaxy-a12-64gb-zwart/9300000020208465/', 'https://bol.com/nl/p/samsung-galaxy-a51-128gb-wit/9200000127101721/''https://bol.com/nl/p/samsung-galaxy-a20e-dual-sim-32gb-blauw/9300000002133409/', 'https://bol.com/nl/p/samsung-galaxy-s10e-128gb-prism-zwart/9200000106450648/', 'https://bol.com/nl/p/apple-iphone-11-128gb-zwart/9200000119816199/', 'https://bol.com/nl/p/samsung-galaxy-s21-5g-128gb-phantom-gray/9300000020732481/', 'https://bol.com/nl/p/apple-iphone-12-mini-64gb-zwart/9300000013742257/', 'https://bol.com/nl/p/samsung-galaxy-a50-128gb-zwart/9200000106883561/', 'https://bol.com/nl/p/motorola-moto-g8-power-lite-blauw/9200000127141343/', 'https://bol.com/nl/p/huawei-p30-lite-128gb-midnight-zwart/9200000107750278/', 'https://bol.com/nl/p/samsung-galaxy-a10-32gb-blauw/9200000111950979/', 'https://bol.com/nl/p/samsung-galaxy-xcover-4s-32gb-zwart/9200000111950981/', 'https://bol.com/nl/p/apple-iphone-se-128gb-zwart/9300000000886601/', 'https://bol.com/nl/p/oneplus-nord-n100-64gb-grijs/9300000017872622/', 'https://bol.com/nl/p/motorola-moto-g9-power-128gb-groen/9300000012375717/', 'https://bol.com/nl/p/samsung-galaxy-a32-5g-128gb-awesome-black/9300000022106004/', 'https://bol.com/nl/p/huawei-p30-lite-new-edition-256gb-midnight-black/9200000126132549/', 'https://bol.com/nl/p/oppo-a72-128gb-zwart/9300000002779754/', 'https://bol.com/nl/p/samsung-galaxy-a10s-32gb-zwart/9200000121265417/', 'https://bol.com/nl/p/samsung-galaxy-s20-5g-128gb-cosmic-grey/9200000128429194/', 'https://bol.com/nl/p/apple-iphone-x-refurbished-door-forza-c-grade-64gb-spacegrijs/9200000101335076/', 'https://bol.com/nl/p/apple-iphone-12-pro-max-256gb-grafiet/9300000013742208/', 'https://bol.com/nl/p/alcatel-1se-32gb-grijs/9300000001580712/', 'https://bol.com/nl/p/nokia-5-4-64gb-blauw/9300000021882472/', 'https://bol.com/nl/p/samsung-galaxy-a02s-32gb-zwart/9300000020547718/''https://bol.com/nl/p/samsung-galaxy-a51-128gb-zwart/9200000127101717/', 'https://bol.com/nl/p/samsung-galaxy-a20e-32gb-zwart/9200000109073236/', 'https://bol.com/nl/p/samsung-galaxy-a41-64gb-zwart/9300000000132992/', 'https://bol.com/nl/p/apple-iphone-se-64gb-zwart/9300000000886605/', 'https://bol.com/nl/p/samsung-galaxy-a21s-64gb-zwart/9300000000132986/', 'https://bol.com/nl/p/apple-iphone-12-64gb-zwart/9300000013742278/', 'https://bol.com/nl/p/alcatel-1c-3g-8gb-zwart/9200000112629003/', 'https://bol.com/nl/p/motorola-moto-e6-play-32gb-steel-black/9200000122803221/', 'https://bol.com/nl/p/samsung-galaxy-a51-128gb-blauw/9200000127101588/', 'https://bol.com/nl/p/samsung-galaxy-a12-128gb-zwart/9300000019419396/', 'https://bol.com/nl/p/samsung-galaxy-s20-fe-4g-128gb-cloud-navy/9300000008841647/', 'https://bol.com/nl/p/apple-iphone-11-64gb-zwart/9200000119815601/', 'https://bol.com/nl/p/samsung-galaxy-a21s-32gb-blauw/9300000000132994/', 'https://bol.com/nl/p/samsung-galaxy-a42-5g-128gb-prism-dot-black/9300000010098436/', 'https://bol.com/nl/p/apple-iphone-12-pro-128gb-oceaan-blauw/9300000013742251/', 'https://bol.com/nl/p/samsung-galaxy-a01-core-16gb-zwart/9300000007420502/', 'https://bol.com/nl/p/samsung-galaxy-a10-32gb-zwart/9200000111950985/', 'https://bol.com/nl/p/samsung-galaxy-a21s-128gb-zwart/9300000015820720/', 'https://bol.com/nl/p/apple-iphone-xr-64gb-zwart/9200000098453451/', 'https://bol.com/nl/p/samsung-galaxy-a40-64gb-zwart/9200000107463262/', 'https://bol.com/nl/p/samsung-galaxy-a12-64gb-zwart/9300000020208465/', 'https://bol.com/nl/p/samsung-galaxy-a51-128gb-wit/9200000127101721/''https://bol.com/nl/p/samsung-galaxy-a20e-dual-sim-32gb-blauw/9300000002133409/', 'https://bol.com/nl/p/samsung-galaxy-s10e-128gb-prism-zwart/9200000106450648/', 'https://bol.com/nl/p/apple-iphone-11-128gb-zwart/9200000119816199/', 'https://bol.com/nl/p/samsung-galaxy-s21-5g-128gb-phantom-gray/9300000020732481/', 'https://bol.com/nl/p/apple-iphone-12-mini-64gb-zwart/9300000013742257/', 'https://bol.com/nl/p/samsung-galaxy-a50-128gb-zwart/9200000106883561/', 'https://bol.com/nl/p/motorola-moto-g8-power-lite-blauw/9200000127141343/', 'https://bol.com/nl/p/huawei-p30-lite-128gb-midnight-zwart/9200000107750278/', 'https://bol.com/nl/p/samsung-galaxy-a10-32gb-blauw/9200000111950979/', 'https://bol.com/nl/p/samsung-galaxy-xcover-4s-32gb-zwart/9200000111950981/', 'https://bol.com/nl/p/apple-iphone-se-128gb-zwart/9300000000886601/', 'https://bol.com/nl/p/oneplus-nord-n100-64gb-grijs/9300000017872622/', 'https://bol.com/nl/p/motorola-moto-g9-power-128gb-groen/9300000012375717/', 'https://bol.com/nl/p/samsung-galaxy-a32-5g-128gb-awesome-black/9300000022106004/', 'https://bol.com/nl/p/huawei-p30-lite-new-edition-256gb-midnight-black/9200000126132549/', 'https://bol.com/nl/p/oppo-a72-128gb-zwart/9300000002779754/', 'https://bol.com/nl/p/samsung-galaxy-a10s-32gb-zwart/9200000121265417/', 'https://bol.com/nl/p/samsung-galaxy-s20-5g-128gb-cosmic-grey/9200000128429194/', 'https://bol.com/nl/p/apple-iphone-x-refurbished-door-forza-c-grade-64gb-spacegrijs/9200000101335076/', 'https://bol.com/nl/p/apple-iphone-12-pro-max-256gb-grafiet/9300000013742208/', 'https://bol.com/nl/p/alcatel-1se-32gb-grijs/9300000001580712/', 'https://bol.com/nl/p/nokia-5-4-64gb-blauw/9300000021882472/', 'https://bol.com/nl/p/samsung-galaxy-a02s-32gb-zwart/9300000020547718/''https://bol.com/nl/p/samsung-galaxy-a51-128gb-zwart/9200000127101717/', 'https://bol.com/nl/p/samsung-galaxy-a20e-32gb-zwart/9200000109073236/', 'https://bol.com/nl/p/samsung-galaxy-a41-64gb-zwart/9300000000132992/', 'https://bol.com/nl/p/apple-iphone-se-64gb-zwart/9300000000886605/', 'https://bol.com/nl/p/samsung-galaxy-a21s-64gb-zwart/9300000000132986/', 'https://bol.com/nl/p/apple-iphone-12-64gb-zwart/9300000013742278/', 'https://bol.com/nl/p/alcatel-1c-3g-8gb-zwart/9200000112629003/', 'https://bol.com/nl/p/motorola-moto-e6-play-32gb-steel-black/9200000122803221/', 'https://bol.com/nl/p/samsung-galaxy-a51-128gb-blauw/9200000127101588/', 'https://bol.com/nl/p/samsung-galaxy-a12-128gb-zwart/9300000019419396/', 'https://bol.com/nl/p/samsung-galaxy-s20-fe-4g-128gb-cloud-navy/9300000008841647/', 'https://bol.com/nl/p/apple-iphone-11-64gb-zwart/9200000119815601/', 'https://bol.com/nl/p/samsung-galaxy-a21s-32gb-blauw/9300000000132994/', 'https://bol.com/nl/p/samsung-galaxy-a42-5g-128gb-prism-dot-black/9300000010098436/', 'https://bol.com/nl/p/apple-iphone-12-pro-128gb-oceaan-blauw/9300000013742251/', 'https://bol.com/nl/p/samsung-galaxy-a01-core-16gb-zwart/9300000007420502/', 'https://bol.com/nl/p/samsung-galaxy-a10-32gb-zwart/9200000111950985/', 'https://bol.com/nl/p/samsung-galaxy-a21s-128gb-zwart/9300000015820720/', 'https://bol.com/nl/p/apple-iphone-xr-64gb-zwart/9200000098453451/', 'https://bol.com/nl/p/samsung-galaxy-a40-64gb-zwart/9200000107463262/', 'https://bol.com/nl/p/samsung-galaxy-a12-64gb-zwart/9300000020208465/', 'https://bol.com/nl/p/samsung-galaxy-a51-128gb-wit/9200000127101721/''https://bol.com/nl/p/samsung-galaxy-a20e-dual-sim-32gb-blauw/9300000002133409/', 'https://bol.com/nl/p/samsung-galaxy-s10e-128gb-prism-zwart/9200000106450648/', 'https://bol.com/nl/p/apple-iphone-11-128gb-zwart/9200000119816199/', 'https://bol.com/nl/p/samsung-galaxy-s21-5g-128gb-phantom-gray/9300000020732481/', 'https://bol.com/nl/p/apple-iphone-12-mini-64gb-zwart/9300000013742257/', 'https://bol.com/nl/p/samsung-galaxy-a50-128gb-zwart/9200000106883561/', 'https://bol.com/nl/p/motorola-moto-g8-power-lite-blauw/9200000127141343/', 'https://bol.com/nl/p/huawei-p30-lite-128gb-midnight-zwart/9200000107750278/', 'https://bol.com/nl/p/samsung-galaxy-a10-32gb-blauw/9200000111950979/', 'https://bol.com/nl/p/samsung-galaxy-xcover-4s-32gb-zwart/9200000111950981/', 'https://bol.com/nl/p/apple-iphone-se-128gb-zwart/9300000000886601/', 'https://bol.com/nl/p/oneplus-nord-n100-64gb-grijs/9300000017872622/', 'https://bol.com/nl/p/motorola-moto-g9-power-128gb-groen/9300000012375717/', 'https://bol.com/nl/p/samsung-galaxy-a32-5g-128gb-awesome-black/9300000022106004/', 'https://bol.com/nl/p/huawei-p30-lite-new-edition-256gb-midnight-black/9200000126132549/', 'https://bol.com/nl/p/oppo-a72-128gb-zwart/9300000002779754/', 'https://bol.com/nl/p/samsung-galaxy-a10s-32gb-zwart/9200000121265417/', 'https://bol.com/nl/p/samsung-galaxy-s20-5g-128gb-cosmic-grey/9200000128429194/', 'https://bol.com/nl/p/apple-iphone-x-refurbished-door-forza-c-grade-64gb-spacegrijs/9200000101335076/', 'https://bol.com/nl/p/apple-iphone-12-pro-max-256gb-grafiet/9300000013742208/', 'https://bol.com/nl/p/alcatel-1se-32gb-grijs/9300000001580712/', 'https://bol.com/nl/p/nokia-5-4-64gb-blauw/9300000021882472/', 'https://bol.com/nl/p/samsung-galaxy-a02s-32gb-zwart/9300000020547718/''https://bol.com/nl/p/samsung-galaxy-a51-128gb-zwart/9200000127101717/', 'https://bol.com/nl/p/samsung-galaxy-a20e-32gb-zwart/9200000109073236/', 'https://bol.com/nl/p/samsung-galaxy-a41-64gb-zwart/9300000000132992/', 'https://bol.com/nl/p/samsung-galaxy-a71-128gb-zwart/9200000127101810/', 'https://bol.com/nl/p/apple-iphone-se-64gb-zwart/9300000000886605/', 'https://bol.com/nl/p/apple-iphone-12-64gb-zwart/9300000013742278/', 'https://bol.com/nl/p/alcatel-1c-3g-8gb-zwart/9200000112629003/', 'https://bol.com/nl/p/motorola-moto-e6-play-32gb-steel-black/9200000122803221/', 'https://bol.com/nl/p/samsung-galaxy-a12-128gb-zwart/9300000019419396/', 'https://bol.com/nl/p/samsung-galaxy-s20-fe-4g-128gb-cloud-navy/9300000008841647/', 'https://bol.com/nl/p/samsung-galaxy-a21s-32gb-blauw/9300000000132994/', 'https://bol.com/nl/p/apple-iphone-11-64gb-zwart/9200000119815601/', 'https://bol.com/nl/p/samsung-galaxy-a42-5g-128gb-prism-dot-black/9300000010098436/', 'https://bol.com/nl/p/apple-iphone-12-pro-128gb-oceaan-blauw/9300000013742251/', 'https://bol.com/nl/p/samsung-galaxy-a01-core-16gb-zwart/9300000007420502/', 'https://bol.com/nl/p/samsung-galaxy-a10-32gb-zwart/9200000111950985/', 'https://bol.com/nl/p/samsung-galaxy-a21s-128gb-zwart/9300000015820720/', 'https://bol.com/nl/p/samsung-galaxy-a12-64gb-zwart/9300000020208465/', 'https://bol.com/nl/p/apple-iphone-xr-64gb-zwart/9200000098453451/', 'https://bol.com/nl/p/samsung-galaxy-a40-64gb-zwart/9200000107463262/''https://bol.com/nl/p/samsung-galaxy-s10e-128gb-prism-zwart/9200000106450648/', 'https://bol.com/nl/p/samsung-galaxy-s21-5g-128gb-phantom-gray/9300000020732481/', 'https://bol.com/nl/p/apple-iphone-12-mini-64gb-zwart/9300000013742257/', 'https://bol.com/nl/p/apple-iphone-11-128gb-zwart/9200000119816199/', 'https://bol.com/nl/p/huawei-p30-lite-128gb-midnight-zwart/9200000107750278/', 'https://bol.com/nl/p/samsung-galaxy-a50-128gb-zwart/9200000106883561/', 'https://bol.com/nl/p/motorola-moto-g8-power-lite-blauw/9200000127141343/', 'https://bol.com/nl/p/samsung-galaxy-a10-32gb-blauw/9200000111950979/', 'https://bol.com/nl/p/samsung-galaxy-xcover-4s-32gb-zwart/9200000111950981/', 'https://bol.com/nl/p/apple-iphone-se-128gb-zwart/9300000000886601/', 'https://bol.com/nl/p/motorola-moto-g9-power-128gb-groen/9300000012375717/', 'https://bol.com/nl/p/samsung-galaxy-a32-5g-128gb-awesome-black/9300000022106004/', 'https://bol.com/nl/p/huawei-p30-lite-new-edition-256gb-midnight-black/9200000126132549/', 'https://bol.com/nl/p/oppo-a72-128gb-zwart/9300000002779754/', 'https://bol.com/nl/p/alcatel-1se-32gb-grijs/9300000001580712/', 'https://bol.com/nl/p/samsung-galaxy-a10s-32gb-zwart/9200000121265417/', 'https://bol.com/nl/p/apple-iphone-12-pro-max-256gb-grafiet/9300000013742208/', 'https://bol.com/nl/p/apple-iphone-x-refurbished-door-forza-c-grade-64gb-spacegrijs/9200000101335076/', 'https://bol.com/nl/p/oneplus-nord-n100-64gb-grijs/9300000017872622/', 'https://bol.com/nl/p/samsung-galaxy-a21s-64gb-wit/9300000000132987/', 'https://bol.com/nl/p/samsung-galaxy-s20-5g-128gb-cosmic-grey/9200000128429194/', 'https://bol.com/nl/p/samsung-galaxy-a71-128gb-blauw/9200000127101719/', 'https://bol.com/nl/p/samsung-galaxy-a02s-32gb-zwart/9300000020547718/', 'https://bol.com/nl/p/nokia-5-4-64gb-blauw/9300000021882472/'['https://bol.com/nl/p/samsung-galaxy-a51-128gb-zwart/9200000127101717/', 'https://bol.com/nl/p/samsung-galaxy-a20e-32gb-zwart/9200000109073236/', 'https://bol.com/nl/p/samsung-galaxy-a41-64gb-zwart/9300000000132992/', 'https://bol.com/nl/p/samsung-galaxy-a71-128gb-zwart/9200000127101810/', 'https://bol.com/nl/p/apple-iphone-se-64gb-zwart/9300000000886605/', 'https://bol.com/nl/p/apple-iphone-12-64gb-zwart/9300000013742278/', 'https://bol.com/nl/p/alcatel-1c-3g-8gb-zwart/9200000112629003/', 'https://bol.com/nl/p/motorola-moto-e6-play-32gb-steel-black/9200000122803221/', 'https://bol.com/nl/p/samsung-galaxy-a12-128gb-zwart/9300000019419396/', 'https://bol.com/nl/p/samsung-galaxy-s20-fe-4g-128gb-cloud-navy/9300000008841647/', 'https://bol.com/nl/p/samsung-galaxy-a21s-32gb-blauw/9300000000132994/', 'https://bol.com/nl/p/apple-iphone-11-64gb-zwart/9200000119815601/', 'https://bol.com/nl/p/samsung-galaxy-a42-5g-128gb-prism-dot-black/9300000010098436/', 'https://bol.com/nl/p/apple-iphone-12-pro-128gb-oceaan-blauw/9300000013742251/', 'https://bol.com/nl/p/samsung-galaxy-a01-core-16gb-zwart/9300000007420502/', 'https://bol.com/nl/p/samsung-galaxy-a10-32gb-zwart/9200000111950985/', 'https://bol.com/nl/p/samsung-galaxy-a21s-128gb-zwart/9300000015820720/', 'https://bol.com/nl/p/samsung-galaxy-a12-64gb-zwart/9300000020208465/', 'https://bol.com/nl/p/apple-iphone-xr-64gb-zwart/9200000098453451/', 'https://bol.com/nl/p/samsung-galaxy-a40-64gb-zwart/9200000107463262/']['https://bol.com/nl/p/samsung-galaxy-s10e-128gb-prism-zwart/9200000106450648/', 'https://bol.com/nl/p/samsung-galaxy-s21-5g-128gb-phantom-gray/9300000020732481/', 'https://bol.com/nl/p/apple-iphone-12-mini-64gb-zwart/9300000013742257/', 'https://bol.com/nl/p/apple-iphone-11-128gb-zwart/9200000119816199/', 'https://bol.com/nl/p/huawei-p30-lite-128gb-midnight-zwart/9200000107750278/', 'https://bol.com/nl/p/samsung-galaxy-a50-128gb-zwart/9200000106883561/', 'https://bol.com/nl/p/motorola-moto-g8-power-lite-blauw/9200000127141343/', 'https://bol.com/nl/p/samsung-galaxy-a10-32gb-blauw/9200000111950979/', 'https://bol.com/nl/p/samsung-galaxy-xcover-4s-32gb-zwart/9200000111950981/', 'https://bol.com/nl/p/apple-iphone-se-128gb-zwart/9300000000886601/', 'https://bol.com/nl/p/motorola-moto-g9-power-128gb-groen/9300000012375717/', 'https://bol.com/nl/p/samsung-galaxy-a32-5g-128gb-awesome-black/9300000022106004/', 'https://bol.com/nl/p/huawei-p30-lite-new-edition-256gb-midnight-black/9200000126132549/', 'https://bol.com/nl/p/oppo-a72-128gb-zwart/9300000002779754/', 'https://bol.com/nl/p/alcatel-1se-32gb-grijs/9300000001580712/', 'https://bol.com/nl/p/samsung-galaxy-a10s-32gb-zwart/9200000121265417/', 'https://bol.com/nl/p/apple-iphone-12-pro-max-256gb-grafiet/9300000013742208/', 'https://bol.com/nl/p/apple-iphone-x-refurbished-door-forza-c-grade-64gb-spacegrijs/9200000101335076/', 'https://bol.com/nl/p/oneplus-nord-n100-64gb-grijs/9300000017872622/', 'https://bol.com/nl/p/samsung-galaxy-a21s-64gb-wit/9300000000132987/', 'https://bol.com/nl/p/samsung-galaxy-s20-5g-128gb-cosmic-grey/9200000128429194/', 'https://bol.com/nl/p/samsung-galaxy-a71-128gb-blauw/9200000127101719/', 'https://bol.com/nl/p/samsung-galaxy-a02s-32gb-zwart/9300000020547718/', 'https://bol.com/nl/p/nokia-5-4-64gb-blauw/9300000021882472/']\"]\n"
     ]
    }
   ],
   "source": [
    "print(lines)"
   ]
  },
  {
   "cell_type": "code",
   "execution_count": 35,
   "metadata": {},
   "outputs": [
    {
     "name": "stdout",
     "output_type": "stream",
     "text": [
      "[\"'https://bol.com/nl/p/samsung-galaxy-a51-128gb-zwart/9200000127101717/',\", \"'https://bol.com/nl/p/samsung-galaxy-a20e-32gb-zwart/9200000109073236/',\", \"'https://bol.com/nl/p/samsung-galaxy-a41-64gb-zwart/9300000000132992/',\", \"'https://bol.com/nl/p/samsung-galaxy-a71-128gb-zwart/9200000127101810/',\", \"'https://bol.com/nl/p/apple-iphone-se-64gb-zwart/9300000000886605/',\", \"'https://bol.com/nl/p/samsung-galaxy-a21s-64gb-zwart/9300000000132986/',\", \"'https://bol.com/nl/p/apple-iphone-12-64gb-zwart/9300000013742278/',\", \"'https://bol.com/nl/p/alcatel-1c-3g-8gb-zwart/9200000112629003/',\", \"'https://bol.com/nl/p/motorola-moto-e6-play-32gb-steel-black/9200000122803221/',\", \"'https://bol.com/nl/p/samsung-galaxy-a51-128gb-blauw/9200000127101588/',\", \"'https://bol.com/nl/p/samsung-galaxy-s20-fe-4g-128gb-cloud-navy/9300000008841647/',\", \"'https://bol.com/nl/p/apple-iphone-11-64gb-zwart/9200000119815601/',\", \"'https://bol.com/nl/p/samsung-galaxy-a12-128gb-zwart/9300000019419396/',\", \"'https://bol.com/nl/p/samsung-galaxy-a21s-32gb-blauw/9300000000132994/',\", \"'https://bol.com/nl/p/samsung-galaxy-a42-5g-128gb-prism-dot-black/9300000010098436/',\", \"'https://bol.com/nl/p/apple-iphone-12-pro-128gb-oceaan-blauw/9300000013742251/',\", \"'https://bol.com/nl/p/samsung-galaxy-a01-core-16gb-zwart/9300000007420502/',\", \"'https://bol.com/nl/p/samsung-galaxy-a10-32gb-zwart/9200000111950985/',\", \"'https://bol.com/nl/p/samsung-galaxy-a21s-128gb-zwart/9300000015820720/',\", \"'https://bol.com/nl/p/apple-iphone-xr-64gb-zwart/9200000098453451/',\", \"'https://bol.com/nl/p/samsung-galaxy-a40-64gb-zwart/9200000107463262/',\", \"'https://bol.com/nl/p/samsung-galaxy-a12-64gb-zwart/9300000020208465/',\", \"'https://bol.com/nl/p/samsung-galaxy-a51-128gb-wit/9200000127101721/''https://bol.com/nl/p/samsung-galaxy-a20e-dual-sim-32gb-blauw/9300000002133409/',\", \"'https://bol.com/nl/p/samsung-galaxy-s10e-128gb-prism-zwart/9200000106450648/',\", \"'https://bol.com/nl/p/apple-iphone-11-128gb-zwart/9200000119816199/',\", \"'https://bol.com/nl/p/samsung-galaxy-s21-5g-128gb-phantom-gray/9300000020732481/',\", \"'https://bol.com/nl/p/apple-iphone-12-mini-64gb-zwart/9300000013742257/',\", \"'https://bol.com/nl/p/samsung-galaxy-a50-128gb-zwart/9200000106883561/',\", \"'https://bol.com/nl/p/motorola-moto-g8-power-lite-blauw/9200000127141343/',\", \"'https://bol.com/nl/p/huawei-p30-lite-128gb-midnight-zwart/9200000107750278/',\", \"'https://bol.com/nl/p/samsung-galaxy-a10-32gb-blauw/9200000111950979/',\", \"'https://bol.com/nl/p/samsung-galaxy-xcover-4s-32gb-zwart/9200000111950981/',\", \"'https://bol.com/nl/p/apple-iphone-se-128gb-zwart/9300000000886601/',\", \"'https://bol.com/nl/p/oneplus-nord-n100-64gb-grijs/9300000017872622/',\", \"'https://bol.com/nl/p/motorola-moto-g9-power-128gb-groen/9300000012375717/',\", \"'https://bol.com/nl/p/samsung-galaxy-a32-5g-128gb-awesome-black/9300000022106004/',\", \"'https://bol.com/nl/p/huawei-p30-lite-new-edition-256gb-midnight-black/9200000126132549/',\", \"'https://bol.com/nl/p/oppo-a72-128gb-zwart/9300000002779754/',\", \"'https://bol.com/nl/p/samsung-galaxy-a10s-32gb-zwart/9200000121265417/',\", \"'https://bol.com/nl/p/samsung-galaxy-s20-5g-128gb-cosmic-grey/9200000128429194/',\", \"'https://bol.com/nl/p/apple-iphone-x-refurbished-door-forza-c-grade-64gb-spacegrijs/9200000101335076/',\", \"'https://bol.com/nl/p/apple-iphone-12-pro-max-256gb-grafiet/9300000013742208/',\", \"'https://bol.com/nl/p/alcatel-1se-32gb-grijs/9300000001580712/',\", \"'https://bol.com/nl/p/nokia-5-4-64gb-blauw/9300000021882472/',\", \"'https://bol.com/nl/p/samsung-galaxy-a02s-32gb-zwart/9300000020547718/'https://bol.com/nl/p/samsung-galaxy-a51-128gb-zwart/9200000127101717/',\", \"'https://bol.com/nl/p/samsung-galaxy-a20e-32gb-zwart/9200000109073236/',\", \"'https://bol.com/nl/p/samsung-galaxy-a41-64gb-zwart/9300000000132992/',\", \"'https://bol.com/nl/p/samsung-galaxy-a71-128gb-zwart/9200000127101810/',\", \"'https://bol.com/nl/p/apple-iphone-se-64gb-zwart/9300000000886605/',\", \"'https://bol.com/nl/p/samsung-galaxy-a21s-64gb-zwart/9300000000132986/',\", \"'https://bol.com/nl/p/apple-iphone-12-64gb-zwart/9300000013742278/',\", \"'https://bol.com/nl/p/alcatel-1c-3g-8gb-zwart/9200000112629003/',\", \"'https://bol.com/nl/p/motorola-moto-e6-play-32gb-steel-black/9200000122803221/',\", \"'https://bol.com/nl/p/samsung-galaxy-a51-128gb-blauw/9200000127101588/',\", \"'https://bol.com/nl/p/samsung-galaxy-s20-fe-4g-128gb-cloud-navy/9300000008841647/',\", \"'https://bol.com/nl/p/apple-iphone-11-64gb-zwart/9200000119815601/',\", \"'https://bol.com/nl/p/samsung-galaxy-a12-128gb-zwart/9300000019419396/',\", \"'https://bol.com/nl/p/samsung-galaxy-a21s-32gb-blauw/9300000000132994/',\", \"'https://bol.com/nl/p/samsung-galaxy-a42-5g-128gb-prism-dot-black/9300000010098436/',\", \"'https://bol.com/nl/p/apple-iphone-12-pro-128gb-oceaan-blauw/9300000013742251/',\", \"'https://bol.com/nl/p/samsung-galaxy-a01-core-16gb-zwart/9300000007420502/',\", \"'https://bol.com/nl/p/samsung-galaxy-a10-32gb-zwart/9200000111950985/',\", \"'https://bol.com/nl/p/samsung-galaxy-a21s-128gb-zwart/9300000015820720/',\", \"'https://bol.com/nl/p/apple-iphone-xr-64gb-zwart/9200000098453451/',\", \"'https://bol.com/nl/p/samsung-galaxy-a40-64gb-zwart/9200000107463262/',\", \"'https://bol.com/nl/p/samsung-galaxy-a12-64gb-zwart/9300000020208465/',\", \"'https://bol.com/nl/p/samsung-galaxy-a51-128gb-wit/9200000127101721/https://bol.com/nl/p/samsung-galaxy-a20e-dual-sim-32gb-blauw/9300000002133409/',\", \"'https://bol.com/nl/p/samsung-galaxy-s10e-128gb-prism-zwart/9200000106450648/',\", \"'https://bol.com/nl/p/apple-iphone-11-128gb-zwart/9200000119816199/',\", \"'https://bol.com/nl/p/samsung-galaxy-s21-5g-128gb-phantom-gray/9300000020732481/',\", \"'https://bol.com/nl/p/apple-iphone-12-mini-64gb-zwart/9300000013742257/',\", \"'https://bol.com/nl/p/samsung-galaxy-a50-128gb-zwart/9200000106883561/',\", \"'https://bol.com/nl/p/motorola-moto-g8-power-lite-blauw/9200000127141343/',\", \"'https://bol.com/nl/p/huawei-p30-lite-128gb-midnight-zwart/9200000107750278/',\", \"'https://bol.com/nl/p/samsung-galaxy-a10-32gb-blauw/9200000111950979/',\", \"'https://bol.com/nl/p/samsung-galaxy-xcover-4s-32gb-zwart/9200000111950981/',\", \"'https://bol.com/nl/p/apple-iphone-se-128gb-zwart/9300000000886601/',\", \"'https://bol.com/nl/p/oneplus-nord-n100-64gb-grijs/9300000017872622/',\", \"'https://bol.com/nl/p/motorola-moto-g9-power-128gb-groen/9300000012375717/',\", \"'https://bol.com/nl/p/samsung-galaxy-a32-5g-128gb-awesome-black/9300000022106004/',\", \"'https://bol.com/nl/p/huawei-p30-lite-new-edition-256gb-midnight-black/9200000126132549/',\", \"'https://bol.com/nl/p/oppo-a72-128gb-zwart/9300000002779754/',\", \"'https://bol.com/nl/p/samsung-galaxy-a10s-32gb-zwart/9200000121265417/',\", \"'https://bol.com/nl/p/samsung-galaxy-s20-5g-128gb-cosmic-grey/9200000128429194/',\", \"'https://bol.com/nl/p/apple-iphone-x-refurbished-door-forza-c-grade-64gb-spacegrijs/9200000101335076/',\", \"'https://bol.com/nl/p/apple-iphone-12-pro-max-256gb-grafiet/9300000013742208/',\", \"'https://bol.com/nl/p/alcatel-1se-32gb-grijs/9300000001580712/',\", \"'https://bol.com/nl/p/nokia-5-4-64gb-blauw/9300000021882472/',\", \"'https://bol.com/nl/p/samsung-galaxy-a02s-32gb-zwart/9300000020547718/'https://bol.com/nl/p/samsung-galaxy-a51-128gb-zwart/9200000127101717/',\", \"'https://bol.com/nl/p/samsung-galaxy-a20e-32gb-zwart/9200000109073236/',\", \"'https://bol.com/nl/p/samsung-galaxy-a41-64gb-zwart/9300000000132992/',\", \"'https://bol.com/nl/p/samsung-galaxy-a71-128gb-zwart/9200000127101810/',\", \"'https://bol.com/nl/p/apple-iphone-se-64gb-zwart/9300000000886605/',\", \"'https://bol.com/nl/p/samsung-galaxy-a21s-64gb-zwart/9300000000132986/',\", \"'https://bol.com/nl/p/apple-iphone-12-64gb-zwart/9300000013742278/',\", \"'https://bol.com/nl/p/alcatel-1c-3g-8gb-zwart/9200000112629003/',\", \"'https://bol.com/nl/p/motorola-moto-e6-play-32gb-steel-black/9200000122803221/',\", \"'https://bol.com/nl/p/samsung-galaxy-a51-128gb-blauw/9200000127101588/',\", \"'https://bol.com/nl/p/samsung-galaxy-s20-fe-4g-128gb-cloud-navy/9300000008841647/',\", \"'https://bol.com/nl/p/apple-iphone-11-64gb-zwart/9200000119815601/',\", \"'https://bol.com/nl/p/samsung-galaxy-a12-128gb-zwart/9300000019419396/',\", \"'https://bol.com/nl/p/samsung-galaxy-a21s-32gb-blauw/9300000000132994/',\", \"'https://bol.com/nl/p/samsung-galaxy-a42-5g-128gb-prism-dot-black/9300000010098436/',\", \"'https://bol.com/nl/p/apple-iphone-12-pro-128gb-oceaan-blauw/9300000013742251/',\", \"'https://bol.com/nl/p/samsung-galaxy-a01-core-16gb-zwart/9300000007420502/',\", \"'https://bol.com/nl/p/samsung-galaxy-a10-32gb-zwart/9200000111950985/',\", \"'https://bol.com/nl/p/samsung-galaxy-a21s-128gb-zwart/9300000015820720/',\", \"'https://bol.com/nl/p/apple-iphone-xr-64gb-zwart/9200000098453451/',\", \"'https://bol.com/nl/p/samsung-galaxy-a40-64gb-zwart/9200000107463262/',\", \"'https://bol.com/nl/p/samsung-galaxy-a12-64gb-zwart/9300000020208465/',\", \"'https://bol.com/nl/p/samsung-galaxy-a51-128gb-wit/9200000127101721/''https://bol.com/nl/p/samsung-galaxy-a20e-dual-sim-32gb-blauw/9300000002133409/',\", \"'https://bol.com/nl/p/samsung-galaxy-s10e-128gb-prism-zwart/9200000106450648/',\", \"'https://bol.com/nl/p/apple-iphone-11-128gb-zwart/9200000119816199/',\", \"'https://bol.com/nl/p/samsung-galaxy-s21-5g-128gb-phantom-gray/9300000020732481/',\", \"'https://bol.com/nl/p/apple-iphone-12-mini-64gb-zwart/9300000013742257/',\", \"'https://bol.com/nl/p/samsung-galaxy-a50-128gb-zwart/9200000106883561/',\", \"'https://bol.com/nl/p/motorola-moto-g8-power-lite-blauw/9200000127141343/',\", \"'https://bol.com/nl/p/huawei-p30-lite-128gb-midnight-zwart/9200000107750278/',\", \"'https://bol.com/nl/p/samsung-galaxy-a10-32gb-blauw/9200000111950979/',\", \"'https://bol.com/nl/p/samsung-galaxy-xcover-4s-32gb-zwart/9200000111950981/',\", \"'https://bol.com/nl/p/apple-iphone-se-128gb-zwart/9300000000886601/',\", \"'https://bol.com/nl/p/oneplus-nord-n100-64gb-grijs/9300000017872622/',\", \"'https://bol.com/nl/p/motorola-moto-g9-power-128gb-groen/9300000012375717/',\", \"'https://bol.com/nl/p/samsung-galaxy-a32-5g-128gb-awesome-black/9300000022106004/',\", \"'https://bol.com/nl/p/huawei-p30-lite-new-edition-256gb-midnight-black/9200000126132549/',\", \"'https://bol.com/nl/p/oppo-a72-128gb-zwart/9300000002779754/',\", \"'https://bol.com/nl/p/samsung-galaxy-a10s-32gb-zwart/9200000121265417/',\", \"'https://bol.com/nl/p/samsung-galaxy-s20-5g-128gb-cosmic-grey/9200000128429194/',\", \"'https://bol.com/nl/p/apple-iphone-x-refurbished-door-forza-c-grade-64gb-spacegrijs/9200000101335076/',\", \"'https://bol.com/nl/p/apple-iphone-12-pro-max-256gb-grafiet/9300000013742208/',\", \"'https://bol.com/nl/p/alcatel-1se-32gb-grijs/9300000001580712/',\", \"'https://bol.com/nl/p/nokia-5-4-64gb-blauw/9300000021882472/',\", \"'https://bol.com/nl/p/samsung-galaxy-a02s-32gb-zwart/9300000020547718/''https://bol.com/nl/p/samsung-galaxy-a51-128gb-zwart/9200000127101717/',\", \"'https://bol.com/nl/p/samsung-galaxy-a20e-32gb-zwart/9200000109073236/',\", \"'https://bol.com/nl/p/samsung-galaxy-a41-64gb-zwart/9300000000132992/',\", \"'https://bol.com/nl/p/samsung-galaxy-a71-128gb-zwart/9200000127101810/',\", \"'https://bol.com/nl/p/apple-iphone-se-64gb-zwart/9300000000886605/',\", \"'https://bol.com/nl/p/samsung-galaxy-a21s-64gb-zwart/9300000000132986/',\", \"'https://bol.com/nl/p/apple-iphone-12-64gb-zwart/9300000013742278/',\", \"'https://bol.com/nl/p/alcatel-1c-3g-8gb-zwart/9200000112629003/',\", \"'https://bol.com/nl/p/motorola-moto-e6-play-32gb-steel-black/9200000122803221/',\", \"'https://bol.com/nl/p/samsung-galaxy-a51-128gb-blauw/9200000127101588/',\", \"'https://bol.com/nl/p/samsung-galaxy-s20-fe-4g-128gb-cloud-navy/9300000008841647/',\", \"'https://bol.com/nl/p/apple-iphone-11-64gb-zwart/9200000119815601/',\", \"'https://bol.com/nl/p/samsung-galaxy-a12-128gb-zwart/9300000019419396/',\", \"'https://bol.com/nl/p/samsung-galaxy-a21s-32gb-blauw/9300000000132994/',\", \"'https://bol.com/nl/p/samsung-galaxy-a42-5g-128gb-prism-dot-black/9300000010098436/',\", \"'https://bol.com/nl/p/apple-iphone-12-pro-128gb-oceaan-blauw/9300000013742251/',\", \"'https://bol.com/nl/p/samsung-galaxy-a01-core-16gb-zwart/9300000007420502/',\", \"'https://bol.com/nl/p/samsung-galaxy-a10-32gb-zwart/9200000111950985/',\", \"'https://bol.com/nl/p/samsung-galaxy-a21s-128gb-zwart/9300000015820720/',\", \"'https://bol.com/nl/p/apple-iphone-xr-64gb-zwart/9200000098453451/',\", \"'https://bol.com/nl/p/samsung-galaxy-a40-64gb-zwart/9200000107463262/',\", \"'https://bol.com/nl/p/samsung-galaxy-a12-64gb-zwart/9300000020208465/',\", \"'https://bol.com/nl/p/samsung-galaxy-a51-128gb-wit/9200000127101721/''https://bol.com/nl/p/samsung-galaxy-a20e-dual-sim-32gb-blauw/9300000002133409/',\", \"'https://bol.com/nl/p/samsung-galaxy-s10e-128gb-prism-zwart/9200000106450648/',\", \"'https://bol.com/nl/p/apple-iphone-11-128gb-zwart/9200000119816199/',\", \"'https://bol.com/nl/p/samsung-galaxy-s21-5g-128gb-phantom-gray/9300000020732481/',\", \"'https://bol.com/nl/p/apple-iphone-12-mini-64gb-zwart/9300000013742257/',\", \"'https://bol.com/nl/p/samsung-galaxy-a50-128gb-zwart/9200000106883561/',\", \"'https://bol.com/nl/p/motorola-moto-g8-power-lite-blauw/9200000127141343/',\", \"'https://bol.com/nl/p/huawei-p30-lite-128gb-midnight-zwart/9200000107750278/',\", \"'https://bol.com/nl/p/samsung-galaxy-a10-32gb-blauw/9200000111950979/',\", \"'https://bol.com/nl/p/samsung-galaxy-xcover-4s-32gb-zwart/9200000111950981/',\", \"'https://bol.com/nl/p/apple-iphone-se-128gb-zwart/9300000000886601/',\", \"'https://bol.com/nl/p/oneplus-nord-n100-64gb-grijs/9300000017872622/',\", \"'https://bol.com/nl/p/motorola-moto-g9-power-128gb-groen/9300000012375717/',\", \"'https://bol.com/nl/p/samsung-galaxy-a32-5g-128gb-awesome-black/9300000022106004/',\", \"'https://bol.com/nl/p/huawei-p30-lite-new-edition-256gb-midnight-black/9200000126132549/',\", \"'https://bol.com/nl/p/oppo-a72-128gb-zwart/9300000002779754/',\", \"'https://bol.com/nl/p/samsung-galaxy-a10s-32gb-zwart/9200000121265417/',\", \"'https://bol.com/nl/p/samsung-galaxy-s20-5g-128gb-cosmic-grey/9200000128429194/',\", \"'https://bol.com/nl/p/apple-iphone-x-refurbished-door-forza-c-grade-64gb-spacegrijs/9200000101335076/',\", \"'https://bol.com/nl/p/apple-iphone-12-pro-max-256gb-grafiet/9300000013742208/',\", \"'https://bol.com/nl/p/alcatel-1se-32gb-grijs/9300000001580712/',\", \"'https://bol.com/nl/p/nokia-5-4-64gb-blauw/9300000021882472/',\", \"'https://bol.com/nl/p/samsung-galaxy-a02s-32gb-zwart/9300000020547718/''https://bol.com/nl/p/samsung-galaxy-a51-128gb-zwart/9200000127101717/',\", \"'https://bol.com/nl/p/samsung-galaxy-a20e-32gb-zwart/9200000109073236/',\", \"'https://bol.com/nl/p/samsung-galaxy-a41-64gb-zwart/9300000000132992/',\", \"'https://bol.com/nl/p/apple-iphone-se-64gb-zwart/9300000000886605/',\", \"'https://bol.com/nl/p/samsung-galaxy-a21s-64gb-zwart/9300000000132986/',\", \"'https://bol.com/nl/p/apple-iphone-12-64gb-zwart/9300000013742278/',\", \"'https://bol.com/nl/p/alcatel-1c-3g-8gb-zwart/9200000112629003/',\", \"'https://bol.com/nl/p/motorola-moto-e6-play-32gb-steel-black/9200000122803221/',\", \"'https://bol.com/nl/p/samsung-galaxy-a51-128gb-blauw/9200000127101588/',\", \"'https://bol.com/nl/p/samsung-galaxy-a12-128gb-zwart/9300000019419396/',\", \"'https://bol.com/nl/p/samsung-galaxy-s20-fe-4g-128gb-cloud-navy/9300000008841647/',\", \"'https://bol.com/nl/p/apple-iphone-11-64gb-zwart/9200000119815601/',\", \"'https://bol.com/nl/p/samsung-galaxy-a21s-32gb-blauw/9300000000132994/',\", \"'https://bol.com/nl/p/samsung-galaxy-a42-5g-128gb-prism-dot-black/9300000010098436/',\", \"'https://bol.com/nl/p/apple-iphone-12-pro-128gb-oceaan-blauw/9300000013742251/',\", \"'https://bol.com/nl/p/samsung-galaxy-a01-core-16gb-zwart/9300000007420502/',\", \"'https://bol.com/nl/p/samsung-galaxy-a10-32gb-zwart/9200000111950985/',\", \"'https://bol.com/nl/p/samsung-galaxy-a21s-128gb-zwart/9300000015820720/',\", \"'https://bol.com/nl/p/apple-iphone-xr-64gb-zwart/9200000098453451/',\", \"'https://bol.com/nl/p/samsung-galaxy-a40-64gb-zwart/9200000107463262/',\", \"'https://bol.com/nl/p/samsung-galaxy-a12-64gb-zwart/9300000020208465/',\", \"'https://bol.com/nl/p/samsung-galaxy-a51-128gb-wit/9200000127101721/''https://bol.com/nl/p/samsung-galaxy-a20e-dual-sim-32gb-blauw/9300000002133409/',\", \"'https://bol.com/nl/p/samsung-galaxy-s10e-128gb-prism-zwart/9200000106450648/',\", \"'https://bol.com/nl/p/apple-iphone-11-128gb-zwart/9200000119816199/',\", \"'https://bol.com/nl/p/samsung-galaxy-s21-5g-128gb-phantom-gray/9300000020732481/',\", \"'https://bol.com/nl/p/apple-iphone-12-mini-64gb-zwart/9300000013742257/',\", \"'https://bol.com/nl/p/samsung-galaxy-a50-128gb-zwart/9200000106883561/',\", \"'https://bol.com/nl/p/motorola-moto-g8-power-lite-blauw/9200000127141343/',\", \"'https://bol.com/nl/p/huawei-p30-lite-128gb-midnight-zwart/9200000107750278/',\", \"'https://bol.com/nl/p/samsung-galaxy-a10-32gb-blauw/9200000111950979/',\", \"'https://bol.com/nl/p/samsung-galaxy-xcover-4s-32gb-zwart/9200000111950981/',\", \"'https://bol.com/nl/p/apple-iphone-se-128gb-zwart/9300000000886601/',\", \"'https://bol.com/nl/p/oneplus-nord-n100-64gb-grijs/9300000017872622/',\", \"'https://bol.com/nl/p/motorola-moto-g9-power-128gb-groen/9300000012375717/',\", \"'https://bol.com/nl/p/samsung-galaxy-a32-5g-128gb-awesome-black/9300000022106004/',\", \"'https://bol.com/nl/p/huawei-p30-lite-new-edition-256gb-midnight-black/9200000126132549/',\", \"'https://bol.com/nl/p/oppo-a72-128gb-zwart/9300000002779754/',\", \"'https://bol.com/nl/p/samsung-galaxy-a10s-32gb-zwart/9200000121265417/',\", \"'https://bol.com/nl/p/samsung-galaxy-s20-5g-128gb-cosmic-grey/9200000128429194/',\", \"'https://bol.com/nl/p/apple-iphone-x-refurbished-door-forza-c-grade-64gb-spacegrijs/9200000101335076/',\", \"'https://bol.com/nl/p/apple-iphone-12-pro-max-256gb-grafiet/9300000013742208/',\", \"'https://bol.com/nl/p/alcatel-1se-32gb-grijs/9300000001580712/',\", \"'https://bol.com/nl/p/nokia-5-4-64gb-blauw/9300000021882472/',\", \"'https://bol.com/nl/p/samsung-galaxy-a02s-32gb-zwart/9300000020547718/''https://bol.com/nl/p/samsung-galaxy-a51-128gb-zwart/9200000127101717/',\", \"'https://bol.com/nl/p/samsung-galaxy-a20e-32gb-zwart/9200000109073236/',\", \"'https://bol.com/nl/p/samsung-galaxy-a41-64gb-zwart/9300000000132992/',\", \"'https://bol.com/nl/p/apple-iphone-se-64gb-zwart/9300000000886605/',\", \"'https://bol.com/nl/p/samsung-galaxy-a21s-64gb-zwart/9300000000132986/',\", \"'https://bol.com/nl/p/apple-iphone-12-64gb-zwart/9300000013742278/',\", \"'https://bol.com/nl/p/alcatel-1c-3g-8gb-zwart/9200000112629003/',\", \"'https://bol.com/nl/p/motorola-moto-e6-play-32gb-steel-black/9200000122803221/',\", \"'https://bol.com/nl/p/samsung-galaxy-a51-128gb-blauw/9200000127101588/',\", \"'https://bol.com/nl/p/samsung-galaxy-a12-128gb-zwart/9300000019419396/',\", \"'https://bol.com/nl/p/samsung-galaxy-s20-fe-4g-128gb-cloud-navy/9300000008841647/',\", \"'https://bol.com/nl/p/apple-iphone-11-64gb-zwart/9200000119815601/',\", \"'https://bol.com/nl/p/samsung-galaxy-a21s-32gb-blauw/9300000000132994/',\", \"'https://bol.com/nl/p/samsung-galaxy-a42-5g-128gb-prism-dot-black/9300000010098436/',\", \"'https://bol.com/nl/p/apple-iphone-12-pro-128gb-oceaan-blauw/9300000013742251/',\", \"'https://bol.com/nl/p/samsung-galaxy-a01-core-16gb-zwart/9300000007420502/',\", \"'https://bol.com/nl/p/samsung-galaxy-a10-32gb-zwart/9200000111950985/',\", \"'https://bol.com/nl/p/samsung-galaxy-a21s-128gb-zwart/9300000015820720/',\", \"'https://bol.com/nl/p/apple-iphone-xr-64gb-zwart/9200000098453451/',\", \"'https://bol.com/nl/p/samsung-galaxy-a40-64gb-zwart/9200000107463262/',\", \"'https://bol.com/nl/p/samsung-galaxy-a12-64gb-zwart/9300000020208465/',\", \"'https://bol.com/nl/p/samsung-galaxy-a51-128gb-wit/9200000127101721/''https://bol.com/nl/p/samsung-galaxy-a20e-dual-sim-32gb-blauw/9300000002133409/',\", \"'https://bol.com/nl/p/samsung-galaxy-s10e-128gb-prism-zwart/9200000106450648/',\", \"'https://bol.com/nl/p/apple-iphone-11-128gb-zwart/9200000119816199/',\", \"'https://bol.com/nl/p/samsung-galaxy-s21-5g-128gb-phantom-gray/9300000020732481/',\", \"'https://bol.com/nl/p/apple-iphone-12-mini-64gb-zwart/9300000013742257/',\", \"'https://bol.com/nl/p/samsung-galaxy-a50-128gb-zwart/9200000106883561/',\", \"'https://bol.com/nl/p/motorola-moto-g8-power-lite-blauw/9200000127141343/',\", \"'https://bol.com/nl/p/huawei-p30-lite-128gb-midnight-zwart/9200000107750278/',\", \"'https://bol.com/nl/p/samsung-galaxy-a10-32gb-blauw/9200000111950979/',\", \"'https://bol.com/nl/p/samsung-galaxy-xcover-4s-32gb-zwart/9200000111950981/',\", \"'https://bol.com/nl/p/apple-iphone-se-128gb-zwart/9300000000886601/',\", \"'https://bol.com/nl/p/oneplus-nord-n100-64gb-grijs/9300000017872622/',\", \"'https://bol.com/nl/p/motorola-moto-g9-power-128gb-groen/9300000012375717/',\", \"'https://bol.com/nl/p/samsung-galaxy-a32-5g-128gb-awesome-black/9300000022106004/',\", \"'https://bol.com/nl/p/huawei-p30-lite-new-edition-256gb-midnight-black/9200000126132549/',\", \"'https://bol.com/nl/p/oppo-a72-128gb-zwart/9300000002779754/',\", \"'https://bol.com/nl/p/samsung-galaxy-a10s-32gb-zwart/9200000121265417/',\", \"'https://bol.com/nl/p/samsung-galaxy-s20-5g-128gb-cosmic-grey/9200000128429194/',\", \"'https://bol.com/nl/p/apple-iphone-x-refurbished-door-forza-c-grade-64gb-spacegrijs/9200000101335076/',\", \"'https://bol.com/nl/p/apple-iphone-12-pro-max-256gb-grafiet/9300000013742208/',\", \"'https://bol.com/nl/p/alcatel-1se-32gb-grijs/9300000001580712/',\", \"'https://bol.com/nl/p/nokia-5-4-64gb-blauw/9300000021882472/',\", \"'https://bol.com/nl/p/samsung-galaxy-a02s-32gb-zwart/9300000020547718/''https://bol.com/nl/p/samsung-galaxy-a51-128gb-zwart/9200000127101717/',\", \"'https://bol.com/nl/p/samsung-galaxy-a20e-32gb-zwart/9200000109073236/',\", \"'https://bol.com/nl/p/samsung-galaxy-a41-64gb-zwart/9300000000132992/',\", \"'https://bol.com/nl/p/samsung-galaxy-a71-128gb-zwart/9200000127101810/',\", \"'https://bol.com/nl/p/apple-iphone-se-64gb-zwart/9300000000886605/',\", \"'https://bol.com/nl/p/apple-iphone-12-64gb-zwart/9300000013742278/',\", \"'https://bol.com/nl/p/alcatel-1c-3g-8gb-zwart/9200000112629003/',\", \"'https://bol.com/nl/p/motorola-moto-e6-play-32gb-steel-black/9200000122803221/',\", \"'https://bol.com/nl/p/samsung-galaxy-a12-128gb-zwart/9300000019419396/',\", \"'https://bol.com/nl/p/samsung-galaxy-s20-fe-4g-128gb-cloud-navy/9300000008841647/',\", \"'https://bol.com/nl/p/samsung-galaxy-a21s-32gb-blauw/9300000000132994/',\", \"'https://bol.com/nl/p/apple-iphone-11-64gb-zwart/9200000119815601/',\", \"'https://bol.com/nl/p/samsung-galaxy-a42-5g-128gb-prism-dot-black/9300000010098436/',\", \"'https://bol.com/nl/p/apple-iphone-12-pro-128gb-oceaan-blauw/9300000013742251/',\", \"'https://bol.com/nl/p/samsung-galaxy-a01-core-16gb-zwart/9300000007420502/',\", \"'https://bol.com/nl/p/samsung-galaxy-a10-32gb-zwart/9200000111950985/',\", \"'https://bol.com/nl/p/samsung-galaxy-a21s-128gb-zwart/9300000015820720/',\", \"'https://bol.com/nl/p/samsung-galaxy-a12-64gb-zwart/9300000020208465/',\", \"'https://bol.com/nl/p/apple-iphone-xr-64gb-zwart/9200000098453451/',\", \"'https://bol.com/nl/p/samsung-galaxy-a40-64gb-zwart/9200000107463262/''https://bol.com/nl/p/samsung-galaxy-s10e-128gb-prism-zwart/9200000106450648/',\", \"'https://bol.com/nl/p/samsung-galaxy-s21-5g-128gb-phantom-gray/9300000020732481/',\", \"'https://bol.com/nl/p/apple-iphone-12-mini-64gb-zwart/9300000013742257/',\", \"'https://bol.com/nl/p/apple-iphone-11-128gb-zwart/9200000119816199/',\", \"'https://bol.com/nl/p/huawei-p30-lite-128gb-midnight-zwart/9200000107750278/',\", \"'https://bol.com/nl/p/samsung-galaxy-a50-128gb-zwart/9200000106883561/',\", \"'https://bol.com/nl/p/motorola-moto-g8-power-lite-blauw/9200000127141343/',\", \"'https://bol.com/nl/p/samsung-galaxy-a10-32gb-blauw/9200000111950979/',\", \"'https://bol.com/nl/p/samsung-galaxy-xcover-4s-32gb-zwart/9200000111950981/',\", \"'https://bol.com/nl/p/apple-iphone-se-128gb-zwart/9300000000886601/',\", \"'https://bol.com/nl/p/motorola-moto-g9-power-128gb-groen/9300000012375717/',\", \"'https://bol.com/nl/p/samsung-galaxy-a32-5g-128gb-awesome-black/9300000022106004/',\", \"'https://bol.com/nl/p/huawei-p30-lite-new-edition-256gb-midnight-black/9200000126132549/',\", \"'https://bol.com/nl/p/oppo-a72-128gb-zwart/9300000002779754/',\", \"'https://bol.com/nl/p/alcatel-1se-32gb-grijs/9300000001580712/',\", \"'https://bol.com/nl/p/samsung-galaxy-a10s-32gb-zwart/9200000121265417/',\", \"'https://bol.com/nl/p/apple-iphone-12-pro-max-256gb-grafiet/9300000013742208/',\", \"'https://bol.com/nl/p/apple-iphone-x-refurbished-door-forza-c-grade-64gb-spacegrijs/9200000101335076/',\", \"'https://bol.com/nl/p/oneplus-nord-n100-64gb-grijs/9300000017872622/',\", \"'https://bol.com/nl/p/samsung-galaxy-a21s-64gb-wit/9300000000132987/',\", \"'https://bol.com/nl/p/samsung-galaxy-s20-5g-128gb-cosmic-grey/9200000128429194/',\", \"'https://bol.com/nl/p/samsung-galaxy-a71-128gb-blauw/9200000127101719/',\", \"'https://bol.com/nl/p/samsung-galaxy-a02s-32gb-zwart/9300000020547718/',\", \"'https://bol.com/nl/p/nokia-5-4-64gb-blauw/9300000021882472/'\"]\n"
     ]
    },
    {
     "data": {
      "text/plain": [
       "305"
      ]
     },
     "execution_count": 35,
     "metadata": {},
     "output_type": "execute_result"
    }
   ],
   "source": [
    "new_lines = [word for line in lines for word in line.split()]\n",
    "print(new_lines)\n",
    "len(new_lines)"
   ]
  },
  {
   "cell_type": "code",
   "execution_count": 36,
   "metadata": {},
   "outputs": [
    {
     "name": "stdout",
     "output_type": "stream",
     "text": [
      "'https://bol.com/nl/p/samsung-galaxy-a51-128gb-zwart/9200000127101717/',\n",
      "'https://bol.com/nl/p/samsung-galaxy-a20e-32gb-zwart/9200000109073236/',\n",
      "'https://bol.com/nl/p/samsung-galaxy-a41-64gb-zwart/9300000000132992/',\n",
      "'https://bol.com/nl/p/samsung-galaxy-a71-128gb-zwart/9200000127101810/',\n",
      "'https://bol.com/nl/p/apple-iphone-se-64gb-zwart/9300000000886605/',\n",
      "'https://bol.com/nl/p/samsung-galaxy-a21s-64gb-zwart/9300000000132986/',\n",
      "'https://bol.com/nl/p/apple-iphone-12-64gb-zwart/9300000013742278/',\n",
      "'https://bol.com/nl/p/alcatel-1c-3g-8gb-zwart/9200000112629003/',\n",
      "'https://bol.com/nl/p/motorola-moto-e6-play-32gb-steel-black/9200000122803221/',\n",
      "'https://bol.com/nl/p/samsung-galaxy-a51-128gb-blauw/9200000127101588/',\n",
      "'https://bol.com/nl/p/samsung-galaxy-s20-fe-4g-128gb-cloud-navy/9300000008841647/',\n",
      "'https://bol.com/nl/p/apple-iphone-11-64gb-zwart/9200000119815601/',\n",
      "'https://bol.com/nl/p/samsung-galaxy-a12-128gb-zwart/9300000019419396/',\n",
      "'https://bol.com/nl/p/samsung-galaxy-a21s-32gb-blauw/9300000000132994/',\n",
      "'https://bol.com/nl/p/samsung-galaxy-a42-5g-128gb-prism-dot-black/9300000010098436/',\n",
      "'https://bol.com/nl/p/apple-iphone-12-pro-128gb-oceaan-blauw/9300000013742251/',\n",
      "'https://bol.com/nl/p/samsung-galaxy-a01-core-16gb-zwart/9300000007420502/',\n",
      "'https://bol.com/nl/p/samsung-galaxy-a10-32gb-zwart/9200000111950985/',\n",
      "'https://bol.com/nl/p/samsung-galaxy-a21s-128gb-zwart/9300000015820720/',\n",
      "'https://bol.com/nl/p/apple-iphone-xr-64gb-zwart/9200000098453451/',\n",
      "'https://bol.com/nl/p/samsung-galaxy-a40-64gb-zwart/9200000107463262/',\n",
      "'https://bol.com/nl/p/samsung-galaxy-a12-64gb-zwart/9300000020208465/',\n",
      "'https://bol.com/nl/p/samsung-galaxy-a51-128gb-wit/9200000127101721/''https://bol.com/nl/p/samsung-galaxy-a20e-dual-sim-32gb-blauw/9300000002133409/',\n",
      "'https://bol.com/nl/p/samsung-galaxy-s10e-128gb-prism-zwart/9200000106450648/',\n",
      "'https://bol.com/nl/p/apple-iphone-11-128gb-zwart/9200000119816199/',\n",
      "'https://bol.com/nl/p/samsung-galaxy-s21-5g-128gb-phantom-gray/9300000020732481/',\n",
      "'https://bol.com/nl/p/apple-iphone-12-mini-64gb-zwart/9300000013742257/',\n",
      "'https://bol.com/nl/p/samsung-galaxy-a50-128gb-zwart/9200000106883561/',\n",
      "'https://bol.com/nl/p/motorola-moto-g8-power-lite-blauw/9200000127141343/',\n",
      "'https://bol.com/nl/p/huawei-p30-lite-128gb-midnight-zwart/9200000107750278/',\n",
      "'https://bol.com/nl/p/samsung-galaxy-a10-32gb-blauw/9200000111950979/',\n",
      "'https://bol.com/nl/p/samsung-galaxy-xcover-4s-32gb-zwart/9200000111950981/',\n",
      "'https://bol.com/nl/p/apple-iphone-se-128gb-zwart/9300000000886601/',\n",
      "'https://bol.com/nl/p/oneplus-nord-n100-64gb-grijs/9300000017872622/',\n",
      "'https://bol.com/nl/p/motorola-moto-g9-power-128gb-groen/9300000012375717/',\n",
      "'https://bol.com/nl/p/samsung-galaxy-a32-5g-128gb-awesome-black/9300000022106004/',\n",
      "'https://bol.com/nl/p/huawei-p30-lite-new-edition-256gb-midnight-black/9200000126132549/',\n",
      "'https://bol.com/nl/p/oppo-a72-128gb-zwart/9300000002779754/',\n",
      "'https://bol.com/nl/p/samsung-galaxy-a10s-32gb-zwart/9200000121265417/',\n",
      "'https://bol.com/nl/p/samsung-galaxy-s20-5g-128gb-cosmic-grey/9200000128429194/',\n",
      "'https://bol.com/nl/p/apple-iphone-x-refurbished-door-forza-c-grade-64gb-spacegrijs/9200000101335076/',\n",
      "'https://bol.com/nl/p/apple-iphone-12-pro-max-256gb-grafiet/9300000013742208/',\n",
      "'https://bol.com/nl/p/alcatel-1se-32gb-grijs/9300000001580712/',\n",
      "'https://bol.com/nl/p/nokia-5-4-64gb-blauw/9300000021882472/',\n",
      "'https://bol.com/nl/p/samsung-galaxy-a02s-32gb-zwart/9300000020547718/'https://bol.com/nl/p/samsung-galaxy-a51-128gb-zwart/9200000127101717/',\n",
      "'https://bol.com/nl/p/samsung-galaxy-a20e-32gb-zwart/9200000109073236/',\n",
      "'https://bol.com/nl/p/samsung-galaxy-a41-64gb-zwart/9300000000132992/',\n",
      "'https://bol.com/nl/p/samsung-galaxy-a71-128gb-zwart/9200000127101810/',\n",
      "'https://bol.com/nl/p/apple-iphone-se-64gb-zwart/9300000000886605/',\n",
      "'https://bol.com/nl/p/samsung-galaxy-a21s-64gb-zwart/9300000000132986/',\n",
      "'https://bol.com/nl/p/apple-iphone-12-64gb-zwart/9300000013742278/',\n",
      "'https://bol.com/nl/p/alcatel-1c-3g-8gb-zwart/9200000112629003/',\n",
      "'https://bol.com/nl/p/motorola-moto-e6-play-32gb-steel-black/9200000122803221/',\n",
      "'https://bol.com/nl/p/samsung-galaxy-a51-128gb-blauw/9200000127101588/',\n",
      "'https://bol.com/nl/p/samsung-galaxy-s20-fe-4g-128gb-cloud-navy/9300000008841647/',\n",
      "'https://bol.com/nl/p/apple-iphone-11-64gb-zwart/9200000119815601/',\n",
      "'https://bol.com/nl/p/samsung-galaxy-a12-128gb-zwart/9300000019419396/',\n",
      "'https://bol.com/nl/p/samsung-galaxy-a21s-32gb-blauw/9300000000132994/',\n",
      "'https://bol.com/nl/p/samsung-galaxy-a42-5g-128gb-prism-dot-black/9300000010098436/',\n",
      "'https://bol.com/nl/p/apple-iphone-12-pro-128gb-oceaan-blauw/9300000013742251/',\n",
      "'https://bol.com/nl/p/samsung-galaxy-a01-core-16gb-zwart/9300000007420502/',\n",
      "'https://bol.com/nl/p/samsung-galaxy-a10-32gb-zwart/9200000111950985/',\n",
      "'https://bol.com/nl/p/samsung-galaxy-a21s-128gb-zwart/9300000015820720/',\n",
      "'https://bol.com/nl/p/apple-iphone-xr-64gb-zwart/9200000098453451/',\n",
      "'https://bol.com/nl/p/samsung-galaxy-a40-64gb-zwart/9200000107463262/',\n",
      "'https://bol.com/nl/p/samsung-galaxy-a12-64gb-zwart/9300000020208465/',\n",
      "'https://bol.com/nl/p/samsung-galaxy-a51-128gb-wit/9200000127101721/https://bol.com/nl/p/samsung-galaxy-a20e-dual-sim-32gb-blauw/9300000002133409/',\n",
      "'https://bol.com/nl/p/samsung-galaxy-s10e-128gb-prism-zwart/9200000106450648/',\n",
      "'https://bol.com/nl/p/apple-iphone-11-128gb-zwart/9200000119816199/',\n",
      "'https://bol.com/nl/p/samsung-galaxy-s21-5g-128gb-phantom-gray/9300000020732481/',\n",
      "'https://bol.com/nl/p/apple-iphone-12-mini-64gb-zwart/9300000013742257/',\n",
      "'https://bol.com/nl/p/samsung-galaxy-a50-128gb-zwart/9200000106883561/',\n",
      "'https://bol.com/nl/p/motorola-moto-g8-power-lite-blauw/9200000127141343/',\n",
      "'https://bol.com/nl/p/huawei-p30-lite-128gb-midnight-zwart/9200000107750278/',\n",
      "'https://bol.com/nl/p/samsung-galaxy-a10-32gb-blauw/9200000111950979/',\n",
      "'https://bol.com/nl/p/samsung-galaxy-xcover-4s-32gb-zwart/9200000111950981/',\n",
      "'https://bol.com/nl/p/apple-iphone-se-128gb-zwart/9300000000886601/',\n",
      "'https://bol.com/nl/p/oneplus-nord-n100-64gb-grijs/9300000017872622/',\n",
      "'https://bol.com/nl/p/motorola-moto-g9-power-128gb-groen/9300000012375717/',\n",
      "'https://bol.com/nl/p/samsung-galaxy-a32-5g-128gb-awesome-black/9300000022106004/',\n",
      "'https://bol.com/nl/p/huawei-p30-lite-new-edition-256gb-midnight-black/9200000126132549/',\n",
      "'https://bol.com/nl/p/oppo-a72-128gb-zwart/9300000002779754/',\n",
      "'https://bol.com/nl/p/samsung-galaxy-a10s-32gb-zwart/9200000121265417/',\n",
      "'https://bol.com/nl/p/samsung-galaxy-s20-5g-128gb-cosmic-grey/9200000128429194/',\n",
      "'https://bol.com/nl/p/apple-iphone-x-refurbished-door-forza-c-grade-64gb-spacegrijs/9200000101335076/',\n",
      "'https://bol.com/nl/p/apple-iphone-12-pro-max-256gb-grafiet/9300000013742208/',\n",
      "'https://bol.com/nl/p/alcatel-1se-32gb-grijs/9300000001580712/',\n",
      "'https://bol.com/nl/p/nokia-5-4-64gb-blauw/9300000021882472/',\n",
      "'https://bol.com/nl/p/samsung-galaxy-a02s-32gb-zwart/9300000020547718/'https://bol.com/nl/p/samsung-galaxy-a51-128gb-zwart/9200000127101717/',\n",
      "'https://bol.com/nl/p/samsung-galaxy-a20e-32gb-zwart/9200000109073236/',\n",
      "'https://bol.com/nl/p/samsung-galaxy-a41-64gb-zwart/9300000000132992/',\n",
      "'https://bol.com/nl/p/samsung-galaxy-a71-128gb-zwart/9200000127101810/',\n",
      "'https://bol.com/nl/p/apple-iphone-se-64gb-zwart/9300000000886605/',\n",
      "'https://bol.com/nl/p/samsung-galaxy-a21s-64gb-zwart/9300000000132986/',\n",
      "'https://bol.com/nl/p/apple-iphone-12-64gb-zwart/9300000013742278/',\n",
      "'https://bol.com/nl/p/alcatel-1c-3g-8gb-zwart/9200000112629003/',\n",
      "'https://bol.com/nl/p/motorola-moto-e6-play-32gb-steel-black/9200000122803221/',\n",
      "'https://bol.com/nl/p/samsung-galaxy-a51-128gb-blauw/9200000127101588/',\n",
      "'https://bol.com/nl/p/samsung-galaxy-s20-fe-4g-128gb-cloud-navy/9300000008841647/',\n",
      "'https://bol.com/nl/p/apple-iphone-11-64gb-zwart/9200000119815601/',\n",
      "'https://bol.com/nl/p/samsung-galaxy-a12-128gb-zwart/9300000019419396/',\n",
      "'https://bol.com/nl/p/samsung-galaxy-a21s-32gb-blauw/9300000000132994/',\n",
      "'https://bol.com/nl/p/samsung-galaxy-a42-5g-128gb-prism-dot-black/9300000010098436/',\n",
      "'https://bol.com/nl/p/apple-iphone-12-pro-128gb-oceaan-blauw/9300000013742251/',\n",
      "'https://bol.com/nl/p/samsung-galaxy-a01-core-16gb-zwart/9300000007420502/',\n",
      "'https://bol.com/nl/p/samsung-galaxy-a10-32gb-zwart/9200000111950985/',\n",
      "'https://bol.com/nl/p/samsung-galaxy-a21s-128gb-zwart/9300000015820720/',\n",
      "'https://bol.com/nl/p/apple-iphone-xr-64gb-zwart/9200000098453451/',\n",
      "'https://bol.com/nl/p/samsung-galaxy-a40-64gb-zwart/9200000107463262/',\n",
      "'https://bol.com/nl/p/samsung-galaxy-a12-64gb-zwart/9300000020208465/',\n",
      "'https://bol.com/nl/p/samsung-galaxy-a51-128gb-wit/9200000127101721/''https://bol.com/nl/p/samsung-galaxy-a20e-dual-sim-32gb-blauw/9300000002133409/',\n",
      "'https://bol.com/nl/p/samsung-galaxy-s10e-128gb-prism-zwart/9200000106450648/',\n",
      "'https://bol.com/nl/p/apple-iphone-11-128gb-zwart/9200000119816199/',\n",
      "'https://bol.com/nl/p/samsung-galaxy-s21-5g-128gb-phantom-gray/9300000020732481/',\n",
      "'https://bol.com/nl/p/apple-iphone-12-mini-64gb-zwart/9300000013742257/',\n",
      "'https://bol.com/nl/p/samsung-galaxy-a50-128gb-zwart/9200000106883561/',\n",
      "'https://bol.com/nl/p/motorola-moto-g8-power-lite-blauw/9200000127141343/',\n",
      "'https://bol.com/nl/p/huawei-p30-lite-128gb-midnight-zwart/9200000107750278/',\n",
      "'https://bol.com/nl/p/samsung-galaxy-a10-32gb-blauw/9200000111950979/',\n",
      "'https://bol.com/nl/p/samsung-galaxy-xcover-4s-32gb-zwart/9200000111950981/',\n",
      "'https://bol.com/nl/p/apple-iphone-se-128gb-zwart/9300000000886601/',\n",
      "'https://bol.com/nl/p/oneplus-nord-n100-64gb-grijs/9300000017872622/',\n",
      "'https://bol.com/nl/p/motorola-moto-g9-power-128gb-groen/9300000012375717/',\n",
      "'https://bol.com/nl/p/samsung-galaxy-a32-5g-128gb-awesome-black/9300000022106004/',\n",
      "'https://bol.com/nl/p/huawei-p30-lite-new-edition-256gb-midnight-black/9200000126132549/',\n",
      "'https://bol.com/nl/p/oppo-a72-128gb-zwart/9300000002779754/',\n",
      "'https://bol.com/nl/p/samsung-galaxy-a10s-32gb-zwart/9200000121265417/',\n",
      "'https://bol.com/nl/p/samsung-galaxy-s20-5g-128gb-cosmic-grey/9200000128429194/',\n",
      "'https://bol.com/nl/p/apple-iphone-x-refurbished-door-forza-c-grade-64gb-spacegrijs/9200000101335076/',\n",
      "'https://bol.com/nl/p/apple-iphone-12-pro-max-256gb-grafiet/9300000013742208/',\n",
      "'https://bol.com/nl/p/alcatel-1se-32gb-grijs/9300000001580712/',\n",
      "'https://bol.com/nl/p/nokia-5-4-64gb-blauw/9300000021882472/',\n",
      "'https://bol.com/nl/p/samsung-galaxy-a02s-32gb-zwart/9300000020547718/''https://bol.com/nl/p/samsung-galaxy-a51-128gb-zwart/9200000127101717/',\n",
      "'https://bol.com/nl/p/samsung-galaxy-a20e-32gb-zwart/9200000109073236/',\n",
      "'https://bol.com/nl/p/samsung-galaxy-a41-64gb-zwart/9300000000132992/',\n",
      "'https://bol.com/nl/p/samsung-galaxy-a71-128gb-zwart/9200000127101810/',\n",
      "'https://bol.com/nl/p/apple-iphone-se-64gb-zwart/9300000000886605/',\n",
      "'https://bol.com/nl/p/samsung-galaxy-a21s-64gb-zwart/9300000000132986/',\n",
      "'https://bol.com/nl/p/apple-iphone-12-64gb-zwart/9300000013742278/',\n",
      "'https://bol.com/nl/p/alcatel-1c-3g-8gb-zwart/9200000112629003/',\n",
      "'https://bol.com/nl/p/motorola-moto-e6-play-32gb-steel-black/9200000122803221/',\n",
      "'https://bol.com/nl/p/samsung-galaxy-a51-128gb-blauw/9200000127101588/',\n",
      "'https://bol.com/nl/p/samsung-galaxy-s20-fe-4g-128gb-cloud-navy/9300000008841647/',\n",
      "'https://bol.com/nl/p/apple-iphone-11-64gb-zwart/9200000119815601/',\n",
      "'https://bol.com/nl/p/samsung-galaxy-a12-128gb-zwart/9300000019419396/',\n",
      "'https://bol.com/nl/p/samsung-galaxy-a21s-32gb-blauw/9300000000132994/',\n",
      "'https://bol.com/nl/p/samsung-galaxy-a42-5g-128gb-prism-dot-black/9300000010098436/',\n",
      "'https://bol.com/nl/p/apple-iphone-12-pro-128gb-oceaan-blauw/9300000013742251/',\n",
      "'https://bol.com/nl/p/samsung-galaxy-a01-core-16gb-zwart/9300000007420502/',\n",
      "'https://bol.com/nl/p/samsung-galaxy-a10-32gb-zwart/9200000111950985/',\n",
      "'https://bol.com/nl/p/samsung-galaxy-a21s-128gb-zwart/9300000015820720/',\n",
      "'https://bol.com/nl/p/apple-iphone-xr-64gb-zwart/9200000098453451/',\n",
      "'https://bol.com/nl/p/samsung-galaxy-a40-64gb-zwart/9200000107463262/',\n",
      "'https://bol.com/nl/p/samsung-galaxy-a12-64gb-zwart/9300000020208465/',\n",
      "'https://bol.com/nl/p/samsung-galaxy-a51-128gb-wit/9200000127101721/''https://bol.com/nl/p/samsung-galaxy-a20e-dual-sim-32gb-blauw/9300000002133409/',\n",
      "'https://bol.com/nl/p/samsung-galaxy-s10e-128gb-prism-zwart/9200000106450648/',\n",
      "'https://bol.com/nl/p/apple-iphone-11-128gb-zwart/9200000119816199/',\n",
      "'https://bol.com/nl/p/samsung-galaxy-s21-5g-128gb-phantom-gray/9300000020732481/',\n",
      "'https://bol.com/nl/p/apple-iphone-12-mini-64gb-zwart/9300000013742257/',\n",
      "'https://bol.com/nl/p/samsung-galaxy-a50-128gb-zwart/9200000106883561/',\n",
      "'https://bol.com/nl/p/motorola-moto-g8-power-lite-blauw/9200000127141343/',\n",
      "'https://bol.com/nl/p/huawei-p30-lite-128gb-midnight-zwart/9200000107750278/',\n",
      "'https://bol.com/nl/p/samsung-galaxy-a10-32gb-blauw/9200000111950979/',\n",
      "'https://bol.com/nl/p/samsung-galaxy-xcover-4s-32gb-zwart/9200000111950981/',\n",
      "'https://bol.com/nl/p/apple-iphone-se-128gb-zwart/9300000000886601/',\n",
      "'https://bol.com/nl/p/oneplus-nord-n100-64gb-grijs/9300000017872622/',\n",
      "'https://bol.com/nl/p/motorola-moto-g9-power-128gb-groen/9300000012375717/',\n",
      "'https://bol.com/nl/p/samsung-galaxy-a32-5g-128gb-awesome-black/9300000022106004/',\n",
      "'https://bol.com/nl/p/huawei-p30-lite-new-edition-256gb-midnight-black/9200000126132549/',\n",
      "'https://bol.com/nl/p/oppo-a72-128gb-zwart/9300000002779754/',\n",
      "'https://bol.com/nl/p/samsung-galaxy-a10s-32gb-zwart/9200000121265417/',\n",
      "'https://bol.com/nl/p/samsung-galaxy-s20-5g-128gb-cosmic-grey/9200000128429194/',\n",
      "'https://bol.com/nl/p/apple-iphone-x-refurbished-door-forza-c-grade-64gb-spacegrijs/9200000101335076/',\n",
      "'https://bol.com/nl/p/apple-iphone-12-pro-max-256gb-grafiet/9300000013742208/',\n",
      "'https://bol.com/nl/p/alcatel-1se-32gb-grijs/9300000001580712/',\n",
      "'https://bol.com/nl/p/nokia-5-4-64gb-blauw/9300000021882472/',\n",
      "'https://bol.com/nl/p/samsung-galaxy-a02s-32gb-zwart/9300000020547718/''https://bol.com/nl/p/samsung-galaxy-a51-128gb-zwart/9200000127101717/',\n",
      "'https://bol.com/nl/p/samsung-galaxy-a20e-32gb-zwart/9200000109073236/',\n",
      "'https://bol.com/nl/p/samsung-galaxy-a41-64gb-zwart/9300000000132992/',\n",
      "'https://bol.com/nl/p/apple-iphone-se-64gb-zwart/9300000000886605/',\n",
      "'https://bol.com/nl/p/samsung-galaxy-a21s-64gb-zwart/9300000000132986/',\n",
      "'https://bol.com/nl/p/apple-iphone-12-64gb-zwart/9300000013742278/',\n",
      "'https://bol.com/nl/p/alcatel-1c-3g-8gb-zwart/9200000112629003/',\n",
      "'https://bol.com/nl/p/motorola-moto-e6-play-32gb-steel-black/9200000122803221/',\n",
      "'https://bol.com/nl/p/samsung-galaxy-a51-128gb-blauw/9200000127101588/',\n",
      "'https://bol.com/nl/p/samsung-galaxy-a12-128gb-zwart/9300000019419396/',\n",
      "'https://bol.com/nl/p/samsung-galaxy-s20-fe-4g-128gb-cloud-navy/9300000008841647/',\n",
      "'https://bol.com/nl/p/apple-iphone-11-64gb-zwart/9200000119815601/',\n",
      "'https://bol.com/nl/p/samsung-galaxy-a21s-32gb-blauw/9300000000132994/',\n",
      "'https://bol.com/nl/p/samsung-galaxy-a42-5g-128gb-prism-dot-black/9300000010098436/',\n",
      "'https://bol.com/nl/p/apple-iphone-12-pro-128gb-oceaan-blauw/9300000013742251/',\n",
      "'https://bol.com/nl/p/samsung-galaxy-a01-core-16gb-zwart/9300000007420502/',\n",
      "'https://bol.com/nl/p/samsung-galaxy-a10-32gb-zwart/9200000111950985/',\n",
      "'https://bol.com/nl/p/samsung-galaxy-a21s-128gb-zwart/9300000015820720/',\n",
      "'https://bol.com/nl/p/apple-iphone-xr-64gb-zwart/9200000098453451/',\n",
      "'https://bol.com/nl/p/samsung-galaxy-a40-64gb-zwart/9200000107463262/',\n",
      "'https://bol.com/nl/p/samsung-galaxy-a12-64gb-zwart/9300000020208465/',\n",
      "'https://bol.com/nl/p/samsung-galaxy-a51-128gb-wit/9200000127101721/''https://bol.com/nl/p/samsung-galaxy-a20e-dual-sim-32gb-blauw/9300000002133409/',\n",
      "'https://bol.com/nl/p/samsung-galaxy-s10e-128gb-prism-zwart/9200000106450648/',\n",
      "'https://bol.com/nl/p/apple-iphone-11-128gb-zwart/9200000119816199/',\n",
      "'https://bol.com/nl/p/samsung-galaxy-s21-5g-128gb-phantom-gray/9300000020732481/',\n",
      "'https://bol.com/nl/p/apple-iphone-12-mini-64gb-zwart/9300000013742257/',\n",
      "'https://bol.com/nl/p/samsung-galaxy-a50-128gb-zwart/9200000106883561/',\n",
      "'https://bol.com/nl/p/motorola-moto-g8-power-lite-blauw/9200000127141343/',\n",
      "'https://bol.com/nl/p/huawei-p30-lite-128gb-midnight-zwart/9200000107750278/',\n",
      "'https://bol.com/nl/p/samsung-galaxy-a10-32gb-blauw/9200000111950979/',\n",
      "'https://bol.com/nl/p/samsung-galaxy-xcover-4s-32gb-zwart/9200000111950981/',\n",
      "'https://bol.com/nl/p/apple-iphone-se-128gb-zwart/9300000000886601/',\n",
      "'https://bol.com/nl/p/oneplus-nord-n100-64gb-grijs/9300000017872622/',\n",
      "'https://bol.com/nl/p/motorola-moto-g9-power-128gb-groen/9300000012375717/',\n",
      "'https://bol.com/nl/p/samsung-galaxy-a32-5g-128gb-awesome-black/9300000022106004/',\n",
      "'https://bol.com/nl/p/huawei-p30-lite-new-edition-256gb-midnight-black/9200000126132549/',\n",
      "'https://bol.com/nl/p/oppo-a72-128gb-zwart/9300000002779754/',\n",
      "'https://bol.com/nl/p/samsung-galaxy-a10s-32gb-zwart/9200000121265417/',\n",
      "'https://bol.com/nl/p/samsung-galaxy-s20-5g-128gb-cosmic-grey/9200000128429194/',\n",
      "'https://bol.com/nl/p/apple-iphone-x-refurbished-door-forza-c-grade-64gb-spacegrijs/9200000101335076/',\n",
      "'https://bol.com/nl/p/apple-iphone-12-pro-max-256gb-grafiet/9300000013742208/',\n",
      "'https://bol.com/nl/p/alcatel-1se-32gb-grijs/9300000001580712/',\n",
      "'https://bol.com/nl/p/nokia-5-4-64gb-blauw/9300000021882472/',\n",
      "'https://bol.com/nl/p/samsung-galaxy-a02s-32gb-zwart/9300000020547718/''https://bol.com/nl/p/samsung-galaxy-a51-128gb-zwart/9200000127101717/',\n",
      "'https://bol.com/nl/p/samsung-galaxy-a20e-32gb-zwart/9200000109073236/',\n",
      "'https://bol.com/nl/p/samsung-galaxy-a41-64gb-zwart/9300000000132992/',\n",
      "'https://bol.com/nl/p/apple-iphone-se-64gb-zwart/9300000000886605/',\n",
      "'https://bol.com/nl/p/samsung-galaxy-a21s-64gb-zwart/9300000000132986/',\n",
      "'https://bol.com/nl/p/apple-iphone-12-64gb-zwart/9300000013742278/',\n",
      "'https://bol.com/nl/p/alcatel-1c-3g-8gb-zwart/9200000112629003/',\n",
      "'https://bol.com/nl/p/motorola-moto-e6-play-32gb-steel-black/9200000122803221/',\n",
      "'https://bol.com/nl/p/samsung-galaxy-a51-128gb-blauw/9200000127101588/',\n",
      "'https://bol.com/nl/p/samsung-galaxy-a12-128gb-zwart/9300000019419396/',\n",
      "'https://bol.com/nl/p/samsung-galaxy-s20-fe-4g-128gb-cloud-navy/9300000008841647/',\n",
      "'https://bol.com/nl/p/apple-iphone-11-64gb-zwart/9200000119815601/',\n",
      "'https://bol.com/nl/p/samsung-galaxy-a21s-32gb-blauw/9300000000132994/',\n",
      "'https://bol.com/nl/p/samsung-galaxy-a42-5g-128gb-prism-dot-black/9300000010098436/',\n",
      "'https://bol.com/nl/p/apple-iphone-12-pro-128gb-oceaan-blauw/9300000013742251/',\n",
      "'https://bol.com/nl/p/samsung-galaxy-a01-core-16gb-zwart/9300000007420502/',\n",
      "'https://bol.com/nl/p/samsung-galaxy-a10-32gb-zwart/9200000111950985/',\n",
      "'https://bol.com/nl/p/samsung-galaxy-a21s-128gb-zwart/9300000015820720/',\n",
      "'https://bol.com/nl/p/apple-iphone-xr-64gb-zwart/9200000098453451/',\n",
      "'https://bol.com/nl/p/samsung-galaxy-a40-64gb-zwart/9200000107463262/',\n",
      "'https://bol.com/nl/p/samsung-galaxy-a12-64gb-zwart/9300000020208465/',\n",
      "'https://bol.com/nl/p/samsung-galaxy-a51-128gb-wit/9200000127101721/''https://bol.com/nl/p/samsung-galaxy-a20e-dual-sim-32gb-blauw/9300000002133409/',\n",
      "'https://bol.com/nl/p/samsung-galaxy-s10e-128gb-prism-zwart/9200000106450648/',\n",
      "'https://bol.com/nl/p/apple-iphone-11-128gb-zwart/9200000119816199/',\n",
      "'https://bol.com/nl/p/samsung-galaxy-s21-5g-128gb-phantom-gray/9300000020732481/',\n",
      "'https://bol.com/nl/p/apple-iphone-12-mini-64gb-zwart/9300000013742257/',\n",
      "'https://bol.com/nl/p/samsung-galaxy-a50-128gb-zwart/9200000106883561/',\n",
      "'https://bol.com/nl/p/motorola-moto-g8-power-lite-blauw/9200000127141343/',\n",
      "'https://bol.com/nl/p/huawei-p30-lite-128gb-midnight-zwart/9200000107750278/',\n",
      "'https://bol.com/nl/p/samsung-galaxy-a10-32gb-blauw/9200000111950979/',\n",
      "'https://bol.com/nl/p/samsung-galaxy-xcover-4s-32gb-zwart/9200000111950981/',\n",
      "'https://bol.com/nl/p/apple-iphone-se-128gb-zwart/9300000000886601/',\n",
      "'https://bol.com/nl/p/oneplus-nord-n100-64gb-grijs/9300000017872622/',\n",
      "'https://bol.com/nl/p/motorola-moto-g9-power-128gb-groen/9300000012375717/',\n",
      "'https://bol.com/nl/p/samsung-galaxy-a32-5g-128gb-awesome-black/9300000022106004/',\n",
      "'https://bol.com/nl/p/huawei-p30-lite-new-edition-256gb-midnight-black/9200000126132549/',\n",
      "'https://bol.com/nl/p/oppo-a72-128gb-zwart/9300000002779754/',\n",
      "'https://bol.com/nl/p/samsung-galaxy-a10s-32gb-zwart/9200000121265417/',\n",
      "'https://bol.com/nl/p/samsung-galaxy-s20-5g-128gb-cosmic-grey/9200000128429194/',\n",
      "'https://bol.com/nl/p/apple-iphone-x-refurbished-door-forza-c-grade-64gb-spacegrijs/9200000101335076/',\n",
      "'https://bol.com/nl/p/apple-iphone-12-pro-max-256gb-grafiet/9300000013742208/',\n",
      "'https://bol.com/nl/p/alcatel-1se-32gb-grijs/9300000001580712/',\n",
      "'https://bol.com/nl/p/nokia-5-4-64gb-blauw/9300000021882472/',\n",
      "'https://bol.com/nl/p/samsung-galaxy-a02s-32gb-zwart/9300000020547718/''https://bol.com/nl/p/samsung-galaxy-a51-128gb-zwart/9200000127101717/',\n",
      "'https://bol.com/nl/p/samsung-galaxy-a20e-32gb-zwart/9200000109073236/',\n",
      "'https://bol.com/nl/p/samsung-galaxy-a41-64gb-zwart/9300000000132992/',\n",
      "'https://bol.com/nl/p/samsung-galaxy-a71-128gb-zwart/9200000127101810/',\n",
      "'https://bol.com/nl/p/apple-iphone-se-64gb-zwart/9300000000886605/',\n",
      "'https://bol.com/nl/p/apple-iphone-12-64gb-zwart/9300000013742278/',\n",
      "'https://bol.com/nl/p/alcatel-1c-3g-8gb-zwart/9200000112629003/',\n",
      "'https://bol.com/nl/p/motorola-moto-e6-play-32gb-steel-black/9200000122803221/',\n",
      "'https://bol.com/nl/p/samsung-galaxy-a12-128gb-zwart/9300000019419396/',\n",
      "'https://bol.com/nl/p/samsung-galaxy-s20-fe-4g-128gb-cloud-navy/9300000008841647/',\n",
      "'https://bol.com/nl/p/samsung-galaxy-a21s-32gb-blauw/9300000000132994/',\n",
      "'https://bol.com/nl/p/apple-iphone-11-64gb-zwart/9200000119815601/',\n",
      "'https://bol.com/nl/p/samsung-galaxy-a42-5g-128gb-prism-dot-black/9300000010098436/',\n",
      "'https://bol.com/nl/p/apple-iphone-12-pro-128gb-oceaan-blauw/9300000013742251/',\n",
      "'https://bol.com/nl/p/samsung-galaxy-a01-core-16gb-zwart/9300000007420502/',\n",
      "'https://bol.com/nl/p/samsung-galaxy-a10-32gb-zwart/9200000111950985/',\n",
      "'https://bol.com/nl/p/samsung-galaxy-a21s-128gb-zwart/9300000015820720/',\n",
      "'https://bol.com/nl/p/samsung-galaxy-a12-64gb-zwart/9300000020208465/',\n",
      "'https://bol.com/nl/p/apple-iphone-xr-64gb-zwart/9200000098453451/',\n",
      "'https://bol.com/nl/p/samsung-galaxy-a40-64gb-zwart/9200000107463262/''https://bol.com/nl/p/samsung-galaxy-s10e-128gb-prism-zwart/9200000106450648/',\n",
      "'https://bol.com/nl/p/samsung-galaxy-s21-5g-128gb-phantom-gray/9300000020732481/',\n",
      "'https://bol.com/nl/p/apple-iphone-12-mini-64gb-zwart/9300000013742257/',\n",
      "'https://bol.com/nl/p/apple-iphone-11-128gb-zwart/9200000119816199/',\n",
      "'https://bol.com/nl/p/huawei-p30-lite-128gb-midnight-zwart/9200000107750278/',\n",
      "'https://bol.com/nl/p/samsung-galaxy-a50-128gb-zwart/9200000106883561/',\n",
      "'https://bol.com/nl/p/motorola-moto-g8-power-lite-blauw/9200000127141343/',\n",
      "'https://bol.com/nl/p/samsung-galaxy-a10-32gb-blauw/9200000111950979/',\n",
      "'https://bol.com/nl/p/samsung-galaxy-xcover-4s-32gb-zwart/9200000111950981/',\n",
      "'https://bol.com/nl/p/apple-iphone-se-128gb-zwart/9300000000886601/',\n",
      "'https://bol.com/nl/p/motorola-moto-g9-power-128gb-groen/9300000012375717/',\n",
      "'https://bol.com/nl/p/samsung-galaxy-a32-5g-128gb-awesome-black/9300000022106004/',\n",
      "'https://bol.com/nl/p/huawei-p30-lite-new-edition-256gb-midnight-black/9200000126132549/',\n",
      "'https://bol.com/nl/p/oppo-a72-128gb-zwart/9300000002779754/',\n",
      "'https://bol.com/nl/p/alcatel-1se-32gb-grijs/9300000001580712/',\n",
      "'https://bol.com/nl/p/samsung-galaxy-a10s-32gb-zwart/9200000121265417/',\n",
      "'https://bol.com/nl/p/apple-iphone-12-pro-max-256gb-grafiet/9300000013742208/',\n",
      "'https://bol.com/nl/p/apple-iphone-x-refurbished-door-forza-c-grade-64gb-spacegrijs/9200000101335076/',\n",
      "'https://bol.com/nl/p/oneplus-nord-n100-64gb-grijs/9300000017872622/',\n",
      "'https://bol.com/nl/p/samsung-galaxy-a21s-64gb-wit/9300000000132987/',\n",
      "'https://bol.com/nl/p/samsung-galaxy-s20-5g-128gb-cosmic-grey/9200000128429194/',\n",
      "'https://bol.com/nl/p/samsung-galaxy-a71-128gb-blauw/9200000127101719/',\n",
      "'https://bol.com/nl/p/samsung-galaxy-a02s-32gb-zwart/9300000020547718/',\n",
      "'https://bol.com/nl/p/nokia-5-4-64gb-blauw/9300000021882472/'\n"
     ]
    }
   ],
   "source": [
    "for url in new_lines:\n",
    "    print(url)"
   ]
  },
  {
   "cell_type": "code",
   "execution_count": 83,
   "metadata": {},
   "outputs": [
    {
     "name": "stdout",
     "output_type": "stream",
     "text": [
      "['https://bol.com/nl/p/samsung-galaxy-a51-128gb-zwart/9200000127101717/,', 'https://bol.com/nl/p/samsung-galaxy-a20e-32gb-zwart/9200000109073236/,', 'https://bol.com/nl/p/samsung-galaxy-a41-64gb-zwart/9300000000132992/,', 'https://bol.com/nl/p/samsung-galaxy-a71-128gb-zwart/9200000127101810/,', 'https://bol.com/nl/p/apple-iphone-se-64gb-zwart/9300000000886605/,', 'https://bol.com/nl/p/samsung-galaxy-a21s-64gb-zwart/9300000000132986/,', 'https://bol.com/nl/p/apple-iphone-12-64gb-zwart/9300000013742278/,', 'https://bol.com/nl/p/alcatel-1c-3g-8gb-zwart/9200000112629003/,', 'https://bol.com/nl/p/motorola-moto-e6-play-32gb-steel-black/9200000122803221/,', 'https://bol.com/nl/p/samsung-galaxy-a51-128gb-blauw/9200000127101588/,', 'https://bol.com/nl/p/samsung-galaxy-s20-fe-4g-128gb-cloud-navy/9300000008841647/,', 'https://bol.com/nl/p/apple-iphone-11-64gb-zwart/9200000119815601/,', 'https://bol.com/nl/p/samsung-galaxy-a12-128gb-zwart/9300000019419396/,', 'https://bol.com/nl/p/samsung-galaxy-a21s-32gb-blauw/9300000000132994/,', 'https://bol.com/nl/p/samsung-galaxy-a42-5g-128gb-prism-dot-black/9300000010098436/,', 'https://bol.com/nl/p/apple-iphone-12-pro-128gb-oceaan-blauw/9300000013742251/,', 'https://bol.com/nl/p/samsung-galaxy-a01-core-16gb-zwart/9300000007420502/,', 'https://bol.com/nl/p/samsung-galaxy-a10-32gb-zwart/9200000111950985/,', 'https://bol.com/nl/p/samsung-galaxy-a21s-128gb-zwart/9300000015820720/,', 'https://bol.com/nl/p/apple-iphone-xr-64gb-zwart/9200000098453451/,', 'https://bol.com/nl/p/samsung-galaxy-a40-64gb-zwart/9200000107463262/,', 'https://bol.com/nl/p/samsung-galaxy-a12-64gb-zwart/9300000020208465/,', 'https://bol.com/nl/p/samsung-galaxy-a51-128gb-wit/9200000127101721/https://bol.com/nl/p/samsung-galaxy-a20e-dual-sim-32gb-blauw/9300000002133409/,', 'https://bol.com/nl/p/samsung-galaxy-s10e-128gb-prism-zwart/9200000106450648/,', 'https://bol.com/nl/p/apple-iphone-11-128gb-zwart/9200000119816199/,', 'https://bol.com/nl/p/samsung-galaxy-s21-5g-128gb-phantom-gray/9300000020732481/,', 'https://bol.com/nl/p/apple-iphone-12-mini-64gb-zwart/9300000013742257/,', 'https://bol.com/nl/p/samsung-galaxy-a50-128gb-zwart/9200000106883561/,', 'https://bol.com/nl/p/motorola-moto-g8-power-lite-blauw/9200000127141343/,', 'https://bol.com/nl/p/huawei-p30-lite-128gb-midnight-zwart/9200000107750278/,', 'https://bol.com/nl/p/samsung-galaxy-a10-32gb-blauw/9200000111950979/,', 'https://bol.com/nl/p/samsung-galaxy-xcover-4s-32gb-zwart/9200000111950981/,', 'https://bol.com/nl/p/apple-iphone-se-128gb-zwart/9300000000886601/,', 'https://bol.com/nl/p/oneplus-nord-n100-64gb-grijs/9300000017872622/,', 'https://bol.com/nl/p/motorola-moto-g9-power-128gb-groen/9300000012375717/,', 'https://bol.com/nl/p/samsung-galaxy-a32-5g-128gb-awesome-black/9300000022106004/,', 'https://bol.com/nl/p/huawei-p30-lite-new-edition-256gb-midnight-black/9200000126132549/,', 'https://bol.com/nl/p/oppo-a72-128gb-zwart/9300000002779754/,', 'https://bol.com/nl/p/samsung-galaxy-a10s-32gb-zwart/9200000121265417/,', 'https://bol.com/nl/p/samsung-galaxy-s20-5g-128gb-cosmic-grey/9200000128429194/,', 'https://bol.com/nl/p/apple-iphone-x-refurbished-door-forza-c-grade-64gb-spacegrijs/9200000101335076/,', 'https://bol.com/nl/p/apple-iphone-12-pro-max-256gb-grafiet/9300000013742208/,', 'https://bol.com/nl/p/alcatel-1se-32gb-grijs/9300000001580712/,', 'https://bol.com/nl/p/nokia-5-4-64gb-blauw/9300000021882472/,', 'https://bol.com/nl/p/samsung-galaxy-a02s-32gb-zwart/9300000020547718/https://bol.com/nl/p/samsung-galaxy-a51-128gb-zwart/9200000127101717/,', 'https://bol.com/nl/p/samsung-galaxy-a20e-32gb-zwart/9200000109073236/,', 'https://bol.com/nl/p/samsung-galaxy-a41-64gb-zwart/9300000000132992/,', 'https://bol.com/nl/p/samsung-galaxy-a71-128gb-zwart/9200000127101810/,', 'https://bol.com/nl/p/apple-iphone-se-64gb-zwart/9300000000886605/,', 'https://bol.com/nl/p/samsung-galaxy-a21s-64gb-zwart/9300000000132986/,', 'https://bol.com/nl/p/apple-iphone-12-64gb-zwart/9300000013742278/,', 'https://bol.com/nl/p/alcatel-1c-3g-8gb-zwart/9200000112629003/,', 'https://bol.com/nl/p/motorola-moto-e6-play-32gb-steel-black/9200000122803221/,', 'https://bol.com/nl/p/samsung-galaxy-a51-128gb-blauw/9200000127101588/,', 'https://bol.com/nl/p/samsung-galaxy-s20-fe-4g-128gb-cloud-navy/9300000008841647/,', 'https://bol.com/nl/p/apple-iphone-11-64gb-zwart/9200000119815601/,', 'https://bol.com/nl/p/samsung-galaxy-a12-128gb-zwart/9300000019419396/,', 'https://bol.com/nl/p/samsung-galaxy-a21s-32gb-blauw/9300000000132994/,', 'https://bol.com/nl/p/samsung-galaxy-a42-5g-128gb-prism-dot-black/9300000010098436/,', 'https://bol.com/nl/p/apple-iphone-12-pro-128gb-oceaan-blauw/9300000013742251/,', 'https://bol.com/nl/p/samsung-galaxy-a01-core-16gb-zwart/9300000007420502/,', 'https://bol.com/nl/p/samsung-galaxy-a10-32gb-zwart/9200000111950985/,', 'https://bol.com/nl/p/samsung-galaxy-a21s-128gb-zwart/9300000015820720/,', 'https://bol.com/nl/p/apple-iphone-xr-64gb-zwart/9200000098453451/,', 'https://bol.com/nl/p/samsung-galaxy-a40-64gb-zwart/9200000107463262/,', 'https://bol.com/nl/p/samsung-galaxy-a12-64gb-zwart/9300000020208465/,', 'https://bol.com/nl/p/samsung-galaxy-a51-128gb-wit/9200000127101721/https://bol.com/nl/p/samsung-galaxy-a20e-dual-sim-32gb-blauw/9300000002133409/,', 'https://bol.com/nl/p/samsung-galaxy-s10e-128gb-prism-zwart/9200000106450648/,', 'https://bol.com/nl/p/apple-iphone-11-128gb-zwart/9200000119816199/,', 'https://bol.com/nl/p/samsung-galaxy-s21-5g-128gb-phantom-gray/9300000020732481/,', 'https://bol.com/nl/p/apple-iphone-12-mini-64gb-zwart/9300000013742257/,', 'https://bol.com/nl/p/samsung-galaxy-a50-128gb-zwart/9200000106883561/,', 'https://bol.com/nl/p/motorola-moto-g8-power-lite-blauw/9200000127141343/,', 'https://bol.com/nl/p/huawei-p30-lite-128gb-midnight-zwart/9200000107750278/,', 'https://bol.com/nl/p/samsung-galaxy-a10-32gb-blauw/9200000111950979/,', 'https://bol.com/nl/p/samsung-galaxy-xcover-4s-32gb-zwart/9200000111950981/,', 'https://bol.com/nl/p/apple-iphone-se-128gb-zwart/9300000000886601/,', 'https://bol.com/nl/p/oneplus-nord-n100-64gb-grijs/9300000017872622/,', 'https://bol.com/nl/p/motorola-moto-g9-power-128gb-groen/9300000012375717/,', 'https://bol.com/nl/p/samsung-galaxy-a32-5g-128gb-awesome-black/9300000022106004/,', 'https://bol.com/nl/p/huawei-p30-lite-new-edition-256gb-midnight-black/9200000126132549/,', 'https://bol.com/nl/p/oppo-a72-128gb-zwart/9300000002779754/,', 'https://bol.com/nl/p/samsung-galaxy-a10s-32gb-zwart/9200000121265417/,', 'https://bol.com/nl/p/samsung-galaxy-s20-5g-128gb-cosmic-grey/9200000128429194/,', 'https://bol.com/nl/p/apple-iphone-x-refurbished-door-forza-c-grade-64gb-spacegrijs/9200000101335076/,', 'https://bol.com/nl/p/apple-iphone-12-pro-max-256gb-grafiet/9300000013742208/,', 'https://bol.com/nl/p/alcatel-1se-32gb-grijs/9300000001580712/,', 'https://bol.com/nl/p/nokia-5-4-64gb-blauw/9300000021882472/,', 'https://bol.com/nl/p/samsung-galaxy-a02s-32gb-zwart/9300000020547718/https://bol.com/nl/p/samsung-galaxy-a51-128gb-zwart/9200000127101717/,', 'https://bol.com/nl/p/samsung-galaxy-a20e-32gb-zwart/9200000109073236/,', 'https://bol.com/nl/p/samsung-galaxy-a41-64gb-zwart/9300000000132992/,', 'https://bol.com/nl/p/samsung-galaxy-a71-128gb-zwart/9200000127101810/,', 'https://bol.com/nl/p/apple-iphone-se-64gb-zwart/9300000000886605/,', 'https://bol.com/nl/p/samsung-galaxy-a21s-64gb-zwart/9300000000132986/,', 'https://bol.com/nl/p/apple-iphone-12-64gb-zwart/9300000013742278/,', 'https://bol.com/nl/p/alcatel-1c-3g-8gb-zwart/9200000112629003/,', 'https://bol.com/nl/p/motorola-moto-e6-play-32gb-steel-black/9200000122803221/,', 'https://bol.com/nl/p/samsung-galaxy-a51-128gb-blauw/9200000127101588/,', 'https://bol.com/nl/p/samsung-galaxy-s20-fe-4g-128gb-cloud-navy/9300000008841647/,', 'https://bol.com/nl/p/apple-iphone-11-64gb-zwart/9200000119815601/,', 'https://bol.com/nl/p/samsung-galaxy-a12-128gb-zwart/9300000019419396/,', 'https://bol.com/nl/p/samsung-galaxy-a21s-32gb-blauw/9300000000132994/,', 'https://bol.com/nl/p/samsung-galaxy-a42-5g-128gb-prism-dot-black/9300000010098436/,', 'https://bol.com/nl/p/apple-iphone-12-pro-128gb-oceaan-blauw/9300000013742251/,', 'https://bol.com/nl/p/samsung-galaxy-a01-core-16gb-zwart/9300000007420502/,', 'https://bol.com/nl/p/samsung-galaxy-a10-32gb-zwart/9200000111950985/,', 'https://bol.com/nl/p/samsung-galaxy-a21s-128gb-zwart/9300000015820720/,', 'https://bol.com/nl/p/apple-iphone-xr-64gb-zwart/9200000098453451/,', 'https://bol.com/nl/p/samsung-galaxy-a40-64gb-zwart/9200000107463262/,', 'https://bol.com/nl/p/samsung-galaxy-a12-64gb-zwart/9300000020208465/,', 'https://bol.com/nl/p/samsung-galaxy-a51-128gb-wit/9200000127101721/https://bol.com/nl/p/samsung-galaxy-a20e-dual-sim-32gb-blauw/9300000002133409/,', 'https://bol.com/nl/p/samsung-galaxy-s10e-128gb-prism-zwart/9200000106450648/,', 'https://bol.com/nl/p/apple-iphone-11-128gb-zwart/9200000119816199/,', 'https://bol.com/nl/p/samsung-galaxy-s21-5g-128gb-phantom-gray/9300000020732481/,', 'https://bol.com/nl/p/apple-iphone-12-mini-64gb-zwart/9300000013742257/,', 'https://bol.com/nl/p/samsung-galaxy-a50-128gb-zwart/9200000106883561/,', 'https://bol.com/nl/p/motorola-moto-g8-power-lite-blauw/9200000127141343/,', 'https://bol.com/nl/p/huawei-p30-lite-128gb-midnight-zwart/9200000107750278/,', 'https://bol.com/nl/p/samsung-galaxy-a10-32gb-blauw/9200000111950979/,', 'https://bol.com/nl/p/samsung-galaxy-xcover-4s-32gb-zwart/9200000111950981/,', 'https://bol.com/nl/p/apple-iphone-se-128gb-zwart/9300000000886601/,', 'https://bol.com/nl/p/oneplus-nord-n100-64gb-grijs/9300000017872622/,', 'https://bol.com/nl/p/motorola-moto-g9-power-128gb-groen/9300000012375717/,', 'https://bol.com/nl/p/samsung-galaxy-a32-5g-128gb-awesome-black/9300000022106004/,', 'https://bol.com/nl/p/huawei-p30-lite-new-edition-256gb-midnight-black/9200000126132549/,', 'https://bol.com/nl/p/oppo-a72-128gb-zwart/9300000002779754/,', 'https://bol.com/nl/p/samsung-galaxy-a10s-32gb-zwart/9200000121265417/,', 'https://bol.com/nl/p/samsung-galaxy-s20-5g-128gb-cosmic-grey/9200000128429194/,', 'https://bol.com/nl/p/apple-iphone-x-refurbished-door-forza-c-grade-64gb-spacegrijs/9200000101335076/,', 'https://bol.com/nl/p/apple-iphone-12-pro-max-256gb-grafiet/9300000013742208/,', 'https://bol.com/nl/p/alcatel-1se-32gb-grijs/9300000001580712/,', 'https://bol.com/nl/p/nokia-5-4-64gb-blauw/9300000021882472/,', 'https://bol.com/nl/p/samsung-galaxy-a02s-32gb-zwart/9300000020547718/https://bol.com/nl/p/samsung-galaxy-a51-128gb-zwart/9200000127101717/,', 'https://bol.com/nl/p/samsung-galaxy-a20e-32gb-zwart/9200000109073236/,', 'https://bol.com/nl/p/samsung-galaxy-a41-64gb-zwart/9300000000132992/,', 'https://bol.com/nl/p/samsung-galaxy-a71-128gb-zwart/9200000127101810/,', 'https://bol.com/nl/p/apple-iphone-se-64gb-zwart/9300000000886605/,', 'https://bol.com/nl/p/samsung-galaxy-a21s-64gb-zwart/9300000000132986/,', 'https://bol.com/nl/p/apple-iphone-12-64gb-zwart/9300000013742278/,', 'https://bol.com/nl/p/alcatel-1c-3g-8gb-zwart/9200000112629003/,', 'https://bol.com/nl/p/motorola-moto-e6-play-32gb-steel-black/9200000122803221/,', 'https://bol.com/nl/p/samsung-galaxy-a51-128gb-blauw/9200000127101588/,', 'https://bol.com/nl/p/samsung-galaxy-s20-fe-4g-128gb-cloud-navy/9300000008841647/,', 'https://bol.com/nl/p/apple-iphone-11-64gb-zwart/9200000119815601/,', 'https://bol.com/nl/p/samsung-galaxy-a12-128gb-zwart/9300000019419396/,', 'https://bol.com/nl/p/samsung-galaxy-a21s-32gb-blauw/9300000000132994/,', 'https://bol.com/nl/p/samsung-galaxy-a42-5g-128gb-prism-dot-black/9300000010098436/,', 'https://bol.com/nl/p/apple-iphone-12-pro-128gb-oceaan-blauw/9300000013742251/,', 'https://bol.com/nl/p/samsung-galaxy-a01-core-16gb-zwart/9300000007420502/,', 'https://bol.com/nl/p/samsung-galaxy-a10-32gb-zwart/9200000111950985/,', 'https://bol.com/nl/p/samsung-galaxy-a21s-128gb-zwart/9300000015820720/,', 'https://bol.com/nl/p/apple-iphone-xr-64gb-zwart/9200000098453451/,', 'https://bol.com/nl/p/samsung-galaxy-a40-64gb-zwart/9200000107463262/,', 'https://bol.com/nl/p/samsung-galaxy-a12-64gb-zwart/9300000020208465/,', 'https://bol.com/nl/p/samsung-galaxy-a51-128gb-wit/9200000127101721/https://bol.com/nl/p/samsung-galaxy-a20e-dual-sim-32gb-blauw/9300000002133409/,', 'https://bol.com/nl/p/samsung-galaxy-s10e-128gb-prism-zwart/9200000106450648/,', 'https://bol.com/nl/p/apple-iphone-11-128gb-zwart/9200000119816199/,', 'https://bol.com/nl/p/samsung-galaxy-s21-5g-128gb-phantom-gray/9300000020732481/,', 'https://bol.com/nl/p/apple-iphone-12-mini-64gb-zwart/9300000013742257/,', 'https://bol.com/nl/p/samsung-galaxy-a50-128gb-zwart/9200000106883561/,', 'https://bol.com/nl/p/motorola-moto-g8-power-lite-blauw/9200000127141343/,', 'https://bol.com/nl/p/huawei-p30-lite-128gb-midnight-zwart/9200000107750278/,', 'https://bol.com/nl/p/samsung-galaxy-a10-32gb-blauw/9200000111950979/,', 'https://bol.com/nl/p/samsung-galaxy-xcover-4s-32gb-zwart/9200000111950981/,', 'https://bol.com/nl/p/apple-iphone-se-128gb-zwart/9300000000886601/,', 'https://bol.com/nl/p/oneplus-nord-n100-64gb-grijs/9300000017872622/,', 'https://bol.com/nl/p/motorola-moto-g9-power-128gb-groen/9300000012375717/,', 'https://bol.com/nl/p/samsung-galaxy-a32-5g-128gb-awesome-black/9300000022106004/,', 'https://bol.com/nl/p/huawei-p30-lite-new-edition-256gb-midnight-black/9200000126132549/,', 'https://bol.com/nl/p/oppo-a72-128gb-zwart/9300000002779754/,', 'https://bol.com/nl/p/samsung-galaxy-a10s-32gb-zwart/9200000121265417/,', 'https://bol.com/nl/p/samsung-galaxy-s20-5g-128gb-cosmic-grey/9200000128429194/,', 'https://bol.com/nl/p/apple-iphone-x-refurbished-door-forza-c-grade-64gb-spacegrijs/9200000101335076/,', 'https://bol.com/nl/p/apple-iphone-12-pro-max-256gb-grafiet/9300000013742208/,', 'https://bol.com/nl/p/alcatel-1se-32gb-grijs/9300000001580712/,', 'https://bol.com/nl/p/nokia-5-4-64gb-blauw/9300000021882472/,', 'https://bol.com/nl/p/samsung-galaxy-a02s-32gb-zwart/9300000020547718/https://bol.com/nl/p/samsung-galaxy-a51-128gb-zwart/9200000127101717/,', 'https://bol.com/nl/p/samsung-galaxy-a20e-32gb-zwart/9200000109073236/,', 'https://bol.com/nl/p/samsung-galaxy-a41-64gb-zwart/9300000000132992/,', 'https://bol.com/nl/p/apple-iphone-se-64gb-zwart/9300000000886605/,', 'https://bol.com/nl/p/samsung-galaxy-a21s-64gb-zwart/9300000000132986/,', 'https://bol.com/nl/p/apple-iphone-12-64gb-zwart/9300000013742278/,', 'https://bol.com/nl/p/alcatel-1c-3g-8gb-zwart/9200000112629003/,', 'https://bol.com/nl/p/motorola-moto-e6-play-32gb-steel-black/9200000122803221/,', 'https://bol.com/nl/p/samsung-galaxy-a51-128gb-blauw/9200000127101588/,', 'https://bol.com/nl/p/samsung-galaxy-a12-128gb-zwart/9300000019419396/,', 'https://bol.com/nl/p/samsung-galaxy-s20-fe-4g-128gb-cloud-navy/9300000008841647/,', 'https://bol.com/nl/p/apple-iphone-11-64gb-zwart/9200000119815601/,', 'https://bol.com/nl/p/samsung-galaxy-a21s-32gb-blauw/9300000000132994/,', 'https://bol.com/nl/p/samsung-galaxy-a42-5g-128gb-prism-dot-black/9300000010098436/,', 'https://bol.com/nl/p/apple-iphone-12-pro-128gb-oceaan-blauw/9300000013742251/,', 'https://bol.com/nl/p/samsung-galaxy-a01-core-16gb-zwart/9300000007420502/,', 'https://bol.com/nl/p/samsung-galaxy-a10-32gb-zwart/9200000111950985/,', 'https://bol.com/nl/p/samsung-galaxy-a21s-128gb-zwart/9300000015820720/,', 'https://bol.com/nl/p/apple-iphone-xr-64gb-zwart/9200000098453451/,', 'https://bol.com/nl/p/samsung-galaxy-a40-64gb-zwart/9200000107463262/,', 'https://bol.com/nl/p/samsung-galaxy-a12-64gb-zwart/9300000020208465/,', 'https://bol.com/nl/p/samsung-galaxy-a51-128gb-wit/9200000127101721/https://bol.com/nl/p/samsung-galaxy-a20e-dual-sim-32gb-blauw/9300000002133409/,', 'https://bol.com/nl/p/samsung-galaxy-s10e-128gb-prism-zwart/9200000106450648/,', 'https://bol.com/nl/p/apple-iphone-11-128gb-zwart/9200000119816199/,', 'https://bol.com/nl/p/samsung-galaxy-s21-5g-128gb-phantom-gray/9300000020732481/,', 'https://bol.com/nl/p/apple-iphone-12-mini-64gb-zwart/9300000013742257/,', 'https://bol.com/nl/p/samsung-galaxy-a50-128gb-zwart/9200000106883561/,', 'https://bol.com/nl/p/motorola-moto-g8-power-lite-blauw/9200000127141343/,', 'https://bol.com/nl/p/huawei-p30-lite-128gb-midnight-zwart/9200000107750278/,', 'https://bol.com/nl/p/samsung-galaxy-a10-32gb-blauw/9200000111950979/,', 'https://bol.com/nl/p/samsung-galaxy-xcover-4s-32gb-zwart/9200000111950981/,', 'https://bol.com/nl/p/apple-iphone-se-128gb-zwart/9300000000886601/,', 'https://bol.com/nl/p/oneplus-nord-n100-64gb-grijs/9300000017872622/,', 'https://bol.com/nl/p/motorola-moto-g9-power-128gb-groen/9300000012375717/,', 'https://bol.com/nl/p/samsung-galaxy-a32-5g-128gb-awesome-black/9300000022106004/,', 'https://bol.com/nl/p/huawei-p30-lite-new-edition-256gb-midnight-black/9200000126132549/,', 'https://bol.com/nl/p/oppo-a72-128gb-zwart/9300000002779754/,', 'https://bol.com/nl/p/samsung-galaxy-a10s-32gb-zwart/9200000121265417/,', 'https://bol.com/nl/p/samsung-galaxy-s20-5g-128gb-cosmic-grey/9200000128429194/,', 'https://bol.com/nl/p/apple-iphone-x-refurbished-door-forza-c-grade-64gb-spacegrijs/9200000101335076/,', 'https://bol.com/nl/p/apple-iphone-12-pro-max-256gb-grafiet/9300000013742208/,', 'https://bol.com/nl/p/alcatel-1se-32gb-grijs/9300000001580712/,', 'https://bol.com/nl/p/nokia-5-4-64gb-blauw/9300000021882472/,', 'https://bol.com/nl/p/samsung-galaxy-a02s-32gb-zwart/9300000020547718/https://bol.com/nl/p/samsung-galaxy-a51-128gb-zwart/9200000127101717/,', 'https://bol.com/nl/p/samsung-galaxy-a20e-32gb-zwart/9200000109073236/,', 'https://bol.com/nl/p/samsung-galaxy-a41-64gb-zwart/9300000000132992/,', 'https://bol.com/nl/p/apple-iphone-se-64gb-zwart/9300000000886605/,', 'https://bol.com/nl/p/samsung-galaxy-a21s-64gb-zwart/9300000000132986/,', 'https://bol.com/nl/p/apple-iphone-12-64gb-zwart/9300000013742278/,', 'https://bol.com/nl/p/alcatel-1c-3g-8gb-zwart/9200000112629003/,', 'https://bol.com/nl/p/motorola-moto-e6-play-32gb-steel-black/9200000122803221/,', 'https://bol.com/nl/p/samsung-galaxy-a51-128gb-blauw/9200000127101588/,', 'https://bol.com/nl/p/samsung-galaxy-a12-128gb-zwart/9300000019419396/,', 'https://bol.com/nl/p/samsung-galaxy-s20-fe-4g-128gb-cloud-navy/9300000008841647/,', 'https://bol.com/nl/p/apple-iphone-11-64gb-zwart/9200000119815601/,', 'https://bol.com/nl/p/samsung-galaxy-a21s-32gb-blauw/9300000000132994/,', 'https://bol.com/nl/p/samsung-galaxy-a42-5g-128gb-prism-dot-black/9300000010098436/,', 'https://bol.com/nl/p/apple-iphone-12-pro-128gb-oceaan-blauw/9300000013742251/,', 'https://bol.com/nl/p/samsung-galaxy-a01-core-16gb-zwart/9300000007420502/,', 'https://bol.com/nl/p/samsung-galaxy-a10-32gb-zwart/9200000111950985/,', 'https://bol.com/nl/p/samsung-galaxy-a21s-128gb-zwart/9300000015820720/,', 'https://bol.com/nl/p/apple-iphone-xr-64gb-zwart/9200000098453451/,', 'https://bol.com/nl/p/samsung-galaxy-a40-64gb-zwart/9200000107463262/,', 'https://bol.com/nl/p/samsung-galaxy-a12-64gb-zwart/9300000020208465/,', 'https://bol.com/nl/p/samsung-galaxy-a51-128gb-wit/9200000127101721/https://bol.com/nl/p/samsung-galaxy-a20e-dual-sim-32gb-blauw/9300000002133409/,', 'https://bol.com/nl/p/samsung-galaxy-s10e-128gb-prism-zwart/9200000106450648/,', 'https://bol.com/nl/p/apple-iphone-11-128gb-zwart/9200000119816199/,', 'https://bol.com/nl/p/samsung-galaxy-s21-5g-128gb-phantom-gray/9300000020732481/,', 'https://bol.com/nl/p/apple-iphone-12-mini-64gb-zwart/9300000013742257/,', 'https://bol.com/nl/p/samsung-galaxy-a50-128gb-zwart/9200000106883561/,', 'https://bol.com/nl/p/motorola-moto-g8-power-lite-blauw/9200000127141343/,', 'https://bol.com/nl/p/huawei-p30-lite-128gb-midnight-zwart/9200000107750278/,', 'https://bol.com/nl/p/samsung-galaxy-a10-32gb-blauw/9200000111950979/,', 'https://bol.com/nl/p/samsung-galaxy-xcover-4s-32gb-zwart/9200000111950981/,', 'https://bol.com/nl/p/apple-iphone-se-128gb-zwart/9300000000886601/,', 'https://bol.com/nl/p/oneplus-nord-n100-64gb-grijs/9300000017872622/,', 'https://bol.com/nl/p/motorola-moto-g9-power-128gb-groen/9300000012375717/,', 'https://bol.com/nl/p/samsung-galaxy-a32-5g-128gb-awesome-black/9300000022106004/,', 'https://bol.com/nl/p/huawei-p30-lite-new-edition-256gb-midnight-black/9200000126132549/,', 'https://bol.com/nl/p/oppo-a72-128gb-zwart/9300000002779754/,', 'https://bol.com/nl/p/samsung-galaxy-a10s-32gb-zwart/9200000121265417/,', 'https://bol.com/nl/p/samsung-galaxy-s20-5g-128gb-cosmic-grey/9200000128429194/,', 'https://bol.com/nl/p/apple-iphone-x-refurbished-door-forza-c-grade-64gb-spacegrijs/9200000101335076/,', 'https://bol.com/nl/p/apple-iphone-12-pro-max-256gb-grafiet/9300000013742208/,', 'https://bol.com/nl/p/alcatel-1se-32gb-grijs/9300000001580712/,', 'https://bol.com/nl/p/nokia-5-4-64gb-blauw/9300000021882472/,', 'https://bol.com/nl/p/samsung-galaxy-a02s-32gb-zwart/9300000020547718/https://bol.com/nl/p/samsung-galaxy-a51-128gb-zwart/9200000127101717/,', 'https://bol.com/nl/p/samsung-galaxy-a20e-32gb-zwart/9200000109073236/,', 'https://bol.com/nl/p/samsung-galaxy-a41-64gb-zwart/9300000000132992/,', 'https://bol.com/nl/p/samsung-galaxy-a71-128gb-zwart/9200000127101810/,', 'https://bol.com/nl/p/apple-iphone-se-64gb-zwart/9300000000886605/,', 'https://bol.com/nl/p/apple-iphone-12-64gb-zwart/9300000013742278/,', 'https://bol.com/nl/p/alcatel-1c-3g-8gb-zwart/9200000112629003/,', 'https://bol.com/nl/p/motorola-moto-e6-play-32gb-steel-black/9200000122803221/,', 'https://bol.com/nl/p/samsung-galaxy-a12-128gb-zwart/9300000019419396/,', 'https://bol.com/nl/p/samsung-galaxy-s20-fe-4g-128gb-cloud-navy/9300000008841647/,', 'https://bol.com/nl/p/samsung-galaxy-a21s-32gb-blauw/9300000000132994/,', 'https://bol.com/nl/p/apple-iphone-11-64gb-zwart/9200000119815601/,', 'https://bol.com/nl/p/samsung-galaxy-a42-5g-128gb-prism-dot-black/9300000010098436/,', 'https://bol.com/nl/p/apple-iphone-12-pro-128gb-oceaan-blauw/9300000013742251/,', 'https://bol.com/nl/p/samsung-galaxy-a01-core-16gb-zwart/9300000007420502/,', 'https://bol.com/nl/p/samsung-galaxy-a10-32gb-zwart/9200000111950985/,', 'https://bol.com/nl/p/samsung-galaxy-a21s-128gb-zwart/9300000015820720/,', 'https://bol.com/nl/p/samsung-galaxy-a12-64gb-zwart/9300000020208465/,', 'https://bol.com/nl/p/apple-iphone-xr-64gb-zwart/9200000098453451/,', 'https://bol.com/nl/p/samsung-galaxy-a40-64gb-zwart/9200000107463262/https://bol.com/nl/p/samsung-galaxy-s10e-128gb-prism-zwart/9200000106450648/,', 'https://bol.com/nl/p/samsung-galaxy-s21-5g-128gb-phantom-gray/9300000020732481/,', 'https://bol.com/nl/p/apple-iphone-12-mini-64gb-zwart/9300000013742257/,', 'https://bol.com/nl/p/apple-iphone-11-128gb-zwart/9200000119816199/,', 'https://bol.com/nl/p/huawei-p30-lite-128gb-midnight-zwart/9200000107750278/,', 'https://bol.com/nl/p/samsung-galaxy-a50-128gb-zwart/9200000106883561/,', 'https://bol.com/nl/p/motorola-moto-g8-power-lite-blauw/9200000127141343/,', 'https://bol.com/nl/p/samsung-galaxy-a10-32gb-blauw/9200000111950979/,', 'https://bol.com/nl/p/samsung-galaxy-xcover-4s-32gb-zwart/9200000111950981/,', 'https://bol.com/nl/p/apple-iphone-se-128gb-zwart/9300000000886601/,', 'https://bol.com/nl/p/motorola-moto-g9-power-128gb-groen/9300000012375717/,', 'https://bol.com/nl/p/samsung-galaxy-a32-5g-128gb-awesome-black/9300000022106004/,', 'https://bol.com/nl/p/huawei-p30-lite-new-edition-256gb-midnight-black/9200000126132549/,', 'https://bol.com/nl/p/oppo-a72-128gb-zwart/9300000002779754/,', 'https://bol.com/nl/p/alcatel-1se-32gb-grijs/9300000001580712/,', 'https://bol.com/nl/p/samsung-galaxy-a10s-32gb-zwart/9200000121265417/,', 'https://bol.com/nl/p/apple-iphone-12-pro-max-256gb-grafiet/9300000013742208/,', 'https://bol.com/nl/p/apple-iphone-x-refurbished-door-forza-c-grade-64gb-spacegrijs/9200000101335076/,', 'https://bol.com/nl/p/oneplus-nord-n100-64gb-grijs/9300000017872622/,', 'https://bol.com/nl/p/samsung-galaxy-a21s-64gb-wit/9300000000132987/,', 'https://bol.com/nl/p/samsung-galaxy-s20-5g-128gb-cosmic-grey/9200000128429194/,', 'https://bol.com/nl/p/samsung-galaxy-a71-128gb-blauw/9200000127101719/,', 'https://bol.com/nl/p/samsung-galaxy-a02s-32gb-zwart/9300000020547718/,', 'https://bol.com/nl/p/nokia-5-4-64gb-blauw/9300000021882472/']\n"
     ]
    }
   ],
   "source": [
    "new_lines = [i.replace(\"'\", \" \") for i in new_lines]\n",
    "print(new_lines)"
   ]
  },
  {
   "cell_type": "code",
   "execution_count": 69,
   "metadata": {},
   "outputs": [
    {
     "ename": "AttributeError",
     "evalue": "'list' object has no attribute 'strip'",
     "output_type": "error",
     "traceback": [
      "\u001b[1;31m---------------------------------------------------------------------------\u001b[0m",
      "\u001b[1;31mAttributeError\u001b[0m                            Traceback (most recent call last)",
      "\u001b[1;32m<ipython-input-69-00247bef4186>\u001b[0m in \u001b[0;36m<module>\u001b[1;34m\u001b[0m\n\u001b[1;32m----> 1\u001b[1;33m \u001b[0mstripped_new_lines\u001b[0m \u001b[1;33m=\u001b[0m \u001b[0mnew_lines\u001b[0m\u001b[1;33m.\u001b[0m\u001b[0mstrip\u001b[0m\u001b[1;33m(\u001b[0m\u001b[1;34m\"'\"\u001b[0m\u001b[1;33m)\u001b[0m\u001b[1;33m\u001b[0m\u001b[1;33m\u001b[0m\u001b[0m\n\u001b[0m",
      "\u001b[1;31mAttributeError\u001b[0m: 'list' object has no attribute 'strip'"
     ]
    }
   ],
   "source": [
    "#stripped_new_lines = new_lines.strip(\"'\")\n"
   ]
  },
  {
   "cell_type": "code",
   "execution_count": null,
   "metadata": {},
   "outputs": [],
   "source": [
    "def all_urls():\n",
    "    all_urls_list = []    \n",
    "    for url in lines:\n",
    "        #print(url)\n",
    "        all_urls_list.append(url)\n",
    "    return(all_urls_list)"
   ]
  },
  {
   "cell_type": "code",
   "execution_count": null,
   "metadata": {},
   "outputs": [],
   "source": [
    "all_urls()"
   ]
  },
  {
   "cell_type": "code",
   "execution_count": null,
   "metadata": {},
   "outputs": [],
   "source": [
    "for url in lines:\n",
    "    print(url)"
   ]
  },
  {
   "cell_type": "code",
   "execution_count": null,
   "metadata": {},
   "outputs": [],
   "source": [
    "#Doesn't work\n",
    "import csv\n",
    "\n",
    "with open('my_output.csv', newline='') as f:\n",
    "    reader = csv.reader(f)\n",
    "    data = list(reader)\n",
    "\n",
    "print(data)"
   ]
  },
  {
   "cell_type": "code",
   "execution_count": null,
   "metadata": {},
   "outputs": [],
   "source": [
    "#Just a test\n",
    "for url in data:\n",
    "    print(url)"
   ]
  },
  {
   "cell_type": "code",
   "execution_count": 49,
   "metadata": {},
   "outputs": [
    {
     "name": "stdout",
     "output_type": "stream",
     "text": [
      "https://bol.com/nl/p/samsung-galaxy-s10e-128gb-prism-zwart/9200000106450648/\n",
      "https://bol.com/nl/p/samsung-galaxy-s21-5g-128gb-phantom-gray/9300000020732481/\n",
      "https://bol.com/nl/p/apple-iphone-12-mini-64gb-zwart/9300000013742257/\n",
      "https://bol.com/nl/p/apple-iphone-11-128gb-zwart/9200000119816199/\n",
      "https://bol.com/nl/p/huawei-p30-lite-128gb-midnight-zwart/9200000107750278/\n",
      "https://bol.com/nl/p/samsung-galaxy-a50-128gb-zwart/9200000106883561/\n",
      "https://bol.com/nl/p/motorola-moto-g8-power-lite-blauw/9200000127141343/\n",
      "https://bol.com/nl/p/samsung-galaxy-a10-32gb-blauw/9200000111950979/\n",
      "https://bol.com/nl/p/samsung-galaxy-xcover-4s-32gb-zwart/9200000111950981/\n",
      "https://bol.com/nl/p/apple-iphone-se-128gb-zwart/9300000000886601/\n",
      "https://bol.com/nl/p/motorola-moto-g9-power-128gb-groen/9300000012375717/\n",
      "https://bol.com/nl/p/samsung-galaxy-a32-5g-128gb-awesome-black/9300000022106004/\n",
      "https://bol.com/nl/p/huawei-p30-lite-new-edition-256gb-midnight-black/9200000126132549/\n",
      "https://bol.com/nl/p/oppo-a72-128gb-zwart/9300000002779754/\n",
      "https://bol.com/nl/p/alcatel-1se-32gb-grijs/9300000001580712/\n",
      "https://bol.com/nl/p/samsung-galaxy-a10s-32gb-zwart/9200000121265417/\n",
      "https://bol.com/nl/p/apple-iphone-12-pro-max-256gb-grafiet/9300000013742208/\n",
      "https://bol.com/nl/p/apple-iphone-x-refurbished-door-forza-c-grade-64gb-spacegrijs/9200000101335076/\n",
      "https://bol.com/nl/p/oneplus-nord-n100-64gb-grijs/9300000017872622/\n",
      "https://bol.com/nl/p/samsung-galaxy-a21s-64gb-wit/9300000000132987/\n",
      "https://bol.com/nl/p/samsung-galaxy-s20-5g-128gb-cosmic-grey/9200000128429194/\n",
      "https://bol.com/nl/p/samsung-galaxy-a71-128gb-blauw/9200000127101719/\n",
      "https://bol.com/nl/p/samsung-galaxy-a02s-32gb-zwart/9300000020547718/\n",
      "https://bol.com/nl/p/nokia-5-4-64gb-blauw/9300000021882472/\n"
     ]
    }
   ],
   "source": [
    "#just a test\n",
    "for url in my_phones:\n",
    "    print(url)"
   ]
  },
  {
   "cell_type": "markdown",
   "metadata": {},
   "source": [
    "## Get data from phone urls"
   ]
  },
  {
   "cell_type": "code",
   "execution_count": null,
   "metadata": {},
   "outputs": [],
   "source": [
    "#def get_product_data(url):\n",
    "    #driver.get(your_list)\n",
    "    #your_list[]"
   ]
  },
  {
   "cell_type": "code",
   "execution_count": null,
   "metadata": {},
   "outputs": [],
   "source": [
    "# Correct cell\n",
    "#def get_product_data(my_phones):\n",
    "    driver.get(url)\n",
    "    time.sleep(2)\n",
    "    res = driver.page_source.encode('utf-8')\n",
    "    soup = BeautifulSoup(res, \"html.parser\")\n",
    "    \n",
    "    #get prodcuts\n",
    "    title = soup.find(attrs={\"data-test\": \"title\"}).text\n",
    "    price = soup.find(attrs={\"data-test\": \"price\"}).text\n",
    "    price = price.replace(\"\\n\", \"\")\n",
    "    star_rating = soup.find(attrs={\"data-test\": 'reviews'}).text\n",
    "    star_rating = star_rating.replace(\"\\n\\n\\n\", \"\")\n",
    "    today = date.today()\n",
    "    \n",
    "    jsondict = {\"title\": title,\n",
    "               \"price\": price,\n",
    "               \"star_rating\": star_rating,\n",
    "               \"date\": str(today)}\n",
    "               \n",
    "    return(jsondict)\n",
    "    "
   ]
  },
  {
   "cell_type": "code",
   "execution_count": 77,
   "metadata": {},
   "outputs": [],
   "source": [
    "# Trial cell\n",
    "def get_product_data(my_phones):\n",
    "    driver.get(url)\n",
    "    time.sleep(2)\n",
    "    res = driver.page_source.encode('utf-8')\n",
    "    soup = BeautifulSoup(res, \"html.parser\")\n",
    "    \n",
    "    #get prodcuts\n",
    "    title = soup.find(attrs={\"data-test\": \"title\"}).text\n",
    "    price = soup.find(attrs={\"data-test\": \"price\"}).text\n",
    "    price = price.replace(\"\\n\", \"\")\n",
    "    star_rating = soup.find(attrs={\"data-test\": 'reviews'}).text\n",
    "    star_rating = star_rating.replace(\"\\n\\n\\n\", \"\")\n",
    "    today = date.today()\n",
    "    \n",
    "    jsondict = {\"title\": title,\n",
    "               \"price\": price,\n",
    "               \"star_rating\": star_rating,\n",
    "               \"date\": str(today)}\n",
    "               \n",
    "    return(jsondict)\n",
    "    "
   ]
  },
  {
   "cell_type": "code",
   "execution_count": 78,
   "metadata": {},
   "outputs": [
    {
     "ename": "IndexError",
     "evalue": "list index out of range",
     "output_type": "error",
     "traceback": [
      "\u001b[1;31m---------------------------------------------------------------------------\u001b[0m",
      "\u001b[1;31mIndexError\u001b[0m                                Traceback (most recent call last)",
      "\u001b[1;32m<ipython-input-78-fc92aafa94f3>\u001b[0m in \u001b[0;36m<module>\u001b[1;34m\u001b[0m\n\u001b[1;32m----> 1\u001b[1;33m \u001b[0mmy_json\u001b[0m \u001b[1;33m=\u001b[0m \u001b[0mget_product_data\u001b[0m\u001b[1;33m(\u001b[0m\u001b[0mmy_phones\u001b[0m\u001b[1;33m[\u001b[0m\u001b[1;36m1\u001b[0m\u001b[1;33m]\u001b[0m\u001b[1;33m)\u001b[0m\u001b[1;33m\u001b[0m\u001b[1;33m\u001b[0m\u001b[0m\n\u001b[0m",
      "\u001b[1;31mIndexError\u001b[0m: list index out of range"
     ]
    }
   ],
   "source": [
    "my_json = get_product_data(my_phones[1])"
   ]
  },
  {
   "cell_type": "code",
   "execution_count": null,
   "metadata": {},
   "outputs": [],
   "source": [
    "print(my_json)"
   ]
  },
  {
   "cell_type": "code",
   "execution_count": 52,
   "metadata": {},
   "outputs": [],
   "source": [
    "f = open('out_bol.json','w',encoding='utf-8')\n",
    "f.close()"
   ]
  },
  {
   "cell_type": "code",
   "execution_count": 53,
   "metadata": {},
   "outputs": [],
   "source": [
    "import json\n",
    "\n",
    "def get_filename(prefix='data_', suffix='.csv'):\n",
    "    timestr = time.strftime(\"%Y%m%d-%H\")\n",
    "    return(prefix + timestr + suffix)"
   ]
  },
  {
   "cell_type": "code",
   "execution_count": 54,
   "metadata": {},
   "outputs": [
    {
     "data": {
      "text/plain": [
       "'data_20210318-10.csv'"
      ]
     },
     "execution_count": 54,
     "metadata": {},
     "output_type": "execute_result"
    }
   ],
   "source": [
    "get_filename()"
   ]
  },
  {
   "cell_type": "code",
   "execution_count": 56,
   "metadata": {},
   "outputs": [
    {
     "name": "stdout",
     "output_type": "stream",
     "text": [
      "https://bol.com/nl/p/samsung-galaxy-s10e-128gb-prism-zwart/9200000106450648/\n",
      "https://bol.com/nl/p/samsung-galaxy-s21-5g-128gb-phantom-gray/9300000020732481/\n",
      "https://bol.com/nl/p/apple-iphone-12-mini-64gb-zwart/9300000013742257/\n",
      "https://bol.com/nl/p/apple-iphone-11-128gb-zwart/9200000119816199/\n",
      "https://bol.com/nl/p/huawei-p30-lite-128gb-midnight-zwart/9200000107750278/\n",
      "https://bol.com/nl/p/samsung-galaxy-a50-128gb-zwart/9200000106883561/\n",
      "https://bol.com/nl/p/motorola-moto-g8-power-lite-blauw/9200000127141343/\n",
      "https://bol.com/nl/p/samsung-galaxy-a10-32gb-blauw/9200000111950979/\n",
      "https://bol.com/nl/p/samsung-galaxy-xcover-4s-32gb-zwart/9200000111950981/\n",
      "https://bol.com/nl/p/apple-iphone-se-128gb-zwart/9300000000886601/\n",
      "https://bol.com/nl/p/motorola-moto-g9-power-128gb-groen/9300000012375717/\n",
      "https://bol.com/nl/p/samsung-galaxy-a32-5g-128gb-awesome-black/9300000022106004/\n",
      "https://bol.com/nl/p/huawei-p30-lite-new-edition-256gb-midnight-black/9200000126132549/\n",
      "https://bol.com/nl/p/oppo-a72-128gb-zwart/9300000002779754/\n",
      "https://bol.com/nl/p/alcatel-1se-32gb-grijs/9300000001580712/\n",
      "https://bol.com/nl/p/samsung-galaxy-a10s-32gb-zwart/9200000121265417/\n",
      "https://bol.com/nl/p/apple-iphone-12-pro-max-256gb-grafiet/9300000013742208/\n",
      "https://bol.com/nl/p/apple-iphone-x-refurbished-door-forza-c-grade-64gb-spacegrijs/9200000101335076/\n",
      "https://bol.com/nl/p/oneplus-nord-n100-64gb-grijs/9300000017872622/\n",
      "https://bol.com/nl/p/samsung-galaxy-a21s-64gb-wit/9300000000132987/\n",
      "https://bol.com/nl/p/samsung-galaxy-s20-5g-128gb-cosmic-grey/9200000128429194/\n",
      "https://bol.com/nl/p/samsung-galaxy-a71-128gb-blauw/9200000127101719/\n",
      "https://bol.com/nl/p/samsung-galaxy-a02s-32gb-zwart/9300000020547718/\n",
      "https://bol.com/nl/p/nokia-5-4-64gb-blauw/9300000021882472/\n"
     ]
    }
   ],
   "source": [
    "for url in my_phones:\n",
    "    print(url)\n",
    "     \n",
    "    my_json = get_product_data(url)\n",
    "    f = open(get_filename(),'a',encoding='utf-8')\n",
    "    f.write(json.dumps(my_json)+'\\n')\n",
    "    f.close()"
   ]
  },
  {
   "cell_type": "markdown",
   "metadata": {},
   "source": [
    "## Get all page urls TRIAL"
   ]
  },
  {
   "cell_type": "code",
   "execution_count": null,
   "metadata": {},
   "outputs": [],
   "source": [
    "for url in my_urls:\n",
    "    print(my_phones)"
   ]
  },
  {
   "cell_type": "code",
   "execution_count": null,
   "metadata": {},
   "outputs": [],
   "source": []
  },
  {
   "cell_type": "code",
   "execution_count": null,
   "metadata": {},
   "outputs": [],
   "source": [
    "# Function get pages test delete after\n",
    "def get_pages(url):\n",
    "    base_url = \"https://bol.com/nl/l/smartphones/N/4010/\"\n",
    "    page_urls = []\n",
    "\n",
    "    #fix counter range\n",
    "    for counter in range(1,98): #work with num_pages variable instead of fixed ranged\n",
    "        full_url = base_url + \"?page=\" + str(counter)\n",
    "        page_urls.append(full_url)\n",
    "    return(page_urls)"
   ]
  },
  {
   "cell_type": "code",
   "execution_count": null,
   "metadata": {},
   "outputs": [],
   "source": [
    "#test delete after\n",
    "my_urls = get_pages(my_urls)\n",
    "print(my_urls)"
   ]
  },
  {
   "cell_type": "code",
   "execution_count": null,
   "metadata": {},
   "outputs": [],
   "source": [
    "# Trialing to loop over each page in my_urls and then execute function my_phones\n",
    "for url in my_urls[0:5]:\n",
    "    print(url)\n",
    "    \n",
    "    my_phones = get_phones(my_urls)\n",
    "    f = open(get_filename(),'a',encoding='utf-8')\n",
    "    f.write(json.dumps(my_json)+'\\n')\n",
    "    f.close()"
   ]
  },
  {
   "cell_type": "markdown",
   "metadata": {},
   "source": [
    "# variable collection trialing\n",
    "- Name\n",
    "- Price\n",
    "- Star rating\n",
    "- Number of reviews\n",
    "- Date"
   ]
  },
  {
   "cell_type": "markdown",
   "metadata": {},
   "source": [
    "### Packages and urls (to bo deleted when in function)"
   ]
  },
  {
   "cell_type": "code",
   "execution_count": null,
   "metadata": {},
   "outputs": [],
   "source": [
    "# Get TEST URL\n",
    "url = 'https://www.bol.com/nl/p/samsung-galaxy-a51-128gb-wit/9200000127101721/?s2a=#productTitle'\n",
    "res = requests.get(url)\n",
    "soup = BeautifulSoup(res.text, \"html.parser\")"
   ]
  },
  {
   "cell_type": "code",
   "execution_count": null,
   "metadata": {},
   "outputs": [],
   "source": [
    "# Get SELENIUM TEST URL\n",
    "driver.get(\"https://www.bol.com/nl/p/samsung-galaxy-a51-128gb-wit/9200000127101721/?s2a=#productTitle\")"
   ]
  },
  {
   "cell_type": "markdown",
   "metadata": {},
   "source": [
    "### Phone title"
   ]
  },
  {
   "cell_type": "code",
   "execution_count": 84,
   "metadata": {},
   "outputs": [
    {
     "ename": "NameError",
     "evalue": "name 'soup' is not defined",
     "output_type": "error",
     "traceback": [
      "\u001b[1;31m---------------------------------------------------------------------------\u001b[0m",
      "\u001b[1;31mNameError\u001b[0m                                 Traceback (most recent call last)",
      "\u001b[1;32m<ipython-input-84-0db229a07f61>\u001b[0m in \u001b[0;36m<module>\u001b[1;34m\u001b[0m\n\u001b[0;32m      1\u001b[0m \u001b[1;31m## Scrape phone title\u001b[0m\u001b[1;33m\u001b[0m\u001b[1;33m\u001b[0m\u001b[1;33m\u001b[0m\u001b[0m\n\u001b[1;32m----> 2\u001b[1;33m \u001b[0mphone_title\u001b[0m \u001b[1;33m=\u001b[0m \u001b[0msoup\u001b[0m\u001b[1;33m.\u001b[0m\u001b[0mfind\u001b[0m\u001b[1;33m(\u001b[0m\u001b[0mattrs\u001b[0m\u001b[1;33m=\u001b[0m\u001b[1;33m{\u001b[0m\u001b[1;34m\"data-test\"\u001b[0m\u001b[1;33m:\u001b[0m \u001b[1;34m\"title\"\u001b[0m\u001b[1;33m}\u001b[0m\u001b[1;33m)\u001b[0m\u001b[1;33m.\u001b[0m\u001b[0mtext\u001b[0m\u001b[1;33m\u001b[0m\u001b[1;33m\u001b[0m\u001b[0m\n\u001b[0m\u001b[0;32m      3\u001b[0m \u001b[0mprint\u001b[0m\u001b[1;33m(\u001b[0m\u001b[0mphone_title\u001b[0m\u001b[1;33m)\u001b[0m\u001b[1;33m\u001b[0m\u001b[1;33m\u001b[0m\u001b[0m\n",
      "\u001b[1;31mNameError\u001b[0m: name 'soup' is not defined"
     ]
    }
   ],
   "source": [
    "## Scrape phone title\n",
    "phone_title = soup.find(attrs={\"data-test\": \"title\"}).text\n",
    "print(phone_title)"
   ]
  },
  {
   "cell_type": "markdown",
   "metadata": {},
   "source": [
    "### Price"
   ]
  },
  {
   "cell_type": "code",
   "execution_count": null,
   "metadata": {},
   "outputs": [],
   "source": [
    "## Scrape price \n",
    "price = soup.find(attrs={\"data-test\": \"price\"}).text\n",
    "price = price.replace(\"\\n\", \"\")\n",
    "print(price)"
   ]
  },
  {
   "cell_type": "code",
   "execution_count": null,
   "metadata": {},
   "outputs": [],
   "source": [
    "## Scrape price fraction\n",
    "soup.find(attrs={\"data-test\": \"price-fraction\"}).text"
   ]
  },
  {
   "cell_type": "markdown",
   "metadata": {},
   "source": [
    "### Rating"
   ]
  },
  {
   "cell_type": "code",
   "execution_count": null,
   "metadata": {},
   "outputs": [],
   "source": [
    "## Scrape star rating and number of reviews\n",
    "star_rating = soup.find(attrs={\"data-test\": 'reviews'}).text\n",
    "star_rating = star_rating.replace(\"\\n\\n\\n\", \"\")\n",
    "print(star_rating)"
   ]
  },
  {
   "cell_type": "markdown",
   "metadata": {},
   "source": [
    "### Date"
   ]
  },
  {
   "cell_type": "code",
   "execution_count": null,
   "metadata": {},
   "outputs": [],
   "source": [
    "## DATE\n",
    "from datetime import date\n",
    "\n",
    "today = date.today()\n",
    "print(today)\n"
   ]
  },
  {
   "cell_type": "markdown",
   "metadata": {},
   "source": [
    "## Toon meer button WIP"
   ]
  },
  {
   "cell_type": "code",
   "execution_count": 85,
   "metadata": {},
   "outputs": [],
   "source": [
    "# Works\n",
    "show_more = driver.find_elements_by_class_name(\"show-more__button\")[1]\n",
    "show_more.click()"
   ]
  },
  {
   "cell_type": "code",
   "execution_count": 86,
   "metadata": {},
   "outputs": [
    {
     "name": "stdout",
     "output_type": "stream",
     "text": [
      "<selenium.webdriver.remote.webelement.WebElement (session=\"cce8aa3de4d053ebafc3059be94269e8\", element=\"0dd10e88-fe1d-46c9-96a0-8a07b34f27a7\")>\n"
     ]
    }
   ],
   "source": [
    "brand = driver.find_elements_by_class_name(\"specs__title\")[1]\n",
    "print(brand)"
   ]
  },
  {
   "cell_type": "code",
   "execution_count": 87,
   "metadata": {},
   "outputs": [
    {
     "ename": "NameError",
     "evalue": "name 'soup' is not defined",
     "output_type": "error",
     "traceback": [
      "\u001b[1;31m---------------------------------------------------------------------------\u001b[0m",
      "\u001b[1;31mNameError\u001b[0m                                 Traceback (most recent call last)",
      "\u001b[1;32m<ipython-input-87-dda8f8b8bade>\u001b[0m in \u001b[0;36m<module>\u001b[1;34m\u001b[0m\n\u001b[1;32m----> 1\u001b[1;33m \u001b[0mmodel\u001b[0m \u001b[1;33m=\u001b[0m \u001b[0msoup\u001b[0m\u001b[1;33m.\u001b[0m\u001b[0mfind\u001b[0m\u001b[1;33m(\u001b[0m\u001b[0mattrs\u001b[0m\u001b[1;33m=\u001b[0m\u001b[1;33m{\u001b[0m\u001b[1;34m\"date__value\"\u001b[0m\u001b[1;33m:\u001b[0m \u001b[1;34m\"title\"\u001b[0m\u001b[1;33m}\u001b[0m\u001b[1;33m)\u001b[0m\u001b[1;33m\u001b[0m\u001b[1;33m\u001b[0m\u001b[0m\n\u001b[0m\u001b[0;32m      2\u001b[0m \u001b[0mprint\u001b[0m\u001b[1;33m(\u001b[0m\u001b[0mmodel\u001b[0m\u001b[1;33m)\u001b[0m\u001b[1;33m\u001b[0m\u001b[1;33m\u001b[0m\u001b[0m\n",
      "\u001b[1;31mNameError\u001b[0m: name 'soup' is not defined"
     ]
    }
   ],
   "source": [
    "model = soup.find(attrs={\"date__value\": \"title\"})\n",
    "print(model)"
   ]
  },
  {
   "cell_type": "markdown",
   "metadata": {},
   "source": [
    "## Overbodig (prototyping)"
   ]
  },
  {
   "cell_type": "code",
   "execution_count": null,
   "metadata": {},
   "outputs": [],
   "source": [
    "## OVerbodig\n",
    "#collecting product links\n",
    "phones = soup.find_all(class_=\"product-item--row js_item_root\")\n",
    "phones_urls = []\n",
    "\n",
    "for phone in phones: \n",
    "    phones_url = phone.find(\"a\").attrs[\"href\"]\n",
    "    phones_urls.append(phones_url)\n",
    "    \n",
    "    driver.execute_script('window.scrollTo(0, document.body.scrollHeight);')\n",
    "    \n",
    "        \n",
    "# print first 20 urls for each page\n",
    "\n",
    "print(phones_urls[0:28])\n",
    "\n",
    "#We are able to scrape the first 21 hits on each page. Why aren't we able to print the last 6 of them?"
   ]
  },
  {
   "cell_type": "code",
   "execution_count": null,
   "metadata": {},
   "outputs": [],
   "source": [
    "## Overbodig\n",
    "## all smartphone pages\n",
    "base_url = \"https://bol.com/nl/l/smartphones/N/4010/\"\n",
    "page_urls = []\n",
    "\n",
    "for counter in range(1, 98):\n",
    "    full_url = base_url + \"?page=\" + str(counter)\n",
    "    page_urls.append(full_url)\n",
    "    \n",
    "print(page_urls)"
   ]
  },
  {
   "cell_type": "code",
   "execution_count": null,
   "metadata": {},
   "outputs": [],
   "source": [
    "## Overbodig\n",
    "#click next page button\n",
    "next_page = driver.find_elements_by_class_name(\"js_pagination_item\")[0]\n",
    "next_page.click()"
   ]
  },
  {
   "cell_type": "code",
   "execution_count": null,
   "metadata": {},
   "outputs": [],
   "source": [
    "## Overbodig\n",
    "#click next page button v2\n",
    "next_page = driver.find_elements_by_class_name(\"[ pagination__controls pagination__controls--next ]\")\n",
    "next_page.click()"
   ]
  },
  {
   "cell_type": "code",
   "execution_count": null,
   "metadata": {},
   "outputs": [],
   "source": [
    "## OVerbodig\n",
    "#Selenium get, product link test\n",
    "product_link = soup.find(class_=\"product-item--row js_item_root\").find(\"a\").attrs[\"href\"]\n",
    "base_url = \"https://bol.com\"\n",
    "\n",
    "print(base_url + product_link)"
   ]
  },
  {
   "cell_type": "code",
   "execution_count": null,
   "metadata": {},
   "outputs": [],
   "source": [
    "## Overbodig\n",
    "#collecting product links\n",
    "phones = soup.find_all(class_=\"product-item--row js_item_root\")\n",
    "phones_urls = []\n",
    "\n",
    "for phone in phones: \n",
    "    phones_url = phone.find(\"a\").attrs[\"href\"]\n",
    "    phones_urls.append(phones_url)\n",
    "    \n",
    "    driver.execute_script('window.scrollTo(0, document.body.scrollHeight);')\n",
    "    \n",
    "        \n",
    "# print first 20 urls for each page\n",
    "\n",
    "print(phones_urls[0:28])\n",
    "\n",
    "#We are able to scrape the first 21 hits on each page. Why aren't we able to print the last 6 of them?\n"
   ]
  },
  {
   "cell_type": "code",
   "execution_count": null,
   "metadata": {},
   "outputs": [],
   "source": []
  },
  {
   "cell_type": "code",
   "execution_count": null,
   "metadata": {},
   "outputs": [],
   "source": []
  },
  {
   "cell_type": "code",
   "execution_count": null,
   "metadata": {},
   "outputs": [],
   "source": []
  }
 ],
 "metadata": {
  "kernelspec": {
   "display_name": "Python 3",
   "language": "python",
   "name": "python3"
  },
  "language_info": {
   "codemirror_mode": {
    "name": "ipython",
    "version": 3
   },
   "file_extension": ".py",
   "mimetype": "text/x-python",
   "name": "python",
   "nbconvert_exporter": "python",
   "pygments_lexer": "ipython3",
   "version": "3.8.5"
  }
 },
 "nbformat": 4,
 "nbformat_minor": 4
}
