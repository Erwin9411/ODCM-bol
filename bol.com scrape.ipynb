{
 "cells": [
  {
   "cell_type": "markdown",
   "metadata": {},
   "source": [
    "# bol.com\n",
    "scraper The purpose of this scraper is to scrape all the phones from bol.com to find out what are the prices for the different phones and what are the ratings per phone. \n",
    "\n",
    "## Structure \n",
    "To create a readable and understandable document the document will consist of several paragraphs, those are listed below: \n",
    "- Paragraph 1: Collecting the pages \n",
    "- Paragraph 2: Entering the right pages \n",
    "- Paragraph 3: Collecting the right information from the different pages \n",
    "\n",
    "### Paragraph 1 \n",
    "In paragraph 1 we will take the following steps:  \n",
    "- Importing the right packages and links Create the page urls for the different phones Create the links to all different bol.com pages with phones \n",
    "    - Step 1 In this step we will as said before starting with importing the right packages and links"
   ]
  },
  {
   "cell_type": "markdown",
   "metadata": {},
   "source": [
    "## Question for feedback session\n",
    "- How to open a weblink from a list of links."
   ]
  },
  {
   "cell_type": "code",
   "execution_count": null,
   "metadata": {},
   "outputs": [],
   "source": [
    "from datetime import date\n",
    "import time\n",
    "import pandas as pd\n",
    "import requests\n",
    "from bs4 import BeautifulSoup\n",
    "def connect():\n",
    "    global driver\n",
    "    #import packages\n",
    "    import selenium.webdriver\n",
    "    driver = selenium.webdriver.Chrome()\n",
    "    driver.get(\"https://www.bol.com/nl/l/smartphones/N/4010/\")\n",
    "        \n",
    "    time.sleep(5)\n",
    "    #accept coockies\n",
    "    accept = driver.find_elements_by_class_name(\"js-confirm-button\")[0]\n",
    "    accept.click()"
   ]
  },
  {
   "cell_type": "code",
   "execution_count": 2,
   "metadata": {},
   "outputs": [],
   "source": [
    "connect()"
   ]
  },
  {
   "cell_type": "code",
   "execution_count": null,
   "metadata": {},
   "outputs": [],
   "source": [
    " #yet to import\n",
    "    #import numpy as np\n",
    "\n",
    "    #df = pd.DataFrame(np.random.randn(10, 5))\n",
    "    #df.head()"
   ]
  },
  {
   "cell_type": "markdown",
   "metadata": {},
   "source": [
    "# Modules"
   ]
  },
  {
   "cell_type": "markdown",
   "metadata": {},
   "source": [
    "- open product category\n",
    "- function: collect all page links (page1, page2, ...)\n",
    "- function: on each page, scroll down and collect all phones\n",
    "- function: open product page and collect attributes"
   ]
  },
  {
   "cell_type": "code",
   "execution_count": 3,
   "metadata": {},
   "outputs": [],
   "source": [
    "# Beautiful soup\n",
    "url = 'https://www.bol.com/nl/l/smartphones/N/4010/'\n",
    "res = requests.get(url)\n",
    "soup = BeautifulSoup(res.text, \"html.parser\")"
   ]
  },
  {
   "cell_type": "markdown",
   "metadata": {},
   "source": [
    "# get page urls"
   ]
  },
  {
   "cell_type": "code",
   "execution_count": 4,
   "metadata": {},
   "outputs": [],
   "source": [
    "# Function get pages\n",
    "def get_pages():\n",
    "    base_url = \"https://bol.com/nl/l/smartphones/N/4010/\"\n",
    "    page_urls = []\n",
    "\n",
    "    #fix counter range\n",
    "    for counter in range(1,98): #work with num_pages variable instead of fixed ranged\n",
    "        full_url = base_url + \"?page=\" + str(counter)\n",
    "        page_urls.append(full_url)\n",
    "    return(page_urls)"
   ]
  },
  {
   "cell_type": "markdown",
   "metadata": {},
   "source": [
    "Execution"
   ]
  },
  {
   "cell_type": "code",
   "execution_count": 5,
   "metadata": {},
   "outputs": [
    {
     "name": "stdout",
     "output_type": "stream",
     "text": [
      "page urls compiled!\n",
      "['https://bol.com/nl/l/smartphones/N/4010/?page=1', 'https://bol.com/nl/l/smartphones/N/4010/?page=2', 'https://bol.com/nl/l/smartphones/N/4010/?page=3', 'https://bol.com/nl/l/smartphones/N/4010/?page=4', 'https://bol.com/nl/l/smartphones/N/4010/?page=5', 'https://bol.com/nl/l/smartphones/N/4010/?page=6', 'https://bol.com/nl/l/smartphones/N/4010/?page=7', 'https://bol.com/nl/l/smartphones/N/4010/?page=8', 'https://bol.com/nl/l/smartphones/N/4010/?page=9', 'https://bol.com/nl/l/smartphones/N/4010/?page=10', 'https://bol.com/nl/l/smartphones/N/4010/?page=11', 'https://bol.com/nl/l/smartphones/N/4010/?page=12', 'https://bol.com/nl/l/smartphones/N/4010/?page=13', 'https://bol.com/nl/l/smartphones/N/4010/?page=14', 'https://bol.com/nl/l/smartphones/N/4010/?page=15', 'https://bol.com/nl/l/smartphones/N/4010/?page=16', 'https://bol.com/nl/l/smartphones/N/4010/?page=17', 'https://bol.com/nl/l/smartphones/N/4010/?page=18', 'https://bol.com/nl/l/smartphones/N/4010/?page=19', 'https://bol.com/nl/l/smartphones/N/4010/?page=20', 'https://bol.com/nl/l/smartphones/N/4010/?page=21', 'https://bol.com/nl/l/smartphones/N/4010/?page=22', 'https://bol.com/nl/l/smartphones/N/4010/?page=23', 'https://bol.com/nl/l/smartphones/N/4010/?page=24', 'https://bol.com/nl/l/smartphones/N/4010/?page=25', 'https://bol.com/nl/l/smartphones/N/4010/?page=26', 'https://bol.com/nl/l/smartphones/N/4010/?page=27', 'https://bol.com/nl/l/smartphones/N/4010/?page=28', 'https://bol.com/nl/l/smartphones/N/4010/?page=29', 'https://bol.com/nl/l/smartphones/N/4010/?page=30', 'https://bol.com/nl/l/smartphones/N/4010/?page=31', 'https://bol.com/nl/l/smartphones/N/4010/?page=32', 'https://bol.com/nl/l/smartphones/N/4010/?page=33', 'https://bol.com/nl/l/smartphones/N/4010/?page=34', 'https://bol.com/nl/l/smartphones/N/4010/?page=35', 'https://bol.com/nl/l/smartphones/N/4010/?page=36', 'https://bol.com/nl/l/smartphones/N/4010/?page=37', 'https://bol.com/nl/l/smartphones/N/4010/?page=38', 'https://bol.com/nl/l/smartphones/N/4010/?page=39', 'https://bol.com/nl/l/smartphones/N/4010/?page=40', 'https://bol.com/nl/l/smartphones/N/4010/?page=41', 'https://bol.com/nl/l/smartphones/N/4010/?page=42', 'https://bol.com/nl/l/smartphones/N/4010/?page=43', 'https://bol.com/nl/l/smartphones/N/4010/?page=44', 'https://bol.com/nl/l/smartphones/N/4010/?page=45', 'https://bol.com/nl/l/smartphones/N/4010/?page=46', 'https://bol.com/nl/l/smartphones/N/4010/?page=47', 'https://bol.com/nl/l/smartphones/N/4010/?page=48', 'https://bol.com/nl/l/smartphones/N/4010/?page=49', 'https://bol.com/nl/l/smartphones/N/4010/?page=50', 'https://bol.com/nl/l/smartphones/N/4010/?page=51', 'https://bol.com/nl/l/smartphones/N/4010/?page=52', 'https://bol.com/nl/l/smartphones/N/4010/?page=53', 'https://bol.com/nl/l/smartphones/N/4010/?page=54', 'https://bol.com/nl/l/smartphones/N/4010/?page=55', 'https://bol.com/nl/l/smartphones/N/4010/?page=56', 'https://bol.com/nl/l/smartphones/N/4010/?page=57', 'https://bol.com/nl/l/smartphones/N/4010/?page=58', 'https://bol.com/nl/l/smartphones/N/4010/?page=59', 'https://bol.com/nl/l/smartphones/N/4010/?page=60', 'https://bol.com/nl/l/smartphones/N/4010/?page=61', 'https://bol.com/nl/l/smartphones/N/4010/?page=62', 'https://bol.com/nl/l/smartphones/N/4010/?page=63', 'https://bol.com/nl/l/smartphones/N/4010/?page=64', 'https://bol.com/nl/l/smartphones/N/4010/?page=65', 'https://bol.com/nl/l/smartphones/N/4010/?page=66', 'https://bol.com/nl/l/smartphones/N/4010/?page=67', 'https://bol.com/nl/l/smartphones/N/4010/?page=68', 'https://bol.com/nl/l/smartphones/N/4010/?page=69', 'https://bol.com/nl/l/smartphones/N/4010/?page=70', 'https://bol.com/nl/l/smartphones/N/4010/?page=71', 'https://bol.com/nl/l/smartphones/N/4010/?page=72', 'https://bol.com/nl/l/smartphones/N/4010/?page=73', 'https://bol.com/nl/l/smartphones/N/4010/?page=74', 'https://bol.com/nl/l/smartphones/N/4010/?page=75', 'https://bol.com/nl/l/smartphones/N/4010/?page=76', 'https://bol.com/nl/l/smartphones/N/4010/?page=77', 'https://bol.com/nl/l/smartphones/N/4010/?page=78', 'https://bol.com/nl/l/smartphones/N/4010/?page=79', 'https://bol.com/nl/l/smartphones/N/4010/?page=80', 'https://bol.com/nl/l/smartphones/N/4010/?page=81', 'https://bol.com/nl/l/smartphones/N/4010/?page=82', 'https://bol.com/nl/l/smartphones/N/4010/?page=83', 'https://bol.com/nl/l/smartphones/N/4010/?page=84', 'https://bol.com/nl/l/smartphones/N/4010/?page=85', 'https://bol.com/nl/l/smartphones/N/4010/?page=86', 'https://bol.com/nl/l/smartphones/N/4010/?page=87', 'https://bol.com/nl/l/smartphones/N/4010/?page=88', 'https://bol.com/nl/l/smartphones/N/4010/?page=89', 'https://bol.com/nl/l/smartphones/N/4010/?page=90', 'https://bol.com/nl/l/smartphones/N/4010/?page=91', 'https://bol.com/nl/l/smartphones/N/4010/?page=92', 'https://bol.com/nl/l/smartphones/N/4010/?page=93', 'https://bol.com/nl/l/smartphones/N/4010/?page=94', 'https://bol.com/nl/l/smartphones/N/4010/?page=95', 'https://bol.com/nl/l/smartphones/N/4010/?page=96', 'https://bol.com/nl/l/smartphones/N/4010/?page=97']\n"
     ]
    }
   ],
   "source": [
    "my_urls = get_pages()\n",
    "print('page urls compiled!')\n",
    "print(my_urls) #<- delete after"
   ]
  },
  {
   "cell_type": "markdown",
   "metadata": {},
   "source": [
    "## Retrieve phone urls"
   ]
  },
  {
   "cell_type": "code",
   "execution_count": 6,
   "metadata": {},
   "outputs": [],
   "source": [
    "# Function get phone urls\n",
    "def get_phones(my_urls):\n",
    "    base_phone_url = \"https://bol.com\"\n",
    "    driver.get(url) #changed the link from base catergory link ...4010/\n",
    "    phones = soup.find_all(class_=\"product-item--row js_item_root\")\n",
    "    phones_urls = []\n",
    "    \n",
    "    for phone in phones: \n",
    "        phones_url = phone.find(\"a\").attrs[\"href\"]\n",
    "        full_url = base_phone_url + phones_url\n",
    "        phones_urls.append(full_url)\n",
    "            \n",
    "        driver.execute_script('window.scrollTo(0, document.body.scrollHeight);')\n",
    "           \n",
    "    return(phones_urls)"
   ]
  },
  {
   "cell_type": "code",
   "execution_count": 7,
   "metadata": {},
   "outputs": [
    {
     "name": "stdout",
     "output_type": "stream",
     "text": [
      "Phone urls compiled!\n",
      "['https://bol.com/nl/p/samsung-galaxy-a51-128gb-zwart/9200000127101717/', 'https://bol.com/nl/p/samsung-galaxy-a20e-32gb-zwart/9200000109073236/', 'https://bol.com/nl/p/samsung-galaxy-a41-64gb-zwart/9300000000132992/', 'https://bol.com/nl/p/samsung-galaxy-a71-128gb-zwart/9200000127101810/', 'https://bol.com/nl/p/apple-iphone-se-64gb-zwart/9300000000886605/', 'https://bol.com/nl/p/samsung-galaxy-a21s-64gb-zwart/9300000000132986/', 'https://bol.com/nl/p/apple-iphone-12-64gb-zwart/9300000013742278/', 'https://bol.com/nl/p/motorola-moto-e6-play-32gb-steel-black/9200000122803221/', 'https://bol.com/nl/p/alcatel-1c-3g-8gb-zwart/9200000112629003/', 'https://bol.com/nl/p/samsung-galaxy-a21s-32gb-blauw/9300000000132994/', 'https://bol.com/nl/p/samsung-galaxy-a42-5g-128gb-prism-dot-black/9300000010098436/', 'https://bol.com/nl/p/samsung-galaxy-s20-fe-4g-128gb-cloud-navy/9300000008841647/', 'https://bol.com/nl/p/apple-iphone-12-pro-128gb-oceaan-blauw/9300000013742251/', 'https://bol.com/nl/p/samsung-galaxy-a01-core-16gb-zwart/9300000007420502/', 'https://bol.com/nl/p/samsung-galaxy-a12-128gb-zwart/9300000019419396/', 'https://bol.com/nl/p/samsung-galaxy-a10-32gb-zwart/9200000111950985/', 'https://bol.com/nl/p/apple-iphone-11-64gb-zwart/9200000119815601/', 'https://bol.com/nl/p/apple-iphone-xr-64gb-zwart/9200000098453451/', 'https://bol.com/nl/p/apple-iphone-11-128gb-zwart/9200000119816199/', 'https://bol.com/nl/p/samsung-galaxy-a12-sm-a125f-16-5-cm-dual-sim-4g-usb-type-c-4-gb-64-gb-5000-mah-blauw/9300000020208465/', 'https://bol.com/nl/p/samsung-galaxy-s21-5g-128gb-phantom-gray/9300000020732481/']\n"
     ]
    }
   ],
   "source": [
    "my_phones = get_phones(my_urls[5]) #<- [5] is just for trialing\n",
    "print(\"Phone urls compiled!\")\n",
    "print(my_phones) # <-delete after"
   ]
  },
  {
   "cell_type": "markdown",
   "metadata": {},
   "source": [
    "## Get data from phone urls"
   ]
  },
  {
   "cell_type": "code",
   "execution_count": 8,
   "metadata": {},
   "outputs": [],
   "source": [
    "def get_productdata(url):\n",
    "    driver.get(url)\n",
    "    time.sleep(2)\n",
    "    res = driver.page_source.encode('utf-8')\n",
    "    soup = BeautifulSoup(res, \"html.parser\")\n",
    "    \n",
    "    #get prodcuts\n",
    "    title = soup.find(attrs={\"data-test\": \"title\"}).text\n",
    "    price = soup.find(attrs={\"data-test\": \"price\"}).text\n",
    "    price = price.replace(\"\\n\", \"\")\n",
    "    star_rating = soup.find(attrs={\"data-test\": 'reviews'}).text\n",
    "    star_rating = star_rating.replace(\"\\n\\n\\n\", \"\")\n",
    "    today = date.today()\n",
    "    \n",
    "    jsondict = {\"title\": title,\n",
    "               \"price\": price,\n",
    "               \"star_rating\": star_rating,\n",
    "               \"date\": str(today)}\n",
    "               \n",
    "    return(jsondict)\n",
    "    "
   ]
  },
  {
   "cell_type": "code",
   "execution_count": 9,
   "metadata": {},
   "outputs": [],
   "source": [
    "my_json = get_productdata(my_phones[3])"
   ]
  },
  {
   "cell_type": "code",
   "execution_count": 10,
   "metadata": {},
   "outputs": [
    {
     "name": "stdout",
     "output_type": "stream",
     "text": [
      "{'title': 'Samsung Galaxy A71 - 128GB - Zwart', 'price': '358  95', 'star_rating': '\\n4.6 5\\n4.6/5 (179 reviews)\\n', 'date': '2021-03-13'}\n"
     ]
    }
   ],
   "source": [
    "print(my_json)"
   ]
  },
  {
   "cell_type": "code",
   "execution_count": 11,
   "metadata": {},
   "outputs": [],
   "source": [
    "f = open('out_bas.json','w',encoding='utf-8')\n",
    "f.close()"
   ]
  },
  {
   "cell_type": "code",
   "execution_count": 12,
   "metadata": {},
   "outputs": [],
   "source": [
    "import json\n",
    "\n",
    "def get_filename(prefix='data_', suffix='.csv'):\n",
    "    timestr = time.strftime(\"%Y%m%d-%H\")\n",
    "    return(prefix + timestr + suffix)"
   ]
  },
  {
   "cell_type": "code",
   "execution_count": 13,
   "metadata": {},
   "outputs": [
    {
     "data": {
      "text/plain": [
       "'data_20210313-12.csv'"
      ]
     },
     "execution_count": 13,
     "metadata": {},
     "output_type": "execute_result"
    }
   ],
   "source": [
    "get_filename()"
   ]
  },
  {
   "cell_type": "code",
   "execution_count": 14,
   "metadata": {},
   "outputs": [
    {
     "name": "stdout",
     "output_type": "stream",
     "text": [
      "https://bol.com/nl/p/samsung-galaxy-a51-128gb-zwart/9200000127101717/\n",
      "https://bol.com/nl/p/samsung-galaxy-a20e-32gb-zwart/9200000109073236/\n",
      "https://bol.com/nl/p/samsung-galaxy-a41-64gb-zwart/9300000000132992/\n",
      "https://bol.com/nl/p/samsung-galaxy-a71-128gb-zwart/9200000127101810/\n",
      "https://bol.com/nl/p/apple-iphone-se-64gb-zwart/9300000000886605/\n",
      "https://bol.com/nl/p/samsung-galaxy-a21s-64gb-zwart/9300000000132986/\n",
      "https://bol.com/nl/p/apple-iphone-12-64gb-zwart/9300000013742278/\n",
      "https://bol.com/nl/p/motorola-moto-e6-play-32gb-steel-black/9200000122803221/\n",
      "https://bol.com/nl/p/alcatel-1c-3g-8gb-zwart/9200000112629003/\n",
      "https://bol.com/nl/p/samsung-galaxy-a21s-32gb-blauw/9300000000132994/\n",
      "https://bol.com/nl/p/samsung-galaxy-a42-5g-128gb-prism-dot-black/9300000010098436/\n",
      "https://bol.com/nl/p/samsung-galaxy-s20-fe-4g-128gb-cloud-navy/9300000008841647/\n",
      "https://bol.com/nl/p/apple-iphone-12-pro-128gb-oceaan-blauw/9300000013742251/\n",
      "https://bol.com/nl/p/samsung-galaxy-a01-core-16gb-zwart/9300000007420502/\n",
      "https://bol.com/nl/p/samsung-galaxy-a12-128gb-zwart/9300000019419396/\n",
      "https://bol.com/nl/p/samsung-galaxy-a10-32gb-zwart/9200000111950985/\n",
      "https://bol.com/nl/p/apple-iphone-11-64gb-zwart/9200000119815601/\n",
      "https://bol.com/nl/p/apple-iphone-xr-64gb-zwart/9200000098453451/\n",
      "https://bol.com/nl/p/apple-iphone-11-128gb-zwart/9200000119816199/\n",
      "https://bol.com/nl/p/samsung-galaxy-a12-sm-a125f-16-5-cm-dual-sim-4g-usb-type-c-4-gb-64-gb-5000-mah-blauw/9300000020208465/\n",
      "https://bol.com/nl/p/samsung-galaxy-s21-5g-128gb-phantom-gray/9300000020732481/\n"
     ]
    }
   ],
   "source": [
    "for url in my_phones:\n",
    "    print(url)\n",
    "     \n",
    "    my_json = get_productdata(url)\n",
    "    f = open(get_filename(),'a',encoding='utf-8')\n",
    "    f.write(json.dumps(my_json)+'\\n')\n",
    "    f.close()"
   ]
  },
  {
   "cell_type": "markdown",
   "metadata": {},
   "source": [
    "## Get all page urls TRIAL"
   ]
  },
  {
   "cell_type": "code",
   "execution_count": null,
   "metadata": {},
   "outputs": [],
   "source": [
    "# Function get pages test delete after\n",
    "def get_pages(url):\n",
    "    base_url = \"https://bol.com/nl/l/smartphones/N/4010/\"\n",
    "    page_urls = []\n",
    "\n",
    "    #fix counter range\n",
    "    for counter in range(1,98): #work with num_pages variable instead of fixed ranged\n",
    "        full_url = base_url + \"?page=\" + str(counter)\n",
    "        page_urls.append(full_url)\n",
    "    return(page_urls)"
   ]
  },
  {
   "cell_type": "code",
   "execution_count": null,
   "metadata": {},
   "outputs": [],
   "source": [
    "#test delete after\n",
    "my_urls = get_pages(my_urls)\n",
    "print(my_urls)"
   ]
  },
  {
   "cell_type": "code",
   "execution_count": null,
   "metadata": {},
   "outputs": [],
   "source": [
    "# Trialing to loop over each page in my_urls and then execute function my_phones\n",
    "for url in my_urls[0:5]:\n",
    "    print(url)\n",
    "    \n",
    "    my_phones = get_phones(my_urls)\n",
    "    f = open(get_filename(),'a',encoding='utf-8')\n",
    "    f.write(json.dumps(my_json)+'\\n')\n",
    "    f.close()"
   ]
  },
  {
   "cell_type": "markdown",
   "metadata": {},
   "source": [
    "## Delete all until next markdown"
   ]
  },
  {
   "cell_type": "code",
   "execution_count": null,
   "metadata": {},
   "outputs": [],
   "source": [
    "# Function get phone urls\n",
    "base_phone_url = \"https://bol.com\"\n",
    "def get_phones():\n",
    "    driver.get(\"https://www.bol.com/nl/l/smartphones/N/4010/\")\n",
    "    phones = soup.find_all(class_=\"product-item--row js_item_root\")\n",
    "    base_phone_url = \"https://bol.com\"\n",
    "    phones_urls = []\n",
    "    \n",
    "    for phone in phones: \n",
    "        phones_url = phone.find(\"a\").attrs[\"href\"]\n",
    "        full_phone_url = base_phone_url + str(phone)\n",
    "        phones_urls.append(full_phone_url)    \n",
    "        driver.execute_script('window.scrollTo(0, document.body.scrollHeight);')\n",
    "           \n",
    "    return(phones_urls)"
   ]
  },
  {
   "cell_type": "code",
   "execution_count": null,
   "metadata": {},
   "outputs": [],
   "source": [
    "# test phone page url, zero because we don't want the full list to be a string\n",
    "phone_page_url = base_phone_url + str(phones_urls[0])\n",
    "print(phone_page_url)"
   ]
  },
  {
   "cell_type": "code",
   "execution_count": null,
   "metadata": {},
   "outputs": [],
   "source": [
    "# Open product page\n",
    "driver.get(phone_page_url)"
   ]
  },
  {
   "cell_type": "code",
   "execution_count": null,
   "metadata": {},
   "outputs": [],
   "source": [
    "# phone page counter experiment\n",
    "def get_phones_pages():\n",
    "    base_phone_url = \"https://bol.com\"\n",
    "    phone_page_urls = []\n",
    "\n",
    "    for counter in range(1, 22):\n",
    "        phone_page_url = base_phone_url + str(phones_urls[(counter)])\n",
    "        phone_page_urls.append(phone_page_url)\n",
    "    return(phone_page_urls)"
   ]
  },
  {
   "cell_type": "code",
   "execution_count": null,
   "metadata": {},
   "outputs": [],
   "source": [
    "print(phone_page_urls)"
   ]
  },
  {
   "cell_type": "code",
   "execution_count": null,
   "metadata": {},
   "outputs": [],
   "source": [
    "# Function get pages (delete afterwords)\n",
    "def get_pages():\n",
    "    base_url = \"https://bol.com/nl/l/smartphones/N/4010/\"\n",
    "    page_urls = []\n",
    "\n",
    "    for counter in range(1, 98):\n",
    "        full_url = base_url + \"?page=\" + str(counter)\n",
    "        page_urls.append(full_url)\n",
    "    return(page_urls)"
   ]
  },
  {
   "cell_type": "code",
   "execution_count": null,
   "metadata": {},
   "outputs": [],
   "source": [
    "driver.get('https://www.bol.com' + str({phones_urls[0]}))"
   ]
  },
  {
   "cell_type": "markdown",
   "metadata": {},
   "source": [
    "## Delete above"
   ]
  },
  {
   "cell_type": "markdown",
   "metadata": {},
   "source": [
    "# variable collection trialing\n",
    "- Name\n",
    "- Price\n",
    "- Star rating\n",
    "- Number of reviews\n",
    "- Date"
   ]
  },
  {
   "cell_type": "markdown",
   "metadata": {},
   "source": [
    "### Packages and urls (to bo deleted when in function)"
   ]
  },
  {
   "cell_type": "code",
   "execution_count": null,
   "metadata": {},
   "outputs": [],
   "source": [
    "# Get TEST URL\n",
    "url = 'https://www.bol.com/nl/p/samsung-galaxy-a51-128gb-wit/9200000127101721/?s2a=#productTitle'\n",
    "res = requests.get(url)\n",
    "soup = BeautifulSoup(res.text, \"html.parser\")"
   ]
  },
  {
   "cell_type": "code",
   "execution_count": null,
   "metadata": {},
   "outputs": [],
   "source": [
    "# Get SELENIUM TEST URL\n",
    "driver.get(\"https://www.bol.com/nl/p/samsung-galaxy-a51-128gb-wit/9200000127101721/?s2a=#productTitle\")"
   ]
  },
  {
   "cell_type": "markdown",
   "metadata": {},
   "source": [
    "### Phone title"
   ]
  },
  {
   "cell_type": "code",
   "execution_count": null,
   "metadata": {},
   "outputs": [],
   "source": [
    "## Scrape phone title\n",
    "phone_title = soup.find(attrs={\"data-test\": \"title\"}).text\n",
    "print(phone_title)"
   ]
  },
  {
   "cell_type": "markdown",
   "metadata": {},
   "source": [
    "### Price"
   ]
  },
  {
   "cell_type": "code",
   "execution_count": null,
   "metadata": {},
   "outputs": [],
   "source": [
    "## Scrape price \n",
    "price = soup.find(attrs={\"data-test\": \"price\"}).text\n",
    "price = price.replace(\"\\n\", \"\")\n",
    "print(price)"
   ]
  },
  {
   "cell_type": "code",
   "execution_count": null,
   "metadata": {},
   "outputs": [],
   "source": [
    "## Scrape price fraction\n",
    "soup.find(attrs={\"data-test\": \"price-fraction\"}).text"
   ]
  },
  {
   "cell_type": "markdown",
   "metadata": {},
   "source": [
    "### Rating"
   ]
  },
  {
   "cell_type": "code",
   "execution_count": null,
   "metadata": {},
   "outputs": [],
   "source": [
    "## Scrape star rating and number of reviews\n",
    "star_rating = soup.find(attrs={\"data-test\": 'reviews'}).text\n",
    "star_rating = star_rating.replace(\"\\n\\n\\n\", \"\")\n",
    "print(star_rating)"
   ]
  },
  {
   "cell_type": "markdown",
   "metadata": {},
   "source": [
    "### Date"
   ]
  },
  {
   "cell_type": "code",
   "execution_count": null,
   "metadata": {},
   "outputs": [],
   "source": [
    "## DATE\n",
    "from datetime import date\n",
    "\n",
    "today = date.today()\n",
    "print(today)\n"
   ]
  },
  {
   "cell_type": "markdown",
   "metadata": {},
   "source": [
    "## Toon meer button WIP"
   ]
  },
  {
   "cell_type": "code",
   "execution_count": 40,
   "metadata": {},
   "outputs": [],
   "source": [
    "# Works\n",
    "show_more = driver.find_elements_by_class_name(\"show-more__button\")[1]\n",
    "show_more.click()"
   ]
  },
  {
   "cell_type": "code",
   "execution_count": 51,
   "metadata": {},
   "outputs": [
    {
     "name": "stdout",
     "output_type": "stream",
     "text": [
      "<selenium.webdriver.remote.webelement.WebElement (session=\"f58e666626e0c7e999849ec950460b74\", element=\"87052b06-28b9-4ef0-a509-5d1d92e7b935\")>\n"
     ]
    }
   ],
   "source": [
    "brand = driver.find_elements_by_class_name(\"specs__title\")[1]\n",
    "print(brand)"
   ]
  },
  {
   "cell_type": "code",
   "execution_count": 56,
   "metadata": {},
   "outputs": [
    {
     "name": "stdout",
     "output_type": "stream",
     "text": [
      "None\n"
     ]
    }
   ],
   "source": [
    "model = soup.find(attrs={\"date__value\": \"title\"})\n",
    "print(model)"
   ]
  },
  {
   "cell_type": "markdown",
   "metadata": {},
   "source": [
    "## Overbodig (prototyping)"
   ]
  },
  {
   "cell_type": "code",
   "execution_count": null,
   "metadata": {},
   "outputs": [],
   "source": [
    "## OVerbodig\n",
    "#collecting product links\n",
    "phones = soup.find_all(class_=\"product-item--row js_item_root\")\n",
    "phones_urls = []\n",
    "\n",
    "for phone in phones: \n",
    "    phones_url = phone.find(\"a\").attrs[\"href\"]\n",
    "    phones_urls.append(phones_url)\n",
    "    \n",
    "    driver.execute_script('window.scrollTo(0, document.body.scrollHeight);')\n",
    "    \n",
    "        \n",
    "# print first 20 urls for each page\n",
    "\n",
    "print(phones_urls[0:28])\n",
    "\n",
    "#We are able to scrape the first 21 hits on each page. Why aren't we able to print the last 6 of them?"
   ]
  },
  {
   "cell_type": "code",
   "execution_count": null,
   "metadata": {},
   "outputs": [],
   "source": [
    "## Overbodig\n",
    "## all smartphone pages\n",
    "base_url = \"https://bol.com/nl/l/smartphones/N/4010/\"\n",
    "page_urls = []\n",
    "\n",
    "for counter in range(1, 98):\n",
    "    full_url = base_url + \"?page=\" + str(counter)\n",
    "    page_urls.append(full_url)\n",
    "    \n",
    "print(page_urls)"
   ]
  },
  {
   "cell_type": "code",
   "execution_count": null,
   "metadata": {},
   "outputs": [],
   "source": [
    "## Overbodig\n",
    "#click next page button\n",
    "next_page = driver.find_elements_by_class_name(\"js_pagination_item\")[0]\n",
    "next_page.click()"
   ]
  },
  {
   "cell_type": "code",
   "execution_count": null,
   "metadata": {},
   "outputs": [],
   "source": [
    "## Overbodig\n",
    "#click next page button v2\n",
    "next_page = driver.find_elements_by_class_name(\"[ pagination__controls pagination__controls--next ]\")\n",
    "next_page.click()"
   ]
  },
  {
   "cell_type": "code",
   "execution_count": null,
   "metadata": {},
   "outputs": [],
   "source": [
    "## OVerbodig\n",
    "#Selenium get, product link test\n",
    "product_link = soup.find(class_=\"product-item--row js_item_root\").find(\"a\").attrs[\"href\"]\n",
    "base_url = \"https://bol.com\"\n",
    "\n",
    "print(base_url + product_link)"
   ]
  },
  {
   "cell_type": "code",
   "execution_count": null,
   "metadata": {},
   "outputs": [],
   "source": [
    "## Overbodig\n",
    "#collecting product links\n",
    "phones = soup.find_all(class_=\"product-item--row js_item_root\")\n",
    "phones_urls = []\n",
    "\n",
    "for phone in phones: \n",
    "    phones_url = phone.find(\"a\").attrs[\"href\"]\n",
    "    phones_urls.append(phones_url)\n",
    "    \n",
    "    driver.execute_script('window.scrollTo(0, document.body.scrollHeight);')\n",
    "    \n",
    "        \n",
    "# print first 20 urls for each page\n",
    "\n",
    "print(phones_urls[0:28])\n",
    "\n",
    "#We are able to scrape the first 21 hits on each page. Why aren't we able to print the last 6 of them?\n"
   ]
  },
  {
   "cell_type": "code",
   "execution_count": null,
   "metadata": {},
   "outputs": [],
   "source": []
  }
 ],
 "metadata": {
  "kernelspec": {
   "display_name": "Python 3",
   "language": "python",
   "name": "python3"
  },
  "language_info": {
   "codemirror_mode": {
    "name": "ipython",
    "version": 3
   },
   "file_extension": ".py",
   "mimetype": "text/x-python",
   "name": "python",
   "nbconvert_exporter": "python",
   "pygments_lexer": "ipython3",
   "version": "3.8.5"
  }
 },
 "nbformat": 4,
 "nbformat_minor": 4
}
