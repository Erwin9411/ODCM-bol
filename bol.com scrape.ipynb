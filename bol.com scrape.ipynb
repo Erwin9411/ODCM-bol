{
 "cells": [
  {
   "cell_type": "markdown",
   "metadata": {},
   "source": [
    "# bol.com\n",
    "scraper The purpose of this scraper is to scrape all the phones from bol.com to find out what are the prices for the different phones and what are the ratings per phone. \n",
    "\n",
    "## Structure \n",
    "To create a readable and understandable document the document will consist of several paragraphs, those are listed below: \n",
    "- Paragraph 1: Collecting the pages \n",
    "- Paragraph 2: Entering the right pages \n",
    "- Paragraph 3: Collecting the right information from the different pages \n",
    "\n",
    "### Paragraph 1 \n",
    "In paragraph 1 we will take the following steps:  \n",
    "- Importing the right packages and links Create the page urls for the different phones Create the links to all different bol.com pages with phones \n",
    "    - Step 1 In this step we will as said before starting with importing the right packages and links"
   ]
  },
  {
   "cell_type": "markdown",
   "metadata": {},
   "source": [
    "## Question for feedback session\n",
    "- How to open a weblink from a list of links."
   ]
  },
  {
   "cell_type": "code",
   "execution_count": 1,
   "metadata": {},
   "outputs": [],
   "source": [
    "from datetime import date\n",
    "import time\n",
    "import requests\n",
    "from bs4 import BeautifulSoup\n",
    "def connect():\n",
    "    global driver\n",
    "    #import packages\n",
    "    import selenium.webdriver\n",
    "    driver = selenium.webdriver.Chrome()\n",
    "    driver.get(\"https://www.bol.com/nl/l/smartphones/N/4010/\")\n",
    "        \n",
    "    time.sleep(5)\n",
    "    #accept coockies\n",
    "    accept = driver.find_elements_by_class_name(\"js-confirm-button\")[0]\n",
    "    accept.click()"
   ]
  },
  {
   "cell_type": "code",
   "execution_count": 2,
   "metadata": {},
   "outputs": [],
   "source": [
    "connect()"
   ]
  },
  {
   "cell_type": "markdown",
   "metadata": {},
   "source": [
    "# Modules"
   ]
  },
  {
   "cell_type": "markdown",
   "metadata": {},
   "source": [
    "- open product category\n",
    "- function: collect all page links (page1, page2, ...)\n",
    "- function: on each page, scroll down and collect all phones\n",
    "- function: open product page and collect attributes"
   ]
  },
  {
   "cell_type": "markdown",
   "metadata": {},
   "source": [
    "# get page urls"
   ]
  },
  {
   "cell_type": "code",
   "execution_count": 3,
   "metadata": {},
   "outputs": [
    {
     "data": {
      "text/plain": [
       "96"
      ]
     },
     "execution_count": 3,
     "metadata": {},
     "output_type": "execute_result"
    }
   ],
   "source": [
    "#Get max pages\n",
    "res = driver.page_source.encode('utf-8')\n",
    "soup = BeautifulSoup(res, \"html.parser\")\n",
    "page_numbers = soup.find_all(class_=\"js_pagination_item\")[4].text\n",
    "max_pages = int(page_numbers) + 1\n",
    "max_pages"
   ]
  },
  {
   "cell_type": "code",
   "execution_count": 4,
   "metadata": {},
   "outputs": [],
   "source": [
    "# Function get pages\n",
    "def get_pages():\n",
    "    base_url = \"https://bol.com/nl/l/smartphones/N/4010/\"\n",
    "    page_urls = []\n",
    "\n",
    "    #Counter range\n",
    "    for counter in range(1,max_pages): \n",
    "        full_url = base_url + \"?page=\" + str(counter)\n",
    "        page_urls.append(full_url)\n",
    "    return(page_urls)"
   ]
  },
  {
   "cell_type": "markdown",
   "metadata": {},
   "source": [
    "Execution"
   ]
  },
  {
   "cell_type": "code",
   "execution_count": 5,
   "metadata": {},
   "outputs": [
    {
     "name": "stdout",
     "output_type": "stream",
     "text": [
      "Category pages compiled!\n"
     ]
    }
   ],
   "source": [
    "my_urls = get_pages()\n",
    "print(\"Category pages compiled!\")"
   ]
  },
  {
   "cell_type": "markdown",
   "metadata": {},
   "source": [
    "## Retrieve phone urls"
   ]
  },
  {
   "cell_type": "code",
   "execution_count": 6,
   "metadata": {},
   "outputs": [],
   "source": [
    "# Function get phone urls\n",
    "\n",
    "def get_phones(my_urls):\n",
    "    base_phone_url = \"https://bol.com\" \n",
    "    phones_urls = []\n",
    "    for url in my_urls[:1]:\n",
    "        driver.get(url) \n",
    "        time.sleep(6)\n",
    "        res = driver.page_source.encode('utf-8')\n",
    "        soup = BeautifulSoup(res, \"html.parser\")\n",
    "\n",
    "\n",
    "        phones = soup.find_all(class_=\"product-item--row js_item_root\")\n",
    "        \n",
    "\n",
    "        for phone in phones: \n",
    "            phones_url = phone.find(\"a\").attrs[\"href\"]\n",
    "            full_url = base_phone_url + phones_url\n",
    "            phones_urls.append(full_url)\n",
    "\n",
    "            driver.execute_script('window.scrollTo(0, document.body.scrollHeight);')\n",
    "\n",
    "    return(phones_urls)\n"
   ]
  },
  {
   "cell_type": "code",
   "execution_count": 7,
   "metadata": {},
   "outputs": [],
   "source": [
    "phone_urls = get_phones(my_urls)"
   ]
  },
  {
   "cell_type": "code",
   "execution_count": 8,
   "metadata": {},
   "outputs": [
    {
     "name": "stdout",
     "output_type": "stream",
     "text": [
      "https://bol.com/nl/p/samsung-galaxy-a51-128gb-zwart/9200000127101717/\n",
      "https://bol.com/nl/p/samsung-galaxy-a20e-32gb-zwart/9200000109073236/\n",
      "https://bol.com/nl/p/samsung-galaxy-a52-4g-128gb-awesome-black/9300000020732477/\n",
      "https://bol.com/nl/p/samsung-galaxy-a41-64gb-zwart/9300000000132992/\n",
      "https://bol.com/nl/p/apple-iphone-se-64gb-zwart/9300000000886605/\n",
      "https://bol.com/nl/p/samsung-galaxy-a71-128gb-zwart/9200000127101810/\n",
      "https://bol.com/nl/p/samsung-galaxy-a52-5g-128gb-awesome-black/9300000023366015/\n",
      "https://bol.com/nl/p/samsung-galaxy-a21s-128gb-zwart/9300000015820720/\n",
      "https://bol.com/nl/p/samsung-galaxy-a12-128gb-zwart/9300000019419396/\n",
      "https://bol.com/nl/p/apple-iphone-12-64gb-zwart/9300000013742278/\n",
      "https://bol.com/nl/p/alcatel-1c-3g-8gb-zwart/9200000112629003/\n",
      "https://bol.com/nl/p/apple-iphone-11-64gb-zwart/9200000119815601/\n",
      "https://bol.com/nl/p/motorola-moto-e6-play-32gb-steel-black/9200000122803221/\n",
      "https://bol.com/nl/p/samsung-galaxy-s20-fe-4g-128gb-cloud-navy/9300000008841647/\n",
      "https://bol.com/nl/p/samsung-galaxy-a10-32gb-zwart/9200000111950985/\n",
      "https://bol.com/nl/p/samsung-galaxy-a01-core-16gb-zwart/9300000007420502/\n",
      "https://bol.com/nl/p/samsung-galaxy-a40-64gb-zwart/9200000107463262/\n",
      "https://bol.com/nl/p/samsung-galaxy-a21s-32gb-blauw/9300000000132994/\n",
      "https://bol.com/nl/p/samsung-galaxy-a42-5g-128gb-prism-dot-black/9300000010098436/\n",
      "https://bol.com/nl/p/apple-iphone-12-pro-128gb-oceaan-blauw/9300000013742251/\n",
      "https://bol.com/nl/p/samsung-galaxy-s10e-128gb-prism-zwart/9200000106450648/\n",
      "https://bol.com/nl/p/samsung-galaxy-a12-64gb-zwart/9300000020208465/\n",
      "https://bol.com/nl/p/apple-iphone-xr-64gb-zwart/9200000098453451/\n"
     ]
    }
   ],
   "source": [
    "for url in phone_urls:\n",
    "    print(url)"
   ]
  },
  {
   "cell_type": "code",
   "execution_count": 9,
   "metadata": {},
   "outputs": [],
   "source": [
    "#Create phone list.csv\n",
    "fn=\"bol_phone_list.csv\"\n",
    "f=open(fn,'w',encoding='utf-8')\n",
    "for url in phone_urls:\n",
    "    f.write(url+'\\n')\n",
    "f.close()\n"
   ]
  },
  {
   "cell_type": "markdown",
   "metadata": {},
   "source": [
    "## Input phone list file"
   ]
  },
  {
   "cell_type": "code",
   "execution_count": 10,
   "metadata": {},
   "outputs": [],
   "source": [
    "#Retrieve phone list and put in list\n",
    "f = open('bol_phone_list.csv', 'r', encoding='utf-8').readlines()\n",
    "all_phone_urls = []\n",
    "for i in f: all_phone_urls.append(i.replace('\\n',''))"
   ]
  },
  {
   "cell_type": "code",
   "execution_count": 11,
   "metadata": {},
   "outputs": [
    {
     "data": {
      "text/plain": [
       "['https://bol.com/nl/p/samsung-galaxy-a51-128gb-zwart/9200000127101717/',\n",
       " 'https://bol.com/nl/p/samsung-galaxy-a20e-32gb-zwart/9200000109073236/',\n",
       " 'https://bol.com/nl/p/samsung-galaxy-a52-4g-128gb-awesome-black/9300000020732477/',\n",
       " 'https://bol.com/nl/p/samsung-galaxy-a41-64gb-zwart/9300000000132992/',\n",
       " 'https://bol.com/nl/p/apple-iphone-se-64gb-zwart/9300000000886605/',\n",
       " 'https://bol.com/nl/p/samsung-galaxy-a71-128gb-zwart/9200000127101810/',\n",
       " 'https://bol.com/nl/p/samsung-galaxy-a52-5g-128gb-awesome-black/9300000023366015/',\n",
       " 'https://bol.com/nl/p/samsung-galaxy-a21s-128gb-zwart/9300000015820720/',\n",
       " 'https://bol.com/nl/p/samsung-galaxy-a12-128gb-zwart/9300000019419396/',\n",
       " 'https://bol.com/nl/p/apple-iphone-12-64gb-zwart/9300000013742278/',\n",
       " 'https://bol.com/nl/p/alcatel-1c-3g-8gb-zwart/9200000112629003/',\n",
       " 'https://bol.com/nl/p/apple-iphone-11-64gb-zwart/9200000119815601/',\n",
       " 'https://bol.com/nl/p/motorola-moto-e6-play-32gb-steel-black/9200000122803221/',\n",
       " 'https://bol.com/nl/p/samsung-galaxy-s20-fe-4g-128gb-cloud-navy/9300000008841647/',\n",
       " 'https://bol.com/nl/p/samsung-galaxy-a10-32gb-zwart/9200000111950985/',\n",
       " 'https://bol.com/nl/p/samsung-galaxy-a01-core-16gb-zwart/9300000007420502/',\n",
       " 'https://bol.com/nl/p/samsung-galaxy-a40-64gb-zwart/9200000107463262/',\n",
       " 'https://bol.com/nl/p/samsung-galaxy-a21s-32gb-blauw/9300000000132994/',\n",
       " 'https://bol.com/nl/p/samsung-galaxy-a42-5g-128gb-prism-dot-black/9300000010098436/',\n",
       " 'https://bol.com/nl/p/apple-iphone-12-pro-128gb-oceaan-blauw/9300000013742251/',\n",
       " 'https://bol.com/nl/p/samsung-galaxy-s10e-128gb-prism-zwart/9200000106450648/',\n",
       " 'https://bol.com/nl/p/samsung-galaxy-a12-64gb-zwart/9300000020208465/',\n",
       " 'https://bol.com/nl/p/apple-iphone-xr-64gb-zwart/9200000098453451/']"
      ]
     },
     "execution_count": 11,
     "metadata": {},
     "output_type": "execute_result"
    }
   ],
   "source": [
    "all_phone_urls"
   ]
  },
  {
   "cell_type": "markdown",
   "metadata": {},
   "source": [
    "## Get data from phone urls"
   ]
  },
  {
   "cell_type": "code",
   "execution_count": 12,
   "metadata": {},
   "outputs": [],
   "source": [
    "# Function to retrieve the data from the phone list\n",
    "def get_product_data(all_phone_urls):\n",
    "    driver.get(url)\n",
    "    time.sleep(6)\n",
    "    res = driver.page_source.encode('utf-8')\n",
    "    soup = BeautifulSoup(res, \"html.parser\")\n",
    "\n",
    "    #get prodcuts\n",
    "    title = soup.find(attrs={\"data-test\": \"title\"}).text\n",
    "    def brand_title():\n",
    "        for brand_title in all_phone_urls:\n",
    "            try:\n",
    "                brand_title = driver.find_elements_by_class_name(\"specs__party\")[0].text\n",
    "                return(brand_title)\n",
    "            except:\n",
    "                continue\n",
    "    def model():\n",
    "        for model in all_phone_urls:\n",
    "            try:\n",
    "                model = driver.find_elements_by_tag_name(\"dd\")[1].text\n",
    "                return(model)\n",
    "            except:\n",
    "                continue\n",
    "    def price():\n",
    "        for price in all_phone_urls:\n",
    "            try:\n",
    "                price = driver.find_elements_by_class_name(\"price-block__price\")[0].text\n",
    "                price = price.replace(\"\\n\", \",\")\n",
    "                return(price)\n",
    "            except:\n",
    "                continue\n",
    "    def star_rating():\n",
    "        for star_rating in all_phone_urls:\n",
    "            try:\n",
    "                star_rating = soup.find(attrs={\"data-test\": 'reviews'}).text\n",
    "                star_rating = star_rating.replace(\"\\n\\n\\n\", \"\")\n",
    "                star_rating = star_rating.replace(\" \",\"/\")\n",
    "                return(star_rating)\n",
    "            except:\n",
    "                continue\n",
    "    \n",
    "    def get_ean():\n",
    "        all_specs = driver.find_elements_by_class_name(\"specs__list\")    \n",
    "        for counter in range(0,10):\n",
    "            for spec in all_specs:\n",
    "\n",
    "        ## for each dt in test\n",
    "                try:\n",
    "                    if driver.find_elements_by_tag_name(\"dt\")[counter].text == \"EAN\":\n",
    "                        return(driver.find_elements_by_tag_name(\"dd\")[counter].text)\n",
    "                        break\n",
    "\n",
    "                    else: \n",
    "\n",
    "                        break\n",
    "\n",
    "                except: continue           \n",
    "                \n",
    "    today = date.today()\n",
    "\n",
    "    jsondict = {\"title\": title,\n",
    "                \"brand\": brand_title(),\n",
    "                \"model\": model(),\n",
    "                \"price\": price(),\n",
    "                \"star_rating\": star_rating(),\n",
    "                \"EAN\": get_ean(),\n",
    "                \"date\": str(today)}\n",
    "\n",
    "    return(jsondict)\n",
    "    "
   ]
  },
  {
   "cell_type": "code",
   "execution_count": 13,
   "metadata": {},
   "outputs": [
    {
     "data": {
      "text/plain": [
       "{'title': 'Apple iPhone XR - 64GB - Zwart',\n",
       " 'brand': 'Apple',\n",
       " 'model': 'iPhone XR',\n",
       " 'price': '524,-',\n",
       " 'star_rating': '\\n4.8/5\\n119/reviews\\n',\n",
       " 'EAN': '0194252140789',\n",
       " 'date': '2021-03-23'}"
      ]
     },
     "execution_count": 13,
     "metadata": {},
     "output_type": "execute_result"
    }
   ],
   "source": [
    "bol_json = get_product_data(all_phone_urls[0])\n",
    "bol_json"
   ]
  },
  {
   "cell_type": "code",
   "execution_count": 14,
   "metadata": {},
   "outputs": [],
   "source": [
    "# Create json file with phone data\n",
    "f = open('test_bol_phone_data.json','w',encoding='utf-8')\n",
    "f.close()"
   ]
  },
  {
   "cell_type": "code",
   "execution_count": 15,
   "metadata": {},
   "outputs": [],
   "source": [
    "# Create json file with phone data\n",
    "import json\n",
    "\n",
    "def get_filename(prefix='test_data_bol_phones_', suffix='.csv'):\n",
    "    timestr = time.strftime(\"%Y%m%d\")\n",
    "    return(prefix + timestr + suffix)"
   ]
  },
  {
   "cell_type": "code",
   "execution_count": 16,
   "metadata": {},
   "outputs": [
    {
     "data": {
      "text/plain": [
       "'test_data_bol_phones_20210323.csv'"
      ]
     },
     "execution_count": 16,
     "metadata": {},
     "output_type": "execute_result"
    }
   ],
   "source": [
    "get_filename()"
   ]
  },
  {
   "cell_type": "code",
   "execution_count": 17,
   "metadata": {},
   "outputs": [
    {
     "name": "stdout",
     "output_type": "stream",
     "text": [
      "https://bol.com/nl/p/samsung-galaxy-a51-128gb-zwart/9200000127101717/\n",
      "https://bol.com/nl/p/samsung-galaxy-a20e-32gb-zwart/9200000109073236/\n",
      "https://bol.com/nl/p/samsung-galaxy-a52-4g-128gb-awesome-black/9300000020732477/\n",
      "https://bol.com/nl/p/samsung-galaxy-a41-64gb-zwart/9300000000132992/\n",
      "https://bol.com/nl/p/apple-iphone-se-64gb-zwart/9300000000886605/\n",
      "https://bol.com/nl/p/samsung-galaxy-a71-128gb-zwart/9200000127101810/\n",
      "https://bol.com/nl/p/samsung-galaxy-a52-5g-128gb-awesome-black/9300000023366015/\n",
      "https://bol.com/nl/p/samsung-galaxy-a21s-128gb-zwart/9300000015820720/\n",
      "https://bol.com/nl/p/samsung-galaxy-a12-128gb-zwart/9300000019419396/\n",
      "https://bol.com/nl/p/apple-iphone-12-64gb-zwart/9300000013742278/\n",
      "https://bol.com/nl/p/alcatel-1c-3g-8gb-zwart/9200000112629003/\n",
      "https://bol.com/nl/p/apple-iphone-11-64gb-zwart/9200000119815601/\n",
      "https://bol.com/nl/p/motorola-moto-e6-play-32gb-steel-black/9200000122803221/\n",
      "https://bol.com/nl/p/samsung-galaxy-s20-fe-4g-128gb-cloud-navy/9300000008841647/\n",
      "https://bol.com/nl/p/samsung-galaxy-a10-32gb-zwart/9200000111950985/\n",
      "https://bol.com/nl/p/samsung-galaxy-a01-core-16gb-zwart/9300000007420502/\n",
      "https://bol.com/nl/p/samsung-galaxy-a40-64gb-zwart/9200000107463262/\n",
      "https://bol.com/nl/p/samsung-galaxy-a21s-32gb-blauw/9300000000132994/\n",
      "https://bol.com/nl/p/samsung-galaxy-a42-5g-128gb-prism-dot-black/9300000010098436/\n",
      "https://bol.com/nl/p/apple-iphone-12-pro-128gb-oceaan-blauw/9300000013742251/\n",
      "https://bol.com/nl/p/samsung-galaxy-s10e-128gb-prism-zwart/9200000106450648/\n",
      "https://bol.com/nl/p/samsung-galaxy-a12-64gb-zwart/9300000020208465/\n",
      "https://bol.com/nl/p/apple-iphone-xr-64gb-zwart/9200000098453451/\n"
     ]
    }
   ],
   "source": [
    "for url in all_phone_urls:\n",
    "    print(url)\n",
    "     \n",
    "    bol_json = get_product_data(url)\n",
    "    f = open(get_filename(),'a',encoding='utf-8')\n",
    "    f.write(json.dumps(bol_json)+'\\n')\n",
    "    f.close()"
   ]
  }
 ],
 "metadata": {
  "kernelspec": {
   "display_name": "Python 3",
   "language": "python",
   "name": "python3"
  },
  "language_info": {
   "codemirror_mode": {
    "name": "ipython",
    "version": 3
   },
   "file_extension": ".py",
   "mimetype": "text/x-python",
   "name": "python",
   "nbconvert_exporter": "python",
   "pygments_lexer": "ipython3",
   "version": "3.8.5"
  }
 },
 "nbformat": 4,
 "nbformat_minor": 4
}
