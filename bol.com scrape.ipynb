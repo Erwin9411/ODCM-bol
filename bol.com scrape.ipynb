{
 "cells": [
  {
   "cell_type": "markdown",
   "metadata": {},
   "source": [
    "# bol.com\n",
    "scraper The purpose of this scraper is to scrape all the phones from bol.com to find out what are the prices for the different phones and what are the ratings per phone. \n",
    "\n",
    "## Structure \n",
    "To create a readable and understandable document the document will consist of several paragraphs, those are listed below: \n",
    "- Paragraph 1: Collecting the pages \n",
    "- Paragraph 2: Entering the right pages \n",
    "- Paragraph 3: Collecting the right information from the different pages \n",
    "\n",
    "### Paragraph 1 \n",
    "In paragraph 1 we will take the following steps:  \n",
    "- Importing the right packages and links Create the page urls for the different phones Create the links to all different bol.com pages with phones \n",
    "    - Step 1 In this step we will as said before starting with importing the right packages and links"
   ]
  },
  {
   "cell_type": "markdown",
   "metadata": {},
   "source": [
    "## Question for feedback session\n",
    "- How to open a weblink from a list of links."
   ]
  },
  {
   "cell_type": "code",
   "execution_count": 24,
   "metadata": {},
   "outputs": [],
   "source": [
    "from datetime import date\n",
    "import time\n",
    "import pandas as pd\n",
    "import requests\n",
    "from bs4 import BeautifulSoup\n",
    "def connect():\n",
    "    global driver\n",
    "    #import packages\n",
    "    import selenium.webdriver\n",
    "    driver = selenium.webdriver.Chrome()\n",
    "    driver.get(\"https://www.bol.com/nl/l/smartphones/N/4010/\")\n",
    "        \n",
    "    time.sleep(5)\n",
    "    #accept coockies\n",
    "    accept = driver.find_elements_by_class_name(\"js-confirm-button\")[0]\n",
    "    accept.click()"
   ]
  },
  {
   "cell_type": "code",
   "execution_count": 25,
   "metadata": {},
   "outputs": [],
   "source": [
    "connect()"
   ]
  },
  {
   "cell_type": "code",
   "execution_count": null,
   "metadata": {},
   "outputs": [],
   "source": [
    " #yet to import\n",
    "    #import numpy as np\n",
    "\n",
    "    #df = pd.DataFrame(np.random.randn(10, 5))\n",
    "    #df.head()"
   ]
  },
  {
   "cell_type": "markdown",
   "metadata": {},
   "source": [
    "# Modules"
   ]
  },
  {
   "cell_type": "markdown",
   "metadata": {},
   "source": [
    "- open product category\n",
    "- function: collect all page links (page1, page2, ...)\n",
    "- function: on each page, scroll down and collect all phones\n",
    "- function: open product page and collect attributes"
   ]
  },
  {
   "cell_type": "code",
   "execution_count": null,
   "metadata": {},
   "outputs": [],
   "source": [
    "# Beautiful soup\n",
    "#url = 'https://www.bol.com/nl/l/smartphones/N/4010/'\n",
    "#res = requests.get(url)\n",
    "#soup = BeautifulSoup(res.text, \"html.parser\")"
   ]
  },
  {
   "cell_type": "markdown",
   "metadata": {},
   "source": [
    "# get page urls"
   ]
  },
  {
   "cell_type": "code",
   "execution_count": 26,
   "metadata": {},
   "outputs": [],
   "source": [
    "# Function get pages\n",
    "def get_pages():\n",
    "    base_url = \"https://bol.com/nl/l/smartphones/N/4010/\"\n",
    "    page_urls = []\n",
    "\n",
    "    #fix counter range\n",
    "    for counter in range(1,98): #work with num_pages variable instead of fixed ranged\n",
    "        full_url = base_url + \"?page=\" + str(counter)\n",
    "        page_urls.append(full_url)\n",
    "    return(page_urls)"
   ]
  },
  {
   "cell_type": "markdown",
   "metadata": {},
   "source": [
    "Execution"
   ]
  },
  {
   "cell_type": "code",
   "execution_count": 27,
   "metadata": {},
   "outputs": [
    {
     "name": "stdout",
     "output_type": "stream",
     "text": [
      "page urls compiled!\n",
      "['https://bol.com/nl/l/smartphones/N/4010/?page=1', 'https://bol.com/nl/l/smartphones/N/4010/?page=2', 'https://bol.com/nl/l/smartphones/N/4010/?page=3', 'https://bol.com/nl/l/smartphones/N/4010/?page=4', 'https://bol.com/nl/l/smartphones/N/4010/?page=5', 'https://bol.com/nl/l/smartphones/N/4010/?page=6', 'https://bol.com/nl/l/smartphones/N/4010/?page=7', 'https://bol.com/nl/l/smartphones/N/4010/?page=8', 'https://bol.com/nl/l/smartphones/N/4010/?page=9', 'https://bol.com/nl/l/smartphones/N/4010/?page=10', 'https://bol.com/nl/l/smartphones/N/4010/?page=11', 'https://bol.com/nl/l/smartphones/N/4010/?page=12', 'https://bol.com/nl/l/smartphones/N/4010/?page=13', 'https://bol.com/nl/l/smartphones/N/4010/?page=14', 'https://bol.com/nl/l/smartphones/N/4010/?page=15', 'https://bol.com/nl/l/smartphones/N/4010/?page=16', 'https://bol.com/nl/l/smartphones/N/4010/?page=17', 'https://bol.com/nl/l/smartphones/N/4010/?page=18', 'https://bol.com/nl/l/smartphones/N/4010/?page=19', 'https://bol.com/nl/l/smartphones/N/4010/?page=20', 'https://bol.com/nl/l/smartphones/N/4010/?page=21', 'https://bol.com/nl/l/smartphones/N/4010/?page=22', 'https://bol.com/nl/l/smartphones/N/4010/?page=23', 'https://bol.com/nl/l/smartphones/N/4010/?page=24', 'https://bol.com/nl/l/smartphones/N/4010/?page=25', 'https://bol.com/nl/l/smartphones/N/4010/?page=26', 'https://bol.com/nl/l/smartphones/N/4010/?page=27', 'https://bol.com/nl/l/smartphones/N/4010/?page=28', 'https://bol.com/nl/l/smartphones/N/4010/?page=29', 'https://bol.com/nl/l/smartphones/N/4010/?page=30', 'https://bol.com/nl/l/smartphones/N/4010/?page=31', 'https://bol.com/nl/l/smartphones/N/4010/?page=32', 'https://bol.com/nl/l/smartphones/N/4010/?page=33', 'https://bol.com/nl/l/smartphones/N/4010/?page=34', 'https://bol.com/nl/l/smartphones/N/4010/?page=35', 'https://bol.com/nl/l/smartphones/N/4010/?page=36', 'https://bol.com/nl/l/smartphones/N/4010/?page=37', 'https://bol.com/nl/l/smartphones/N/4010/?page=38', 'https://bol.com/nl/l/smartphones/N/4010/?page=39', 'https://bol.com/nl/l/smartphones/N/4010/?page=40', 'https://bol.com/nl/l/smartphones/N/4010/?page=41', 'https://bol.com/nl/l/smartphones/N/4010/?page=42', 'https://bol.com/nl/l/smartphones/N/4010/?page=43', 'https://bol.com/nl/l/smartphones/N/4010/?page=44', 'https://bol.com/nl/l/smartphones/N/4010/?page=45', 'https://bol.com/nl/l/smartphones/N/4010/?page=46', 'https://bol.com/nl/l/smartphones/N/4010/?page=47', 'https://bol.com/nl/l/smartphones/N/4010/?page=48', 'https://bol.com/nl/l/smartphones/N/4010/?page=49', 'https://bol.com/nl/l/smartphones/N/4010/?page=50', 'https://bol.com/nl/l/smartphones/N/4010/?page=51', 'https://bol.com/nl/l/smartphones/N/4010/?page=52', 'https://bol.com/nl/l/smartphones/N/4010/?page=53', 'https://bol.com/nl/l/smartphones/N/4010/?page=54', 'https://bol.com/nl/l/smartphones/N/4010/?page=55', 'https://bol.com/nl/l/smartphones/N/4010/?page=56', 'https://bol.com/nl/l/smartphones/N/4010/?page=57', 'https://bol.com/nl/l/smartphones/N/4010/?page=58', 'https://bol.com/nl/l/smartphones/N/4010/?page=59', 'https://bol.com/nl/l/smartphones/N/4010/?page=60', 'https://bol.com/nl/l/smartphones/N/4010/?page=61', 'https://bol.com/nl/l/smartphones/N/4010/?page=62', 'https://bol.com/nl/l/smartphones/N/4010/?page=63', 'https://bol.com/nl/l/smartphones/N/4010/?page=64', 'https://bol.com/nl/l/smartphones/N/4010/?page=65', 'https://bol.com/nl/l/smartphones/N/4010/?page=66', 'https://bol.com/nl/l/smartphones/N/4010/?page=67', 'https://bol.com/nl/l/smartphones/N/4010/?page=68', 'https://bol.com/nl/l/smartphones/N/4010/?page=69', 'https://bol.com/nl/l/smartphones/N/4010/?page=70', 'https://bol.com/nl/l/smartphones/N/4010/?page=71', 'https://bol.com/nl/l/smartphones/N/4010/?page=72', 'https://bol.com/nl/l/smartphones/N/4010/?page=73', 'https://bol.com/nl/l/smartphones/N/4010/?page=74', 'https://bol.com/nl/l/smartphones/N/4010/?page=75', 'https://bol.com/nl/l/smartphones/N/4010/?page=76', 'https://bol.com/nl/l/smartphones/N/4010/?page=77', 'https://bol.com/nl/l/smartphones/N/4010/?page=78', 'https://bol.com/nl/l/smartphones/N/4010/?page=79', 'https://bol.com/nl/l/smartphones/N/4010/?page=80', 'https://bol.com/nl/l/smartphones/N/4010/?page=81', 'https://bol.com/nl/l/smartphones/N/4010/?page=82', 'https://bol.com/nl/l/smartphones/N/4010/?page=83', 'https://bol.com/nl/l/smartphones/N/4010/?page=84', 'https://bol.com/nl/l/smartphones/N/4010/?page=85', 'https://bol.com/nl/l/smartphones/N/4010/?page=86', 'https://bol.com/nl/l/smartphones/N/4010/?page=87', 'https://bol.com/nl/l/smartphones/N/4010/?page=88', 'https://bol.com/nl/l/smartphones/N/4010/?page=89', 'https://bol.com/nl/l/smartphones/N/4010/?page=90', 'https://bol.com/nl/l/smartphones/N/4010/?page=91', 'https://bol.com/nl/l/smartphones/N/4010/?page=92', 'https://bol.com/nl/l/smartphones/N/4010/?page=93', 'https://bol.com/nl/l/smartphones/N/4010/?page=94', 'https://bol.com/nl/l/smartphones/N/4010/?page=95', 'https://bol.com/nl/l/smartphones/N/4010/?page=96', 'https://bol.com/nl/l/smartphones/N/4010/?page=97']\n"
     ]
    }
   ],
   "source": [
    "my_urls = get_pages()\n",
    "print('page urls compiled!')\n",
    "print(my_urls) #<- delete after"
   ]
  },
  {
   "cell_type": "markdown",
   "metadata": {},
   "source": [
    "## Retrieve phone urls"
   ]
  },
  {
   "cell_type": "code",
   "execution_count": 28,
   "metadata": {},
   "outputs": [],
   "source": [
    "# Function get phone urls\n",
    "def get_phones(my_urls):\n",
    "    base_phone_url = \"https://bol.com\" \n",
    "    driver.get(url) #changed the link from base catergory link ...4010/\n",
    "    res = driver.page_source.encode('utf-8')\n",
    "    soup = BeautifulSoup(res, \"html.parser\")\n",
    "    \n",
    "    \n",
    "    phones = soup.find_all(class_=\"product-item--row js_item_root\")\n",
    "    phones_urls = []\n",
    "    \n",
    "    for phone in phones: \n",
    "        phones_url = phone.find(\"a\").attrs[\"href\"]\n",
    "        full_url = base_phone_url + phones_url\n",
    "        phones_urls.append(full_url)\n",
    "            \n",
    "        driver.execute_script('window.scrollTo(0, document.body.scrollHeight);')\n",
    "           \n",
    "    return(phones_urls)"
   ]
  },
  {
   "cell_type": "code",
   "execution_count": 15,
   "metadata": {},
   "outputs": [
    {
     "ename": "NameError",
     "evalue": "name 'url' is not defined",
     "output_type": "error",
     "traceback": [
      "\u001b[1;31m---------------------------------------------------------------------------\u001b[0m",
      "\u001b[1;31mNameError\u001b[0m                                 Traceback (most recent call last)",
      "\u001b[1;32m<ipython-input-15-225b95f26b92>\u001b[0m in \u001b[0;36m<module>\u001b[1;34m\u001b[0m\n\u001b[0;32m      1\u001b[0m \u001b[1;31m#fn=\"my_ouput.csv\"\u001b[0m\u001b[1;33m\u001b[0m\u001b[1;33m\u001b[0m\u001b[1;33m\u001b[0m\u001b[0m\n\u001b[1;32m----> 2\u001b[1;33m \u001b[0mmy_phones\u001b[0m \u001b[1;33m=\u001b[0m \u001b[0mget_phones\u001b[0m\u001b[1;33m(\u001b[0m\u001b[0mmy_urls\u001b[0m\u001b[1;33m)\u001b[0m\u001b[1;33m\u001b[0m\u001b[1;33m\u001b[0m\u001b[0m\n\u001b[0m\u001b[0;32m      3\u001b[0m \u001b[0mprint\u001b[0m\u001b[1;33m(\u001b[0m\u001b[0mmy_phones\u001b[0m\u001b[1;33m)\u001b[0m \u001b[1;31m# <-delete after\u001b[0m\u001b[1;33m\u001b[0m\u001b[1;33m\u001b[0m\u001b[0m\n",
      "\u001b[1;32m<ipython-input-14-75b8c51d90c1>\u001b[0m in \u001b[0;36mget_phones\u001b[1;34m(my_urls)\u001b[0m\n\u001b[0;32m      2\u001b[0m \u001b[1;32mdef\u001b[0m \u001b[0mget_phones\u001b[0m\u001b[1;33m(\u001b[0m\u001b[0mmy_urls\u001b[0m\u001b[1;33m)\u001b[0m\u001b[1;33m:\u001b[0m\u001b[1;33m\u001b[0m\u001b[1;33m\u001b[0m\u001b[0m\n\u001b[0;32m      3\u001b[0m     \u001b[0mbase_phone_url\u001b[0m \u001b[1;33m=\u001b[0m \u001b[1;34m\"https://bol.com\"\u001b[0m\u001b[1;33m\u001b[0m\u001b[1;33m\u001b[0m\u001b[0m\n\u001b[1;32m----> 4\u001b[1;33m     \u001b[0mdriver\u001b[0m\u001b[1;33m.\u001b[0m\u001b[0mget\u001b[0m\u001b[1;33m(\u001b[0m\u001b[0murl\u001b[0m\u001b[1;33m)\u001b[0m \u001b[1;31m#changed the link from base catergory link ...4010/\u001b[0m\u001b[1;33m\u001b[0m\u001b[1;33m\u001b[0m\u001b[0m\n\u001b[0m\u001b[0;32m      5\u001b[0m     \u001b[0mres\u001b[0m \u001b[1;33m=\u001b[0m \u001b[0mdriver\u001b[0m\u001b[1;33m.\u001b[0m\u001b[0mpage_source\u001b[0m\u001b[1;33m.\u001b[0m\u001b[0mencode\u001b[0m\u001b[1;33m(\u001b[0m\u001b[1;34m'utf-8'\u001b[0m\u001b[1;33m)\u001b[0m\u001b[1;33m\u001b[0m\u001b[1;33m\u001b[0m\u001b[0m\n\u001b[0;32m      6\u001b[0m     \u001b[0msoup\u001b[0m \u001b[1;33m=\u001b[0m \u001b[0mBeautifulSoup\u001b[0m\u001b[1;33m(\u001b[0m\u001b[0mres\u001b[0m\u001b[1;33m,\u001b[0m \u001b[1;34m\"html.parser\"\u001b[0m\u001b[1;33m)\u001b[0m\u001b[1;33m\u001b[0m\u001b[1;33m\u001b[0m\u001b[0m\n",
      "\u001b[1;31mNameError\u001b[0m: name 'url' is not defined"
     ]
    }
   ],
   "source": [
    "#fn=\"my_ouput.csv\"\n",
    "my_phones = get_phones(my_urls) \n",
    "print(my_phones) # <-delete after"
   ]
  },
  {
   "cell_type": "code",
   "execution_count": 33,
   "metadata": {},
   "outputs": [
    {
     "name": "stdout",
     "output_type": "stream",
     "text": [
      "'https://bol.com/nl/p/samsung-galaxy-a51-128gb-zwart/9200000127101717/', 'https://bol.com/nl/p/samsung-galaxy-a20e-32gb-zwart/9200000109073236/', 'https://bol.com/nl/p/samsung-galaxy-a41-64gb-zwart/9300000000132992/', 'https://bol.com/nl/p/samsung-galaxy-a71-128gb-zwart/9200000127101810/', 'https://bol.com/nl/p/apple-iphone-se-64gb-zwart/9300000000886605/', 'https://bol.com/nl/p/samsung-galaxy-a21s-64gb-zwart/9300000000132986/', 'https://bol.com/nl/p/apple-iphone-12-64gb-zwart/9300000013742278/', 'https://bol.com/nl/p/alcatel-1c-3g-8gb-zwart/9200000112629003/', 'https://bol.com/nl/p/motorola-moto-e6-play-32gb-steel-black/9200000122803221/', 'https://bol.com/nl/p/samsung-galaxy-s20-fe-4g-128gb-cloud-navy/9300000008841647/', 'https://bol.com/nl/p/apple-iphone-11-64gb-zwart/9200000119815601/', 'https://bol.com/nl/p/samsung-galaxy-a12-128gb-zwart/9300000019419396/', 'https://bol.com/nl/p/samsung-galaxy-a21s-32gb-blauw/9300000000132994/', 'https://bol.com/nl/p/samsung-galaxy-a42-5g-128gb-prism-dot-black/9300000010098436/', 'https://bol.com/nl/p/samsung-galaxy-a01-core-16gb-zwart/9300000007420502/', 'https://bol.com/nl/p/apple-iphone-12-pro-128gb-oceaan-blauw/9300000013742251/', 'https://bol.com/nl/p/samsung-galaxy-a10-32gb-zwart/9200000111950985/', 'https://bol.com/nl/p/samsung-galaxy-a21s-128gb-zwart/9300000015820720/', 'https://bol.com/nl/p/apple-iphone-xr-64gb-zwart/9200000098453451/', 'https://bol.com/nl/p/samsung-galaxy-a12-64gb-zwart/9300000020208465/', 'https://bol.com/nl/p/samsung-galaxy-s21-5g-128gb-phantom-gray/9300000020732481/'\n",
      "'https://bol.com/nl/p/samsung-galaxy-a20e-dual-sim-32gb-blauw/9300000002133409/', 'https://bol.com/nl/p/samsung-galaxy-a40-64gb-zwart/9200000107463262/', 'https://bol.com/nl/p/apple-iphone-12-mini-64gb-zwart/9300000013742257/', 'https://bol.com/nl/p/apple-iphone-11-128gb-zwart/9200000119816199/', 'https://bol.com/nl/p/samsung-galaxy-s10e-128gb-prism-zwart/9200000106450648/', 'https://bol.com/nl/p/samsung-galaxy-a50-128gb-zwart/9200000106883561/', 'https://bol.com/nl/p/samsung-galaxy-a10-32gb-blauw/9200000111950979/', 'https://bol.com/nl/p/motorola-moto-g8-power-lite-blauw/9200000127141343/', 'https://bol.com/nl/p/huawei-p30-lite-128gb-midnight-zwart/9200000107750278/', 'https://bol.com/nl/p/samsung-galaxy-xcover-4s-32gb-zwart/9200000111950981/', 'https://bol.com/nl/p/motorola-moto-g9-power-128gb-groen/9300000012375717/', 'https://bol.com/nl/p/apple-iphone-se-128gb-zwart/9300000000886601/', 'https://bol.com/nl/p/apple-iphone-x-refurbished-door-forza-c-grade-64gb-spacegrijs/9200000101335076/', 'https://bol.com/nl/p/samsung-galaxy-a10s-32gb-zwart/9200000121265417/', 'https://bol.com/nl/p/samsung-galaxy-s20-5g-128gb-cosmic-grey/9200000128429194/', 'https://bol.com/nl/p/apple-iphone-12-pro-max-256gb-grafiet/9300000013742208/', 'https://bol.com/nl/p/samsung-galaxy-a32-5g-128gb-awesome-black/9300000022106004/', 'https://bol.com/nl/p/alcatel-1se-32gb-grijs/9300000001580712/', 'https://bol.com/nl/p/nokia-5-4-64gb-blauw/9300000021882472/', 'https://bol.com/nl/p/samsung-galaxy-m21-power-64gb-zwart/9300000000133004/', 'https://bol.com/nl/p/samsung-galaxy-a02s-32gb-zwart/9300000020547718/', 'https://bol.com/nl/p/samsung-galaxy-a71-128gb-blauw/9200000127101719/', 'https://bol.com/nl/p/oppo-a72-128gb-zwart/9300000002779754/'\n"
     ]
    }
   ],
   "source": [
    "fn=\"my_ouput.csv\"\n",
    "my_phones = get_phones(my_urls) \n",
    "#print(my_phones) # <-delete after\n",
    "f=open(fn,'a',encoding='utf-8')\n",
    "for url in my_urls[:2]:\n",
    "    print(str(get_phones(url))[1:-1])     \n",
    "    f.write(str(get_phones(url))[2:-2])\n",
    "f.close()\n",
    "time.sleep(1)"
   ]
  },
  {
   "cell_type": "code",
   "execution_count": 29,
   "metadata": {},
   "outputs": [
    {
     "name": "stdout",
     "output_type": "stream",
     "text": [
      "['https://bol.com/nl/p/samsung-galaxy-a51-128gb-zwart/9200000127101717/', 'https://bol.com/nl/p/samsung-galaxy-a20e-32gb-zwart/9200000109073236/', 'https://bol.com/nl/p/samsung-galaxy-a41-64gb-zwart/9300000000132992/', 'https://bol.com/nl/p/samsung-galaxy-a71-128gb-zwart/9200000127101810/', 'https://bol.com/nl/p/apple-iphone-se-64gb-zwart/9300000000886605/', 'https://bol.com/nl/p/samsung-galaxy-a21s-64gb-zwart/9300000000132986/', 'https://bol.com/nl/p/apple-iphone-12-64gb-zwart/9300000013742278/', 'https://bol.com/nl/p/alcatel-1c-3g-8gb-zwart/9200000112629003/', 'https://bol.com/nl/p/motorola-moto-e6-play-32gb-steel-black/9200000122803221/', 'https://bol.com/nl/p/samsung-galaxy-s20-fe-4g-128gb-cloud-navy/9300000008841647/', 'https://bol.com/nl/p/apple-iphone-11-64gb-zwart/9200000119815601/', 'https://bol.com/nl/p/samsung-galaxy-a12-128gb-zwart/9300000019419396/', 'https://bol.com/nl/p/samsung-galaxy-a21s-32gb-blauw/9300000000132994/', 'https://bol.com/nl/p/samsung-galaxy-a42-5g-128gb-prism-dot-black/9300000010098436/', 'https://bol.com/nl/p/samsung-galaxy-a01-core-16gb-zwart/9300000007420502/', 'https://bol.com/nl/p/apple-iphone-12-pro-128gb-oceaan-blauw/9300000013742251/', 'https://bol.com/nl/p/samsung-galaxy-a10-32gb-zwart/9200000111950985/', 'https://bol.com/nl/p/samsung-galaxy-a21s-128gb-zwart/9300000015820720/', 'https://bol.com/nl/p/apple-iphone-xr-64gb-zwart/9200000098453451/', 'https://bol.com/nl/p/samsung-galaxy-a12-64gb-zwart/9300000020208465/', 'https://bol.com/nl/p/samsung-galaxy-s21-5g-128gb-phantom-gray/9300000020732481/']\n",
      "['https://bol.com/nl/p/samsung-galaxy-a20e-dual-sim-32gb-blauw/9300000002133409/', 'https://bol.com/nl/p/samsung-galaxy-a40-64gb-zwart/9200000107463262/', 'https://bol.com/nl/p/apple-iphone-12-mini-64gb-zwart/9300000013742257/', 'https://bol.com/nl/p/apple-iphone-11-128gb-zwart/9200000119816199/', 'https://bol.com/nl/p/samsung-galaxy-s10e-128gb-prism-zwart/9200000106450648/', 'https://bol.com/nl/p/samsung-galaxy-a50-128gb-zwart/9200000106883561/', 'https://bol.com/nl/p/samsung-galaxy-a10-32gb-blauw/9200000111950979/', 'https://bol.com/nl/p/motorola-moto-g8-power-lite-blauw/9200000127141343/', 'https://bol.com/nl/p/huawei-p30-lite-128gb-midnight-zwart/9200000107750278/', 'https://bol.com/nl/p/samsung-galaxy-xcover-4s-32gb-zwart/9200000111950981/', 'https://bol.com/nl/p/motorola-moto-g9-power-128gb-groen/9300000012375717/', 'https://bol.com/nl/p/apple-iphone-se-128gb-zwart/9300000000886601/', 'https://bol.com/nl/p/apple-iphone-x-refurbished-door-forza-c-grade-64gb-spacegrijs/9200000101335076/', 'https://bol.com/nl/p/samsung-galaxy-a10s-32gb-zwart/9200000121265417/', 'https://bol.com/nl/p/samsung-galaxy-s20-5g-128gb-cosmic-grey/9200000128429194/', 'https://bol.com/nl/p/apple-iphone-12-pro-max-256gb-grafiet/9300000013742208/', 'https://bol.com/nl/p/samsung-galaxy-a32-5g-128gb-awesome-black/9300000022106004/', 'https://bol.com/nl/p/alcatel-1se-32gb-grijs/9300000001580712/', 'https://bol.com/nl/p/nokia-5-4-64gb-blauw/9300000021882472/', 'https://bol.com/nl/p/samsung-galaxy-m21-power-64gb-zwart/9300000000133004/', 'https://bol.com/nl/p/samsung-galaxy-a02s-32gb-zwart/9300000020547718/', 'https://bol.com/nl/p/samsung-galaxy-a71-128gb-blauw/9200000127101719/', 'https://bol.com/nl/p/oppo-a72-128gb-zwart/9300000002779754/']\n"
     ]
    }
   ],
   "source": [
    "for url in my_urls[:2]:\n",
    "    complete_urls = []\n",
    "    print(get_phones(url))\n",
    "    \n",
    "#return complete_urls"
   ]
  },
  {
   "cell_type": "code",
   "execution_count": null,
   "metadata": {},
   "outputs": [],
   "source": [
    "#fn=\"my_ouput.csv\"\n",
    "#f=open(fn,'a',encoding='utf-8')\n",
    "#for url in my_urls:\n",
    "    #print(get_phones(url))     \n",
    "    #f.write(str(get_phones(url)))\n",
    "#f.close()\n",
    "#time.sleep(1)"
   ]
  },
  {
   "cell_type": "code",
   "execution_count": 17,
   "metadata": {},
   "outputs": [],
   "source": [
    "def get_complete_urls(my_urls):\n",
    "    complete_urls = []\n",
    "    for url in my_urls:\n",
    "        get_phones(url)\n",
    "        \n",
    "    return(complete_urls) "
   ]
  },
  {
   "cell_type": "code",
   "execution_count": null,
   "metadata": {},
   "outputs": [],
   "source": [
    "complete_urls = get_complete_urls(my_urls)"
   ]
  },
  {
   "cell_type": "code",
   "execution_count": 47,
   "metadata": {},
   "outputs": [
    {
     "name": "stdout",
     "output_type": "stream",
     "text": [
      "[[\"['https://bol.com/nl/p/samsung-galaxy-a51-128gb-zwart/9200000127101717/'\", \" 'https://bol.com/nl/p/samsung-galaxy-a20e-32gb-zwart/9200000109073236/'\", \" 'https://bol.com/nl/p/samsung-galaxy-a41-64gb-zwart/9300000000132992/'\", \" 'https://bol.com/nl/p/samsung-galaxy-a71-128gb-zwart/9200000127101810/'\", \" 'https://bol.com/nl/p/apple-iphone-se-64gb-zwart/9300000000886605/'\", \" 'https://bol.com/nl/p/samsung-galaxy-a21s-64gb-zwart/9300000000132986/'\", \" 'https://bol.com/nl/p/apple-iphone-12-64gb-zwart/9300000013742278/'\", \" 'https://bol.com/nl/p/alcatel-1c-3g-8gb-zwart/9200000112629003/'\", \" 'https://bol.com/nl/p/motorola-moto-e6-play-32gb-steel-black/9200000122803221/'\", \" 'https://bol.com/nl/p/samsung-galaxy-s20-fe-4g-128gb-cloud-navy/9300000008841647/'\", \" 'https://bol.com/nl/p/samsung-galaxy-a21s-32gb-blauw/9300000000132994/'\", \" 'https://bol.com/nl/p/samsung-galaxy-a12-128gb-zwart/9300000019419396/'\", \" 'https://bol.com/nl/p/samsung-galaxy-a42-5g-128gb-prism-dot-black/9300000010098436/'\", \" 'https://bol.com/nl/p/apple-iphone-11-64gb-zwart/9200000119815601/'\", \" 'https://bol.com/nl/p/samsung-galaxy-a01-core-16gb-zwart/9300000007420502/'\", \" 'https://bol.com/nl/p/apple-iphone-12-pro-128gb-oceaan-blauw/9300000013742251/'\", \" 'https://bol.com/nl/p/samsung-galaxy-a10-32gb-zwart/9200000111950985/'\", \" 'https://bol.com/nl/p/samsung-galaxy-a21s-128gb-zwart/9300000015820720/'\", \" 'https://bol.com/nl/p/apple-iphone-xr-64gb-zwart/9200000098453451/'\", \" 'https://bol.com/nl/p/samsung-galaxy-a12-64gb-zwart/9300000020208465/'\", \" 'https://bol.com/nl/p/samsung-galaxy-s21-5g-128gb-phantom-gray/9300000020732481/']['https://bol.com/nl/p/samsung-galaxy-a51-128gb-zwart/9200000127101717/'\", \" 'https://bol.com/nl/p/samsung-galaxy-a20e-32gb-zwart/9200000109073236/'\", \" 'https://bol.com/nl/p/samsung-galaxy-a41-64gb-zwart/9300000000132992/'\", \" 'https://bol.com/nl/p/samsung-galaxy-a71-128gb-zwart/9200000127101810/'\", \" 'https://bol.com/nl/p/apple-iphone-se-64gb-zwart/9300000000886605/'\", \" 'https://bol.com/nl/p/samsung-galaxy-a21s-64gb-zwart/9300000000132986/'\", \" 'https://bol.com/nl/p/apple-iphone-12-64gb-zwart/9300000013742278/'\", \" 'https://bol.com/nl/p/alcatel-1c-3g-8gb-zwart/9200000112629003/'\", \" 'https://bol.com/nl/p/motorola-moto-e6-play-32gb-steel-black/9200000122803221/'\", \" 'https://bol.com/nl/p/samsung-galaxy-s20-fe-4g-128gb-cloud-navy/9300000008841647/'\", \" 'https://bol.com/nl/p/samsung-galaxy-a21s-32gb-blauw/9300000000132994/'\", \" 'https://bol.com/nl/p/samsung-galaxy-a12-128gb-zwart/9300000019419396/'\", \" 'https://bol.com/nl/p/samsung-galaxy-a42-5g-128gb-prism-dot-black/9300000010098436/'\", \" 'https://bol.com/nl/p/apple-iphone-11-64gb-zwart/9200000119815601/'\", \" 'https://bol.com/nl/p/samsung-galaxy-a01-core-16gb-zwart/9300000007420502/'\", \" 'https://bol.com/nl/p/apple-iphone-12-pro-128gb-oceaan-blauw/9300000013742251/'\", \" 'https://bol.com/nl/p/samsung-galaxy-a10-32gb-zwart/9200000111950985/'\", \" 'https://bol.com/nl/p/samsung-galaxy-a21s-128gb-zwart/9300000015820720/'\", \" 'https://bol.com/nl/p/apple-iphone-xr-64gb-zwart/9200000098453451/'\", \" 'https://bol.com/nl/p/samsung-galaxy-a12-64gb-zwart/9300000020208465/'\", \" 'https://bol.com/nl/p/samsung-galaxy-s21-5g-128gb-phantom-gray/9300000020732481/']['https://bol.com/nl/p/samsung-galaxy-a51-128gb-zwart/9200000127101717/'\", \" 'https://bol.com/nl/p/samsung-galaxy-a20e-32gb-zwart/9200000109073236/'\", \" 'https://bol.com/nl/p/samsung-galaxy-a41-64gb-zwart/9300000000132992/'\", \" 'https://bol.com/nl/p/samsung-galaxy-a71-128gb-zwart/9200000127101810/'\", \" 'https://bol.com/nl/p/apple-iphone-se-64gb-zwart/9300000000886605/'\", \" 'https://bol.com/nl/p/samsung-galaxy-a21s-64gb-zwart/9300000000132986/'\", \" 'https://bol.com/nl/p/apple-iphone-12-64gb-zwart/9300000013742278/'\", \" 'https://bol.com/nl/p/alcatel-1c-3g-8gb-zwart/9200000112629003/'\", \" 'https://bol.com/nl/p/motorola-moto-e6-play-32gb-steel-black/9200000122803221/'\", \" 'https://bol.com/nl/p/samsung-galaxy-s20-fe-4g-128gb-cloud-navy/9300000008841647/'\", \" 'https://bol.com/nl/p/samsung-galaxy-a21s-32gb-blauw/9300000000132994/'\", \" 'https://bol.com/nl/p/samsung-galaxy-a12-128gb-zwart/9300000019419396/'\", \" 'https://bol.com/nl/p/samsung-galaxy-a42-5g-128gb-prism-dot-black/9300000010098436/'\", \" 'https://bol.com/nl/p/apple-iphone-11-64gb-zwart/9200000119815601/'\", \" 'https://bol.com/nl/p/samsung-galaxy-a01-core-16gb-zwart/9300000007420502/'\", \" 'https://bol.com/nl/p/apple-iphone-12-pro-128gb-oceaan-blauw/9300000013742251/'\", \" 'https://bol.com/nl/p/samsung-galaxy-a10-32gb-zwart/9200000111950985/'\", \" 'https://bol.com/nl/p/samsung-galaxy-a21s-128gb-zwart/9300000015820720/'\", \" 'https://bol.com/nl/p/apple-iphone-xr-64gb-zwart/9200000098453451/'\", \" 'https://bol.com/nl/p/samsung-galaxy-a12-64gb-zwart/9300000020208465/'\", \" 'https://bol.com/nl/p/samsung-galaxy-s21-5g-128gb-phantom-gray/9300000020732481/']['https://bol.com/nl/p/samsung-galaxy-a51-128gb-zwart/9200000127101717/'\", \" 'https://bol.com/nl/p/samsung-galaxy-a20e-32gb-zwart/9200000109073236/'\", \" 'https://bol.com/nl/p/samsung-galaxy-a41-64gb-zwart/9300000000132992/'\", \" 'https://bol.com/nl/p/samsung-galaxy-a71-128gb-zwart/9200000127101810/'\", \" 'https://bol.com/nl/p/apple-iphone-se-64gb-zwart/9300000000886605/'\", \" 'https://bol.com/nl/p/samsung-galaxy-a21s-64gb-zwart/9300000000132986/'\", \" 'https://bol.com/nl/p/apple-iphone-12-64gb-zwart/9300000013742278/'\", \" 'https://bol.com/nl/p/alcatel-1c-3g-8gb-zwart/9200000112629003/'\", \" 'https://bol.com/nl/p/motorola-moto-e6-play-32gb-steel-black/9200000122803221/'\", \" 'https://bol.com/nl/p/samsung-galaxy-s20-fe-4g-128gb-cloud-navy/9300000008841647/'\", \" 'https://bol.com/nl/p/samsung-galaxy-a21s-32gb-blauw/9300000000132994/'\", \" 'https://bol.com/nl/p/samsung-galaxy-a12-128gb-zwart/9300000019419396/'\", \" 'https://bol.com/nl/p/samsung-galaxy-a42-5g-128gb-prism-dot-black/9300000010098436/'\", \" 'https://bol.com/nl/p/apple-iphone-11-64gb-zwart/9200000119815601/'\", \" 'https://bol.com/nl/p/samsung-galaxy-a01-core-16gb-zwart/9300000007420502/'\", \" 'https://bol.com/nl/p/apple-iphone-12-pro-128gb-oceaan-blauw/9300000013742251/'\", \" 'https://bol.com/nl/p/samsung-galaxy-a10-32gb-zwart/9200000111950985/'\", \" 'https://bol.com/nl/p/samsung-galaxy-a21s-128gb-zwart/9300000015820720/'\", \" 'https://bol.com/nl/p/apple-iphone-xr-64gb-zwart/9200000098453451/'\", \" 'https://bol.com/nl/p/samsung-galaxy-a12-64gb-zwart/9300000020208465/'\", \" 'https://bol.com/nl/p/samsung-galaxy-s21-5g-128gb-phantom-gray/9300000020732481/']['https://bol.com/nl/p/samsung-galaxy-a20e-dual-sim-32gb-blauw/9300000002133409/'\", \" 'https://bol.com/nl/p/samsung-galaxy-s10e-128gb-prism-zwart/9200000106450648/'\", \" 'https://bol.com/nl/p/samsung-galaxy-a40-64gb-zwart/9200000107463262/'\", \" 'https://bol.com/nl/p/apple-iphone-12-mini-64gb-zwart/9300000013742257/'\", \" 'https://bol.com/nl/p/apple-iphone-11-128gb-zwart/9200000119816199/'\", \" 'https://bol.com/nl/p/samsung-galaxy-a50-128gb-zwart/9200000106883561/'\", \" 'https://bol.com/nl/p/motorola-moto-g8-power-lite-blauw/9200000127141343/'\", \" 'https://bol.com/nl/p/samsung-galaxy-a10-32gb-blauw/9200000111950979/'\", \" 'https://bol.com/nl/p/samsung-galaxy-xcover-4s-32gb-zwart/9200000111950981/'\", \" 'https://bol.com/nl/p/huawei-p30-lite-128gb-midnight-zwart/9200000107750278/'\", \" 'https://bol.com/nl/p/motorola-moto-g9-power-128gb-groen/9300000012375717/'\", \" 'https://bol.com/nl/p/apple-iphone-se-128gb-zwart/9300000000886601/'\", \" 'https://bol.com/nl/p/apple-iphone-x-refurbished-door-forza-c-grade-64gb-spacegrijs/9200000101335076/'\", \" 'https://bol.com/nl/p/samsung-galaxy-a10s-32gb-zwart/9200000121265417/'\", \" 'https://bol.com/nl/p/nokia-5-4-64gb-blauw/9300000021882472/'\", \" 'https://bol.com/nl/p/samsung-galaxy-s20-5g-128gb-cosmic-grey/9200000128429194/'\", \" 'https://bol.com/nl/p/apple-iphone-12-pro-max-256gb-grafiet/9300000013742208/'\", \" 'https://bol.com/nl/p/samsung-galaxy-a32-5g-128gb-awesome-black/9300000022106004/'\", \" 'https://bol.com/nl/p/samsung-galaxy-m21-power-64gb-zwart/9300000000133004/'\", \" 'https://bol.com/nl/p/samsung-galaxy-a02s-32gb-zwart/9300000020547718/'\", \" 'https://bol.com/nl/p/alcatel-1se-32gb-grijs/9300000001580712/'\", \" 'https://bol.com/nl/p/samsung-galaxy-a71-128gb-blauw/9200000127101719/'\", \" 'https://bol.com/nl/p/oppo-a72-128gb-zwart/9300000002779754/']['https://bol.com/nl/p/huawei-p30-lite-new-edition-256gb-midnight-black/9200000126132549/'\", \" 'https://bol.com/nl/p/samsung-galaxy-s21-ultra-5g-128gb-phantom-black/9300000020732466/'\", \" 'https://bol.com/nl/p/motorola-moto-g9-plus-128gb-deep-dive-blauw/9300000009401577/'\", \" 'https://bol.com/nl/p/samsung-galaxy-m11-32gb-blauw/9300000014240088/'\", \" 'https://bol.com/nl/p/samsung-galaxy-a41-64gb-blauw/9300000000132999/'\", \" 'https://bol.com/nl/p/cat-s42-32gb-zwart/9300000004951815/'\", \" 'https://bol.com/nl/p/swissvoice-g50-senioren-smartphone/9300000015115804/'\", \" 'https://bol.com/nl/p/samsung-galaxy-a21s-128gb-blauw/9300000015820721/'\", \" 'https://bol.com/nl/p/huawei-p-smart-2021-128-gb-zwart/9300000013153840/'\", \" 'https://bol.com/nl/p/alcatel-1b-2020-32gb-zwart/9300000014838536/'\", \" 'https://bol.com/nl/p/apple-iphone-7-128gb-zwart/9200000064472593/'\", \" 'https://bol.com/nl/p/samsung-galaxy-a21s-64gb-wit/9300000000132987/'\", \" 'https://bol.com/nl/p/samsung-galaxy-s20fe-4g-128gb-lavendel/9300000008841646/'\", \" 'https://bol.com/nl/p/samsung-galaxy-a20e-dual-sim-32gb-wit/9200000109073220/'\", \" 'https://bol.com/nl/p/apple-iphone-12-pro-max-128gb-grafiet/9300000013742268/'\", \" 'https://bol.com/nl/p/apple-iphone-11-pro-64gb-middernachtgroen/9200000120255294/'\", \" 'https://bol.com/nl/p/samsung-galaxy-a71-dual-sim-128gb-crush-white/9200000127101808/'\", \" 'https://bol.com/nl/p/oppo-a15-32gb-zwart/9300000017398501/'\", \" 'https://bol.com/nl/p/motorola-moto-g9-play-64gb-groen/9300000008104040/'\", \" 'https://bol.com/nl/p/samsung-galaxy-s20-fe-5g-128gb-cloud-navy/9300000010045175/'\", \" 'https://bol.com/nl/p/nokia-1-3-16gb-grijs/9200000132588190/'\", \" 'https://bol.com/nl/p/xiaomi-poco-m3-128gb-zwart/9300000020562311/'\", \" 'https://bol.com/nl/p/apple-iphone-12-128gb-blauw/9300000013742215/']['https://bol.com/nl/p/samsung-galaxy-a51-128gb-zwart/9200000127101717/'\", \" 'https://bol.com/nl/p/samsung-galaxy-a20e-32gb-zwart/9200000109073236/'\", \" 'https://bol.com/nl/p/samsung-galaxy-a41-64gb-zwart/9300000000132992/'\", \" 'https://bol.com/nl/p/samsung-galaxy-a71-128gb-zwart/9200000127101810/'\", \" 'https://bol.com/nl/p/apple-iphone-se-64gb-zwart/9300000000886605/'\", \" 'https://bol.com/nl/p/samsung-galaxy-a21s-64gb-zwart/9300000000132986/'\", \" 'https://bol.com/nl/p/apple-iphone-12-64gb-zwart/9300000013742278/'\", \" 'https://bol.com/nl/p/alcatel-1c-3g-8gb-zwart/9200000112629003/'\", \" 'https://bol.com/nl/p/motorola-moto-e6-play-32gb-steel-black/9200000122803221/'\", \" 'https://bol.com/nl/p/samsung-galaxy-s20-fe-4g-128gb-cloud-navy/9300000008841647/'\", \" 'https://bol.com/nl/p/samsung-galaxy-a21s-32gb-blauw/9300000000132994/'\", \" 'https://bol.com/nl/p/samsung-galaxy-a12-128gb-zwart/9300000019419396/'\", \" 'https://bol.com/nl/p/samsung-galaxy-a42-5g-128gb-prism-dot-black/9300000010098436/'\", \" 'https://bol.com/nl/p/apple-iphone-11-64gb-zwart/9200000119815601/'\", \" 'https://bol.com/nl/p/samsung-galaxy-a01-core-16gb-zwart/9300000007420502/'\", \" 'https://bol.com/nl/p/apple-iphone-12-pro-128gb-oceaan-blauw/9300000013742251/'\", \" 'https://bol.com/nl/p/samsung-galaxy-a10-32gb-zwart/9200000111950985/'\", \" 'https://bol.com/nl/p/samsung-galaxy-a21s-128gb-zwart/9300000015820720/'\", \" 'https://bol.com/nl/p/apple-iphone-xr-64gb-zwart/9200000098453451/'\", \" 'https://bol.com/nl/p/samsung-galaxy-a12-64gb-zwart/9300000020208465/'\", \" 'https://bol.com/nl/p/samsung-galaxy-s21-5g-128gb-phantom-gray/9300000020732481/']['https://bol.com/nl/p/samsung-galaxy-a20e-dual-sim-32gb-blauw/9300000002133409/'\", \" 'https://bol.com/nl/p/samsung-galaxy-s10e-128gb-prism-zwart/9200000106450648/'\", \" 'https://bol.com/nl/p/samsung-galaxy-a40-64gb-zwart/9200000107463262/'\", \" 'https://bol.com/nl/p/apple-iphone-12-mini-64gb-zwart/9300000013742257/'\", \" 'https://bol.com/nl/p/apple-iphone-11-128gb-zwart/9200000119816199/'\", \" 'https://bol.com/nl/p/samsung-galaxy-a50-128gb-zwart/9200000106883561/'\", \" 'https://bol.com/nl/p/motorola-moto-g8-power-lite-blauw/9200000127141343/'\", \" 'https://bol.com/nl/p/samsung-galaxy-a10-32gb-blauw/9200000111950979/'\", \" 'https://bol.com/nl/p/samsung-galaxy-xcover-4s-32gb-zwart/9200000111950981/'\", \" 'https://bol.com/nl/p/huawei-p30-lite-128gb-midnight-zwart/9200000107750278/'\", \" 'https://bol.com/nl/p/motorola-moto-g9-power-128gb-groen/9300000012375717/'\", \" 'https://bol.com/nl/p/apple-iphone-se-128gb-zwart/9300000000886601/'\", \" 'https://bol.com/nl/p/apple-iphone-x-refurbished-door-forza-c-grade-64gb-spacegrijs/9200000101335076/'\", \" 'https://bol.com/nl/p/samsung-galaxy-a10s-32gb-zwart/9200000121265417/'\", \" 'https://bol.com/nl/p/nokia-5-4-64gb-blauw/9300000021882472/'\", \" 'https://bol.com/nl/p/samsung-galaxy-s20-5g-128gb-cosmic-grey/9200000128429194/'\", \" 'https://bol.com/nl/p/apple-iphone-12-pro-max-256gb-grafiet/9300000013742208/'\", \" 'https://bol.com/nl/p/samsung-galaxy-a32-5g-128gb-awesome-black/9300000022106004/'\", \" 'https://bol.com/nl/p/samsung-galaxy-m21-power-64gb-zwart/9300000000133004/'\", \" 'https://bol.com/nl/p/samsung-galaxy-a02s-32gb-zwart/9300000020547718/'\", \" 'https://bol.com/nl/p/alcatel-1se-32gb-grijs/9300000001580712/'\", \" 'https://bol.com/nl/p/samsung-galaxy-a71-128gb-blauw/9200000127101719/'\", \" 'https://bol.com/nl/p/oppo-a72-128gb-zwart/9300000002779754/']['https://bol.com/nl/p/huawei-p30-lite-new-edition-256gb-midnight-black/9200000126132549/'\", \" 'https://bol.com/nl/p/samsung-galaxy-s21-ultra-5g-128gb-phantom-black/9300000020732466/'\", \" 'https://bol.com/nl/p/motorola-moto-g9-plus-128gb-deep-dive-blauw/9300000009401577/'\", \" 'https://bol.com/nl/p/samsung-galaxy-m11-32gb-blauw/9300000014240088/'\", \" 'https://bol.com/nl/p/samsung-galaxy-a41-64gb-blauw/9300000000132999/'\", \" 'https://bol.com/nl/p/cat-s42-32gb-zwart/9300000004951815/'\", \" 'https://bol.com/nl/p/swissvoice-g50-senioren-smartphone/9300000015115804/'\", \" 'https://bol.com/nl/p/samsung-galaxy-a21s-128gb-blauw/9300000015820721/'\", \" 'https://bol.com/nl/p/huawei-p-smart-2021-128-gb-zwart/9300000013153840/'\", \" 'https://bol.com/nl/p/alcatel-1b-2020-32gb-zwart/9300000014838536/'\", \" 'https://bol.com/nl/p/apple-iphone-7-128gb-zwart/9200000064472593/'\", \" 'https://bol.com/nl/p/samsung-galaxy-a21s-64gb-wit/9300000000132987/'\", \" 'https://bol.com/nl/p/samsung-galaxy-s20fe-4g-128gb-lavendel/9300000008841646/'\", \" 'https://bol.com/nl/p/samsung-galaxy-a20e-dual-sim-32gb-wit/9200000109073220/'\", \" 'https://bol.com/nl/p/apple-iphone-12-pro-max-128gb-grafiet/9300000013742268/'\", \" 'https://bol.com/nl/p/apple-iphone-11-pro-64gb-middernachtgroen/9200000120255294/'\", \" 'https://bol.com/nl/p/samsung-galaxy-a71-dual-sim-128gb-crush-white/9200000127101808/'\", \" 'https://bol.com/nl/p/oppo-a15-32gb-zwart/9300000017398501/'\", \" 'https://bol.com/nl/p/motorola-moto-g9-play-64gb-groen/9300000008104040/'\", \" 'https://bol.com/nl/p/samsung-galaxy-s20-fe-5g-128gb-cloud-navy/9300000010045175/'\", \" 'https://bol.com/nl/p/nokia-1-3-16gb-grijs/9200000132588190/'\", \" 'https://bol.com/nl/p/xiaomi-poco-m3-128gb-zwart/9300000020562311/'\", \" 'https://bol.com/nl/p/apple-iphone-12-128gb-blauw/9300000013742215/']['https://bol.com/nl/p/samsung-galaxy-a01-core-16gb-blauw/9300000008537177/'\", \" 'https://bol.com/nl/p/alcatel-1se-32gb-groen/9300000001580713/'\", \" 'https://bol.com/nl/p/xiaomi-redmi-9c-64gb-grijs/9300000009972963/'\", \" 'https://bol.com/nl/p/nokia-5-3-64gb-grijs/9200000132589155/'\", \" 'https://bol.com/nl/p/huawei-p-smart-2020-128gb-blauw-dual-sim/9300000001009624/'\", \" 'https://bol.com/nl/p/apple-iphone-12-mini-128gb-zwart/9300000013742303/'\", \" 'https://bol.com/nl/p/samsung-galaxy-a3-core-16gb-zwart/9300000031389983/'\", \" 'https://bol.com/nl/p/apple-iphone-8-64gb-spacegrijs/9200000082607880/'\", \" 'https://bol.com/nl/p/apple-iphone-8-plus-refurbished-door-forza-a-grade-64gb-spacegrijs/9200000110010127/'\", \" 'https://bol.com/nl/p/oneplus-nord-n10-5g-128gb-blauw/9300000017900799/'\", \" 'https://bol.com/nl/p/apple-iphone-7-32gb-rosegoud/9200000126573771/'\", \" 'https://bol.com/nl/p/samsung-galaxy-a12-128gb-blauw/9300000019419395/'\", \" 'https://bol.com/nl/p/cat-s62-pro-128gb-zwart/9300000007439030/'\", \" 'https://bol.com/nl/p/samsung-galaxy-s20fe-4g-128gb-groen/9300000008841645/'\", \" 'https://bol.com/nl/p/samsung-galaxy-a12-64gb-wit/9300000020208463/'\", \" 'https://bol.com/nl/p/samsung-galaxy-s10-128gb-prism-zwart/9200000106236052/'\", \" 'https://bol.com/nl/p/nokia-3-4-32gb-grijs/9300000010112493/'\", \" 'https://bol.com/nl/p/huawei-p30-lite-128gb-peacock-blauw/9200000107750280/'\", \" 'https://bol.com/nl/p/samsung-galaxy-m31-64gb-zwart/9300000005865241/'\", \" 'https://bol.com/nl/p/xiaomi-redmi-note-9-pro-128gb-grijs/9300000000827984/'\", \" 'https://bol.com/nl/p/apple-iphone-8-64-gb-zwart-b-grade/9300000015126652/'\", \" 'https://bol.com/nl/p/xiaomi-redmi-note-8-pro-128gb-zwart/9200000121715834/'\", \" 'https://bol.com/nl/p/samsung-galaxy-j3-8gb-zwart/9200000056577975/'\", \" 'https://bol.com/nl/p/oppo-a9-128-gb-groen/9200000122241521/']['https://bol.com/nl/p/huawei-p40-lite-128gb-sakura-pink/9200000132374808/'\", \" 'https://bol.com/nl/p/nokia-1-plus-8gb-zwart/9200000106658581/'\", \" 'https://bol.com/nl/p/oppo-reno4-z-5g-128gb-zwart/9300000013253932/'\", \" 'https://bol.com/nl/p/oppo-a91-128gb-zwart/9300000002241220/'\", \" 'https://bol.com/nl/p/apple-iphone-11-64gb-wit/9200000119815542/'\", \" 'https://bol.com/nl/p/samsung-galaxy-a12-sm-a125fzkveue-smartphone-16-5-cm-dual-sim-4g-usb-type-c-4-gb-64-gb-5000-mah-zwart/9300000023165230/'\", \" 'https://bol.com/nl/p/samsung-galaxy-s21-5g-256gb-phantom-gray/9300000020732464/'\", \" 'https://bol.com/nl/p/samsung-galaxy-a12-128gb-wit/9300000019419399/'\", \" 'https://bol.com/nl/p/blackberry-q10-16gb-4g-wit/9200000053591911/'\", \" 'https://bol.com/nl/p/samsung-galaxy-a8-zwart/9200000087241876/'\", \" 'https://bol.com/nl/p/sony-xperia-l4-64gb-zwart/9200000131672028/'\", \" 'https://bol.com/nl/p/samsung-galaxy-a32-4g-128gb-awesome-violet/9300000022249977/'\", \" 'https://bol.com/nl/p/samsung-galaxy-a31-64gb-zwart/9300000004879142/'\", \" 'https://bol.com/nl/p/samsung-galaxy-a3-core-16gb-blauw/9300000023688045/'\", \" 'https://bol.com/nl/p/samsung-galaxy-s21-5g-256gb-phantom-black/9300000020732475/'\", \" 'https://bol.com/nl/p/xiaomi-mi-11-256gb-blauw/9300000025110492/'\", \" 'https://bol.com/nl/p/samsung-galaxy-m31s-128gb-zwart/9300000010489587/'\", \" 'https://bol.com/nl/p/samsung-galaxy-note20-ultra-256gb-5g-zwart/9300000006524832/'\", \" 'https://bol.com/nl/p/apple-iphone-8-refurbished-by-supreme-mobile-b-grade-64gb-goud/9300000026357464/'\", \" 'https://bol.com/nl/p/motorola-moto-e7-plus-64gb-misty-blue/9300000009401579/'\", \" 'https://bol.com/nl/p/alcatel-1-8gb-dual-sim-zwart/9200000096144979/'\", \" 'https://bol.com/nl/p/apple-iphone-xr-128gb-wit/9200000098453498/'\", \" 'https://bol.com/nl/p/nokia-5-4-128-gb-blauw-inclusief-draadloos-koptelefoon/9300000027426132/'\", \" 'https://bol.com/nl/p/samsung-galaxy-a42-5g-128gb-prism-dot-gray/9300000010098434/']['https://bol.com/nl/p/samsung-galaxy-a51-128gb-zwart/9200000127101717/'\", \" 'https://bol.com/nl/p/samsung-galaxy-a20e-32gb-zwart/9200000109073236/'\", \" 'https://bol.com/nl/p/samsung-galaxy-a41-64gb-zwart/9300000000132992/'\", \" 'https://bol.com/nl/p/samsung-galaxy-a71-128gb-zwart/9200000127101810/'\", \" 'https://bol.com/nl/p/apple-iphone-se-64gb-zwart/9300000000886605/'\", \" 'https://bol.com/nl/p/samsung-galaxy-a21s-64gb-zwart/9300000000132986/'\", \" 'https://bol.com/nl/p/apple-iphone-12-64gb-zwart/9300000013742278/'\", \" 'https://bol.com/nl/p/alcatel-1c-3g-8gb-zwart/9200000112629003/'\", \" 'https://bol.com/nl/p/motorola-moto-e6-play-32gb-steel-black/9200000122803221/'\", \" 'https://bol.com/nl/p/samsung-galaxy-s20-fe-4g-128gb-cloud-navy/9300000008841647/'\", \" 'https://bol.com/nl/p/apple-iphone-11-64gb-zwart/9200000119815601/'\", \" 'https://bol.com/nl/p/samsung-galaxy-a12-128gb-zwart/9300000019419396/'\", \" 'https://bol.com/nl/p/samsung-galaxy-a21s-32gb-blauw/9300000000132994/'\", \" 'https://bol.com/nl/p/samsung-galaxy-a42-5g-128gb-prism-dot-black/9300000010098436/'\", \" 'https://bol.com/nl/p/samsung-galaxy-a01-core-16gb-zwart/9300000007420502/'\", \" 'https://bol.com/nl/p/apple-iphone-12-pro-128gb-oceaan-blauw/9300000013742251/'\", \" 'https://bol.com/nl/p/samsung-galaxy-a10-32gb-zwart/9200000111950985/'\", \" 'https://bol.com/nl/p/samsung-galaxy-a21s-128gb-zwart/9300000015820720/'\", \" 'https://bol.com/nl/p/apple-iphone-xr-64gb-zwart/9200000098453451/'\", \" 'https://bol.com/nl/p/samsung-galaxy-a12-64gb-zwart/9300000020208465/'\", \" 'https://bol.com/nl/p/samsung-galaxy-s21-5g-128gb-phantom-gray/9300000020732481/']['https://bol.com/nl/p/samsung-galaxy-a51-128gb-zwart/9200000127101717/'\", \" 'https://bol.com/nl/p/samsung-galaxy-a20e-32gb-zwart/9200000109073236/'\", \" 'https://bol.com/nl/p/samsung-galaxy-a41-64gb-zwart/9300000000132992/'\", \" 'https://bol.com/nl/p/samsung-galaxy-a71-128gb-zwart/9200000127101810/'\", \" 'https://bol.com/nl/p/apple-iphone-se-64gb-zwart/9300000000886605/'\", \" 'https://bol.com/nl/p/samsung-galaxy-a21s-64gb-zwart/9300000000132986/'\", \" 'https://bol.com/nl/p/apple-iphone-12-64gb-zwart/9300000013742278/'\", \" 'https://bol.com/nl/p/alcatel-1c-3g-8gb-zwart/9200000112629003/'\", \" 'https://bol.com/nl/p/motorola-moto-e6-play-32gb-steel-black/9200000122803221/'\", \" 'https://bol.com/nl/p/samsung-galaxy-s20-fe-4g-128gb-cloud-navy/9300000008841647/'\", \" 'https://bol.com/nl/p/apple-iphone-11-64gb-zwart/9200000119815601/'\", \" 'https://bol.com/nl/p/samsung-galaxy-a12-128gb-zwart/9300000019419396/'\", \" 'https://bol.com/nl/p/samsung-galaxy-a21s-32gb-blauw/9300000000132994/'\", \" 'https://bol.com/nl/p/samsung-galaxy-a42-5g-128gb-prism-dot-black/9300000010098436/'\", \" 'https://bol.com/nl/p/samsung-galaxy-a01-core-16gb-zwart/9300000007420502/'\", \" 'https://bol.com/nl/p/apple-iphone-12-pro-128gb-oceaan-blauw/9300000013742251/'\", \" 'https://bol.com/nl/p/samsung-galaxy-a10-32gb-zwart/9200000111950985/'\", \" 'https://bol.com/nl/p/samsung-galaxy-a21s-128gb-zwart/9300000015820720/'\", \" 'https://bol.com/nl/p/apple-iphone-xr-64gb-zwart/9200000098453451/'\", \" 'https://bol.com/nl/p/samsung-galaxy-a12-64gb-zwart/9300000020208465/'\", \" 'https://bol.com/nl/p/samsung-galaxy-s21-5g-128gb-phantom-gray/9300000020732481/']['https://bol.com/nl/p/samsung-galaxy-a20e-dual-sim-32gb-blauw/9300000002133409/'\", \" 'https://bol.com/nl/p/samsung-galaxy-a40-64gb-zwart/9200000107463262/'\", \" 'https://bol.com/nl/p/apple-iphone-12-mini-64gb-zwart/9300000013742257/'\", \" 'https://bol.com/nl/p/apple-iphone-11-128gb-zwart/9200000119816199/'\", \" 'https://bol.com/nl/p/samsung-galaxy-s10e-128gb-prism-zwart/9200000106450648/'\", \" 'https://bol.com/nl/p/samsung-galaxy-a50-128gb-zwart/9200000106883561/'\", \" 'https://bol.com/nl/p/samsung-galaxy-a10-32gb-blauw/9200000111950979/'\", \" 'https://bol.com/nl/p/motorola-moto-g8-power-lite-blauw/9200000127141343/'\", \" 'https://bol.com/nl/p/huawei-p30-lite-128gb-midnight-zwart/9200000107750278/'\", \" 'https://bol.com/nl/p/samsung-galaxy-xcover-4s-32gb-zwart/9200000111950981/'\", \" 'https://bol.com/nl/p/motorola-moto-g9-power-128gb-groen/9300000012375717/'\", \" 'https://bol.com/nl/p/apple-iphone-se-128gb-zwart/9300000000886601/'\", \" 'https://bol.com/nl/p/apple-iphone-x-refurbished-door-forza-c-grade-64gb-spacegrijs/9200000101335076/'\", \" 'https://bol.com/nl/p/samsung-galaxy-a10s-32gb-zwart/9200000121265417/'\", \" 'https://bol.com/nl/p/samsung-galaxy-s20-5g-128gb-cosmic-grey/9200000128429194/'\", \" 'https://bol.com/nl/p/apple-iphone-12-pro-max-256gb-grafiet/9300000013742208/'\", \" 'https://bol.com/nl/p/samsung-galaxy-a32-5g-128gb-awesome-black/9300000022106004/'\", \" 'https://bol.com/nl/p/alcatel-1se-32gb-grijs/9300000001580712/'\", \" 'https://bol.com/nl/p/nokia-5-4-64gb-blauw/9300000021882472/'\", \" 'https://bol.com/nl/p/samsung-galaxy-m21-power-64gb-zwart/9300000000133004/'\", \" 'https://bol.com/nl/p/samsung-galaxy-a02s-32gb-zwart/9300000020547718/'\", \" 'https://bol.com/nl/p/samsung-galaxy-a71-128gb-blauw/9200000127101719/'\", \" 'https://bol.com/nl/p/oppo-a72-128gb-zwart/9300000002779754/']['https://bol.com/nl/p/samsung-galaxy-a51-128gb-zwart/9200000127101717/'\", \" 'https://bol.com/nl/p/samsung-galaxy-a20e-32gb-zwart/9200000109073236/'\", \" 'https://bol.com/nl/p/samsung-galaxy-a41-64gb-zwart/9300000000132992/'\", \" 'https://bol.com/nl/p/samsung-galaxy-a71-128gb-zwart/9200000127101810/'\", \" 'https://bol.com/nl/p/apple-iphone-se-64gb-zwart/9300000000886605/'\", \" 'https://bol.com/nl/p/samsung-galaxy-a21s-64gb-zwart/9300000000132986/'\", \" 'https://bol.com/nl/p/apple-iphone-12-64gb-zwart/9300000013742278/'\", \" 'https://bol.com/nl/p/alcatel-1c-3g-8gb-zwart/9200000112629003/'\", \" 'https://bol.com/nl/p/motorola-moto-e6-play-32gb-steel-black/9200000122803221/'\", \" 'https://bol.com/nl/p/samsung-galaxy-s20-fe-4g-128gb-cloud-navy/9300000008841647/'\", \" 'https://bol.com/nl/p/apple-iphone-11-64gb-zwart/9200000119815601/'\", \" 'https://bol.com/nl/p/samsung-galaxy-a12-128gb-zwart/9300000019419396/'\", \" 'https://bol.com/nl/p/samsung-galaxy-a21s-32gb-blauw/9300000000132994/'\", \" 'https://bol.com/nl/p/samsung-galaxy-a42-5g-128gb-prism-dot-black/9300000010098436/'\", \" 'https://bol.com/nl/p/samsung-galaxy-a01-core-16gb-zwart/9300000007420502/'\", \" 'https://bol.com/nl/p/apple-iphone-12-pro-128gb-oceaan-blauw/9300000013742251/'\", \" 'https://bol.com/nl/p/samsung-galaxy-a10-32gb-zwart/9200000111950985/'\", \" 'https://bol.com/nl/p/samsung-galaxy-a21s-128gb-zwart/9300000015820720/'\", \" 'https://bol.com/nl/p/apple-iphone-xr-64gb-zwart/9200000098453451/'\", \" 'https://bol.com/nl/p/samsung-galaxy-a12-64gb-zwart/9300000020208465/'\", \" 'https://bol.com/nl/p/samsung-galaxy-s21-5g-128gb-phantom-gray/9300000020732481/']['https://bol.com/nl/p/samsung-galaxy-a20e-dual-sim-32gb-blauw/9300000002133409/'\", \" 'https://bol.com/nl/p/samsung-galaxy-a40-64gb-zwart/9200000107463262/'\", \" 'https://bol.com/nl/p/apple-iphone-12-mini-64gb-zwart/9300000013742257/'\", \" 'https://bol.com/nl/p/apple-iphone-11-128gb-zwart/9200000119816199/'\", \" 'https://bol.com/nl/p/samsung-galaxy-s10e-128gb-prism-zwart/9200000106450648/'\", \" 'https://bol.com/nl/p/samsung-galaxy-a50-128gb-zwart/9200000106883561/'\", \" 'https://bol.com/nl/p/samsung-galaxy-a10-32gb-blauw/9200000111950979/'\", \" 'https://bol.com/nl/p/motorola-moto-g8-power-lite-blauw/9200000127141343/'\", \" 'https://bol.com/nl/p/huawei-p30-lite-128gb-midnight-zwart/9200000107750278/'\", \" 'https://bol.com/nl/p/samsung-galaxy-xcover-4s-32gb-zwart/9200000111950981/'\", \" 'https://bol.com/nl/p/motorola-moto-g9-power-128gb-groen/9300000012375717/'\", \" 'https://bol.com/nl/p/apple-iphone-se-128gb-zwart/9300000000886601/'\", \" 'https://bol.com/nl/p/apple-iphone-x-refurbished-door-forza-c-grade-64gb-spacegrijs/9200000101335076/'\", \" 'https://bol.com/nl/p/samsung-galaxy-a10s-32gb-zwart/9200000121265417/'\", \" 'https://bol.com/nl/p/samsung-galaxy-s20-5g-128gb-cosmic-grey/9200000128429194/'\", \" 'https://bol.com/nl/p/apple-iphone-12-pro-max-256gb-grafiet/9300000013742208/'\", \" 'https://bol.com/nl/p/samsung-galaxy-a32-5g-128gb-awesome-black/9300000022106004/'\", \" 'https://bol.com/nl/p/alcatel-1se-32gb-grijs/9300000001580712/'\", \" 'https://bol.com/nl/p/nokia-5-4-64gb-blauw/9300000021882472/'\", \" 'https://bol.com/nl/p/samsung-galaxy-m21-power-64gb-zwart/9300000000133004/'\", \" 'https://bol.com/nl/p/samsung-galaxy-a02s-32gb-zwart/9300000020547718/'\", \" 'https://bol.com/nl/p/samsung-galaxy-a71-128gb-blauw/9200000127101719/'\", \" 'https://bol.com/nl/p/oppo-a72-128gb-zwart/9300000002779754/']'https://bol.com/nl/p/samsung-galaxy-a51-128gb-zwart/9200000127101717/'\", \" 'https://bol.com/nl/p/samsung-galaxy-a20e-32gb-zwart/9200000109073236/'\", \" 'https://bol.com/nl/p/samsung-galaxy-a41-64gb-zwart/9300000000132992/'\", \" 'https://bol.com/nl/p/samsung-galaxy-a71-128gb-zwart/9200000127101810/'\", \" 'https://bol.com/nl/p/apple-iphone-se-64gb-zwart/9300000000886605/'\", \" 'https://bol.com/nl/p/samsung-galaxy-a21s-64gb-zwart/9300000000132986/'\", \" 'https://bol.com/nl/p/apple-iphone-12-64gb-zwart/9300000013742278/'\", \" 'https://bol.com/nl/p/alcatel-1c-3g-8gb-zwart/9200000112629003/'\", \" 'https://bol.com/nl/p/motorola-moto-e6-play-32gb-steel-black/9200000122803221/'\", \" 'https://bol.com/nl/p/samsung-galaxy-s20-fe-4g-128gb-cloud-navy/9300000008841647/'\", \" 'https://bol.com/nl/p/apple-iphone-11-64gb-zwart/9200000119815601/'\", \" 'https://bol.com/nl/p/samsung-galaxy-a12-128gb-zwart/9300000019419396/'\", \" 'https://bol.com/nl/p/samsung-galaxy-a21s-32gb-blauw/9300000000132994/'\", \" 'https://bol.com/nl/p/samsung-galaxy-a42-5g-128gb-prism-dot-black/9300000010098436/'\", \" 'https://bol.com/nl/p/samsung-galaxy-a01-core-16gb-zwart/9300000007420502/'\", \" 'https://bol.com/nl/p/apple-iphone-12-pro-128gb-oceaan-blauw/9300000013742251/'\", \" 'https://bol.com/nl/p/samsung-galaxy-a10-32gb-zwart/9200000111950985/'\", \" 'https://bol.com/nl/p/samsung-galaxy-a21s-128gb-zwart/9300000015820720/'\", \" 'https://bol.com/nl/p/apple-iphone-xr-64gb-zwart/9200000098453451/'\", \" 'https://bol.com/nl/p/samsung-galaxy-a12-64gb-zwart/9300000020208465/'\", \" 'https://bol.com/nl/p/samsung-galaxy-s21-5g-128gb-phantom-gray/9300000020732481/''https://bol.com/nl/p/samsung-galaxy-a20e-dual-sim-32gb-blauw/9300000002133409/'\", \" 'https://bol.com/nl/p/samsung-galaxy-a40-64gb-zwart/9200000107463262/'\", \" 'https://bol.com/nl/p/apple-iphone-12-mini-64gb-zwart/9300000013742257/'\", \" 'https://bol.com/nl/p/apple-iphone-11-128gb-zwart/9200000119816199/'\", \" 'https://bol.com/nl/p/samsung-galaxy-s10e-128gb-prism-zwart/9200000106450648/'\", \" 'https://bol.com/nl/p/samsung-galaxy-a50-128gb-zwart/9200000106883561/'\", \" 'https://bol.com/nl/p/samsung-galaxy-a10-32gb-blauw/9200000111950979/'\", \" 'https://bol.com/nl/p/motorola-moto-g8-power-lite-blauw/9200000127141343/'\", \" 'https://bol.com/nl/p/huawei-p30-lite-128gb-midnight-zwart/9200000107750278/'\", \" 'https://bol.com/nl/p/samsung-galaxy-xcover-4s-32gb-zwart/9200000111950981/'\", \" 'https://bol.com/nl/p/motorola-moto-g9-power-128gb-groen/9300000012375717/'\", \" 'https://bol.com/nl/p/apple-iphone-se-128gb-zwart/9300000000886601/'\", \" 'https://bol.com/nl/p/apple-iphone-x-refurbished-door-forza-c-grade-64gb-spacegrijs/9200000101335076/'\", \" 'https://bol.com/nl/p/samsung-galaxy-a10s-32gb-zwart/9200000121265417/'\", \" 'https://bol.com/nl/p/samsung-galaxy-s20-5g-128gb-cosmic-grey/9200000128429194/'\", \" 'https://bol.com/nl/p/apple-iphone-12-pro-max-256gb-grafiet/9300000013742208/'\", \" 'https://bol.com/nl/p/samsung-galaxy-a32-5g-128gb-awesome-black/9300000022106004/'\", \" 'https://bol.com/nl/p/alcatel-1se-32gb-grijs/9300000001580712/'\", \" 'https://bol.com/nl/p/nokia-5-4-64gb-blauw/9300000021882472/'\", \" 'https://bol.com/nl/p/samsung-galaxy-m21-power-64gb-zwart/9300000000133004/'\", \" 'https://bol.com/nl/p/samsung-galaxy-a02s-32gb-zwart/9300000020547718/'\", \" 'https://bol.com/nl/p/samsung-galaxy-a71-128gb-blauw/9200000127101719/'\", \" 'https://bol.com/nl/p/oppo-a72-128gb-zwart/9300000002779754/'https://bol.com/nl/p/samsung-galaxy-a51-128gb-zwart/9200000127101717/'\", \" 'https://bol.com/nl/p/samsung-galaxy-a20e-32gb-zwart/9200000109073236/'\", \" 'https://bol.com/nl/p/samsung-galaxy-a41-64gb-zwart/9300000000132992/'\", \" 'https://bol.com/nl/p/samsung-galaxy-a71-128gb-zwart/9200000127101810/'\", \" 'https://bol.com/nl/p/apple-iphone-se-64gb-zwart/9300000000886605/'\", \" 'https://bol.com/nl/p/samsung-galaxy-a21s-64gb-zwart/9300000000132986/'\", \" 'https://bol.com/nl/p/apple-iphone-12-64gb-zwart/9300000013742278/'\", \" 'https://bol.com/nl/p/alcatel-1c-3g-8gb-zwart/9200000112629003/'\", \" 'https://bol.com/nl/p/motorola-moto-e6-play-32gb-steel-black/9200000122803221/'\", \" 'https://bol.com/nl/p/samsung-galaxy-s20-fe-4g-128gb-cloud-navy/9300000008841647/'\", \" 'https://bol.com/nl/p/apple-iphone-11-64gb-zwart/9200000119815601/'\", \" 'https://bol.com/nl/p/samsung-galaxy-a12-128gb-zwart/9300000019419396/'\", \" 'https://bol.com/nl/p/samsung-galaxy-a21s-32gb-blauw/9300000000132994/'\", \" 'https://bol.com/nl/p/samsung-galaxy-a42-5g-128gb-prism-dot-black/9300000010098436/'\", \" 'https://bol.com/nl/p/samsung-galaxy-a01-core-16gb-zwart/9300000007420502/'\", \" 'https://bol.com/nl/p/apple-iphone-12-pro-128gb-oceaan-blauw/9300000013742251/'\", \" 'https://bol.com/nl/p/samsung-galaxy-a10-32gb-zwart/9200000111950985/'\", \" 'https://bol.com/nl/p/samsung-galaxy-a21s-128gb-zwart/9300000015820720/'\", \" 'https://bol.com/nl/p/apple-iphone-xr-64gb-zwart/9200000098453451/'\", \" 'https://bol.com/nl/p/samsung-galaxy-a12-64gb-zwart/9300000020208465/'\", \" 'https://bol.com/nl/p/samsung-galaxy-s21-5g-128gb-phantom-gray/9300000020732481/https://bol.com/nl/p/samsung-galaxy-a20e-dual-sim-32gb-blauw/9300000002133409/'\", \" 'https://bol.com/nl/p/samsung-galaxy-a40-64gb-zwart/9200000107463262/'\", \" 'https://bol.com/nl/p/apple-iphone-12-mini-64gb-zwart/9300000013742257/'\", \" 'https://bol.com/nl/p/apple-iphone-11-128gb-zwart/9200000119816199/'\", \" 'https://bol.com/nl/p/samsung-galaxy-s10e-128gb-prism-zwart/9200000106450648/'\", \" 'https://bol.com/nl/p/samsung-galaxy-a50-128gb-zwart/9200000106883561/'\", \" 'https://bol.com/nl/p/samsung-galaxy-a10-32gb-blauw/9200000111950979/'\", \" 'https://bol.com/nl/p/motorola-moto-g8-power-lite-blauw/9200000127141343/'\", \" 'https://bol.com/nl/p/huawei-p30-lite-128gb-midnight-zwart/9200000107750278/'\", \" 'https://bol.com/nl/p/samsung-galaxy-xcover-4s-32gb-zwart/9200000111950981/'\", \" 'https://bol.com/nl/p/motorola-moto-g9-power-128gb-groen/9300000012375717/'\", \" 'https://bol.com/nl/p/apple-iphone-se-128gb-zwart/9300000000886601/'\", \" 'https://bol.com/nl/p/apple-iphone-x-refurbished-door-forza-c-grade-64gb-spacegrijs/9200000101335076/'\", \" 'https://bol.com/nl/p/samsung-galaxy-a10s-32gb-zwart/9200000121265417/'\", \" 'https://bol.com/nl/p/samsung-galaxy-s20-5g-128gb-cosmic-grey/9200000128429194/'\", \" 'https://bol.com/nl/p/apple-iphone-12-pro-max-256gb-grafiet/9300000013742208/'\", \" 'https://bol.com/nl/p/samsung-galaxy-a32-5g-128gb-awesome-black/9300000022106004/'\", \" 'https://bol.com/nl/p/alcatel-1se-32gb-grijs/9300000001580712/'\", \" 'https://bol.com/nl/p/nokia-5-4-64gb-blauw/9300000021882472/'\", \" 'https://bol.com/nl/p/samsung-galaxy-m21-power-64gb-zwart/9300000000133004/'\", \" 'https://bol.com/nl/p/samsung-galaxy-a02s-32gb-zwart/9300000020547718/'\", \" 'https://bol.com/nl/p/samsung-galaxy-a71-128gb-blauw/9200000127101719/'\", \" 'https://bol.com/nl/p/oppo-a72-128gb-zwart/9300000002779754/\"]]\n"
     ]
    }
   ],
   "source": [
    "import csv\n",
    "\n",
    "with open('my_ouput.csv', newline='') as f:\n",
    "    reader = csv.reader(f)\n",
    "    your_list = list(reader)\n",
    "\n",
    "print(your_list)"
   ]
  },
  {
   "cell_type": "code",
   "execution_count": 49,
   "metadata": {},
   "outputs": [
    {
     "data": {
      "text/plain": [
       "[\"['https://bol.com/nl/p/samsung-galaxy-a51-128gb-zwart/9200000127101717/', 'https://bol.com/nl/p/samsung-galaxy-a20e-32gb-zwart/9200000109073236/', 'https://bol.com/nl/p/samsung-galaxy-a41-64gb-zwart/9300000000132992/', 'https://bol.com/nl/p/samsung-galaxy-a71-128gb-zwart/9200000127101810/', 'https://bol.com/nl/p/apple-iphone-se-64gb-zwart/9300000000886605/', 'https://bol.com/nl/p/samsung-galaxy-a21s-64gb-zwart/9300000000132986/', 'https://bol.com/nl/p/apple-iphone-12-64gb-zwart/9300000013742278/', 'https://bol.com/nl/p/alcatel-1c-3g-8gb-zwart/9200000112629003/', 'https://bol.com/nl/p/motorola-moto-e6-play-32gb-steel-black/9200000122803221/', 'https://bol.com/nl/p/samsung-galaxy-s20-fe-4g-128gb-cloud-navy/9300000008841647/', 'https://bol.com/nl/p/samsung-galaxy-a21s-32gb-blauw/9300000000132994/', 'https://bol.com/nl/p/samsung-galaxy-a12-128gb-zwart/9300000019419396/', 'https://bol.com/nl/p/samsung-galaxy-a42-5g-128gb-prism-dot-black/9300000010098436/', 'https://bol.com/nl/p/apple-iphone-11-64gb-zwart/9200000119815601/', 'https://bol.com/nl/p/samsung-galaxy-a01-core-16gb-zwart/9300000007420502/', 'https://bol.com/nl/p/apple-iphone-12-pro-128gb-oceaan-blauw/9300000013742251/', 'https://bol.com/nl/p/samsung-galaxy-a10-32gb-zwart/9200000111950985/', 'https://bol.com/nl/p/samsung-galaxy-a21s-128gb-zwart/9300000015820720/', 'https://bol.com/nl/p/apple-iphone-xr-64gb-zwart/9200000098453451/', 'https://bol.com/nl/p/samsung-galaxy-a12-64gb-zwart/9300000020208465/', 'https://bol.com/nl/p/samsung-galaxy-s21-5g-128gb-phantom-gray/9300000020732481/']['https://bol.com/nl/p/samsung-galaxy-a51-128gb-zwart/9200000127101717/', 'https://bol.com/nl/p/samsung-galaxy-a20e-32gb-zwart/9200000109073236/', 'https://bol.com/nl/p/samsung-galaxy-a41-64gb-zwart/9300000000132992/', 'https://bol.com/nl/p/samsung-galaxy-a71-128gb-zwart/9200000127101810/', 'https://bol.com/nl/p/apple-iphone-se-64gb-zwart/9300000000886605/', 'https://bol.com/nl/p/samsung-galaxy-a21s-64gb-zwart/9300000000132986/', 'https://bol.com/nl/p/apple-iphone-12-64gb-zwart/9300000013742278/', 'https://bol.com/nl/p/alcatel-1c-3g-8gb-zwart/9200000112629003/', 'https://bol.com/nl/p/motorola-moto-e6-play-32gb-steel-black/9200000122803221/', 'https://bol.com/nl/p/samsung-galaxy-s20-fe-4g-128gb-cloud-navy/9300000008841647/', 'https://bol.com/nl/p/samsung-galaxy-a21s-32gb-blauw/9300000000132994/', 'https://bol.com/nl/p/samsung-galaxy-a12-128gb-zwart/9300000019419396/', 'https://bol.com/nl/p/samsung-galaxy-a42-5g-128gb-prism-dot-black/9300000010098436/', 'https://bol.com/nl/p/apple-iphone-11-64gb-zwart/9200000119815601/', 'https://bol.com/nl/p/samsung-galaxy-a01-core-16gb-zwart/9300000007420502/', 'https://bol.com/nl/p/apple-iphone-12-pro-128gb-oceaan-blauw/9300000013742251/', 'https://bol.com/nl/p/samsung-galaxy-a10-32gb-zwart/9200000111950985/', 'https://bol.com/nl/p/samsung-galaxy-a21s-128gb-zwart/9300000015820720/', 'https://bol.com/nl/p/apple-iphone-xr-64gb-zwart/9200000098453451/', 'https://bol.com/nl/p/samsung-galaxy-a12-64gb-zwart/9300000020208465/', 'https://bol.com/nl/p/samsung-galaxy-s21-5g-128gb-phantom-gray/9300000020732481/']['https://bol.com/nl/p/samsung-galaxy-a51-128gb-zwart/9200000127101717/', 'https://bol.com/nl/p/samsung-galaxy-a20e-32gb-zwart/9200000109073236/', 'https://bol.com/nl/p/samsung-galaxy-a41-64gb-zwart/9300000000132992/', 'https://bol.com/nl/p/samsung-galaxy-a71-128gb-zwart/9200000127101810/', 'https://bol.com/nl/p/apple-iphone-se-64gb-zwart/9300000000886605/', 'https://bol.com/nl/p/samsung-galaxy-a21s-64gb-zwart/9300000000132986/', 'https://bol.com/nl/p/apple-iphone-12-64gb-zwart/9300000013742278/', 'https://bol.com/nl/p/alcatel-1c-3g-8gb-zwart/9200000112629003/', 'https://bol.com/nl/p/motorola-moto-e6-play-32gb-steel-black/9200000122803221/', 'https://bol.com/nl/p/samsung-galaxy-s20-fe-4g-128gb-cloud-navy/9300000008841647/', 'https://bol.com/nl/p/samsung-galaxy-a21s-32gb-blauw/9300000000132994/', 'https://bol.com/nl/p/samsung-galaxy-a12-128gb-zwart/9300000019419396/', 'https://bol.com/nl/p/samsung-galaxy-a42-5g-128gb-prism-dot-black/9300000010098436/', 'https://bol.com/nl/p/apple-iphone-11-64gb-zwart/9200000119815601/', 'https://bol.com/nl/p/samsung-galaxy-a01-core-16gb-zwart/9300000007420502/', 'https://bol.com/nl/p/apple-iphone-12-pro-128gb-oceaan-blauw/9300000013742251/', 'https://bol.com/nl/p/samsung-galaxy-a10-32gb-zwart/9200000111950985/', 'https://bol.com/nl/p/samsung-galaxy-a21s-128gb-zwart/9300000015820720/', 'https://bol.com/nl/p/apple-iphone-xr-64gb-zwart/9200000098453451/', 'https://bol.com/nl/p/samsung-galaxy-a12-64gb-zwart/9300000020208465/', 'https://bol.com/nl/p/samsung-galaxy-s21-5g-128gb-phantom-gray/9300000020732481/']['https://bol.com/nl/p/samsung-galaxy-a51-128gb-zwart/9200000127101717/', 'https://bol.com/nl/p/samsung-galaxy-a20e-32gb-zwart/9200000109073236/', 'https://bol.com/nl/p/samsung-galaxy-a41-64gb-zwart/9300000000132992/', 'https://bol.com/nl/p/samsung-galaxy-a71-128gb-zwart/9200000127101810/', 'https://bol.com/nl/p/apple-iphone-se-64gb-zwart/9300000000886605/', 'https://bol.com/nl/p/samsung-galaxy-a21s-64gb-zwart/9300000000132986/', 'https://bol.com/nl/p/apple-iphone-12-64gb-zwart/9300000013742278/', 'https://bol.com/nl/p/alcatel-1c-3g-8gb-zwart/9200000112629003/', 'https://bol.com/nl/p/motorola-moto-e6-play-32gb-steel-black/9200000122803221/', 'https://bol.com/nl/p/samsung-galaxy-s20-fe-4g-128gb-cloud-navy/9300000008841647/', 'https://bol.com/nl/p/samsung-galaxy-a21s-32gb-blauw/9300000000132994/', 'https://bol.com/nl/p/samsung-galaxy-a12-128gb-zwart/9300000019419396/', 'https://bol.com/nl/p/samsung-galaxy-a42-5g-128gb-prism-dot-black/9300000010098436/', 'https://bol.com/nl/p/apple-iphone-11-64gb-zwart/9200000119815601/', 'https://bol.com/nl/p/samsung-galaxy-a01-core-16gb-zwart/9300000007420502/', 'https://bol.com/nl/p/apple-iphone-12-pro-128gb-oceaan-blauw/9300000013742251/', 'https://bol.com/nl/p/samsung-galaxy-a10-32gb-zwart/9200000111950985/', 'https://bol.com/nl/p/samsung-galaxy-a21s-128gb-zwart/9300000015820720/', 'https://bol.com/nl/p/apple-iphone-xr-64gb-zwart/9200000098453451/', 'https://bol.com/nl/p/samsung-galaxy-a12-64gb-zwart/9300000020208465/', 'https://bol.com/nl/p/samsung-galaxy-s21-5g-128gb-phantom-gray/9300000020732481/']['https://bol.com/nl/p/samsung-galaxy-a20e-dual-sim-32gb-blauw/9300000002133409/', 'https://bol.com/nl/p/samsung-galaxy-s10e-128gb-prism-zwart/9200000106450648/', 'https://bol.com/nl/p/samsung-galaxy-a40-64gb-zwart/9200000107463262/', 'https://bol.com/nl/p/apple-iphone-12-mini-64gb-zwart/9300000013742257/', 'https://bol.com/nl/p/apple-iphone-11-128gb-zwart/9200000119816199/', 'https://bol.com/nl/p/samsung-galaxy-a50-128gb-zwart/9200000106883561/', 'https://bol.com/nl/p/motorola-moto-g8-power-lite-blauw/9200000127141343/', 'https://bol.com/nl/p/samsung-galaxy-a10-32gb-blauw/9200000111950979/', 'https://bol.com/nl/p/samsung-galaxy-xcover-4s-32gb-zwart/9200000111950981/', 'https://bol.com/nl/p/huawei-p30-lite-128gb-midnight-zwart/9200000107750278/', 'https://bol.com/nl/p/motorola-moto-g9-power-128gb-groen/9300000012375717/', 'https://bol.com/nl/p/apple-iphone-se-128gb-zwart/9300000000886601/', 'https://bol.com/nl/p/apple-iphone-x-refurbished-door-forza-c-grade-64gb-spacegrijs/9200000101335076/', 'https://bol.com/nl/p/samsung-galaxy-a10s-32gb-zwart/9200000121265417/', 'https://bol.com/nl/p/nokia-5-4-64gb-blauw/9300000021882472/', 'https://bol.com/nl/p/samsung-galaxy-s20-5g-128gb-cosmic-grey/9200000128429194/', 'https://bol.com/nl/p/apple-iphone-12-pro-max-256gb-grafiet/9300000013742208/', 'https://bol.com/nl/p/samsung-galaxy-a32-5g-128gb-awesome-black/9300000022106004/', 'https://bol.com/nl/p/samsung-galaxy-m21-power-64gb-zwart/9300000000133004/', 'https://bol.com/nl/p/samsung-galaxy-a02s-32gb-zwart/9300000020547718/', 'https://bol.com/nl/p/alcatel-1se-32gb-grijs/9300000001580712/', 'https://bol.com/nl/p/samsung-galaxy-a71-128gb-blauw/9200000127101719/', 'https://bol.com/nl/p/oppo-a72-128gb-zwart/9300000002779754/']['https://bol.com/nl/p/huawei-p30-lite-new-edition-256gb-midnight-black/9200000126132549/', 'https://bol.com/nl/p/samsung-galaxy-s21-ultra-5g-128gb-phantom-black/9300000020732466/', 'https://bol.com/nl/p/motorola-moto-g9-plus-128gb-deep-dive-blauw/9300000009401577/', 'https://bol.com/nl/p/samsung-galaxy-m11-32gb-blauw/9300000014240088/', 'https://bol.com/nl/p/samsung-galaxy-a41-64gb-blauw/9300000000132999/', 'https://bol.com/nl/p/cat-s42-32gb-zwart/9300000004951815/', 'https://bol.com/nl/p/swissvoice-g50-senioren-smartphone/9300000015115804/', 'https://bol.com/nl/p/samsung-galaxy-a21s-128gb-blauw/9300000015820721/', 'https://bol.com/nl/p/huawei-p-smart-2021-128-gb-zwart/9300000013153840/', 'https://bol.com/nl/p/alcatel-1b-2020-32gb-zwart/9300000014838536/', 'https://bol.com/nl/p/apple-iphone-7-128gb-zwart/9200000064472593/', 'https://bol.com/nl/p/samsung-galaxy-a21s-64gb-wit/9300000000132987/', 'https://bol.com/nl/p/samsung-galaxy-s20fe-4g-128gb-lavendel/9300000008841646/', 'https://bol.com/nl/p/samsung-galaxy-a20e-dual-sim-32gb-wit/9200000109073220/', 'https://bol.com/nl/p/apple-iphone-12-pro-max-128gb-grafiet/9300000013742268/', 'https://bol.com/nl/p/apple-iphone-11-pro-64gb-middernachtgroen/9200000120255294/', 'https://bol.com/nl/p/samsung-galaxy-a71-dual-sim-128gb-crush-white/9200000127101808/', 'https://bol.com/nl/p/oppo-a15-32gb-zwart/9300000017398501/', 'https://bol.com/nl/p/motorola-moto-g9-play-64gb-groen/9300000008104040/', 'https://bol.com/nl/p/samsung-galaxy-s20-fe-5g-128gb-cloud-navy/9300000010045175/', 'https://bol.com/nl/p/nokia-1-3-16gb-grijs/9200000132588190/', 'https://bol.com/nl/p/xiaomi-poco-m3-128gb-zwart/9300000020562311/', 'https://bol.com/nl/p/apple-iphone-12-128gb-blauw/9300000013742215/']['https://bol.com/nl/p/samsung-galaxy-a51-128gb-zwart/9200000127101717/', 'https://bol.com/nl/p/samsung-galaxy-a20e-32gb-zwart/9200000109073236/', 'https://bol.com/nl/p/samsung-galaxy-a41-64gb-zwart/9300000000132992/', 'https://bol.com/nl/p/samsung-galaxy-a71-128gb-zwart/9200000127101810/', 'https://bol.com/nl/p/apple-iphone-se-64gb-zwart/9300000000886605/', 'https://bol.com/nl/p/samsung-galaxy-a21s-64gb-zwart/9300000000132986/', 'https://bol.com/nl/p/apple-iphone-12-64gb-zwart/9300000013742278/', 'https://bol.com/nl/p/alcatel-1c-3g-8gb-zwart/9200000112629003/', 'https://bol.com/nl/p/motorola-moto-e6-play-32gb-steel-black/9200000122803221/', 'https://bol.com/nl/p/samsung-galaxy-s20-fe-4g-128gb-cloud-navy/9300000008841647/', 'https://bol.com/nl/p/samsung-galaxy-a21s-32gb-blauw/9300000000132994/', 'https://bol.com/nl/p/samsung-galaxy-a12-128gb-zwart/9300000019419396/', 'https://bol.com/nl/p/samsung-galaxy-a42-5g-128gb-prism-dot-black/9300000010098436/', 'https://bol.com/nl/p/apple-iphone-11-64gb-zwart/9200000119815601/', 'https://bol.com/nl/p/samsung-galaxy-a01-core-16gb-zwart/9300000007420502/', 'https://bol.com/nl/p/apple-iphone-12-pro-128gb-oceaan-blauw/9300000013742251/', 'https://bol.com/nl/p/samsung-galaxy-a10-32gb-zwart/9200000111950985/', 'https://bol.com/nl/p/samsung-galaxy-a21s-128gb-zwart/9300000015820720/', 'https://bol.com/nl/p/apple-iphone-xr-64gb-zwart/9200000098453451/', 'https://bol.com/nl/p/samsung-galaxy-a12-64gb-zwart/9300000020208465/', 'https://bol.com/nl/p/samsung-galaxy-s21-5g-128gb-phantom-gray/9300000020732481/']['https://bol.com/nl/p/samsung-galaxy-a20e-dual-sim-32gb-blauw/9300000002133409/', 'https://bol.com/nl/p/samsung-galaxy-s10e-128gb-prism-zwart/9200000106450648/', 'https://bol.com/nl/p/samsung-galaxy-a40-64gb-zwart/9200000107463262/', 'https://bol.com/nl/p/apple-iphone-12-mini-64gb-zwart/9300000013742257/', 'https://bol.com/nl/p/apple-iphone-11-128gb-zwart/9200000119816199/', 'https://bol.com/nl/p/samsung-galaxy-a50-128gb-zwart/9200000106883561/', 'https://bol.com/nl/p/motorola-moto-g8-power-lite-blauw/9200000127141343/', 'https://bol.com/nl/p/samsung-galaxy-a10-32gb-blauw/9200000111950979/', 'https://bol.com/nl/p/samsung-galaxy-xcover-4s-32gb-zwart/9200000111950981/', 'https://bol.com/nl/p/huawei-p30-lite-128gb-midnight-zwart/9200000107750278/', 'https://bol.com/nl/p/motorola-moto-g9-power-128gb-groen/9300000012375717/', 'https://bol.com/nl/p/apple-iphone-se-128gb-zwart/9300000000886601/', 'https://bol.com/nl/p/apple-iphone-x-refurbished-door-forza-c-grade-64gb-spacegrijs/9200000101335076/', 'https://bol.com/nl/p/samsung-galaxy-a10s-32gb-zwart/9200000121265417/', 'https://bol.com/nl/p/nokia-5-4-64gb-blauw/9300000021882472/', 'https://bol.com/nl/p/samsung-galaxy-s20-5g-128gb-cosmic-grey/9200000128429194/', 'https://bol.com/nl/p/apple-iphone-12-pro-max-256gb-grafiet/9300000013742208/', 'https://bol.com/nl/p/samsung-galaxy-a32-5g-128gb-awesome-black/9300000022106004/', 'https://bol.com/nl/p/samsung-galaxy-m21-power-64gb-zwart/9300000000133004/', 'https://bol.com/nl/p/samsung-galaxy-a02s-32gb-zwart/9300000020547718/', 'https://bol.com/nl/p/alcatel-1se-32gb-grijs/9300000001580712/', 'https://bol.com/nl/p/samsung-galaxy-a71-128gb-blauw/9200000127101719/', 'https://bol.com/nl/p/oppo-a72-128gb-zwart/9300000002779754/']['https://bol.com/nl/p/huawei-p30-lite-new-edition-256gb-midnight-black/9200000126132549/', 'https://bol.com/nl/p/samsung-galaxy-s21-ultra-5g-128gb-phantom-black/9300000020732466/', 'https://bol.com/nl/p/motorola-moto-g9-plus-128gb-deep-dive-blauw/9300000009401577/', 'https://bol.com/nl/p/samsung-galaxy-m11-32gb-blauw/9300000014240088/', 'https://bol.com/nl/p/samsung-galaxy-a41-64gb-blauw/9300000000132999/', 'https://bol.com/nl/p/cat-s42-32gb-zwart/9300000004951815/', 'https://bol.com/nl/p/swissvoice-g50-senioren-smartphone/9300000015115804/', 'https://bol.com/nl/p/samsung-galaxy-a21s-128gb-blauw/9300000015820721/', 'https://bol.com/nl/p/huawei-p-smart-2021-128-gb-zwart/9300000013153840/', 'https://bol.com/nl/p/alcatel-1b-2020-32gb-zwart/9300000014838536/', 'https://bol.com/nl/p/apple-iphone-7-128gb-zwart/9200000064472593/', 'https://bol.com/nl/p/samsung-galaxy-a21s-64gb-wit/9300000000132987/', 'https://bol.com/nl/p/samsung-galaxy-s20fe-4g-128gb-lavendel/9300000008841646/', 'https://bol.com/nl/p/samsung-galaxy-a20e-dual-sim-32gb-wit/9200000109073220/', 'https://bol.com/nl/p/apple-iphone-12-pro-max-128gb-grafiet/9300000013742268/', 'https://bol.com/nl/p/apple-iphone-11-pro-64gb-middernachtgroen/9200000120255294/', 'https://bol.com/nl/p/samsung-galaxy-a71-dual-sim-128gb-crush-white/9200000127101808/', 'https://bol.com/nl/p/oppo-a15-32gb-zwart/9300000017398501/', 'https://bol.com/nl/p/motorola-moto-g9-play-64gb-groen/9300000008104040/', 'https://bol.com/nl/p/samsung-galaxy-s20-fe-5g-128gb-cloud-navy/9300000010045175/', 'https://bol.com/nl/p/nokia-1-3-16gb-grijs/9200000132588190/', 'https://bol.com/nl/p/xiaomi-poco-m3-128gb-zwart/9300000020562311/', 'https://bol.com/nl/p/apple-iphone-12-128gb-blauw/9300000013742215/']['https://bol.com/nl/p/samsung-galaxy-a01-core-16gb-blauw/9300000008537177/', 'https://bol.com/nl/p/alcatel-1se-32gb-groen/9300000001580713/', 'https://bol.com/nl/p/xiaomi-redmi-9c-64gb-grijs/9300000009972963/', 'https://bol.com/nl/p/nokia-5-3-64gb-grijs/9200000132589155/', 'https://bol.com/nl/p/huawei-p-smart-2020-128gb-blauw-dual-sim/9300000001009624/', 'https://bol.com/nl/p/apple-iphone-12-mini-128gb-zwart/9300000013742303/', 'https://bol.com/nl/p/samsung-galaxy-a3-core-16gb-zwart/9300000031389983/', 'https://bol.com/nl/p/apple-iphone-8-64gb-spacegrijs/9200000082607880/', 'https://bol.com/nl/p/apple-iphone-8-plus-refurbished-door-forza-a-grade-64gb-spacegrijs/9200000110010127/', 'https://bol.com/nl/p/oneplus-nord-n10-5g-128gb-blauw/9300000017900799/', 'https://bol.com/nl/p/apple-iphone-7-32gb-rosegoud/9200000126573771/', 'https://bol.com/nl/p/samsung-galaxy-a12-128gb-blauw/9300000019419395/', 'https://bol.com/nl/p/cat-s62-pro-128gb-zwart/9300000007439030/', 'https://bol.com/nl/p/samsung-galaxy-s20fe-4g-128gb-groen/9300000008841645/', 'https://bol.com/nl/p/samsung-galaxy-a12-64gb-wit/9300000020208463/', 'https://bol.com/nl/p/samsung-galaxy-s10-128gb-prism-zwart/9200000106236052/', 'https://bol.com/nl/p/nokia-3-4-32gb-grijs/9300000010112493/', 'https://bol.com/nl/p/huawei-p30-lite-128gb-peacock-blauw/9200000107750280/', 'https://bol.com/nl/p/samsung-galaxy-m31-64gb-zwart/9300000005865241/', 'https://bol.com/nl/p/xiaomi-redmi-note-9-pro-128gb-grijs/9300000000827984/', 'https://bol.com/nl/p/apple-iphone-8-64-gb-zwart-b-grade/9300000015126652/', 'https://bol.com/nl/p/xiaomi-redmi-note-8-pro-128gb-zwart/9200000121715834/', 'https://bol.com/nl/p/samsung-galaxy-j3-8gb-zwart/9200000056577975/', 'https://bol.com/nl/p/oppo-a9-128-gb-groen/9200000122241521/']['https://bol.com/nl/p/huawei-p40-lite-128gb-sakura-pink/9200000132374808/', 'https://bol.com/nl/p/nokia-1-plus-8gb-zwart/9200000106658581/', 'https://bol.com/nl/p/oppo-reno4-z-5g-128gb-zwart/9300000013253932/', 'https://bol.com/nl/p/oppo-a91-128gb-zwart/9300000002241220/', 'https://bol.com/nl/p/apple-iphone-11-64gb-wit/9200000119815542/', 'https://bol.com/nl/p/samsung-galaxy-a12-sm-a125fzkveue-smartphone-16-5-cm-dual-sim-4g-usb-type-c-4-gb-64-gb-5000-mah-zwart/9300000023165230/', 'https://bol.com/nl/p/samsung-galaxy-s21-5g-256gb-phantom-gray/9300000020732464/', 'https://bol.com/nl/p/samsung-galaxy-a12-128gb-wit/9300000019419399/', 'https://bol.com/nl/p/blackberry-q10-16gb-4g-wit/9200000053591911/', 'https://bol.com/nl/p/samsung-galaxy-a8-zwart/9200000087241876/', 'https://bol.com/nl/p/sony-xperia-l4-64gb-zwart/9200000131672028/', 'https://bol.com/nl/p/samsung-galaxy-a32-4g-128gb-awesome-violet/9300000022249977/', 'https://bol.com/nl/p/samsung-galaxy-a31-64gb-zwart/9300000004879142/', 'https://bol.com/nl/p/samsung-galaxy-a3-core-16gb-blauw/9300000023688045/', 'https://bol.com/nl/p/samsung-galaxy-s21-5g-256gb-phantom-black/9300000020732475/', 'https://bol.com/nl/p/xiaomi-mi-11-256gb-blauw/9300000025110492/', 'https://bol.com/nl/p/samsung-galaxy-m31s-128gb-zwart/9300000010489587/', 'https://bol.com/nl/p/samsung-galaxy-note20-ultra-256gb-5g-zwart/9300000006524832/', 'https://bol.com/nl/p/apple-iphone-8-refurbished-by-supreme-mobile-b-grade-64gb-goud/9300000026357464/', 'https://bol.com/nl/p/motorola-moto-e7-plus-64gb-misty-blue/9300000009401579/', 'https://bol.com/nl/p/alcatel-1-8gb-dual-sim-zwart/9200000096144979/', 'https://bol.com/nl/p/apple-iphone-xr-128gb-wit/9200000098453498/', 'https://bol.com/nl/p/nokia-5-4-128-gb-blauw-inclusief-draadloos-koptelefoon/9300000027426132/', 'https://bol.com/nl/p/samsung-galaxy-a42-5g-128gb-prism-dot-gray/9300000010098434/']['https://bol.com/nl/p/samsung-galaxy-a51-128gb-zwart/9200000127101717/', 'https://bol.com/nl/p/samsung-galaxy-a20e-32gb-zwart/9200000109073236/', 'https://bol.com/nl/p/samsung-galaxy-a41-64gb-zwart/9300000000132992/', 'https://bol.com/nl/p/samsung-galaxy-a71-128gb-zwart/9200000127101810/', 'https://bol.com/nl/p/apple-iphone-se-64gb-zwart/9300000000886605/', 'https://bol.com/nl/p/samsung-galaxy-a21s-64gb-zwart/9300000000132986/', 'https://bol.com/nl/p/apple-iphone-12-64gb-zwart/9300000013742278/', 'https://bol.com/nl/p/alcatel-1c-3g-8gb-zwart/9200000112629003/', 'https://bol.com/nl/p/motorola-moto-e6-play-32gb-steel-black/9200000122803221/', 'https://bol.com/nl/p/samsung-galaxy-s20-fe-4g-128gb-cloud-navy/9300000008841647/', 'https://bol.com/nl/p/apple-iphone-11-64gb-zwart/9200000119815601/', 'https://bol.com/nl/p/samsung-galaxy-a12-128gb-zwart/9300000019419396/', 'https://bol.com/nl/p/samsung-galaxy-a21s-32gb-blauw/9300000000132994/', 'https://bol.com/nl/p/samsung-galaxy-a42-5g-128gb-prism-dot-black/9300000010098436/', 'https://bol.com/nl/p/samsung-galaxy-a01-core-16gb-zwart/9300000007420502/', 'https://bol.com/nl/p/apple-iphone-12-pro-128gb-oceaan-blauw/9300000013742251/', 'https://bol.com/nl/p/samsung-galaxy-a10-32gb-zwart/9200000111950985/', 'https://bol.com/nl/p/samsung-galaxy-a21s-128gb-zwart/9300000015820720/', 'https://bol.com/nl/p/apple-iphone-xr-64gb-zwart/9200000098453451/', 'https://bol.com/nl/p/samsung-galaxy-a12-64gb-zwart/9300000020208465/', 'https://bol.com/nl/p/samsung-galaxy-s21-5g-128gb-phantom-gray/9300000020732481/']['https://bol.com/nl/p/samsung-galaxy-a51-128gb-zwart/9200000127101717/', 'https://bol.com/nl/p/samsung-galaxy-a20e-32gb-zwart/9200000109073236/', 'https://bol.com/nl/p/samsung-galaxy-a41-64gb-zwart/9300000000132992/', 'https://bol.com/nl/p/samsung-galaxy-a71-128gb-zwart/9200000127101810/', 'https://bol.com/nl/p/apple-iphone-se-64gb-zwart/9300000000886605/', 'https://bol.com/nl/p/samsung-galaxy-a21s-64gb-zwart/9300000000132986/', 'https://bol.com/nl/p/apple-iphone-12-64gb-zwart/9300000013742278/', 'https://bol.com/nl/p/alcatel-1c-3g-8gb-zwart/9200000112629003/', 'https://bol.com/nl/p/motorola-moto-e6-play-32gb-steel-black/9200000122803221/', 'https://bol.com/nl/p/samsung-galaxy-s20-fe-4g-128gb-cloud-navy/9300000008841647/', 'https://bol.com/nl/p/apple-iphone-11-64gb-zwart/9200000119815601/', 'https://bol.com/nl/p/samsung-galaxy-a12-128gb-zwart/9300000019419396/', 'https://bol.com/nl/p/samsung-galaxy-a21s-32gb-blauw/9300000000132994/', 'https://bol.com/nl/p/samsung-galaxy-a42-5g-128gb-prism-dot-black/9300000010098436/', 'https://bol.com/nl/p/samsung-galaxy-a01-core-16gb-zwart/9300000007420502/', 'https://bol.com/nl/p/apple-iphone-12-pro-128gb-oceaan-blauw/9300000013742251/', 'https://bol.com/nl/p/samsung-galaxy-a10-32gb-zwart/9200000111950985/', 'https://bol.com/nl/p/samsung-galaxy-a21s-128gb-zwart/9300000015820720/', 'https://bol.com/nl/p/apple-iphone-xr-64gb-zwart/9200000098453451/', 'https://bol.com/nl/p/samsung-galaxy-a12-64gb-zwart/9300000020208465/', 'https://bol.com/nl/p/samsung-galaxy-s21-5g-128gb-phantom-gray/9300000020732481/']['https://bol.com/nl/p/samsung-galaxy-a20e-dual-sim-32gb-blauw/9300000002133409/', 'https://bol.com/nl/p/samsung-galaxy-a40-64gb-zwart/9200000107463262/', 'https://bol.com/nl/p/apple-iphone-12-mini-64gb-zwart/9300000013742257/', 'https://bol.com/nl/p/apple-iphone-11-128gb-zwart/9200000119816199/', 'https://bol.com/nl/p/samsung-galaxy-s10e-128gb-prism-zwart/9200000106450648/', 'https://bol.com/nl/p/samsung-galaxy-a50-128gb-zwart/9200000106883561/', 'https://bol.com/nl/p/samsung-galaxy-a10-32gb-blauw/9200000111950979/', 'https://bol.com/nl/p/motorola-moto-g8-power-lite-blauw/9200000127141343/', 'https://bol.com/nl/p/huawei-p30-lite-128gb-midnight-zwart/9200000107750278/', 'https://bol.com/nl/p/samsung-galaxy-xcover-4s-32gb-zwart/9200000111950981/', 'https://bol.com/nl/p/motorola-moto-g9-power-128gb-groen/9300000012375717/', 'https://bol.com/nl/p/apple-iphone-se-128gb-zwart/9300000000886601/', 'https://bol.com/nl/p/apple-iphone-x-refurbished-door-forza-c-grade-64gb-spacegrijs/9200000101335076/', 'https://bol.com/nl/p/samsung-galaxy-a10s-32gb-zwart/9200000121265417/', 'https://bol.com/nl/p/samsung-galaxy-s20-5g-128gb-cosmic-grey/9200000128429194/', 'https://bol.com/nl/p/apple-iphone-12-pro-max-256gb-grafiet/9300000013742208/', 'https://bol.com/nl/p/samsung-galaxy-a32-5g-128gb-awesome-black/9300000022106004/', 'https://bol.com/nl/p/alcatel-1se-32gb-grijs/9300000001580712/', 'https://bol.com/nl/p/nokia-5-4-64gb-blauw/9300000021882472/', 'https://bol.com/nl/p/samsung-galaxy-m21-power-64gb-zwart/9300000000133004/', 'https://bol.com/nl/p/samsung-galaxy-a02s-32gb-zwart/9300000020547718/', 'https://bol.com/nl/p/samsung-galaxy-a71-128gb-blauw/9200000127101719/', 'https://bol.com/nl/p/oppo-a72-128gb-zwart/9300000002779754/']['https://bol.com/nl/p/samsung-galaxy-a51-128gb-zwart/9200000127101717/', 'https://bol.com/nl/p/samsung-galaxy-a20e-32gb-zwart/9200000109073236/', 'https://bol.com/nl/p/samsung-galaxy-a41-64gb-zwart/9300000000132992/', 'https://bol.com/nl/p/samsung-galaxy-a71-128gb-zwart/9200000127101810/', 'https://bol.com/nl/p/apple-iphone-se-64gb-zwart/9300000000886605/', 'https://bol.com/nl/p/samsung-galaxy-a21s-64gb-zwart/9300000000132986/', 'https://bol.com/nl/p/apple-iphone-12-64gb-zwart/9300000013742278/', 'https://bol.com/nl/p/alcatel-1c-3g-8gb-zwart/9200000112629003/', 'https://bol.com/nl/p/motorola-moto-e6-play-32gb-steel-black/9200000122803221/', 'https://bol.com/nl/p/samsung-galaxy-s20-fe-4g-128gb-cloud-navy/9300000008841647/', 'https://bol.com/nl/p/apple-iphone-11-64gb-zwart/9200000119815601/', 'https://bol.com/nl/p/samsung-galaxy-a12-128gb-zwart/9300000019419396/', 'https://bol.com/nl/p/samsung-galaxy-a21s-32gb-blauw/9300000000132994/', 'https://bol.com/nl/p/samsung-galaxy-a42-5g-128gb-prism-dot-black/9300000010098436/', 'https://bol.com/nl/p/samsung-galaxy-a01-core-16gb-zwart/9300000007420502/', 'https://bol.com/nl/p/apple-iphone-12-pro-128gb-oceaan-blauw/9300000013742251/', 'https://bol.com/nl/p/samsung-galaxy-a10-32gb-zwart/9200000111950985/', 'https://bol.com/nl/p/samsung-galaxy-a21s-128gb-zwart/9300000015820720/', 'https://bol.com/nl/p/apple-iphone-xr-64gb-zwart/9200000098453451/', 'https://bol.com/nl/p/samsung-galaxy-a12-64gb-zwart/9300000020208465/', 'https://bol.com/nl/p/samsung-galaxy-s21-5g-128gb-phantom-gray/9300000020732481/']['https://bol.com/nl/p/samsung-galaxy-a20e-dual-sim-32gb-blauw/9300000002133409/', 'https://bol.com/nl/p/samsung-galaxy-a40-64gb-zwart/9200000107463262/', 'https://bol.com/nl/p/apple-iphone-12-mini-64gb-zwart/9300000013742257/', 'https://bol.com/nl/p/apple-iphone-11-128gb-zwart/9200000119816199/', 'https://bol.com/nl/p/samsung-galaxy-s10e-128gb-prism-zwart/9200000106450648/', 'https://bol.com/nl/p/samsung-galaxy-a50-128gb-zwart/9200000106883561/', 'https://bol.com/nl/p/samsung-galaxy-a10-32gb-blauw/9200000111950979/', 'https://bol.com/nl/p/motorola-moto-g8-power-lite-blauw/9200000127141343/', 'https://bol.com/nl/p/huawei-p30-lite-128gb-midnight-zwart/9200000107750278/', 'https://bol.com/nl/p/samsung-galaxy-xcover-4s-32gb-zwart/9200000111950981/', 'https://bol.com/nl/p/motorola-moto-g9-power-128gb-groen/9300000012375717/', 'https://bol.com/nl/p/apple-iphone-se-128gb-zwart/9300000000886601/', 'https://bol.com/nl/p/apple-iphone-x-refurbished-door-forza-c-grade-64gb-spacegrijs/9200000101335076/', 'https://bol.com/nl/p/samsung-galaxy-a10s-32gb-zwart/9200000121265417/', 'https://bol.com/nl/p/samsung-galaxy-s20-5g-128gb-cosmic-grey/9200000128429194/', 'https://bol.com/nl/p/apple-iphone-12-pro-max-256gb-grafiet/9300000013742208/', 'https://bol.com/nl/p/samsung-galaxy-a32-5g-128gb-awesome-black/9300000022106004/', 'https://bol.com/nl/p/alcatel-1se-32gb-grijs/9300000001580712/', 'https://bol.com/nl/p/nokia-5-4-64gb-blauw/9300000021882472/', 'https://bol.com/nl/p/samsung-galaxy-m21-power-64gb-zwart/9300000000133004/', 'https://bol.com/nl/p/samsung-galaxy-a02s-32gb-zwart/9300000020547718/', 'https://bol.com/nl/p/samsung-galaxy-a71-128gb-blauw/9200000127101719/', 'https://bol.com/nl/p/oppo-a72-128gb-zwart/9300000002779754/']'https://bol.com/nl/p/samsung-galaxy-a51-128gb-zwart/9200000127101717/', 'https://bol.com/nl/p/samsung-galaxy-a20e-32gb-zwart/9200000109073236/', 'https://bol.com/nl/p/samsung-galaxy-a41-64gb-zwart/9300000000132992/', 'https://bol.com/nl/p/samsung-galaxy-a71-128gb-zwart/9200000127101810/', 'https://bol.com/nl/p/apple-iphone-se-64gb-zwart/9300000000886605/', 'https://bol.com/nl/p/samsung-galaxy-a21s-64gb-zwart/9300000000132986/', 'https://bol.com/nl/p/apple-iphone-12-64gb-zwart/9300000013742278/', 'https://bol.com/nl/p/alcatel-1c-3g-8gb-zwart/9200000112629003/', 'https://bol.com/nl/p/motorola-moto-e6-play-32gb-steel-black/9200000122803221/', 'https://bol.com/nl/p/samsung-galaxy-s20-fe-4g-128gb-cloud-navy/9300000008841647/', 'https://bol.com/nl/p/apple-iphone-11-64gb-zwart/9200000119815601/', 'https://bol.com/nl/p/samsung-galaxy-a12-128gb-zwart/9300000019419396/', 'https://bol.com/nl/p/samsung-galaxy-a21s-32gb-blauw/9300000000132994/', 'https://bol.com/nl/p/samsung-galaxy-a42-5g-128gb-prism-dot-black/9300000010098436/', 'https://bol.com/nl/p/samsung-galaxy-a01-core-16gb-zwart/9300000007420502/', 'https://bol.com/nl/p/apple-iphone-12-pro-128gb-oceaan-blauw/9300000013742251/', 'https://bol.com/nl/p/samsung-galaxy-a10-32gb-zwart/9200000111950985/', 'https://bol.com/nl/p/samsung-galaxy-a21s-128gb-zwart/9300000015820720/', 'https://bol.com/nl/p/apple-iphone-xr-64gb-zwart/9200000098453451/', 'https://bol.com/nl/p/samsung-galaxy-a12-64gb-zwart/9300000020208465/', 'https://bol.com/nl/p/samsung-galaxy-s21-5g-128gb-phantom-gray/9300000020732481/''https://bol.com/nl/p/samsung-galaxy-a20e-dual-sim-32gb-blauw/9300000002133409/', 'https://bol.com/nl/p/samsung-galaxy-a40-64gb-zwart/9200000107463262/', 'https://bol.com/nl/p/apple-iphone-12-mini-64gb-zwart/9300000013742257/', 'https://bol.com/nl/p/apple-iphone-11-128gb-zwart/9200000119816199/', 'https://bol.com/nl/p/samsung-galaxy-s10e-128gb-prism-zwart/9200000106450648/', 'https://bol.com/nl/p/samsung-galaxy-a50-128gb-zwart/9200000106883561/', 'https://bol.com/nl/p/samsung-galaxy-a10-32gb-blauw/9200000111950979/', 'https://bol.com/nl/p/motorola-moto-g8-power-lite-blauw/9200000127141343/', 'https://bol.com/nl/p/huawei-p30-lite-128gb-midnight-zwart/9200000107750278/', 'https://bol.com/nl/p/samsung-galaxy-xcover-4s-32gb-zwart/9200000111950981/', 'https://bol.com/nl/p/motorola-moto-g9-power-128gb-groen/9300000012375717/', 'https://bol.com/nl/p/apple-iphone-se-128gb-zwart/9300000000886601/', 'https://bol.com/nl/p/apple-iphone-x-refurbished-door-forza-c-grade-64gb-spacegrijs/9200000101335076/', 'https://bol.com/nl/p/samsung-galaxy-a10s-32gb-zwart/9200000121265417/', 'https://bol.com/nl/p/samsung-galaxy-s20-5g-128gb-cosmic-grey/9200000128429194/', 'https://bol.com/nl/p/apple-iphone-12-pro-max-256gb-grafiet/9300000013742208/', 'https://bol.com/nl/p/samsung-galaxy-a32-5g-128gb-awesome-black/9300000022106004/', 'https://bol.com/nl/p/alcatel-1se-32gb-grijs/9300000001580712/', 'https://bol.com/nl/p/nokia-5-4-64gb-blauw/9300000021882472/', 'https://bol.com/nl/p/samsung-galaxy-m21-power-64gb-zwart/9300000000133004/', 'https://bol.com/nl/p/samsung-galaxy-a02s-32gb-zwart/9300000020547718/', 'https://bol.com/nl/p/samsung-galaxy-a71-128gb-blauw/9200000127101719/', 'https://bol.com/nl/p/oppo-a72-128gb-zwart/9300000002779754/'https://bol.com/nl/p/samsung-galaxy-a51-128gb-zwart/9200000127101717/', 'https://bol.com/nl/p/samsung-galaxy-a20e-32gb-zwart/9200000109073236/', 'https://bol.com/nl/p/samsung-galaxy-a41-64gb-zwart/9300000000132992/', 'https://bol.com/nl/p/samsung-galaxy-a71-128gb-zwart/9200000127101810/', 'https://bol.com/nl/p/apple-iphone-se-64gb-zwart/9300000000886605/', 'https://bol.com/nl/p/samsung-galaxy-a21s-64gb-zwart/9300000000132986/', 'https://bol.com/nl/p/apple-iphone-12-64gb-zwart/9300000013742278/', 'https://bol.com/nl/p/alcatel-1c-3g-8gb-zwart/9200000112629003/', 'https://bol.com/nl/p/motorola-moto-e6-play-32gb-steel-black/9200000122803221/', 'https://bol.com/nl/p/samsung-galaxy-s20-fe-4g-128gb-cloud-navy/9300000008841647/', 'https://bol.com/nl/p/apple-iphone-11-64gb-zwart/9200000119815601/', 'https://bol.com/nl/p/samsung-galaxy-a12-128gb-zwart/9300000019419396/', 'https://bol.com/nl/p/samsung-galaxy-a21s-32gb-blauw/9300000000132994/', 'https://bol.com/nl/p/samsung-galaxy-a42-5g-128gb-prism-dot-black/9300000010098436/', 'https://bol.com/nl/p/samsung-galaxy-a01-core-16gb-zwart/9300000007420502/', 'https://bol.com/nl/p/apple-iphone-12-pro-128gb-oceaan-blauw/9300000013742251/', 'https://bol.com/nl/p/samsung-galaxy-a10-32gb-zwart/9200000111950985/', 'https://bol.com/nl/p/samsung-galaxy-a21s-128gb-zwart/9300000015820720/', 'https://bol.com/nl/p/apple-iphone-xr-64gb-zwart/9200000098453451/', 'https://bol.com/nl/p/samsung-galaxy-a12-64gb-zwart/9300000020208465/', 'https://bol.com/nl/p/samsung-galaxy-s21-5g-128gb-phantom-gray/9300000020732481/https://bol.com/nl/p/samsung-galaxy-a20e-dual-sim-32gb-blauw/9300000002133409/', 'https://bol.com/nl/p/samsung-galaxy-a40-64gb-zwart/9200000107463262/', 'https://bol.com/nl/p/apple-iphone-12-mini-64gb-zwart/9300000013742257/', 'https://bol.com/nl/p/apple-iphone-11-128gb-zwart/9200000119816199/', 'https://bol.com/nl/p/samsung-galaxy-s10e-128gb-prism-zwart/9200000106450648/', 'https://bol.com/nl/p/samsung-galaxy-a50-128gb-zwart/9200000106883561/', 'https://bol.com/nl/p/samsung-galaxy-a10-32gb-blauw/9200000111950979/', 'https://bol.com/nl/p/motorola-moto-g8-power-lite-blauw/9200000127141343/', 'https://bol.com/nl/p/huawei-p30-lite-128gb-midnight-zwart/9200000107750278/', 'https://bol.com/nl/p/samsung-galaxy-xcover-4s-32gb-zwart/9200000111950981/', 'https://bol.com/nl/p/motorola-moto-g9-power-128gb-groen/9300000012375717/', 'https://bol.com/nl/p/apple-iphone-se-128gb-zwart/9300000000886601/', 'https://bol.com/nl/p/apple-iphone-x-refurbished-door-forza-c-grade-64gb-spacegrijs/9200000101335076/', 'https://bol.com/nl/p/samsung-galaxy-a10s-32gb-zwart/9200000121265417/', 'https://bol.com/nl/p/samsung-galaxy-s20-5g-128gb-cosmic-grey/9200000128429194/', 'https://bol.com/nl/p/apple-iphone-12-pro-max-256gb-grafiet/9300000013742208/', 'https://bol.com/nl/p/samsung-galaxy-a32-5g-128gb-awesome-black/9300000022106004/', 'https://bol.com/nl/p/alcatel-1se-32gb-grijs/9300000001580712/', 'https://bol.com/nl/p/nokia-5-4-64gb-blauw/9300000021882472/', 'https://bol.com/nl/p/samsung-galaxy-m21-power-64gb-zwart/9300000000133004/', 'https://bol.com/nl/p/samsung-galaxy-a02s-32gb-zwart/9300000020547718/', 'https://bol.com/nl/p/samsung-galaxy-a71-128gb-blauw/9200000127101719/', 'https://bol.com/nl/p/oppo-a72-128gb-zwart/9300000002779754/\"]"
      ]
     },
     "execution_count": 49,
     "metadata": {},
     "output_type": "execute_result"
    }
   ],
   "source": [
    "f=open('my_ouput.csv','r',encoding='utf-8')\n",
    "\n",
    "f.readlines()\n"
   ]
  },
  {
   "cell_type": "markdown",
   "metadata": {},
   "source": [
    "## Get data from phone urls"
   ]
  },
  {
   "cell_type": "code",
   "execution_count": 39,
   "metadata": {},
   "outputs": [],
   "source": [
    "def get_productdata(url):\n",
    "    driver.get(url)\n",
    "    time.sleep(2)\n",
    "    res = driver.page_source.encode('utf-8')\n",
    "    soup = BeautifulSoup(res, \"html.parser\")\n",
    "    \n",
    "    #get prodcuts\n",
    "    title = soup.find(attrs={\"data-test\": \"title\"}).text\n",
    "    price = soup.find(attrs={\"data-test\": \"price\"}).text\n",
    "    price = price.replace(\"\\n\", \"\")\n",
    "    star_rating = soup.find(attrs={\"data-test\": 'reviews'}).text\n",
    "    star_rating = star_rating.replace(\"\\n\\n\\n\", \"\")\n",
    "    today = date.today()\n",
    "    \n",
    "    jsondict = {\"title\": title,\n",
    "               \"price\": price,\n",
    "               \"star_rating\": star_rating,\n",
    "               \"date\": str(today)}\n",
    "               \n",
    "    return(jsondict)\n",
    "    "
   ]
  },
  {
   "cell_type": "code",
   "execution_count": 51,
   "metadata": {},
   "outputs": [
    {
     "ename": "InvalidArgumentException",
     "evalue": "Message: invalid argument: 'url' must be a string\n  (Session info: chrome=89.0.4389.82)\n",
     "output_type": "error",
     "traceback": [
      "\u001b[1;31m---------------------------------------------------------------------------\u001b[0m",
      "\u001b[1;31mInvalidArgumentException\u001b[0m                  Traceback (most recent call last)",
      "\u001b[1;32m<ipython-input-51-f7474994d284>\u001b[0m in \u001b[0;36m<module>\u001b[1;34m\u001b[0m\n\u001b[1;32m----> 1\u001b[1;33m \u001b[0mmy_json\u001b[0m \u001b[1;33m=\u001b[0m \u001b[0mget_productdata\u001b[0m\u001b[1;33m(\u001b[0m\u001b[0myour_list\u001b[0m\u001b[1;33m)\u001b[0m\u001b[1;33m\u001b[0m\u001b[1;33m\u001b[0m\u001b[0m\n\u001b[0m",
      "\u001b[1;32m<ipython-input-39-c762a909232c>\u001b[0m in \u001b[0;36mget_productdata\u001b[1;34m(url)\u001b[0m\n\u001b[0;32m      1\u001b[0m \u001b[1;32mdef\u001b[0m \u001b[0mget_productdata\u001b[0m\u001b[1;33m(\u001b[0m\u001b[0murl\u001b[0m\u001b[1;33m)\u001b[0m\u001b[1;33m:\u001b[0m\u001b[1;33m\u001b[0m\u001b[1;33m\u001b[0m\u001b[0m\n\u001b[1;32m----> 2\u001b[1;33m     \u001b[0mdriver\u001b[0m\u001b[1;33m.\u001b[0m\u001b[0mget\u001b[0m\u001b[1;33m(\u001b[0m\u001b[0murl\u001b[0m\u001b[1;33m)\u001b[0m\u001b[1;33m\u001b[0m\u001b[1;33m\u001b[0m\u001b[0m\n\u001b[0m\u001b[0;32m      3\u001b[0m     \u001b[0mtime\u001b[0m\u001b[1;33m.\u001b[0m\u001b[0msleep\u001b[0m\u001b[1;33m(\u001b[0m\u001b[1;36m2\u001b[0m\u001b[1;33m)\u001b[0m\u001b[1;33m\u001b[0m\u001b[1;33m\u001b[0m\u001b[0m\n\u001b[0;32m      4\u001b[0m     \u001b[0mres\u001b[0m \u001b[1;33m=\u001b[0m \u001b[0mdriver\u001b[0m\u001b[1;33m.\u001b[0m\u001b[0mpage_source\u001b[0m\u001b[1;33m.\u001b[0m\u001b[0mencode\u001b[0m\u001b[1;33m(\u001b[0m\u001b[1;34m'utf-8'\u001b[0m\u001b[1;33m)\u001b[0m\u001b[1;33m\u001b[0m\u001b[1;33m\u001b[0m\u001b[0m\n\u001b[0;32m      5\u001b[0m     \u001b[0msoup\u001b[0m \u001b[1;33m=\u001b[0m \u001b[0mBeautifulSoup\u001b[0m\u001b[1;33m(\u001b[0m\u001b[0mres\u001b[0m\u001b[1;33m,\u001b[0m \u001b[1;34m\"html.parser\"\u001b[0m\u001b[1;33m)\u001b[0m\u001b[1;33m\u001b[0m\u001b[1;33m\u001b[0m\u001b[0m\n",
      "\u001b[1;32m~\\anaconda3\\lib\\site-packages\\selenium\\webdriver\\remote\\webdriver.py\u001b[0m in \u001b[0;36mget\u001b[1;34m(self, url)\u001b[0m\n\u001b[0;32m    331\u001b[0m         \u001b[0mLoads\u001b[0m \u001b[0ma\u001b[0m \u001b[0mweb\u001b[0m \u001b[0mpage\u001b[0m \u001b[1;32min\u001b[0m \u001b[0mthe\u001b[0m \u001b[0mcurrent\u001b[0m \u001b[0mbrowser\u001b[0m \u001b[0msession\u001b[0m\u001b[1;33m.\u001b[0m\u001b[1;33m\u001b[0m\u001b[1;33m\u001b[0m\u001b[0m\n\u001b[0;32m    332\u001b[0m         \"\"\"\n\u001b[1;32m--> 333\u001b[1;33m         \u001b[0mself\u001b[0m\u001b[1;33m.\u001b[0m\u001b[0mexecute\u001b[0m\u001b[1;33m(\u001b[0m\u001b[0mCommand\u001b[0m\u001b[1;33m.\u001b[0m\u001b[0mGET\u001b[0m\u001b[1;33m,\u001b[0m \u001b[1;33m{\u001b[0m\u001b[1;34m'url'\u001b[0m\u001b[1;33m:\u001b[0m \u001b[0murl\u001b[0m\u001b[1;33m}\u001b[0m\u001b[1;33m)\u001b[0m\u001b[1;33m\u001b[0m\u001b[1;33m\u001b[0m\u001b[0m\n\u001b[0m\u001b[0;32m    334\u001b[0m \u001b[1;33m\u001b[0m\u001b[0m\n\u001b[0;32m    335\u001b[0m     \u001b[1;33m@\u001b[0m\u001b[0mproperty\u001b[0m\u001b[1;33m\u001b[0m\u001b[1;33m\u001b[0m\u001b[0m\n",
      "\u001b[1;32m~\\anaconda3\\lib\\site-packages\\selenium\\webdriver\\remote\\webdriver.py\u001b[0m in \u001b[0;36mexecute\u001b[1;34m(self, driver_command, params)\u001b[0m\n\u001b[0;32m    319\u001b[0m         \u001b[0mresponse\u001b[0m \u001b[1;33m=\u001b[0m \u001b[0mself\u001b[0m\u001b[1;33m.\u001b[0m\u001b[0mcommand_executor\u001b[0m\u001b[1;33m.\u001b[0m\u001b[0mexecute\u001b[0m\u001b[1;33m(\u001b[0m\u001b[0mdriver_command\u001b[0m\u001b[1;33m,\u001b[0m \u001b[0mparams\u001b[0m\u001b[1;33m)\u001b[0m\u001b[1;33m\u001b[0m\u001b[1;33m\u001b[0m\u001b[0m\n\u001b[0;32m    320\u001b[0m         \u001b[1;32mif\u001b[0m \u001b[0mresponse\u001b[0m\u001b[1;33m:\u001b[0m\u001b[1;33m\u001b[0m\u001b[1;33m\u001b[0m\u001b[0m\n\u001b[1;32m--> 321\u001b[1;33m             \u001b[0mself\u001b[0m\u001b[1;33m.\u001b[0m\u001b[0merror_handler\u001b[0m\u001b[1;33m.\u001b[0m\u001b[0mcheck_response\u001b[0m\u001b[1;33m(\u001b[0m\u001b[0mresponse\u001b[0m\u001b[1;33m)\u001b[0m\u001b[1;33m\u001b[0m\u001b[1;33m\u001b[0m\u001b[0m\n\u001b[0m\u001b[0;32m    322\u001b[0m             response['value'] = self._unwrap_value(\n\u001b[0;32m    323\u001b[0m                 response.get('value', None))\n",
      "\u001b[1;32m~\\anaconda3\\lib\\site-packages\\selenium\\webdriver\\remote\\errorhandler.py\u001b[0m in \u001b[0;36mcheck_response\u001b[1;34m(self, response)\u001b[0m\n\u001b[0;32m    240\u001b[0m                 \u001b[0malert_text\u001b[0m \u001b[1;33m=\u001b[0m \u001b[0mvalue\u001b[0m\u001b[1;33m[\u001b[0m\u001b[1;34m'alert'\u001b[0m\u001b[1;33m]\u001b[0m\u001b[1;33m.\u001b[0m\u001b[0mget\u001b[0m\u001b[1;33m(\u001b[0m\u001b[1;34m'text'\u001b[0m\u001b[1;33m)\u001b[0m\u001b[1;33m\u001b[0m\u001b[1;33m\u001b[0m\u001b[0m\n\u001b[0;32m    241\u001b[0m             \u001b[1;32mraise\u001b[0m \u001b[0mexception_class\u001b[0m\u001b[1;33m(\u001b[0m\u001b[0mmessage\u001b[0m\u001b[1;33m,\u001b[0m \u001b[0mscreen\u001b[0m\u001b[1;33m,\u001b[0m \u001b[0mstacktrace\u001b[0m\u001b[1;33m,\u001b[0m \u001b[0malert_text\u001b[0m\u001b[1;33m)\u001b[0m\u001b[1;33m\u001b[0m\u001b[1;33m\u001b[0m\u001b[0m\n\u001b[1;32m--> 242\u001b[1;33m         \u001b[1;32mraise\u001b[0m \u001b[0mexception_class\u001b[0m\u001b[1;33m(\u001b[0m\u001b[0mmessage\u001b[0m\u001b[1;33m,\u001b[0m \u001b[0mscreen\u001b[0m\u001b[1;33m,\u001b[0m \u001b[0mstacktrace\u001b[0m\u001b[1;33m)\u001b[0m\u001b[1;33m\u001b[0m\u001b[1;33m\u001b[0m\u001b[0m\n\u001b[0m\u001b[0;32m    243\u001b[0m \u001b[1;33m\u001b[0m\u001b[0m\n\u001b[0;32m    244\u001b[0m     \u001b[1;32mdef\u001b[0m \u001b[0m_value_or_default\u001b[0m\u001b[1;33m(\u001b[0m\u001b[0mself\u001b[0m\u001b[1;33m,\u001b[0m \u001b[0mobj\u001b[0m\u001b[1;33m,\u001b[0m \u001b[0mkey\u001b[0m\u001b[1;33m,\u001b[0m \u001b[0mdefault\u001b[0m\u001b[1;33m)\u001b[0m\u001b[1;33m:\u001b[0m\u001b[1;33m\u001b[0m\u001b[1;33m\u001b[0m\u001b[0m\n",
      "\u001b[1;31mInvalidArgumentException\u001b[0m: Message: invalid argument: 'url' must be a string\n  (Session info: chrome=89.0.4389.82)\n"
     ]
    }
   ],
   "source": [
    "my_json = get_productdata(your_list)"
   ]
  },
  {
   "cell_type": "code",
   "execution_count": 41,
   "metadata": {},
   "outputs": [
    {
     "name": "stdout",
     "output_type": "stream",
     "text": [
      "{'title': 'Apple iPhone 11 - 128GB - Zwart', 'price': '757  95', 'star_rating': '\\n4.7 5\\n103 reviews\\n', 'date': '2021-03-16'}\n"
     ]
    }
   ],
   "source": [
    "print(my_json)"
   ]
  },
  {
   "cell_type": "code",
   "execution_count": 42,
   "metadata": {},
   "outputs": [],
   "source": [
    "f = open('out_bol.json','w',encoding='utf-8')\n",
    "f.close()"
   ]
  },
  {
   "cell_type": "code",
   "execution_count": 43,
   "metadata": {},
   "outputs": [],
   "source": [
    "import json\n",
    "\n",
    "def get_filename(prefix='data_', suffix='.csv'):\n",
    "    timestr = time.strftime(\"%Y%m%d-%H\")\n",
    "    return(prefix + timestr + suffix)"
   ]
  },
  {
   "cell_type": "code",
   "execution_count": 44,
   "metadata": {},
   "outputs": [
    {
     "data": {
      "text/plain": [
       "'data_20210316-22.csv'"
      ]
     },
     "execution_count": 44,
     "metadata": {},
     "output_type": "execute_result"
    }
   ],
   "source": [
    "get_filename()"
   ]
  },
  {
   "cell_type": "code",
   "execution_count": 45,
   "metadata": {},
   "outputs": [
    {
     "name": "stdout",
     "output_type": "stream",
     "text": [
      "[\"['https://bol.com/nl/p/samsung-galaxy-a51-128gb-zwart/9200000127101717/'\", \" 'https://bol.com/nl/p/samsung-galaxy-a20e-32gb-zwart/9200000109073236/'\", \" 'https://bol.com/nl/p/samsung-galaxy-a41-64gb-zwart/9300000000132992/'\", \" 'https://bol.com/nl/p/samsung-galaxy-a71-128gb-zwart/9200000127101810/'\", \" 'https://bol.com/nl/p/apple-iphone-se-64gb-zwart/9300000000886605/'\", \" 'https://bol.com/nl/p/samsung-galaxy-a21s-64gb-zwart/9300000000132986/'\", \" 'https://bol.com/nl/p/apple-iphone-12-64gb-zwart/9300000013742278/'\", \" 'https://bol.com/nl/p/alcatel-1c-3g-8gb-zwart/9200000112629003/'\", \" 'https://bol.com/nl/p/motorola-moto-e6-play-32gb-steel-black/9200000122803221/'\", \" 'https://bol.com/nl/p/samsung-galaxy-s20-fe-4g-128gb-cloud-navy/9300000008841647/'\", \" 'https://bol.com/nl/p/samsung-galaxy-a21s-32gb-blauw/9300000000132994/'\", \" 'https://bol.com/nl/p/samsung-galaxy-a12-128gb-zwart/9300000019419396/'\", \" 'https://bol.com/nl/p/samsung-galaxy-a42-5g-128gb-prism-dot-black/9300000010098436/'\", \" 'https://bol.com/nl/p/apple-iphone-11-64gb-zwart/9200000119815601/'\", \" 'https://bol.com/nl/p/samsung-galaxy-a01-core-16gb-zwart/9300000007420502/'\", \" 'https://bol.com/nl/p/apple-iphone-12-pro-128gb-oceaan-blauw/9300000013742251/'\", \" 'https://bol.com/nl/p/samsung-galaxy-a10-32gb-zwart/9200000111950985/'\", \" 'https://bol.com/nl/p/samsung-galaxy-a21s-128gb-zwart/9300000015820720/'\", \" 'https://bol.com/nl/p/apple-iphone-xr-64gb-zwart/9200000098453451/'\", \" 'https://bol.com/nl/p/samsung-galaxy-a12-64gb-zwart/9300000020208465/'\", \" 'https://bol.com/nl/p/samsung-galaxy-s21-5g-128gb-phantom-gray/9300000020732481/']['https://bol.com/nl/p/samsung-galaxy-a51-128gb-zwart/9200000127101717/'\", \" 'https://bol.com/nl/p/samsung-galaxy-a20e-32gb-zwart/9200000109073236/'\", \" 'https://bol.com/nl/p/samsung-galaxy-a41-64gb-zwart/9300000000132992/'\", \" 'https://bol.com/nl/p/samsung-galaxy-a71-128gb-zwart/9200000127101810/'\", \" 'https://bol.com/nl/p/apple-iphone-se-64gb-zwart/9300000000886605/'\", \" 'https://bol.com/nl/p/samsung-galaxy-a21s-64gb-zwart/9300000000132986/'\", \" 'https://bol.com/nl/p/apple-iphone-12-64gb-zwart/9300000013742278/'\", \" 'https://bol.com/nl/p/alcatel-1c-3g-8gb-zwart/9200000112629003/'\", \" 'https://bol.com/nl/p/motorola-moto-e6-play-32gb-steel-black/9200000122803221/'\", \" 'https://bol.com/nl/p/samsung-galaxy-s20-fe-4g-128gb-cloud-navy/9300000008841647/'\", \" 'https://bol.com/nl/p/samsung-galaxy-a21s-32gb-blauw/9300000000132994/'\", \" 'https://bol.com/nl/p/samsung-galaxy-a12-128gb-zwart/9300000019419396/'\", \" 'https://bol.com/nl/p/samsung-galaxy-a42-5g-128gb-prism-dot-black/9300000010098436/'\", \" 'https://bol.com/nl/p/apple-iphone-11-64gb-zwart/9200000119815601/'\", \" 'https://bol.com/nl/p/samsung-galaxy-a01-core-16gb-zwart/9300000007420502/'\", \" 'https://bol.com/nl/p/apple-iphone-12-pro-128gb-oceaan-blauw/9300000013742251/'\", \" 'https://bol.com/nl/p/samsung-galaxy-a10-32gb-zwart/9200000111950985/'\", \" 'https://bol.com/nl/p/samsung-galaxy-a21s-128gb-zwart/9300000015820720/'\", \" 'https://bol.com/nl/p/apple-iphone-xr-64gb-zwart/9200000098453451/'\", \" 'https://bol.com/nl/p/samsung-galaxy-a12-64gb-zwart/9300000020208465/'\", \" 'https://bol.com/nl/p/samsung-galaxy-s21-5g-128gb-phantom-gray/9300000020732481/']['https://bol.com/nl/p/samsung-galaxy-a51-128gb-zwart/9200000127101717/'\", \" 'https://bol.com/nl/p/samsung-galaxy-a20e-32gb-zwart/9200000109073236/'\", \" 'https://bol.com/nl/p/samsung-galaxy-a41-64gb-zwart/9300000000132992/'\", \" 'https://bol.com/nl/p/samsung-galaxy-a71-128gb-zwart/9200000127101810/'\", \" 'https://bol.com/nl/p/apple-iphone-se-64gb-zwart/9300000000886605/'\", \" 'https://bol.com/nl/p/samsung-galaxy-a21s-64gb-zwart/9300000000132986/'\", \" 'https://bol.com/nl/p/apple-iphone-12-64gb-zwart/9300000013742278/'\", \" 'https://bol.com/nl/p/alcatel-1c-3g-8gb-zwart/9200000112629003/'\", \" 'https://bol.com/nl/p/motorola-moto-e6-play-32gb-steel-black/9200000122803221/'\", \" 'https://bol.com/nl/p/samsung-galaxy-s20-fe-4g-128gb-cloud-navy/9300000008841647/'\", \" 'https://bol.com/nl/p/samsung-galaxy-a21s-32gb-blauw/9300000000132994/'\", \" 'https://bol.com/nl/p/samsung-galaxy-a12-128gb-zwart/9300000019419396/'\", \" 'https://bol.com/nl/p/samsung-galaxy-a42-5g-128gb-prism-dot-black/9300000010098436/'\", \" 'https://bol.com/nl/p/apple-iphone-11-64gb-zwart/9200000119815601/'\", \" 'https://bol.com/nl/p/samsung-galaxy-a01-core-16gb-zwart/9300000007420502/'\", \" 'https://bol.com/nl/p/apple-iphone-12-pro-128gb-oceaan-blauw/9300000013742251/'\", \" 'https://bol.com/nl/p/samsung-galaxy-a10-32gb-zwart/9200000111950985/'\", \" 'https://bol.com/nl/p/samsung-galaxy-a21s-128gb-zwart/9300000015820720/'\", \" 'https://bol.com/nl/p/apple-iphone-xr-64gb-zwart/9200000098453451/'\", \" 'https://bol.com/nl/p/samsung-galaxy-a12-64gb-zwart/9300000020208465/'\", \" 'https://bol.com/nl/p/samsung-galaxy-s21-5g-128gb-phantom-gray/9300000020732481/']['https://bol.com/nl/p/samsung-galaxy-a51-128gb-zwart/9200000127101717/'\", \" 'https://bol.com/nl/p/samsung-galaxy-a20e-32gb-zwart/9200000109073236/'\", \" 'https://bol.com/nl/p/samsung-galaxy-a41-64gb-zwart/9300000000132992/'\", \" 'https://bol.com/nl/p/samsung-galaxy-a71-128gb-zwart/9200000127101810/'\", \" 'https://bol.com/nl/p/apple-iphone-se-64gb-zwart/9300000000886605/'\", \" 'https://bol.com/nl/p/samsung-galaxy-a21s-64gb-zwart/9300000000132986/'\", \" 'https://bol.com/nl/p/apple-iphone-12-64gb-zwart/9300000013742278/'\", \" 'https://bol.com/nl/p/alcatel-1c-3g-8gb-zwart/9200000112629003/'\", \" 'https://bol.com/nl/p/motorola-moto-e6-play-32gb-steel-black/9200000122803221/'\", \" 'https://bol.com/nl/p/samsung-galaxy-s20-fe-4g-128gb-cloud-navy/9300000008841647/'\", \" 'https://bol.com/nl/p/samsung-galaxy-a21s-32gb-blauw/9300000000132994/'\", \" 'https://bol.com/nl/p/samsung-galaxy-a12-128gb-zwart/9300000019419396/'\", \" 'https://bol.com/nl/p/samsung-galaxy-a42-5g-128gb-prism-dot-black/9300000010098436/'\", \" 'https://bol.com/nl/p/apple-iphone-11-64gb-zwart/9200000119815601/'\", \" 'https://bol.com/nl/p/samsung-galaxy-a01-core-16gb-zwart/9300000007420502/'\", \" 'https://bol.com/nl/p/apple-iphone-12-pro-128gb-oceaan-blauw/9300000013742251/'\", \" 'https://bol.com/nl/p/samsung-galaxy-a10-32gb-zwart/9200000111950985/'\", \" 'https://bol.com/nl/p/samsung-galaxy-a21s-128gb-zwart/9300000015820720/'\", \" 'https://bol.com/nl/p/apple-iphone-xr-64gb-zwart/9200000098453451/'\", \" 'https://bol.com/nl/p/samsung-galaxy-a12-64gb-zwart/9300000020208465/'\", \" 'https://bol.com/nl/p/samsung-galaxy-s21-5g-128gb-phantom-gray/9300000020732481/']['https://bol.com/nl/p/samsung-galaxy-a20e-dual-sim-32gb-blauw/9300000002133409/'\", \" 'https://bol.com/nl/p/samsung-galaxy-s10e-128gb-prism-zwart/9200000106450648/'\", \" 'https://bol.com/nl/p/samsung-galaxy-a40-64gb-zwart/9200000107463262/'\", \" 'https://bol.com/nl/p/apple-iphone-12-mini-64gb-zwart/9300000013742257/'\", \" 'https://bol.com/nl/p/apple-iphone-11-128gb-zwart/9200000119816199/'\", \" 'https://bol.com/nl/p/samsung-galaxy-a50-128gb-zwart/9200000106883561/'\", \" 'https://bol.com/nl/p/motorola-moto-g8-power-lite-blauw/9200000127141343/'\", \" 'https://bol.com/nl/p/samsung-galaxy-a10-32gb-blauw/9200000111950979/'\", \" 'https://bol.com/nl/p/samsung-galaxy-xcover-4s-32gb-zwart/9200000111950981/'\", \" 'https://bol.com/nl/p/huawei-p30-lite-128gb-midnight-zwart/9200000107750278/'\", \" 'https://bol.com/nl/p/motorola-moto-g9-power-128gb-groen/9300000012375717/'\", \" 'https://bol.com/nl/p/apple-iphone-se-128gb-zwart/9300000000886601/'\", \" 'https://bol.com/nl/p/apple-iphone-x-refurbished-door-forza-c-grade-64gb-spacegrijs/9200000101335076/'\", \" 'https://bol.com/nl/p/samsung-galaxy-a10s-32gb-zwart/9200000121265417/'\", \" 'https://bol.com/nl/p/nokia-5-4-64gb-blauw/9300000021882472/'\", \" 'https://bol.com/nl/p/samsung-galaxy-s20-5g-128gb-cosmic-grey/9200000128429194/'\", \" 'https://bol.com/nl/p/apple-iphone-12-pro-max-256gb-grafiet/9300000013742208/'\", \" 'https://bol.com/nl/p/samsung-galaxy-a32-5g-128gb-awesome-black/9300000022106004/'\", \" 'https://bol.com/nl/p/samsung-galaxy-m21-power-64gb-zwart/9300000000133004/'\", \" 'https://bol.com/nl/p/samsung-galaxy-a02s-32gb-zwart/9300000020547718/'\", \" 'https://bol.com/nl/p/alcatel-1se-32gb-grijs/9300000001580712/'\", \" 'https://bol.com/nl/p/samsung-galaxy-a71-128gb-blauw/9200000127101719/'\", \" 'https://bol.com/nl/p/oppo-a72-128gb-zwart/9300000002779754/']['https://bol.com/nl/p/huawei-p30-lite-new-edition-256gb-midnight-black/9200000126132549/'\", \" 'https://bol.com/nl/p/samsung-galaxy-s21-ultra-5g-128gb-phantom-black/9300000020732466/'\", \" 'https://bol.com/nl/p/motorola-moto-g9-plus-128gb-deep-dive-blauw/9300000009401577/'\", \" 'https://bol.com/nl/p/samsung-galaxy-m11-32gb-blauw/9300000014240088/'\", \" 'https://bol.com/nl/p/samsung-galaxy-a41-64gb-blauw/9300000000132999/'\", \" 'https://bol.com/nl/p/cat-s42-32gb-zwart/9300000004951815/'\", \" 'https://bol.com/nl/p/swissvoice-g50-senioren-smartphone/9300000015115804/'\", \" 'https://bol.com/nl/p/samsung-galaxy-a21s-128gb-blauw/9300000015820721/'\", \" 'https://bol.com/nl/p/huawei-p-smart-2021-128-gb-zwart/9300000013153840/'\", \" 'https://bol.com/nl/p/alcatel-1b-2020-32gb-zwart/9300000014838536/'\", \" 'https://bol.com/nl/p/apple-iphone-7-128gb-zwart/9200000064472593/'\", \" 'https://bol.com/nl/p/samsung-galaxy-a21s-64gb-wit/9300000000132987/'\", \" 'https://bol.com/nl/p/samsung-galaxy-s20fe-4g-128gb-lavendel/9300000008841646/'\", \" 'https://bol.com/nl/p/samsung-galaxy-a20e-dual-sim-32gb-wit/9200000109073220/'\", \" 'https://bol.com/nl/p/apple-iphone-12-pro-max-128gb-grafiet/9300000013742268/'\", \" 'https://bol.com/nl/p/apple-iphone-11-pro-64gb-middernachtgroen/9200000120255294/'\", \" 'https://bol.com/nl/p/samsung-galaxy-a71-dual-sim-128gb-crush-white/9200000127101808/'\", \" 'https://bol.com/nl/p/oppo-a15-32gb-zwart/9300000017398501/'\", \" 'https://bol.com/nl/p/motorola-moto-g9-play-64gb-groen/9300000008104040/'\", \" 'https://bol.com/nl/p/samsung-galaxy-s20-fe-5g-128gb-cloud-navy/9300000010045175/'\", \" 'https://bol.com/nl/p/nokia-1-3-16gb-grijs/9200000132588190/'\", \" 'https://bol.com/nl/p/xiaomi-poco-m3-128gb-zwart/9300000020562311/'\", \" 'https://bol.com/nl/p/apple-iphone-12-128gb-blauw/9300000013742215/']['https://bol.com/nl/p/samsung-galaxy-a51-128gb-zwart/9200000127101717/'\", \" 'https://bol.com/nl/p/samsung-galaxy-a20e-32gb-zwart/9200000109073236/'\", \" 'https://bol.com/nl/p/samsung-galaxy-a41-64gb-zwart/9300000000132992/'\", \" 'https://bol.com/nl/p/samsung-galaxy-a71-128gb-zwart/9200000127101810/'\", \" 'https://bol.com/nl/p/apple-iphone-se-64gb-zwart/9300000000886605/'\", \" 'https://bol.com/nl/p/samsung-galaxy-a21s-64gb-zwart/9300000000132986/'\", \" 'https://bol.com/nl/p/apple-iphone-12-64gb-zwart/9300000013742278/'\", \" 'https://bol.com/nl/p/alcatel-1c-3g-8gb-zwart/9200000112629003/'\", \" 'https://bol.com/nl/p/motorola-moto-e6-play-32gb-steel-black/9200000122803221/'\", \" 'https://bol.com/nl/p/samsung-galaxy-s20-fe-4g-128gb-cloud-navy/9300000008841647/'\", \" 'https://bol.com/nl/p/samsung-galaxy-a21s-32gb-blauw/9300000000132994/'\", \" 'https://bol.com/nl/p/samsung-galaxy-a12-128gb-zwart/9300000019419396/'\", \" 'https://bol.com/nl/p/samsung-galaxy-a42-5g-128gb-prism-dot-black/9300000010098436/'\", \" 'https://bol.com/nl/p/apple-iphone-11-64gb-zwart/9200000119815601/'\", \" 'https://bol.com/nl/p/samsung-galaxy-a01-core-16gb-zwart/9300000007420502/'\", \" 'https://bol.com/nl/p/apple-iphone-12-pro-128gb-oceaan-blauw/9300000013742251/'\", \" 'https://bol.com/nl/p/samsung-galaxy-a10-32gb-zwart/9200000111950985/'\", \" 'https://bol.com/nl/p/samsung-galaxy-a21s-128gb-zwart/9300000015820720/'\", \" 'https://bol.com/nl/p/apple-iphone-xr-64gb-zwart/9200000098453451/'\", \" 'https://bol.com/nl/p/samsung-galaxy-a12-64gb-zwart/9300000020208465/'\", \" 'https://bol.com/nl/p/samsung-galaxy-s21-5g-128gb-phantom-gray/9300000020732481/']['https://bol.com/nl/p/samsung-galaxy-a20e-dual-sim-32gb-blauw/9300000002133409/'\", \" 'https://bol.com/nl/p/samsung-galaxy-s10e-128gb-prism-zwart/9200000106450648/'\", \" 'https://bol.com/nl/p/samsung-galaxy-a40-64gb-zwart/9200000107463262/'\", \" 'https://bol.com/nl/p/apple-iphone-12-mini-64gb-zwart/9300000013742257/'\", \" 'https://bol.com/nl/p/apple-iphone-11-128gb-zwart/9200000119816199/'\", \" 'https://bol.com/nl/p/samsung-galaxy-a50-128gb-zwart/9200000106883561/'\", \" 'https://bol.com/nl/p/motorola-moto-g8-power-lite-blauw/9200000127141343/'\", \" 'https://bol.com/nl/p/samsung-galaxy-a10-32gb-blauw/9200000111950979/'\", \" 'https://bol.com/nl/p/samsung-galaxy-xcover-4s-32gb-zwart/9200000111950981/'\", \" 'https://bol.com/nl/p/huawei-p30-lite-128gb-midnight-zwart/9200000107750278/'\", \" 'https://bol.com/nl/p/motorola-moto-g9-power-128gb-groen/9300000012375717/'\", \" 'https://bol.com/nl/p/apple-iphone-se-128gb-zwart/9300000000886601/'\", \" 'https://bol.com/nl/p/apple-iphone-x-refurbished-door-forza-c-grade-64gb-spacegrijs/9200000101335076/'\", \" 'https://bol.com/nl/p/samsung-galaxy-a10s-32gb-zwart/9200000121265417/'\", \" 'https://bol.com/nl/p/nokia-5-4-64gb-blauw/9300000021882472/'\", \" 'https://bol.com/nl/p/samsung-galaxy-s20-5g-128gb-cosmic-grey/9200000128429194/'\", \" 'https://bol.com/nl/p/apple-iphone-12-pro-max-256gb-grafiet/9300000013742208/'\", \" 'https://bol.com/nl/p/samsung-galaxy-a32-5g-128gb-awesome-black/9300000022106004/'\", \" 'https://bol.com/nl/p/samsung-galaxy-m21-power-64gb-zwart/9300000000133004/'\", \" 'https://bol.com/nl/p/samsung-galaxy-a02s-32gb-zwart/9300000020547718/'\", \" 'https://bol.com/nl/p/alcatel-1se-32gb-grijs/9300000001580712/'\", \" 'https://bol.com/nl/p/samsung-galaxy-a71-128gb-blauw/9200000127101719/'\", \" 'https://bol.com/nl/p/oppo-a72-128gb-zwart/9300000002779754/']['https://bol.com/nl/p/huawei-p30-lite-new-edition-256gb-midnight-black/9200000126132549/'\", \" 'https://bol.com/nl/p/samsung-galaxy-s21-ultra-5g-128gb-phantom-black/9300000020732466/'\", \" 'https://bol.com/nl/p/motorola-moto-g9-plus-128gb-deep-dive-blauw/9300000009401577/'\", \" 'https://bol.com/nl/p/samsung-galaxy-m11-32gb-blauw/9300000014240088/'\", \" 'https://bol.com/nl/p/samsung-galaxy-a41-64gb-blauw/9300000000132999/'\", \" 'https://bol.com/nl/p/cat-s42-32gb-zwart/9300000004951815/'\", \" 'https://bol.com/nl/p/swissvoice-g50-senioren-smartphone/9300000015115804/'\", \" 'https://bol.com/nl/p/samsung-galaxy-a21s-128gb-blauw/9300000015820721/'\", \" 'https://bol.com/nl/p/huawei-p-smart-2021-128-gb-zwart/9300000013153840/'\", \" 'https://bol.com/nl/p/alcatel-1b-2020-32gb-zwart/9300000014838536/'\", \" 'https://bol.com/nl/p/apple-iphone-7-128gb-zwart/9200000064472593/'\", \" 'https://bol.com/nl/p/samsung-galaxy-a21s-64gb-wit/9300000000132987/'\", \" 'https://bol.com/nl/p/samsung-galaxy-s20fe-4g-128gb-lavendel/9300000008841646/'\", \" 'https://bol.com/nl/p/samsung-galaxy-a20e-dual-sim-32gb-wit/9200000109073220/'\", \" 'https://bol.com/nl/p/apple-iphone-12-pro-max-128gb-grafiet/9300000013742268/'\", \" 'https://bol.com/nl/p/apple-iphone-11-pro-64gb-middernachtgroen/9200000120255294/'\", \" 'https://bol.com/nl/p/samsung-galaxy-a71-dual-sim-128gb-crush-white/9200000127101808/'\", \" 'https://bol.com/nl/p/oppo-a15-32gb-zwart/9300000017398501/'\", \" 'https://bol.com/nl/p/motorola-moto-g9-play-64gb-groen/9300000008104040/'\", \" 'https://bol.com/nl/p/samsung-galaxy-s20-fe-5g-128gb-cloud-navy/9300000010045175/'\", \" 'https://bol.com/nl/p/nokia-1-3-16gb-grijs/9200000132588190/'\", \" 'https://bol.com/nl/p/xiaomi-poco-m3-128gb-zwart/9300000020562311/'\", \" 'https://bol.com/nl/p/apple-iphone-12-128gb-blauw/9300000013742215/']['https://bol.com/nl/p/samsung-galaxy-a01-core-16gb-blauw/9300000008537177/'\", \" 'https://bol.com/nl/p/alcatel-1se-32gb-groen/9300000001580713/'\", \" 'https://bol.com/nl/p/xiaomi-redmi-9c-64gb-grijs/9300000009972963/'\", \" 'https://bol.com/nl/p/nokia-5-3-64gb-grijs/9200000132589155/'\", \" 'https://bol.com/nl/p/huawei-p-smart-2020-128gb-blauw-dual-sim/9300000001009624/'\", \" 'https://bol.com/nl/p/apple-iphone-12-mini-128gb-zwart/9300000013742303/'\", \" 'https://bol.com/nl/p/samsung-galaxy-a3-core-16gb-zwart/9300000031389983/'\", \" 'https://bol.com/nl/p/apple-iphone-8-64gb-spacegrijs/9200000082607880/'\", \" 'https://bol.com/nl/p/apple-iphone-8-plus-refurbished-door-forza-a-grade-64gb-spacegrijs/9200000110010127/'\", \" 'https://bol.com/nl/p/oneplus-nord-n10-5g-128gb-blauw/9300000017900799/'\", \" 'https://bol.com/nl/p/apple-iphone-7-32gb-rosegoud/9200000126573771/'\", \" 'https://bol.com/nl/p/samsung-galaxy-a12-128gb-blauw/9300000019419395/'\", \" 'https://bol.com/nl/p/cat-s62-pro-128gb-zwart/9300000007439030/'\", \" 'https://bol.com/nl/p/samsung-galaxy-s20fe-4g-128gb-groen/9300000008841645/'\", \" 'https://bol.com/nl/p/samsung-galaxy-a12-64gb-wit/9300000020208463/'\", \" 'https://bol.com/nl/p/samsung-galaxy-s10-128gb-prism-zwart/9200000106236052/'\", \" 'https://bol.com/nl/p/nokia-3-4-32gb-grijs/9300000010112493/'\", \" 'https://bol.com/nl/p/huawei-p30-lite-128gb-peacock-blauw/9200000107750280/'\", \" 'https://bol.com/nl/p/samsung-galaxy-m31-64gb-zwart/9300000005865241/'\", \" 'https://bol.com/nl/p/xiaomi-redmi-note-9-pro-128gb-grijs/9300000000827984/'\", \" 'https://bol.com/nl/p/apple-iphone-8-64-gb-zwart-b-grade/9300000015126652/'\", \" 'https://bol.com/nl/p/xiaomi-redmi-note-8-pro-128gb-zwart/9200000121715834/'\", \" 'https://bol.com/nl/p/samsung-galaxy-j3-8gb-zwart/9200000056577975/'\", \" 'https://bol.com/nl/p/oppo-a9-128-gb-groen/9200000122241521/']['https://bol.com/nl/p/huawei-p40-lite-128gb-sakura-pink/9200000132374808/'\", \" 'https://bol.com/nl/p/nokia-1-plus-8gb-zwart/9200000106658581/'\", \" 'https://bol.com/nl/p/oppo-reno4-z-5g-128gb-zwart/9300000013253932/'\", \" 'https://bol.com/nl/p/oppo-a91-128gb-zwart/9300000002241220/'\", \" 'https://bol.com/nl/p/apple-iphone-11-64gb-wit/9200000119815542/'\", \" 'https://bol.com/nl/p/samsung-galaxy-a12-sm-a125fzkveue-smartphone-16-5-cm-dual-sim-4g-usb-type-c-4-gb-64-gb-5000-mah-zwart/9300000023165230/'\", \" 'https://bol.com/nl/p/samsung-galaxy-s21-5g-256gb-phantom-gray/9300000020732464/'\", \" 'https://bol.com/nl/p/samsung-galaxy-a12-128gb-wit/9300000019419399/'\", \" 'https://bol.com/nl/p/blackberry-q10-16gb-4g-wit/9200000053591911/'\", \" 'https://bol.com/nl/p/samsung-galaxy-a8-zwart/9200000087241876/'\", \" 'https://bol.com/nl/p/sony-xperia-l4-64gb-zwart/9200000131672028/'\", \" 'https://bol.com/nl/p/samsung-galaxy-a32-4g-128gb-awesome-violet/9300000022249977/'\", \" 'https://bol.com/nl/p/samsung-galaxy-a31-64gb-zwart/9300000004879142/'\", \" 'https://bol.com/nl/p/samsung-galaxy-a3-core-16gb-blauw/9300000023688045/'\", \" 'https://bol.com/nl/p/samsung-galaxy-s21-5g-256gb-phantom-black/9300000020732475/'\", \" 'https://bol.com/nl/p/xiaomi-mi-11-256gb-blauw/9300000025110492/'\", \" 'https://bol.com/nl/p/samsung-galaxy-m31s-128gb-zwart/9300000010489587/'\", \" 'https://bol.com/nl/p/samsung-galaxy-note20-ultra-256gb-5g-zwart/9300000006524832/'\", \" 'https://bol.com/nl/p/apple-iphone-8-refurbished-by-supreme-mobile-b-grade-64gb-goud/9300000026357464/'\", \" 'https://bol.com/nl/p/motorola-moto-e7-plus-64gb-misty-blue/9300000009401579/'\", \" 'https://bol.com/nl/p/alcatel-1-8gb-dual-sim-zwart/9200000096144979/'\", \" 'https://bol.com/nl/p/apple-iphone-xr-128gb-wit/9200000098453498/'\", \" 'https://bol.com/nl/p/nokia-5-4-128-gb-blauw-inclusief-draadloos-koptelefoon/9300000027426132/'\", \" 'https://bol.com/nl/p/samsung-galaxy-a42-5g-128gb-prism-dot-gray/9300000010098434/']['https://bol.com/nl/p/samsung-galaxy-a51-128gb-zwart/9200000127101717/'\", \" 'https://bol.com/nl/p/samsung-galaxy-a20e-32gb-zwart/9200000109073236/'\", \" 'https://bol.com/nl/p/samsung-galaxy-a41-64gb-zwart/9300000000132992/'\", \" 'https://bol.com/nl/p/samsung-galaxy-a71-128gb-zwart/9200000127101810/'\", \" 'https://bol.com/nl/p/apple-iphone-se-64gb-zwart/9300000000886605/'\", \" 'https://bol.com/nl/p/samsung-galaxy-a21s-64gb-zwart/9300000000132986/'\", \" 'https://bol.com/nl/p/apple-iphone-12-64gb-zwart/9300000013742278/'\", \" 'https://bol.com/nl/p/alcatel-1c-3g-8gb-zwart/9200000112629003/'\", \" 'https://bol.com/nl/p/motorola-moto-e6-play-32gb-steel-black/9200000122803221/'\", \" 'https://bol.com/nl/p/samsung-galaxy-s20-fe-4g-128gb-cloud-navy/9300000008841647/'\", \" 'https://bol.com/nl/p/apple-iphone-11-64gb-zwart/9200000119815601/'\", \" 'https://bol.com/nl/p/samsung-galaxy-a12-128gb-zwart/9300000019419396/'\", \" 'https://bol.com/nl/p/samsung-galaxy-a21s-32gb-blauw/9300000000132994/'\", \" 'https://bol.com/nl/p/samsung-galaxy-a42-5g-128gb-prism-dot-black/9300000010098436/'\", \" 'https://bol.com/nl/p/samsung-galaxy-a01-core-16gb-zwart/9300000007420502/'\", \" 'https://bol.com/nl/p/apple-iphone-12-pro-128gb-oceaan-blauw/9300000013742251/'\", \" 'https://bol.com/nl/p/samsung-galaxy-a10-32gb-zwart/9200000111950985/'\", \" 'https://bol.com/nl/p/samsung-galaxy-a21s-128gb-zwart/9300000015820720/'\", \" 'https://bol.com/nl/p/apple-iphone-xr-64gb-zwart/9200000098453451/'\", \" 'https://bol.com/nl/p/samsung-galaxy-a12-64gb-zwart/9300000020208465/'\", \" 'https://bol.com/nl/p/samsung-galaxy-s21-5g-128gb-phantom-gray/9300000020732481/']['https://bol.com/nl/p/samsung-galaxy-a51-128gb-zwart/9200000127101717/'\", \" 'https://bol.com/nl/p/samsung-galaxy-a20e-32gb-zwart/9200000109073236/'\", \" 'https://bol.com/nl/p/samsung-galaxy-a41-64gb-zwart/9300000000132992/'\", \" 'https://bol.com/nl/p/samsung-galaxy-a71-128gb-zwart/9200000127101810/'\", \" 'https://bol.com/nl/p/apple-iphone-se-64gb-zwart/9300000000886605/'\", \" 'https://bol.com/nl/p/samsung-galaxy-a21s-64gb-zwart/9300000000132986/'\", \" 'https://bol.com/nl/p/apple-iphone-12-64gb-zwart/9300000013742278/'\", \" 'https://bol.com/nl/p/alcatel-1c-3g-8gb-zwart/9200000112629003/'\", \" 'https://bol.com/nl/p/motorola-moto-e6-play-32gb-steel-black/9200000122803221/'\", \" 'https://bol.com/nl/p/samsung-galaxy-s20-fe-4g-128gb-cloud-navy/9300000008841647/'\", \" 'https://bol.com/nl/p/apple-iphone-11-64gb-zwart/9200000119815601/'\", \" 'https://bol.com/nl/p/samsung-galaxy-a12-128gb-zwart/9300000019419396/'\", \" 'https://bol.com/nl/p/samsung-galaxy-a21s-32gb-blauw/9300000000132994/'\", \" 'https://bol.com/nl/p/samsung-galaxy-a42-5g-128gb-prism-dot-black/9300000010098436/'\", \" 'https://bol.com/nl/p/samsung-galaxy-a01-core-16gb-zwart/9300000007420502/'\", \" 'https://bol.com/nl/p/apple-iphone-12-pro-128gb-oceaan-blauw/9300000013742251/'\", \" 'https://bol.com/nl/p/samsung-galaxy-a10-32gb-zwart/9200000111950985/'\", \" 'https://bol.com/nl/p/samsung-galaxy-a21s-128gb-zwart/9300000015820720/'\", \" 'https://bol.com/nl/p/apple-iphone-xr-64gb-zwart/9200000098453451/'\", \" 'https://bol.com/nl/p/samsung-galaxy-a12-64gb-zwart/9300000020208465/'\", \" 'https://bol.com/nl/p/samsung-galaxy-s21-5g-128gb-phantom-gray/9300000020732481/']['https://bol.com/nl/p/samsung-galaxy-a20e-dual-sim-32gb-blauw/9300000002133409/'\", \" 'https://bol.com/nl/p/samsung-galaxy-a40-64gb-zwart/9200000107463262/'\", \" 'https://bol.com/nl/p/apple-iphone-12-mini-64gb-zwart/9300000013742257/'\", \" 'https://bol.com/nl/p/apple-iphone-11-128gb-zwart/9200000119816199/'\", \" 'https://bol.com/nl/p/samsung-galaxy-s10e-128gb-prism-zwart/9200000106450648/'\", \" 'https://bol.com/nl/p/samsung-galaxy-a50-128gb-zwart/9200000106883561/'\", \" 'https://bol.com/nl/p/samsung-galaxy-a10-32gb-blauw/9200000111950979/'\", \" 'https://bol.com/nl/p/motorola-moto-g8-power-lite-blauw/9200000127141343/'\", \" 'https://bol.com/nl/p/huawei-p30-lite-128gb-midnight-zwart/9200000107750278/'\", \" 'https://bol.com/nl/p/samsung-galaxy-xcover-4s-32gb-zwart/9200000111950981/'\", \" 'https://bol.com/nl/p/motorola-moto-g9-power-128gb-groen/9300000012375717/'\", \" 'https://bol.com/nl/p/apple-iphone-se-128gb-zwart/9300000000886601/'\", \" 'https://bol.com/nl/p/apple-iphone-x-refurbished-door-forza-c-grade-64gb-spacegrijs/9200000101335076/'\", \" 'https://bol.com/nl/p/samsung-galaxy-a10s-32gb-zwart/9200000121265417/'\", \" 'https://bol.com/nl/p/samsung-galaxy-s20-5g-128gb-cosmic-grey/9200000128429194/'\", \" 'https://bol.com/nl/p/apple-iphone-12-pro-max-256gb-grafiet/9300000013742208/'\", \" 'https://bol.com/nl/p/samsung-galaxy-a32-5g-128gb-awesome-black/9300000022106004/'\", \" 'https://bol.com/nl/p/alcatel-1se-32gb-grijs/9300000001580712/'\", \" 'https://bol.com/nl/p/nokia-5-4-64gb-blauw/9300000021882472/'\", \" 'https://bol.com/nl/p/samsung-galaxy-m21-power-64gb-zwart/9300000000133004/'\", \" 'https://bol.com/nl/p/samsung-galaxy-a02s-32gb-zwart/9300000020547718/'\", \" 'https://bol.com/nl/p/samsung-galaxy-a71-128gb-blauw/9200000127101719/'\", \" 'https://bol.com/nl/p/oppo-a72-128gb-zwart/9300000002779754/']['https://bol.com/nl/p/samsung-galaxy-a51-128gb-zwart/9200000127101717/'\", \" 'https://bol.com/nl/p/samsung-galaxy-a20e-32gb-zwart/9200000109073236/'\", \" 'https://bol.com/nl/p/samsung-galaxy-a41-64gb-zwart/9300000000132992/'\", \" 'https://bol.com/nl/p/samsung-galaxy-a71-128gb-zwart/9200000127101810/'\", \" 'https://bol.com/nl/p/apple-iphone-se-64gb-zwart/9300000000886605/'\", \" 'https://bol.com/nl/p/samsung-galaxy-a21s-64gb-zwart/9300000000132986/'\", \" 'https://bol.com/nl/p/apple-iphone-12-64gb-zwart/9300000013742278/'\", \" 'https://bol.com/nl/p/alcatel-1c-3g-8gb-zwart/9200000112629003/'\", \" 'https://bol.com/nl/p/motorola-moto-e6-play-32gb-steel-black/9200000122803221/'\", \" 'https://bol.com/nl/p/samsung-galaxy-s20-fe-4g-128gb-cloud-navy/9300000008841647/'\", \" 'https://bol.com/nl/p/apple-iphone-11-64gb-zwart/9200000119815601/'\", \" 'https://bol.com/nl/p/samsung-galaxy-a12-128gb-zwart/9300000019419396/'\", \" 'https://bol.com/nl/p/samsung-galaxy-a21s-32gb-blauw/9300000000132994/'\", \" 'https://bol.com/nl/p/samsung-galaxy-a42-5g-128gb-prism-dot-black/9300000010098436/'\", \" 'https://bol.com/nl/p/samsung-galaxy-a01-core-16gb-zwart/9300000007420502/'\", \" 'https://bol.com/nl/p/apple-iphone-12-pro-128gb-oceaan-blauw/9300000013742251/'\", \" 'https://bol.com/nl/p/samsung-galaxy-a10-32gb-zwart/9200000111950985/'\", \" 'https://bol.com/nl/p/samsung-galaxy-a21s-128gb-zwart/9300000015820720/'\", \" 'https://bol.com/nl/p/apple-iphone-xr-64gb-zwart/9200000098453451/'\", \" 'https://bol.com/nl/p/samsung-galaxy-a12-64gb-zwart/9300000020208465/'\", \" 'https://bol.com/nl/p/samsung-galaxy-s21-5g-128gb-phantom-gray/9300000020732481/']['https://bol.com/nl/p/samsung-galaxy-a20e-dual-sim-32gb-blauw/9300000002133409/'\", \" 'https://bol.com/nl/p/samsung-galaxy-a40-64gb-zwart/9200000107463262/'\", \" 'https://bol.com/nl/p/apple-iphone-12-mini-64gb-zwart/9300000013742257/'\", \" 'https://bol.com/nl/p/apple-iphone-11-128gb-zwart/9200000119816199/'\", \" 'https://bol.com/nl/p/samsung-galaxy-s10e-128gb-prism-zwart/9200000106450648/'\", \" 'https://bol.com/nl/p/samsung-galaxy-a50-128gb-zwart/9200000106883561/'\", \" 'https://bol.com/nl/p/samsung-galaxy-a10-32gb-blauw/9200000111950979/'\", \" 'https://bol.com/nl/p/motorola-moto-g8-power-lite-blauw/9200000127141343/'\", \" 'https://bol.com/nl/p/huawei-p30-lite-128gb-midnight-zwart/9200000107750278/'\", \" 'https://bol.com/nl/p/samsung-galaxy-xcover-4s-32gb-zwart/9200000111950981/'\", \" 'https://bol.com/nl/p/motorola-moto-g9-power-128gb-groen/9300000012375717/'\", \" 'https://bol.com/nl/p/apple-iphone-se-128gb-zwart/9300000000886601/'\", \" 'https://bol.com/nl/p/apple-iphone-x-refurbished-door-forza-c-grade-64gb-spacegrijs/9200000101335076/'\", \" 'https://bol.com/nl/p/samsung-galaxy-a10s-32gb-zwart/9200000121265417/'\", \" 'https://bol.com/nl/p/samsung-galaxy-s20-5g-128gb-cosmic-grey/9200000128429194/'\", \" 'https://bol.com/nl/p/apple-iphone-12-pro-max-256gb-grafiet/9300000013742208/'\", \" 'https://bol.com/nl/p/samsung-galaxy-a32-5g-128gb-awesome-black/9300000022106004/'\", \" 'https://bol.com/nl/p/alcatel-1se-32gb-grijs/9300000001580712/'\", \" 'https://bol.com/nl/p/nokia-5-4-64gb-blauw/9300000021882472/'\", \" 'https://bol.com/nl/p/samsung-galaxy-m21-power-64gb-zwart/9300000000133004/'\", \" 'https://bol.com/nl/p/samsung-galaxy-a02s-32gb-zwart/9300000020547718/'\", \" 'https://bol.com/nl/p/samsung-galaxy-a71-128gb-blauw/9200000127101719/'\", \" 'https://bol.com/nl/p/oppo-a72-128gb-zwart/9300000002779754/']'https://bol.com/nl/p/samsung-galaxy-a51-128gb-zwart/9200000127101717/'\", \" 'https://bol.com/nl/p/samsung-galaxy-a20e-32gb-zwart/9200000109073236/'\", \" 'https://bol.com/nl/p/samsung-galaxy-a41-64gb-zwart/9300000000132992/'\", \" 'https://bol.com/nl/p/samsung-galaxy-a71-128gb-zwart/9200000127101810/'\", \" 'https://bol.com/nl/p/apple-iphone-se-64gb-zwart/9300000000886605/'\", \" 'https://bol.com/nl/p/samsung-galaxy-a21s-64gb-zwart/9300000000132986/'\", \" 'https://bol.com/nl/p/apple-iphone-12-64gb-zwart/9300000013742278/'\", \" 'https://bol.com/nl/p/alcatel-1c-3g-8gb-zwart/9200000112629003/'\", \" 'https://bol.com/nl/p/motorola-moto-e6-play-32gb-steel-black/9200000122803221/'\", \" 'https://bol.com/nl/p/samsung-galaxy-s20-fe-4g-128gb-cloud-navy/9300000008841647/'\", \" 'https://bol.com/nl/p/apple-iphone-11-64gb-zwart/9200000119815601/'\", \" 'https://bol.com/nl/p/samsung-galaxy-a12-128gb-zwart/9300000019419396/'\", \" 'https://bol.com/nl/p/samsung-galaxy-a21s-32gb-blauw/9300000000132994/'\", \" 'https://bol.com/nl/p/samsung-galaxy-a42-5g-128gb-prism-dot-black/9300000010098436/'\", \" 'https://bol.com/nl/p/samsung-galaxy-a01-core-16gb-zwart/9300000007420502/'\", \" 'https://bol.com/nl/p/apple-iphone-12-pro-128gb-oceaan-blauw/9300000013742251/'\", \" 'https://bol.com/nl/p/samsung-galaxy-a10-32gb-zwart/9200000111950985/'\", \" 'https://bol.com/nl/p/samsung-galaxy-a21s-128gb-zwart/9300000015820720/'\", \" 'https://bol.com/nl/p/apple-iphone-xr-64gb-zwart/9200000098453451/'\", \" 'https://bol.com/nl/p/samsung-galaxy-a12-64gb-zwart/9300000020208465/'\", \" 'https://bol.com/nl/p/samsung-galaxy-s21-5g-128gb-phantom-gray/9300000020732481/''https://bol.com/nl/p/samsung-galaxy-a20e-dual-sim-32gb-blauw/9300000002133409/'\", \" 'https://bol.com/nl/p/samsung-galaxy-a40-64gb-zwart/9200000107463262/'\", \" 'https://bol.com/nl/p/apple-iphone-12-mini-64gb-zwart/9300000013742257/'\", \" 'https://bol.com/nl/p/apple-iphone-11-128gb-zwart/9200000119816199/'\", \" 'https://bol.com/nl/p/samsung-galaxy-s10e-128gb-prism-zwart/9200000106450648/'\", \" 'https://bol.com/nl/p/samsung-galaxy-a50-128gb-zwart/9200000106883561/'\", \" 'https://bol.com/nl/p/samsung-galaxy-a10-32gb-blauw/9200000111950979/'\", \" 'https://bol.com/nl/p/motorola-moto-g8-power-lite-blauw/9200000127141343/'\", \" 'https://bol.com/nl/p/huawei-p30-lite-128gb-midnight-zwart/9200000107750278/'\", \" 'https://bol.com/nl/p/samsung-galaxy-xcover-4s-32gb-zwart/9200000111950981/'\", \" 'https://bol.com/nl/p/motorola-moto-g9-power-128gb-groen/9300000012375717/'\", \" 'https://bol.com/nl/p/apple-iphone-se-128gb-zwart/9300000000886601/'\", \" 'https://bol.com/nl/p/apple-iphone-x-refurbished-door-forza-c-grade-64gb-spacegrijs/9200000101335076/'\", \" 'https://bol.com/nl/p/samsung-galaxy-a10s-32gb-zwart/9200000121265417/'\", \" 'https://bol.com/nl/p/samsung-galaxy-s20-5g-128gb-cosmic-grey/9200000128429194/'\", \" 'https://bol.com/nl/p/apple-iphone-12-pro-max-256gb-grafiet/9300000013742208/'\", \" 'https://bol.com/nl/p/samsung-galaxy-a32-5g-128gb-awesome-black/9300000022106004/'\", \" 'https://bol.com/nl/p/alcatel-1se-32gb-grijs/9300000001580712/'\", \" 'https://bol.com/nl/p/nokia-5-4-64gb-blauw/9300000021882472/'\", \" 'https://bol.com/nl/p/samsung-galaxy-m21-power-64gb-zwart/9300000000133004/'\", \" 'https://bol.com/nl/p/samsung-galaxy-a02s-32gb-zwart/9300000020547718/'\", \" 'https://bol.com/nl/p/samsung-galaxy-a71-128gb-blauw/9200000127101719/'\", \" 'https://bol.com/nl/p/oppo-a72-128gb-zwart/9300000002779754/'https://bol.com/nl/p/samsung-galaxy-a51-128gb-zwart/9200000127101717/'\", \" 'https://bol.com/nl/p/samsung-galaxy-a20e-32gb-zwart/9200000109073236/'\", \" 'https://bol.com/nl/p/samsung-galaxy-a41-64gb-zwart/9300000000132992/'\", \" 'https://bol.com/nl/p/samsung-galaxy-a71-128gb-zwart/9200000127101810/'\", \" 'https://bol.com/nl/p/apple-iphone-se-64gb-zwart/9300000000886605/'\", \" 'https://bol.com/nl/p/samsung-galaxy-a21s-64gb-zwart/9300000000132986/'\", \" 'https://bol.com/nl/p/apple-iphone-12-64gb-zwart/9300000013742278/'\", \" 'https://bol.com/nl/p/alcatel-1c-3g-8gb-zwart/9200000112629003/'\", \" 'https://bol.com/nl/p/motorola-moto-e6-play-32gb-steel-black/9200000122803221/'\", \" 'https://bol.com/nl/p/samsung-galaxy-s20-fe-4g-128gb-cloud-navy/9300000008841647/'\", \" 'https://bol.com/nl/p/apple-iphone-11-64gb-zwart/9200000119815601/'\", \" 'https://bol.com/nl/p/samsung-galaxy-a12-128gb-zwart/9300000019419396/'\", \" 'https://bol.com/nl/p/samsung-galaxy-a21s-32gb-blauw/9300000000132994/'\", \" 'https://bol.com/nl/p/samsung-galaxy-a42-5g-128gb-prism-dot-black/9300000010098436/'\", \" 'https://bol.com/nl/p/samsung-galaxy-a01-core-16gb-zwart/9300000007420502/'\", \" 'https://bol.com/nl/p/apple-iphone-12-pro-128gb-oceaan-blauw/9300000013742251/'\", \" 'https://bol.com/nl/p/samsung-galaxy-a10-32gb-zwart/9200000111950985/'\", \" 'https://bol.com/nl/p/samsung-galaxy-a21s-128gb-zwart/9300000015820720/'\", \" 'https://bol.com/nl/p/apple-iphone-xr-64gb-zwart/9200000098453451/'\", \" 'https://bol.com/nl/p/samsung-galaxy-a12-64gb-zwart/9300000020208465/'\", \" 'https://bol.com/nl/p/samsung-galaxy-s21-5g-128gb-phantom-gray/9300000020732481/https://bol.com/nl/p/samsung-galaxy-a20e-dual-sim-32gb-blauw/9300000002133409/'\", \" 'https://bol.com/nl/p/samsung-galaxy-a40-64gb-zwart/9200000107463262/'\", \" 'https://bol.com/nl/p/apple-iphone-12-mini-64gb-zwart/9300000013742257/'\", \" 'https://bol.com/nl/p/apple-iphone-11-128gb-zwart/9200000119816199/'\", \" 'https://bol.com/nl/p/samsung-galaxy-s10e-128gb-prism-zwart/9200000106450648/'\", \" 'https://bol.com/nl/p/samsung-galaxy-a50-128gb-zwart/9200000106883561/'\", \" 'https://bol.com/nl/p/samsung-galaxy-a10-32gb-blauw/9200000111950979/'\", \" 'https://bol.com/nl/p/motorola-moto-g8-power-lite-blauw/9200000127141343/'\", \" 'https://bol.com/nl/p/huawei-p30-lite-128gb-midnight-zwart/9200000107750278/'\", \" 'https://bol.com/nl/p/samsung-galaxy-xcover-4s-32gb-zwart/9200000111950981/'\", \" 'https://bol.com/nl/p/motorola-moto-g9-power-128gb-groen/9300000012375717/'\", \" 'https://bol.com/nl/p/apple-iphone-se-128gb-zwart/9300000000886601/'\", \" 'https://bol.com/nl/p/apple-iphone-x-refurbished-door-forza-c-grade-64gb-spacegrijs/9200000101335076/'\", \" 'https://bol.com/nl/p/samsung-galaxy-a10s-32gb-zwart/9200000121265417/'\", \" 'https://bol.com/nl/p/samsung-galaxy-s20-5g-128gb-cosmic-grey/9200000128429194/'\", \" 'https://bol.com/nl/p/apple-iphone-12-pro-max-256gb-grafiet/9300000013742208/'\", \" 'https://bol.com/nl/p/samsung-galaxy-a32-5g-128gb-awesome-black/9300000022106004/'\", \" 'https://bol.com/nl/p/alcatel-1se-32gb-grijs/9300000001580712/'\", \" 'https://bol.com/nl/p/nokia-5-4-64gb-blauw/9300000021882472/'\", \" 'https://bol.com/nl/p/samsung-galaxy-m21-power-64gb-zwart/9300000000133004/'\", \" 'https://bol.com/nl/p/samsung-galaxy-a02s-32gb-zwart/9300000020547718/'\", \" 'https://bol.com/nl/p/samsung-galaxy-a71-128gb-blauw/9200000127101719/'\", \" 'https://bol.com/nl/p/oppo-a72-128gb-zwart/9300000002779754/\"]\n"
     ]
    },
    {
     "ename": "InvalidArgumentException",
     "evalue": "Message: invalid argument: 'url' must be a string\n  (Session info: chrome=89.0.4389.82)\n",
     "output_type": "error",
     "traceback": [
      "\u001b[1;31m---------------------------------------------------------------------------\u001b[0m",
      "\u001b[1;31mInvalidArgumentException\u001b[0m                  Traceback (most recent call last)",
      "\u001b[1;32m<ipython-input-45-ed932e4ade21>\u001b[0m in \u001b[0;36m<module>\u001b[1;34m\u001b[0m\n\u001b[0;32m      2\u001b[0m     \u001b[0mprint\u001b[0m\u001b[1;33m(\u001b[0m\u001b[0murl\u001b[0m\u001b[1;33m)\u001b[0m\u001b[1;33m\u001b[0m\u001b[1;33m\u001b[0m\u001b[0m\n\u001b[0;32m      3\u001b[0m \u001b[1;33m\u001b[0m\u001b[0m\n\u001b[1;32m----> 4\u001b[1;33m     \u001b[0mmy_json\u001b[0m \u001b[1;33m=\u001b[0m \u001b[0mget_productdata\u001b[0m\u001b[1;33m(\u001b[0m\u001b[0murl\u001b[0m\u001b[1;33m)\u001b[0m\u001b[1;33m\u001b[0m\u001b[1;33m\u001b[0m\u001b[0m\n\u001b[0m\u001b[0;32m      5\u001b[0m     \u001b[0mf\u001b[0m \u001b[1;33m=\u001b[0m \u001b[0mopen\u001b[0m\u001b[1;33m(\u001b[0m\u001b[0mget_filename\u001b[0m\u001b[1;33m(\u001b[0m\u001b[1;33m)\u001b[0m\u001b[1;33m,\u001b[0m\u001b[1;34m'a'\u001b[0m\u001b[1;33m,\u001b[0m\u001b[0mencoding\u001b[0m\u001b[1;33m=\u001b[0m\u001b[1;34m'utf-8'\u001b[0m\u001b[1;33m)\u001b[0m\u001b[1;33m\u001b[0m\u001b[1;33m\u001b[0m\u001b[0m\n\u001b[0;32m      6\u001b[0m     \u001b[0mf\u001b[0m\u001b[1;33m.\u001b[0m\u001b[0mwrite\u001b[0m\u001b[1;33m(\u001b[0m\u001b[0mjson\u001b[0m\u001b[1;33m.\u001b[0m\u001b[0mdumps\u001b[0m\u001b[1;33m(\u001b[0m\u001b[0mmy_json\u001b[0m\u001b[1;33m)\u001b[0m\u001b[1;33m+\u001b[0m\u001b[1;34m'\\n'\u001b[0m\u001b[1;33m)\u001b[0m\u001b[1;33m\u001b[0m\u001b[1;33m\u001b[0m\u001b[0m\n",
      "\u001b[1;32m<ipython-input-39-c762a909232c>\u001b[0m in \u001b[0;36mget_productdata\u001b[1;34m(url)\u001b[0m\n\u001b[0;32m      1\u001b[0m \u001b[1;32mdef\u001b[0m \u001b[0mget_productdata\u001b[0m\u001b[1;33m(\u001b[0m\u001b[0murl\u001b[0m\u001b[1;33m)\u001b[0m\u001b[1;33m:\u001b[0m\u001b[1;33m\u001b[0m\u001b[1;33m\u001b[0m\u001b[0m\n\u001b[1;32m----> 2\u001b[1;33m     \u001b[0mdriver\u001b[0m\u001b[1;33m.\u001b[0m\u001b[0mget\u001b[0m\u001b[1;33m(\u001b[0m\u001b[0murl\u001b[0m\u001b[1;33m)\u001b[0m\u001b[1;33m\u001b[0m\u001b[1;33m\u001b[0m\u001b[0m\n\u001b[0m\u001b[0;32m      3\u001b[0m     \u001b[0mtime\u001b[0m\u001b[1;33m.\u001b[0m\u001b[0msleep\u001b[0m\u001b[1;33m(\u001b[0m\u001b[1;36m2\u001b[0m\u001b[1;33m)\u001b[0m\u001b[1;33m\u001b[0m\u001b[1;33m\u001b[0m\u001b[0m\n\u001b[0;32m      4\u001b[0m     \u001b[0mres\u001b[0m \u001b[1;33m=\u001b[0m \u001b[0mdriver\u001b[0m\u001b[1;33m.\u001b[0m\u001b[0mpage_source\u001b[0m\u001b[1;33m.\u001b[0m\u001b[0mencode\u001b[0m\u001b[1;33m(\u001b[0m\u001b[1;34m'utf-8'\u001b[0m\u001b[1;33m)\u001b[0m\u001b[1;33m\u001b[0m\u001b[1;33m\u001b[0m\u001b[0m\n\u001b[0;32m      5\u001b[0m     \u001b[0msoup\u001b[0m \u001b[1;33m=\u001b[0m \u001b[0mBeautifulSoup\u001b[0m\u001b[1;33m(\u001b[0m\u001b[0mres\u001b[0m\u001b[1;33m,\u001b[0m \u001b[1;34m\"html.parser\"\u001b[0m\u001b[1;33m)\u001b[0m\u001b[1;33m\u001b[0m\u001b[1;33m\u001b[0m\u001b[0m\n",
      "\u001b[1;32m~\\anaconda3\\lib\\site-packages\\selenium\\webdriver\\remote\\webdriver.py\u001b[0m in \u001b[0;36mget\u001b[1;34m(self, url)\u001b[0m\n\u001b[0;32m    331\u001b[0m         \u001b[0mLoads\u001b[0m \u001b[0ma\u001b[0m \u001b[0mweb\u001b[0m \u001b[0mpage\u001b[0m \u001b[1;32min\u001b[0m \u001b[0mthe\u001b[0m \u001b[0mcurrent\u001b[0m \u001b[0mbrowser\u001b[0m \u001b[0msession\u001b[0m\u001b[1;33m.\u001b[0m\u001b[1;33m\u001b[0m\u001b[1;33m\u001b[0m\u001b[0m\n\u001b[0;32m    332\u001b[0m         \"\"\"\n\u001b[1;32m--> 333\u001b[1;33m         \u001b[0mself\u001b[0m\u001b[1;33m.\u001b[0m\u001b[0mexecute\u001b[0m\u001b[1;33m(\u001b[0m\u001b[0mCommand\u001b[0m\u001b[1;33m.\u001b[0m\u001b[0mGET\u001b[0m\u001b[1;33m,\u001b[0m \u001b[1;33m{\u001b[0m\u001b[1;34m'url'\u001b[0m\u001b[1;33m:\u001b[0m \u001b[0murl\u001b[0m\u001b[1;33m}\u001b[0m\u001b[1;33m)\u001b[0m\u001b[1;33m\u001b[0m\u001b[1;33m\u001b[0m\u001b[0m\n\u001b[0m\u001b[0;32m    334\u001b[0m \u001b[1;33m\u001b[0m\u001b[0m\n\u001b[0;32m    335\u001b[0m     \u001b[1;33m@\u001b[0m\u001b[0mproperty\u001b[0m\u001b[1;33m\u001b[0m\u001b[1;33m\u001b[0m\u001b[0m\n",
      "\u001b[1;32m~\\anaconda3\\lib\\site-packages\\selenium\\webdriver\\remote\\webdriver.py\u001b[0m in \u001b[0;36mexecute\u001b[1;34m(self, driver_command, params)\u001b[0m\n\u001b[0;32m    319\u001b[0m         \u001b[0mresponse\u001b[0m \u001b[1;33m=\u001b[0m \u001b[0mself\u001b[0m\u001b[1;33m.\u001b[0m\u001b[0mcommand_executor\u001b[0m\u001b[1;33m.\u001b[0m\u001b[0mexecute\u001b[0m\u001b[1;33m(\u001b[0m\u001b[0mdriver_command\u001b[0m\u001b[1;33m,\u001b[0m \u001b[0mparams\u001b[0m\u001b[1;33m)\u001b[0m\u001b[1;33m\u001b[0m\u001b[1;33m\u001b[0m\u001b[0m\n\u001b[0;32m    320\u001b[0m         \u001b[1;32mif\u001b[0m \u001b[0mresponse\u001b[0m\u001b[1;33m:\u001b[0m\u001b[1;33m\u001b[0m\u001b[1;33m\u001b[0m\u001b[0m\n\u001b[1;32m--> 321\u001b[1;33m             \u001b[0mself\u001b[0m\u001b[1;33m.\u001b[0m\u001b[0merror_handler\u001b[0m\u001b[1;33m.\u001b[0m\u001b[0mcheck_response\u001b[0m\u001b[1;33m(\u001b[0m\u001b[0mresponse\u001b[0m\u001b[1;33m)\u001b[0m\u001b[1;33m\u001b[0m\u001b[1;33m\u001b[0m\u001b[0m\n\u001b[0m\u001b[0;32m    322\u001b[0m             response['value'] = self._unwrap_value(\n\u001b[0;32m    323\u001b[0m                 response.get('value', None))\n",
      "\u001b[1;32m~\\anaconda3\\lib\\site-packages\\selenium\\webdriver\\remote\\errorhandler.py\u001b[0m in \u001b[0;36mcheck_response\u001b[1;34m(self, response)\u001b[0m\n\u001b[0;32m    240\u001b[0m                 \u001b[0malert_text\u001b[0m \u001b[1;33m=\u001b[0m \u001b[0mvalue\u001b[0m\u001b[1;33m[\u001b[0m\u001b[1;34m'alert'\u001b[0m\u001b[1;33m]\u001b[0m\u001b[1;33m.\u001b[0m\u001b[0mget\u001b[0m\u001b[1;33m(\u001b[0m\u001b[1;34m'text'\u001b[0m\u001b[1;33m)\u001b[0m\u001b[1;33m\u001b[0m\u001b[1;33m\u001b[0m\u001b[0m\n\u001b[0;32m    241\u001b[0m             \u001b[1;32mraise\u001b[0m \u001b[0mexception_class\u001b[0m\u001b[1;33m(\u001b[0m\u001b[0mmessage\u001b[0m\u001b[1;33m,\u001b[0m \u001b[0mscreen\u001b[0m\u001b[1;33m,\u001b[0m \u001b[0mstacktrace\u001b[0m\u001b[1;33m,\u001b[0m \u001b[0malert_text\u001b[0m\u001b[1;33m)\u001b[0m\u001b[1;33m\u001b[0m\u001b[1;33m\u001b[0m\u001b[0m\n\u001b[1;32m--> 242\u001b[1;33m         \u001b[1;32mraise\u001b[0m \u001b[0mexception_class\u001b[0m\u001b[1;33m(\u001b[0m\u001b[0mmessage\u001b[0m\u001b[1;33m,\u001b[0m \u001b[0mscreen\u001b[0m\u001b[1;33m,\u001b[0m \u001b[0mstacktrace\u001b[0m\u001b[1;33m)\u001b[0m\u001b[1;33m\u001b[0m\u001b[1;33m\u001b[0m\u001b[0m\n\u001b[0m\u001b[0;32m    243\u001b[0m \u001b[1;33m\u001b[0m\u001b[0m\n\u001b[0;32m    244\u001b[0m     \u001b[1;32mdef\u001b[0m \u001b[0m_value_or_default\u001b[0m\u001b[1;33m(\u001b[0m\u001b[0mself\u001b[0m\u001b[1;33m,\u001b[0m \u001b[0mobj\u001b[0m\u001b[1;33m,\u001b[0m \u001b[0mkey\u001b[0m\u001b[1;33m,\u001b[0m \u001b[0mdefault\u001b[0m\u001b[1;33m)\u001b[0m\u001b[1;33m:\u001b[0m\u001b[1;33m\u001b[0m\u001b[1;33m\u001b[0m\u001b[0m\n",
      "\u001b[1;31mInvalidArgumentException\u001b[0m: Message: invalid argument: 'url' must be a string\n  (Session info: chrome=89.0.4389.82)\n"
     ]
    }
   ],
   "source": [
    "for url in your_list:\n",
    "    print(url)\n",
    "     \n",
    "    my_json = get_productdata(url)\n",
    "    f = open(get_filename(),'a',encoding='utf-8')\n",
    "    f.write(json.dumps(my_json)+'\\n')\n",
    "    f.close()"
   ]
  },
  {
   "cell_type": "markdown",
   "metadata": {},
   "source": [
    "## Get all page urls TRIAL"
   ]
  },
  {
   "cell_type": "code",
   "execution_count": null,
   "metadata": {},
   "outputs": [],
   "source": [
    "for url in my_urls:\n",
    "    print(my_phones)"
   ]
  },
  {
   "cell_type": "code",
   "execution_count": null,
   "metadata": {},
   "outputs": [],
   "source": []
  },
  {
   "cell_type": "code",
   "execution_count": null,
   "metadata": {},
   "outputs": [],
   "source": [
    "# Function get pages test delete after\n",
    "def get_pages(url):\n",
    "    base_url = \"https://bol.com/nl/l/smartphones/N/4010/\"\n",
    "    page_urls = []\n",
    "\n",
    "    #fix counter range\n",
    "    for counter in range(1,98): #work with num_pages variable instead of fixed ranged\n",
    "        full_url = base_url + \"?page=\" + str(counter)\n",
    "        page_urls.append(full_url)\n",
    "    return(page_urls)"
   ]
  },
  {
   "cell_type": "code",
   "execution_count": null,
   "metadata": {},
   "outputs": [],
   "source": [
    "#test delete after\n",
    "my_urls = get_pages(my_urls)\n",
    "print(my_urls)"
   ]
  },
  {
   "cell_type": "code",
   "execution_count": null,
   "metadata": {},
   "outputs": [],
   "source": [
    "# Trialing to loop over each page in my_urls and then execute function my_phones\n",
    "for url in my_urls[0:5]:\n",
    "    print(url)\n",
    "    \n",
    "    my_phones = get_phones(my_urls)\n",
    "    f = open(get_filename(),'a',encoding='utf-8')\n",
    "    f.write(json.dumps(my_json)+'\\n')\n",
    "    f.close()"
   ]
  },
  {
   "cell_type": "markdown",
   "metadata": {},
   "source": [
    "# variable collection trialing\n",
    "- Name\n",
    "- Price\n",
    "- Star rating\n",
    "- Number of reviews\n",
    "- Date"
   ]
  },
  {
   "cell_type": "markdown",
   "metadata": {},
   "source": [
    "### Packages and urls (to bo deleted when in function)"
   ]
  },
  {
   "cell_type": "code",
   "execution_count": null,
   "metadata": {},
   "outputs": [],
   "source": [
    "# Get TEST URL\n",
    "url = 'https://www.bol.com/nl/p/samsung-galaxy-a51-128gb-wit/9200000127101721/?s2a=#productTitle'\n",
    "res = requests.get(url)\n",
    "soup = BeautifulSoup(res.text, \"html.parser\")"
   ]
  },
  {
   "cell_type": "code",
   "execution_count": null,
   "metadata": {},
   "outputs": [],
   "source": [
    "# Get SELENIUM TEST URL\n",
    "driver.get(\"https://www.bol.com/nl/p/samsung-galaxy-a51-128gb-wit/9200000127101721/?s2a=#productTitle\")"
   ]
  },
  {
   "cell_type": "markdown",
   "metadata": {},
   "source": [
    "### Phone title"
   ]
  },
  {
   "cell_type": "code",
   "execution_count": null,
   "metadata": {},
   "outputs": [],
   "source": [
    "## Scrape phone title\n",
    "phone_title = soup.find(attrs={\"data-test\": \"title\"}).text\n",
    "print(phone_title)"
   ]
  },
  {
   "cell_type": "markdown",
   "metadata": {},
   "source": [
    "### Price"
   ]
  },
  {
   "cell_type": "code",
   "execution_count": null,
   "metadata": {},
   "outputs": [],
   "source": [
    "## Scrape price \n",
    "price = soup.find(attrs={\"data-test\": \"price\"}).text\n",
    "price = price.replace(\"\\n\", \"\")\n",
    "print(price)"
   ]
  },
  {
   "cell_type": "code",
   "execution_count": null,
   "metadata": {},
   "outputs": [],
   "source": [
    "## Scrape price fraction\n",
    "soup.find(attrs={\"data-test\": \"price-fraction\"}).text"
   ]
  },
  {
   "cell_type": "markdown",
   "metadata": {},
   "source": [
    "### Rating"
   ]
  },
  {
   "cell_type": "code",
   "execution_count": null,
   "metadata": {},
   "outputs": [],
   "source": [
    "## Scrape star rating and number of reviews\n",
    "star_rating = soup.find(attrs={\"data-test\": 'reviews'}).text\n",
    "star_rating = star_rating.replace(\"\\n\\n\\n\", \"\")\n",
    "print(star_rating)"
   ]
  },
  {
   "cell_type": "markdown",
   "metadata": {},
   "source": [
    "### Date"
   ]
  },
  {
   "cell_type": "code",
   "execution_count": null,
   "metadata": {},
   "outputs": [],
   "source": [
    "## DATE\n",
    "from datetime import date\n",
    "\n",
    "today = date.today()\n",
    "print(today)\n"
   ]
  },
  {
   "cell_type": "markdown",
   "metadata": {},
   "source": [
    "## Toon meer button WIP"
   ]
  },
  {
   "cell_type": "code",
   "execution_count": null,
   "metadata": {},
   "outputs": [],
   "source": [
    "# Works\n",
    "show_more = driver.find_elements_by_class_name(\"show-more__button\")[1]\n",
    "show_more.click()"
   ]
  },
  {
   "cell_type": "code",
   "execution_count": null,
   "metadata": {},
   "outputs": [],
   "source": [
    "brand = driver.find_elements_by_class_name(\"specs__title\")[1]\n",
    "print(brand)"
   ]
  },
  {
   "cell_type": "code",
   "execution_count": null,
   "metadata": {},
   "outputs": [],
   "source": [
    "model = soup.find(attrs={\"date__value\": \"title\"})\n",
    "print(model)"
   ]
  },
  {
   "cell_type": "markdown",
   "metadata": {},
   "source": [
    "## Overbodig (prototyping)"
   ]
  },
  {
   "cell_type": "code",
   "execution_count": null,
   "metadata": {},
   "outputs": [],
   "source": [
    "## OVerbodig\n",
    "#collecting product links\n",
    "phones = soup.find_all(class_=\"product-item--row js_item_root\")\n",
    "phones_urls = []\n",
    "\n",
    "for phone in phones: \n",
    "    phones_url = phone.find(\"a\").attrs[\"href\"]\n",
    "    phones_urls.append(phones_url)\n",
    "    \n",
    "    driver.execute_script('window.scrollTo(0, document.body.scrollHeight);')\n",
    "    \n",
    "        \n",
    "# print first 20 urls for each page\n",
    "\n",
    "print(phones_urls[0:28])\n",
    "\n",
    "#We are able to scrape the first 21 hits on each page. Why aren't we able to print the last 6 of them?"
   ]
  },
  {
   "cell_type": "code",
   "execution_count": null,
   "metadata": {},
   "outputs": [],
   "source": [
    "## Overbodig\n",
    "## all smartphone pages\n",
    "base_url = \"https://bol.com/nl/l/smartphones/N/4010/\"\n",
    "page_urls = []\n",
    "\n",
    "for counter in range(1, 98):\n",
    "    full_url = base_url + \"?page=\" + str(counter)\n",
    "    page_urls.append(full_url)\n",
    "    \n",
    "print(page_urls)"
   ]
  },
  {
   "cell_type": "code",
   "execution_count": null,
   "metadata": {},
   "outputs": [],
   "source": [
    "## Overbodig\n",
    "#click next page button\n",
    "next_page = driver.find_elements_by_class_name(\"js_pagination_item\")[0]\n",
    "next_page.click()"
   ]
  },
  {
   "cell_type": "code",
   "execution_count": null,
   "metadata": {},
   "outputs": [],
   "source": [
    "## Overbodig\n",
    "#click next page button v2\n",
    "next_page = driver.find_elements_by_class_name(\"[ pagination__controls pagination__controls--next ]\")\n",
    "next_page.click()"
   ]
  },
  {
   "cell_type": "code",
   "execution_count": null,
   "metadata": {},
   "outputs": [],
   "source": [
    "## OVerbodig\n",
    "#Selenium get, product link test\n",
    "product_link = soup.find(class_=\"product-item--row js_item_root\").find(\"a\").attrs[\"href\"]\n",
    "base_url = \"https://bol.com\"\n",
    "\n",
    "print(base_url + product_link)"
   ]
  },
  {
   "cell_type": "code",
   "execution_count": null,
   "metadata": {},
   "outputs": [],
   "source": [
    "## Overbodig\n",
    "#collecting product links\n",
    "phones = soup.find_all(class_=\"product-item--row js_item_root\")\n",
    "phones_urls = []\n",
    "\n",
    "for phone in phones: \n",
    "    phones_url = phone.find(\"a\").attrs[\"href\"]\n",
    "    phones_urls.append(phones_url)\n",
    "    \n",
    "    driver.execute_script('window.scrollTo(0, document.body.scrollHeight);')\n",
    "    \n",
    "        \n",
    "# print first 20 urls for each page\n",
    "\n",
    "print(phones_urls[0:28])\n",
    "\n",
    "#We are able to scrape the first 21 hits on each page. Why aren't we able to print the last 6 of them?\n"
   ]
  },
  {
   "cell_type": "code",
   "execution_count": null,
   "metadata": {},
   "outputs": [],
   "source": []
  }
 ],
 "metadata": {
  "kernelspec": {
   "display_name": "Python 3",
   "language": "python",
   "name": "python3"
  },
  "language_info": {
   "codemirror_mode": {
    "name": "ipython",
    "version": 3
   },
   "file_extension": ".py",
   "mimetype": "text/x-python",
   "name": "python",
   "nbconvert_exporter": "python",
   "pygments_lexer": "ipython3",
   "version": "3.8.5"
  }
 },
 "nbformat": 4,
 "nbformat_minor": 4
}
