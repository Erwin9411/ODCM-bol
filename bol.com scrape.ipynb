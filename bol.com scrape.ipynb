{
 "cells": [
  {
   "cell_type": "code",
   "execution_count": 64,
   "metadata": {},
   "outputs": [],
   "source": [
    "#import packages\n",
    "import pandas as pd\n",
    "import selenium.webdriver\n",
    "driver = selenium.webdriver.Chrome()\n",
    "import requests\n",
    "from bs4 import BeautifulSoup"
   ]
  },
  {
   "cell_type": "code",
   "execution_count": 16,
   "metadata": {},
   "outputs": [],
   "source": [
    "#url = 'https://www.bol.com/nl/l/smartphones/N/4010/'\n",
    "res = requests.get(url)\n",
    "soup = BeautifulSoup(res.text, \"html.parser\")\n",
    "\n",
    "\n",
    "\n",
    "\n",
    "\n",
    "\n"
   ]
  },
  {
   "cell_type": "code",
   "execution_count": 17,
   "metadata": {},
   "outputs": [],
   "source": [
    "#open bol\n",
    "driver.get(\"https://www.bol.com/nl/l/smartphones/N/4010/\")"
   ]
  },
  {
   "cell_type": "code",
   "execution_count": 62,
   "metadata": {},
   "outputs": [
    {
     "name": "stdout",
     "output_type": "stream",
     "text": [
      "https://bol.com/nl/p/samsung-galaxy-a51-128gb-zwart/9200000127101717/\n"
     ]
    }
   ],
   "source": [
    "#get product link test\n",
    "product_link = soup.find(class_=\"product-item--row js_item_root\").find(\"a\").attrs[\"href\"]\n",
    "base_url = \"https://bol.com\"\n",
    "\n",
    "print(base_url + product_link)"
   ]
  },
  {
   "cell_type": "code",
   "execution_count": 63,
   "metadata": {},
   "outputs": [
    {
     "name": "stdout",
     "output_type": "stream",
     "text": [
      "https://bol.com/nl/p/samsung-galaxy-a51-128gb-zwart/9200000127101717/\n"
     ]
    }
   ],
   "source": [
    "#Selenium get, product link test\n",
    "soup.find(class_=\"product-item--row js_item_root\").find(\"a\").attrs[\"href\"]\n",
    "base_url = \"https://bol.com\"\n",
    "\n",
    "print(base_url + product_link)"
   ]
  },
  {
   "cell_type": "code",
   "execution_count": 23,
   "metadata": {},
   "outputs": [
    {
     "name": "stdout",
     "output_type": "stream",
     "text": [
      "['/nl/p/samsung-galaxy-a51-128gb-zwart/9200000127101717/', '/nl/p/samsung-galaxy-a41-64gb-zwart/9300000000132992/', '/nl/p/samsung-galaxy-a20e-32gb-zwart/9200000109073236/', '/nl/p/samsung-galaxy-a71-128gb-zwart/9200000127101810/', '/nl/p/samsung-galaxy-a21s-64gb-zwart/9300000000132986/', '/nl/p/apple-iphone-se-64gb-zwart/9300000000886605/', '/nl/p/motorola-moto-e6-play-32gb-steel-black/9200000122803221/', '/nl/p/apple-iphone-12-64gb-zwart/9300000013742278/', '/nl/p/samsung-galaxy-a21s-32gb-blauw/9300000000132994/', '/nl/p/alcatel-1c-3g-8gb-zwart/9200000112629003/', '/nl/p/samsung-galaxy-s20-fe-4g-128gb-cloud-navy/9300000008841647/', '/nl/p/apple-iphone-12-pro-128gb-oceaan-blauw/9300000013742251/', '/nl/p/samsung-galaxy-a12-128gb-zwart/9300000019419396/', '/nl/p/samsung-galaxy-a10-32gb-zwart/9200000111950985/', '/nl/p/apple-iphone-11-128gb-zwart/9200000119816199/', '/nl/p/samsung-galaxy-a01-core-16gb-zwart/9300000007420502/', '/nl/p/samsung-galaxy-a50-128gb-zwart/9200000106883561/', '/nl/p/apple-iphone-xr-64gb-zwart/9200000098453451/', '/nl/p/samsung-galaxy-s21-5g-128gb-phantom-gray/9300000020732481/', '/nl/p/samsung-galaxy-a21s-128gb-zwart/9300000015820720/', '/nl/p/apple-iphone-12-mini-64gb-zwart/9300000013742257/', '/nl/p/samsung-galaxy-a42-5g-128gb-prism-dot-black/9300000010098436/']\n"
     ]
    }
   ],
   "source": [
    "#collecting product links\n",
    "phones = soup.find_all(class_=\"product-item--row js_item_root\")\n",
    "phones_urls = []\n",
    "\n",
    "for phone in phones: \n",
    "    phones_url = phone.find(\"a\").attrs[\"href\"]\n",
    "    phones_urls.append(phones_url)\n",
    "    \n",
    "    driver.execute_script('window.scrollTo(0, document.body.scrollHeight);')\n",
    "    \n",
    "        \n",
    "# print first 20 urls for each page\n",
    "\n",
    "print(phones_urls[0:28])\n",
    "\n",
    "#We are able to scrape the first 21 hits on each page. Why aren't we able to print the last 6 of them?\n"
   ]
  },
  {
   "cell_type": "code",
   "execution_count": 12,
   "metadata": {},
   "outputs": [
    {
     "name": "stdout",
     "output_type": "stream",
     "text": [
      "https://bol.com/nl/l/smartphones/N/4010/?page=1\n"
     ]
    }
   ],
   "source": [
    "counter = 1\n",
    "full_url = base_url + \"/nl/l/smartphones/N/4010/\" + \"?page=\" + str(counter)\n",
    "\n",
    "print(full_url)"
   ]
  },
  {
   "cell_type": "code",
   "execution_count": 13,
   "metadata": {},
   "outputs": [
    {
     "name": "stdout",
     "output_type": "stream",
     "text": [
      "['https://bol.com/nl/l/smartphones/N/4010/?page=1', 'https://bol.com/nl/l/smartphones/N/4010/?page=2', 'https://bol.com/nl/l/smartphones/N/4010/?page=3', 'https://bol.com/nl/l/smartphones/N/4010/?page=4', 'https://bol.com/nl/l/smartphones/N/4010/?page=5', 'https://bol.com/nl/l/smartphones/N/4010/?page=6', 'https://bol.com/nl/l/smartphones/N/4010/?page=7', 'https://bol.com/nl/l/smartphones/N/4010/?page=8', 'https://bol.com/nl/l/smartphones/N/4010/?page=9', 'https://bol.com/nl/l/smartphones/N/4010/?page=10', 'https://bol.com/nl/l/smartphones/N/4010/?page=11', 'https://bol.com/nl/l/smartphones/N/4010/?page=12', 'https://bol.com/nl/l/smartphones/N/4010/?page=13', 'https://bol.com/nl/l/smartphones/N/4010/?page=14', 'https://bol.com/nl/l/smartphones/N/4010/?page=15', 'https://bol.com/nl/l/smartphones/N/4010/?page=16', 'https://bol.com/nl/l/smartphones/N/4010/?page=17', 'https://bol.com/nl/l/smartphones/N/4010/?page=18', 'https://bol.com/nl/l/smartphones/N/4010/?page=19', 'https://bol.com/nl/l/smartphones/N/4010/?page=20', 'https://bol.com/nl/l/smartphones/N/4010/?page=21', 'https://bol.com/nl/l/smartphones/N/4010/?page=22', 'https://bol.com/nl/l/smartphones/N/4010/?page=23', 'https://bol.com/nl/l/smartphones/N/4010/?page=24', 'https://bol.com/nl/l/smartphones/N/4010/?page=25', 'https://bol.com/nl/l/smartphones/N/4010/?page=26', 'https://bol.com/nl/l/smartphones/N/4010/?page=27', 'https://bol.com/nl/l/smartphones/N/4010/?page=28', 'https://bol.com/nl/l/smartphones/N/4010/?page=29', 'https://bol.com/nl/l/smartphones/N/4010/?page=30', 'https://bol.com/nl/l/smartphones/N/4010/?page=31', 'https://bol.com/nl/l/smartphones/N/4010/?page=32', 'https://bol.com/nl/l/smartphones/N/4010/?page=33', 'https://bol.com/nl/l/smartphones/N/4010/?page=34', 'https://bol.com/nl/l/smartphones/N/4010/?page=35', 'https://bol.com/nl/l/smartphones/N/4010/?page=36', 'https://bol.com/nl/l/smartphones/N/4010/?page=37', 'https://bol.com/nl/l/smartphones/N/4010/?page=38', 'https://bol.com/nl/l/smartphones/N/4010/?page=39', 'https://bol.com/nl/l/smartphones/N/4010/?page=40', 'https://bol.com/nl/l/smartphones/N/4010/?page=41', 'https://bol.com/nl/l/smartphones/N/4010/?page=42', 'https://bol.com/nl/l/smartphones/N/4010/?page=43', 'https://bol.com/nl/l/smartphones/N/4010/?page=44', 'https://bol.com/nl/l/smartphones/N/4010/?page=45', 'https://bol.com/nl/l/smartphones/N/4010/?page=46', 'https://bol.com/nl/l/smartphones/N/4010/?page=47', 'https://bol.com/nl/l/smartphones/N/4010/?page=48', 'https://bol.com/nl/l/smartphones/N/4010/?page=49', 'https://bol.com/nl/l/smartphones/N/4010/?page=50', 'https://bol.com/nl/l/smartphones/N/4010/?page=51', 'https://bol.com/nl/l/smartphones/N/4010/?page=52', 'https://bol.com/nl/l/smartphones/N/4010/?page=53', 'https://bol.com/nl/l/smartphones/N/4010/?page=54', 'https://bol.com/nl/l/smartphones/N/4010/?page=55', 'https://bol.com/nl/l/smartphones/N/4010/?page=56', 'https://bol.com/nl/l/smartphones/N/4010/?page=57', 'https://bol.com/nl/l/smartphones/N/4010/?page=58', 'https://bol.com/nl/l/smartphones/N/4010/?page=59', 'https://bol.com/nl/l/smartphones/N/4010/?page=60', 'https://bol.com/nl/l/smartphones/N/4010/?page=61', 'https://bol.com/nl/l/smartphones/N/4010/?page=62', 'https://bol.com/nl/l/smartphones/N/4010/?page=63', 'https://bol.com/nl/l/smartphones/N/4010/?page=64', 'https://bol.com/nl/l/smartphones/N/4010/?page=65', 'https://bol.com/nl/l/smartphones/N/4010/?page=66', 'https://bol.com/nl/l/smartphones/N/4010/?page=67', 'https://bol.com/nl/l/smartphones/N/4010/?page=68', 'https://bol.com/nl/l/smartphones/N/4010/?page=69', 'https://bol.com/nl/l/smartphones/N/4010/?page=70', 'https://bol.com/nl/l/smartphones/N/4010/?page=71', 'https://bol.com/nl/l/smartphones/N/4010/?page=72', 'https://bol.com/nl/l/smartphones/N/4010/?page=73', 'https://bol.com/nl/l/smartphones/N/4010/?page=74', 'https://bol.com/nl/l/smartphones/N/4010/?page=75', 'https://bol.com/nl/l/smartphones/N/4010/?page=76', 'https://bol.com/nl/l/smartphones/N/4010/?page=77', 'https://bol.com/nl/l/smartphones/N/4010/?page=78', 'https://bol.com/nl/l/smartphones/N/4010/?page=79', 'https://bol.com/nl/l/smartphones/N/4010/?page=80', 'https://bol.com/nl/l/smartphones/N/4010/?page=81', 'https://bol.com/nl/l/smartphones/N/4010/?page=82', 'https://bol.com/nl/l/smartphones/N/4010/?page=83', 'https://bol.com/nl/l/smartphones/N/4010/?page=84', 'https://bol.com/nl/l/smartphones/N/4010/?page=85', 'https://bol.com/nl/l/smartphones/N/4010/?page=86', 'https://bol.com/nl/l/smartphones/N/4010/?page=87', 'https://bol.com/nl/l/smartphones/N/4010/?page=88', 'https://bol.com/nl/l/smartphones/N/4010/?page=89', 'https://bol.com/nl/l/smartphones/N/4010/?page=90', 'https://bol.com/nl/l/smartphones/N/4010/?page=91', 'https://bol.com/nl/l/smartphones/N/4010/?page=92', 'https://bol.com/nl/l/smartphones/N/4010/?page=93', 'https://bol.com/nl/l/smartphones/N/4010/?page=94', 'https://bol.com/nl/l/smartphones/N/4010/?page=95', 'https://bol.com/nl/l/smartphones/N/4010/?page=96', 'https://bol.com/nl/l/smartphones/N/4010/?page=97']\n"
     ]
    }
   ],
   "source": [
    "## all smartphone pages\n",
    "\n",
    "base_url = \"https://bol.com/nl/l/smartphones/N/4010/\"\n",
    "page_urls = []\n",
    "\n",
    "for counter in range(1, 98):\n",
    "    full_url = base_url + \"?page=\" + str(counter)\n",
    "    page_urls.append(full_url)\n",
    "    \n",
    "print(page_urls)"
   ]
  },
  {
   "cell_type": "code",
   "execution_count": 61,
   "metadata": {},
   "outputs": [
    {
     "ename": "IndexError",
     "evalue": "list index out of range",
     "output_type": "error",
     "traceback": [
      "\u001b[1;31m---------------------------------------------------------------------------\u001b[0m",
      "\u001b[1;31mIndexError\u001b[0m                                Traceback (most recent call last)",
      "\u001b[1;32m<ipython-input-61-89eaee219fd2>\u001b[0m in \u001b[0;36m<module>\u001b[1;34m\u001b[0m\n\u001b[1;32m----> 1\u001b[1;33m \u001b[0mnext_page\u001b[0m \u001b[1;33m=\u001b[0m \u001b[0mdriver\u001b[0m\u001b[1;33m.\u001b[0m\u001b[0mfind_elements_by_class_name\u001b[0m\u001b[1;33m(\u001b[0m\u001b[1;34m\"js_pagination_item\"\u001b[0m\u001b[1;33m)\u001b[0m\u001b[1;33m[\u001b[0m\u001b[1;36m6\u001b[0m\u001b[1;33m]\u001b[0m\u001b[1;33m\u001b[0m\u001b[1;33m\u001b[0m\u001b[0m\n\u001b[0m\u001b[0;32m      2\u001b[0m \u001b[0mnext_page\u001b[0m\u001b[1;33m.\u001b[0m\u001b[0mclick\u001b[0m\u001b[1;33m(\u001b[0m\u001b[1;33m)\u001b[0m\u001b[1;33m\u001b[0m\u001b[1;33m\u001b[0m\u001b[0m\n",
      "\u001b[1;31mIndexError\u001b[0m: list index out of range"
     ]
    }
   ],
   "source": [
    "#click next page button\n",
    "next_page = driver.find_elements_by_class_name(\"js_pagination_item\")[0]\n",
    "next_page.click()"
   ]
  },
  {
   "cell_type": "code",
   "execution_count": 34,
   "metadata": {},
   "outputs": [
    {
     "ename": "StaleElementReferenceException",
     "evalue": "Message: stale element reference: element is not attached to the page document\n  (Session info: chrome=88.0.4324.190)\n",
     "output_type": "error",
     "traceback": [
      "\u001b[1;31m---------------------------------------------------------------------------\u001b[0m",
      "\u001b[1;31mStaleElementReferenceException\u001b[0m            Traceback (most recent call last)",
      "\u001b[1;32m<ipython-input-34-76ccf6f1fbec>\u001b[0m in \u001b[0;36m<module>\u001b[1;34m\u001b[0m\n\u001b[1;32m----> 1\u001b[1;33m \u001b[0mnext_page\u001b[0m\u001b[1;33m.\u001b[0m\u001b[0mclick\u001b[0m\u001b[1;33m(\u001b[0m\u001b[1;33m)\u001b[0m\u001b[1;33m\u001b[0m\u001b[1;33m\u001b[0m\u001b[0m\n\u001b[0m",
      "\u001b[1;32m~\\anaconda3\\lib\\site-packages\\selenium\\webdriver\\remote\\webelement.py\u001b[0m in \u001b[0;36mclick\u001b[1;34m(self)\u001b[0m\n\u001b[0;32m     78\u001b[0m     \u001b[1;32mdef\u001b[0m \u001b[0mclick\u001b[0m\u001b[1;33m(\u001b[0m\u001b[0mself\u001b[0m\u001b[1;33m)\u001b[0m\u001b[1;33m:\u001b[0m\u001b[1;33m\u001b[0m\u001b[1;33m\u001b[0m\u001b[0m\n\u001b[0;32m     79\u001b[0m         \u001b[1;34m\"\"\"Clicks the element.\"\"\"\u001b[0m\u001b[1;33m\u001b[0m\u001b[1;33m\u001b[0m\u001b[0m\n\u001b[1;32m---> 80\u001b[1;33m         \u001b[0mself\u001b[0m\u001b[1;33m.\u001b[0m\u001b[0m_execute\u001b[0m\u001b[1;33m(\u001b[0m\u001b[0mCommand\u001b[0m\u001b[1;33m.\u001b[0m\u001b[0mCLICK_ELEMENT\u001b[0m\u001b[1;33m)\u001b[0m\u001b[1;33m\u001b[0m\u001b[1;33m\u001b[0m\u001b[0m\n\u001b[0m\u001b[0;32m     81\u001b[0m \u001b[1;33m\u001b[0m\u001b[0m\n\u001b[0;32m     82\u001b[0m     \u001b[1;32mdef\u001b[0m \u001b[0msubmit\u001b[0m\u001b[1;33m(\u001b[0m\u001b[0mself\u001b[0m\u001b[1;33m)\u001b[0m\u001b[1;33m:\u001b[0m\u001b[1;33m\u001b[0m\u001b[1;33m\u001b[0m\u001b[0m\n",
      "\u001b[1;32m~\\anaconda3\\lib\\site-packages\\selenium\\webdriver\\remote\\webelement.py\u001b[0m in \u001b[0;36m_execute\u001b[1;34m(self, command, params)\u001b[0m\n\u001b[0;32m    631\u001b[0m             \u001b[0mparams\u001b[0m \u001b[1;33m=\u001b[0m \u001b[1;33m{\u001b[0m\u001b[1;33m}\u001b[0m\u001b[1;33m\u001b[0m\u001b[1;33m\u001b[0m\u001b[0m\n\u001b[0;32m    632\u001b[0m         \u001b[0mparams\u001b[0m\u001b[1;33m[\u001b[0m\u001b[1;34m'id'\u001b[0m\u001b[1;33m]\u001b[0m \u001b[1;33m=\u001b[0m \u001b[0mself\u001b[0m\u001b[1;33m.\u001b[0m\u001b[0m_id\u001b[0m\u001b[1;33m\u001b[0m\u001b[1;33m\u001b[0m\u001b[0m\n\u001b[1;32m--> 633\u001b[1;33m         \u001b[1;32mreturn\u001b[0m \u001b[0mself\u001b[0m\u001b[1;33m.\u001b[0m\u001b[0m_parent\u001b[0m\u001b[1;33m.\u001b[0m\u001b[0mexecute\u001b[0m\u001b[1;33m(\u001b[0m\u001b[0mcommand\u001b[0m\u001b[1;33m,\u001b[0m \u001b[0mparams\u001b[0m\u001b[1;33m)\u001b[0m\u001b[1;33m\u001b[0m\u001b[1;33m\u001b[0m\u001b[0m\n\u001b[0m\u001b[0;32m    634\u001b[0m \u001b[1;33m\u001b[0m\u001b[0m\n\u001b[0;32m    635\u001b[0m     \u001b[1;32mdef\u001b[0m \u001b[0mfind_element\u001b[0m\u001b[1;33m(\u001b[0m\u001b[0mself\u001b[0m\u001b[1;33m,\u001b[0m \u001b[0mby\u001b[0m\u001b[1;33m=\u001b[0m\u001b[0mBy\u001b[0m\u001b[1;33m.\u001b[0m\u001b[0mID\u001b[0m\u001b[1;33m,\u001b[0m \u001b[0mvalue\u001b[0m\u001b[1;33m=\u001b[0m\u001b[1;32mNone\u001b[0m\u001b[1;33m)\u001b[0m\u001b[1;33m:\u001b[0m\u001b[1;33m\u001b[0m\u001b[1;33m\u001b[0m\u001b[0m\n",
      "\u001b[1;32m~\\anaconda3\\lib\\site-packages\\selenium\\webdriver\\remote\\webdriver.py\u001b[0m in \u001b[0;36mexecute\u001b[1;34m(self, driver_command, params)\u001b[0m\n\u001b[0;32m    319\u001b[0m         \u001b[0mresponse\u001b[0m \u001b[1;33m=\u001b[0m \u001b[0mself\u001b[0m\u001b[1;33m.\u001b[0m\u001b[0mcommand_executor\u001b[0m\u001b[1;33m.\u001b[0m\u001b[0mexecute\u001b[0m\u001b[1;33m(\u001b[0m\u001b[0mdriver_command\u001b[0m\u001b[1;33m,\u001b[0m \u001b[0mparams\u001b[0m\u001b[1;33m)\u001b[0m\u001b[1;33m\u001b[0m\u001b[1;33m\u001b[0m\u001b[0m\n\u001b[0;32m    320\u001b[0m         \u001b[1;32mif\u001b[0m \u001b[0mresponse\u001b[0m\u001b[1;33m:\u001b[0m\u001b[1;33m\u001b[0m\u001b[1;33m\u001b[0m\u001b[0m\n\u001b[1;32m--> 321\u001b[1;33m             \u001b[0mself\u001b[0m\u001b[1;33m.\u001b[0m\u001b[0merror_handler\u001b[0m\u001b[1;33m.\u001b[0m\u001b[0mcheck_response\u001b[0m\u001b[1;33m(\u001b[0m\u001b[0mresponse\u001b[0m\u001b[1;33m)\u001b[0m\u001b[1;33m\u001b[0m\u001b[1;33m\u001b[0m\u001b[0m\n\u001b[0m\u001b[0;32m    322\u001b[0m             response['value'] = self._unwrap_value(\n\u001b[0;32m    323\u001b[0m                 response.get('value', None))\n",
      "\u001b[1;32m~\\anaconda3\\lib\\site-packages\\selenium\\webdriver\\remote\\errorhandler.py\u001b[0m in \u001b[0;36mcheck_response\u001b[1;34m(self, response)\u001b[0m\n\u001b[0;32m    240\u001b[0m                 \u001b[0malert_text\u001b[0m \u001b[1;33m=\u001b[0m \u001b[0mvalue\u001b[0m\u001b[1;33m[\u001b[0m\u001b[1;34m'alert'\u001b[0m\u001b[1;33m]\u001b[0m\u001b[1;33m.\u001b[0m\u001b[0mget\u001b[0m\u001b[1;33m(\u001b[0m\u001b[1;34m'text'\u001b[0m\u001b[1;33m)\u001b[0m\u001b[1;33m\u001b[0m\u001b[1;33m\u001b[0m\u001b[0m\n\u001b[0;32m    241\u001b[0m             \u001b[1;32mraise\u001b[0m \u001b[0mexception_class\u001b[0m\u001b[1;33m(\u001b[0m\u001b[0mmessage\u001b[0m\u001b[1;33m,\u001b[0m \u001b[0mscreen\u001b[0m\u001b[1;33m,\u001b[0m \u001b[0mstacktrace\u001b[0m\u001b[1;33m,\u001b[0m \u001b[0malert_text\u001b[0m\u001b[1;33m)\u001b[0m\u001b[1;33m\u001b[0m\u001b[1;33m\u001b[0m\u001b[0m\n\u001b[1;32m--> 242\u001b[1;33m         \u001b[1;32mraise\u001b[0m \u001b[0mexception_class\u001b[0m\u001b[1;33m(\u001b[0m\u001b[0mmessage\u001b[0m\u001b[1;33m,\u001b[0m \u001b[0mscreen\u001b[0m\u001b[1;33m,\u001b[0m \u001b[0mstacktrace\u001b[0m\u001b[1;33m)\u001b[0m\u001b[1;33m\u001b[0m\u001b[1;33m\u001b[0m\u001b[0m\n\u001b[0m\u001b[0;32m    243\u001b[0m \u001b[1;33m\u001b[0m\u001b[0m\n\u001b[0;32m    244\u001b[0m     \u001b[1;32mdef\u001b[0m \u001b[0m_value_or_default\u001b[0m\u001b[1;33m(\u001b[0m\u001b[0mself\u001b[0m\u001b[1;33m,\u001b[0m \u001b[0mobj\u001b[0m\u001b[1;33m,\u001b[0m \u001b[0mkey\u001b[0m\u001b[1;33m,\u001b[0m \u001b[0mdefault\u001b[0m\u001b[1;33m)\u001b[0m\u001b[1;33m:\u001b[0m\u001b[1;33m\u001b[0m\u001b[1;33m\u001b[0m\u001b[0m\n",
      "\u001b[1;31mStaleElementReferenceException\u001b[0m: Message: stale element reference: element is not attached to the page document\n  (Session info: chrome=88.0.4324.190)\n"
     ]
    }
   ],
   "source": [
    "#click next page button v2\n",
    "next_page = driver.find_elements_by_class_name(\"[ pagination__controls pagination__controls--next ]\")\n",
    "next_page.click()"
   ]
  }
 ],
 "metadata": {
  "kernelspec": {
   "display_name": "Python 3",
   "language": "python",
   "name": "python3"
  },
  "language_info": {
   "codemirror_mode": {
    "name": "ipython",
    "version": 3
   },
   "file_extension": ".py",
   "mimetype": "text/x-python",
   "name": "python",
   "nbconvert_exporter": "python",
   "pygments_lexer": "ipython3",
   "version": "3.8.5"
  }
 },
 "nbformat": 4,
 "nbformat_minor": 4
}
