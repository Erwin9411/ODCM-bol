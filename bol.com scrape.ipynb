{
 "cells": [
  {
   "cell_type": "markdown",
   "metadata": {},
   "source": [
    "# bol.com\n",
    "scraper The purpose of this scraper is to scrape all the phones from bol.com to find out what are the prices for the different phones and what are the ratings per phone. \n",
    "\n",
    "## Structure \n",
    "To create a readable and understandable document the document will consist of several paragraphs, those are listed below: \n",
    "- Paragraph 1: Collecting the pages \n",
    "- Paragraph 2: Entering the right pages \n",
    "- Paragraph 3: Collecting the right information from the different pages \n",
    "\n",
    "### Paragraph 1 \n",
    "In paragraph 1 we will take the following steps:  \n",
    "- Importing the right packages and links Create the page urls for the different phones Create the links to all different bol.com pages with phones \n",
    "    - Step 1 In this step we will as said before starting with importing the right packages and links"
   ]
  },
  {
   "cell_type": "markdown",
   "metadata": {},
   "source": [
    "## Question for feedback session\n",
    "- How to open a weblink from a list of links."
   ]
  },
  {
   "cell_type": "code",
   "execution_count": 21,
   "metadata": {},
   "outputs": [],
   "source": [
    "from datetime import date\n",
    "import time\n",
    "import pandas as pd\n",
    "import requests\n",
    "from bs4 import BeautifulSoup\n",
    "def connect():\n",
    "    global driver\n",
    "    #import packages\n",
    "    import selenium.webdriver\n",
    "    driver = selenium.webdriver.Chrome()\n",
    "    driver.get(\"https://www.bol.com/nl/l/smartphones/N/4010/\")\n",
    "        \n",
    "    time.sleep(5)\n",
    "    #accept coockies\n",
    "    accept = driver.find_elements_by_class_name(\"js-confirm-button\")[0]\n",
    "    accept.click()"
   ]
  },
  {
   "cell_type": "code",
   "execution_count": 22,
   "metadata": {},
   "outputs": [
    {
     "ename": "IndexError",
     "evalue": "list index out of range",
     "output_type": "error",
     "traceback": [
      "\u001b[1;31m---------------------------------------------------------------------------\u001b[0m",
      "\u001b[1;31mIndexError\u001b[0m                                Traceback (most recent call last)",
      "\u001b[1;32m<ipython-input-22-f869cc61c5de>\u001b[0m in \u001b[0;36m<module>\u001b[1;34m\u001b[0m\n\u001b[1;32m----> 1\u001b[1;33m \u001b[0mconnect\u001b[0m\u001b[1;33m(\u001b[0m\u001b[1;33m)\u001b[0m\u001b[1;33m\u001b[0m\u001b[1;33m\u001b[0m\u001b[0m\n\u001b[0m",
      "\u001b[1;32m<ipython-input-21-01ccc7e44785>\u001b[0m in \u001b[0;36mconnect\u001b[1;34m()\u001b[0m\n\u001b[0;32m     13\u001b[0m     \u001b[0mtime\u001b[0m\u001b[1;33m.\u001b[0m\u001b[0msleep\u001b[0m\u001b[1;33m(\u001b[0m\u001b[1;36m5\u001b[0m\u001b[1;33m)\u001b[0m\u001b[1;33m\u001b[0m\u001b[1;33m\u001b[0m\u001b[0m\n\u001b[0;32m     14\u001b[0m     \u001b[1;31m#accept coockies\u001b[0m\u001b[1;33m\u001b[0m\u001b[1;33m\u001b[0m\u001b[1;33m\u001b[0m\u001b[0m\n\u001b[1;32m---> 15\u001b[1;33m     \u001b[0maccept\u001b[0m \u001b[1;33m=\u001b[0m \u001b[0mdriver\u001b[0m\u001b[1;33m.\u001b[0m\u001b[0mfind_elements_by_class_name\u001b[0m\u001b[1;33m(\u001b[0m\u001b[1;34m\"js-confirm-button\"\u001b[0m\u001b[1;33m)\u001b[0m\u001b[1;33m[\u001b[0m\u001b[1;36m0\u001b[0m\u001b[1;33m]\u001b[0m\u001b[1;33m\u001b[0m\u001b[1;33m\u001b[0m\u001b[0m\n\u001b[0m\u001b[0;32m     16\u001b[0m     \u001b[0maccept\u001b[0m\u001b[1;33m.\u001b[0m\u001b[0mclick\u001b[0m\u001b[1;33m(\u001b[0m\u001b[1;33m)\u001b[0m\u001b[1;33m\u001b[0m\u001b[1;33m\u001b[0m\u001b[0m\n",
      "\u001b[1;31mIndexError\u001b[0m: list index out of range"
     ]
    }
   ],
   "source": [
    "connect()"
   ]
  },
  {
   "cell_type": "code",
   "execution_count": 3,
   "metadata": {},
   "outputs": [],
   "source": [
    " #yet to import\n",
    "    #import numpy as np\n",
    "\n",
    "    #df = pd.DataFrame(np.random.randn(10, 5))\n",
    "    #df.head()"
   ]
  },
  {
   "cell_type": "markdown",
   "metadata": {},
   "source": [
    "# Modules"
   ]
  },
  {
   "cell_type": "markdown",
   "metadata": {},
   "source": [
    "- open product category\n",
    "- function: collect all page links (page1, page2, ...)\n",
    "- function: on each page, scroll down and collect all phones\n",
    "- function: open product page and collect attributes"
   ]
  },
  {
   "cell_type": "code",
   "execution_count": 4,
   "metadata": {},
   "outputs": [],
   "source": [
    "# Beautiful soup\n",
    "#url = 'https://www.bol.com/nl/l/smartphones/N/4010/'\n",
    "#res = requests.get(url)\n",
    "#soup = BeautifulSoup(res.text, \"html.parser\")"
   ]
  },
  {
   "cell_type": "markdown",
   "metadata": {},
   "source": [
    "# get page urls"
   ]
  },
  {
   "cell_type": "code",
   "execution_count": 28,
   "metadata": {},
   "outputs": [
    {
     "name": "stdout",
     "output_type": "stream",
     "text": [
      "[]\n"
     ]
    }
   ],
   "source": [
    "#number_of_pages = len(driver.find_element_by_class_name(\"data-page-number\"))\n",
    "#number_of_products_on_page = len(driver.find_elements_by_class_name('data-page-number'))\n",
    "#print(number_of_products_on_page)"
   ]
  },
  {
   "cell_type": "code",
   "execution_count": 3,
   "metadata": {},
   "outputs": [],
   "source": [
    "# Function get pages\n",
    "def get_pages():\n",
    "    base_url = \"https://bol.com/nl/l/smartphones/N/4010/\"\n",
    "    page_urls = []\n",
    "\n",
    "    #fix counter range\n",
    "    for counter in range(1,98): #work with num_pages variable instead of fixed ranged\n",
    "        full_url = base_url + \"?page=\" + str(counter)\n",
    "        page_urls.append(full_url)\n",
    "    return(page_urls)"
   ]
  },
  {
   "cell_type": "markdown",
   "metadata": {},
   "source": [
    "Execution"
   ]
  },
  {
   "cell_type": "code",
   "execution_count": 4,
   "metadata": {},
   "outputs": [
    {
     "name": "stdout",
     "output_type": "stream",
     "text": [
      "page urls compiled!\n"
     ]
    }
   ],
   "source": [
    "my_urls = get_pages()\n",
    "print('page urls compiled!')"
   ]
  },
  {
   "cell_type": "markdown",
   "metadata": {},
   "source": [
    "## Retrieve phone urls"
   ]
  },
  {
   "cell_type": "code",
   "execution_count": 5,
   "metadata": {},
   "outputs": [],
   "source": [
    "# Function get phone urls\n",
    "def get_phones(my_urls):\n",
    "    base_phone_url = \"https://bol.com\" \n",
    "    driver.get(url) \n",
    "    res = driver.page_source.encode('utf-8')\n",
    "    soup = BeautifulSoup(res, \"html.parser\")\n",
    "    \n",
    "    \n",
    "    phones = soup.find_all(class_=\"product-item--row js_item_root\")\n",
    "    phones_urls = []\n",
    "    \n",
    "    for phone in phones: \n",
    "        phones_url = phone.find(\"a\").attrs[\"href\"]\n",
    "        full_url = base_phone_url + phones_url\n",
    "        phones_urls.append(full_url)\n",
    "            \n",
    "        driver.execute_script('window.scrollTo(0, document.body.scrollHeight);')\n",
    "           \n",
    "    return(phones_urls)"
   ]
  },
  {
   "cell_type": "code",
   "execution_count": 7,
   "metadata": {},
   "outputs": [
    {
     "name": "stdout",
     "output_type": "stream",
     "text": [
      "['https://bol.com/nl/p/samsung-galaxy-a51-128gb-zwart/9200000127101717/', 'https://bol.com/nl/p/samsung-galaxy-a20e-32gb-zwart/9200000109073236/', 'https://bol.com/nl/p/samsung-galaxy-a41-64gb-zwart/9300000000132992/', 'https://bol.com/nl/p/apple-iphone-se-64gb-zwart/9300000000886605/', 'https://bol.com/nl/p/samsung-galaxy-a71-128gb-zwart/9200000127101810/', 'https://bol.com/nl/p/apple-iphone-12-64gb-zwart/9300000013742278/', 'https://bol.com/nl/p/samsung-galaxy-a21s-64gb-zwart/9300000000132986/', 'https://bol.com/nl/p/alcatel-1c-3g-8gb-zwart/9200000112629003/', 'https://bol.com/nl/p/apple-iphone-11-64gb-zwart/9200000119815601/', 'https://bol.com/nl/p/motorola-moto-e6-play-32gb-steel-black/9200000122803221/', 'https://bol.com/nl/p/samsung-galaxy-a12-128gb-zwart/9300000019419396/', 'https://bol.com/nl/p/samsung-galaxy-a21s-32gb-blauw/9300000000132994/', 'https://bol.com/nl/p/samsung-galaxy-s20-fe-4g-128gb-cloud-navy/9300000008841647/', 'https://bol.com/nl/p/apple-iphone-12-pro-128gb-oceaan-blauw/9300000013742251/', 'https://bol.com/nl/p/samsung-galaxy-a12-64gb-zwart/9300000020208465/', 'https://bol.com/nl/p/samsung-galaxy-a42-5g-128gb-prism-dot-black/9300000010098436/', 'https://bol.com/nl/p/samsung-galaxy-a01-core-16gb-zwart/9300000007420502/', 'https://bol.com/nl/p/apple-iphone-xr-64gb-zwart/9200000098453451/', 'https://bol.com/nl/p/samsung-galaxy-a40-64gb-zwart/9200000107463262/', 'https://bol.com/nl/p/samsung-galaxy-a21s-128gb-zwart/9300000015820720/', 'https://bol.com/nl/p/samsung-galaxy-a10-32gb-zwart/9200000111950985/']\n",
      "['https://bol.com/nl/p/samsung-galaxy-a51-128gb-wit/9200000127101721/', 'https://bol.com/nl/p/samsung-galaxy-s10e-128gb-prism-zwart/9200000106450648/', 'https://bol.com/nl/p/samsung-galaxy-s21-5g-128gb-phantom-gray/9300000020732481/', 'https://bol.com/nl/p/apple-iphone-12-mini-64gb-zwart/9300000013742257/', 'https://bol.com/nl/p/apple-iphone-11-128gb-zwart/9200000119816199/', 'https://bol.com/nl/p/samsung-galaxy-a50-128gb-zwart/9200000106883561/', 'https://bol.com/nl/p/samsung-galaxy-a10-32gb-blauw/9200000111950979/', 'https://bol.com/nl/p/samsung-galaxy-xcover-4s-32gb-zwart/9200000111950981/', 'https://bol.com/nl/p/apple-iphone-se-128gb-zwart/9300000000886601/', 'https://bol.com/nl/p/motorola-moto-g9-power-128gb-groen/9300000012375717/', 'https://bol.com/nl/p/samsung-galaxy-a32-5g-128gb-awesome-black/9300000022106004/', 'https://bol.com/nl/p/huawei-p30-lite-new-edition-256gb-midnight-black/9200000126132549/', 'https://bol.com/nl/p/oppo-a72-128gb-zwart/9300000002779754/', 'https://bol.com/nl/p/alcatel-1se-32gb-grijs/9300000001580712/', 'https://bol.com/nl/p/samsung-galaxy-a10s-32gb-zwart/9200000121265417/', 'https://bol.com/nl/p/apple-iphone-12-pro-max-256gb-grafiet/9300000013742208/', 'https://bol.com/nl/p/apple-iphone-x-refurbished-door-forza-c-grade-64gb-spacegrijs/9200000101335076/', 'https://bol.com/nl/p/oneplus-nord-n100-64gb-grijs/9300000017872622/', 'https://bol.com/nl/p/samsung-galaxy-a21s-64gb-wit/9300000000132987/', 'https://bol.com/nl/p/samsung-galaxy-s20-5g-128gb-cosmic-grey/9200000128429194/', 'https://bol.com/nl/p/samsung-galaxy-a71-128gb-blauw/9200000127101719/', 'https://bol.com/nl/p/samsung-galaxy-a02s-32gb-zwart/9300000020547718/', 'https://bol.com/nl/p/nokia-5-4-64gb-blauw/9300000021882472/', 'https://bol.com/nl/p/samsung-galaxy-m21-power-64gb-zwart/9300000000133004/']\n"
     ]
    }
   ],
   "source": [
    "for url in my_urls[:2]:\n",
    "    complete_urls = []\n",
    "    print(get_phones(url))\n",
    "\n",
    "#return(complete_urls)"
   ]
  },
  {
   "cell_type": "code",
   "execution_count": 8,
   "metadata": {},
   "outputs": [
    {
     "name": "stdout",
     "output_type": "stream",
     "text": [
      "['https://bol.com/nl/p/samsung-galaxy-a51-128gb-wit/9200000127101721/', 'https://bol.com/nl/p/samsung-galaxy-s10e-128gb-prism-zwart/9200000106450648/', 'https://bol.com/nl/p/samsung-galaxy-s21-5g-128gb-phantom-gray/9300000020732481/', 'https://bol.com/nl/p/apple-iphone-12-mini-64gb-zwart/9300000013742257/', 'https://bol.com/nl/p/apple-iphone-11-128gb-zwart/9200000119816199/', 'https://bol.com/nl/p/samsung-galaxy-a50-128gb-zwart/9200000106883561/', 'https://bol.com/nl/p/samsung-galaxy-a10-32gb-blauw/9200000111950979/', 'https://bol.com/nl/p/samsung-galaxy-xcover-4s-32gb-zwart/9200000111950981/', 'https://bol.com/nl/p/apple-iphone-se-128gb-zwart/9300000000886601/', 'https://bol.com/nl/p/motorola-moto-g9-power-128gb-groen/9300000012375717/', 'https://bol.com/nl/p/samsung-galaxy-a32-5g-128gb-awesome-black/9300000022106004/', 'https://bol.com/nl/p/huawei-p30-lite-new-edition-256gb-midnight-black/9200000126132549/', 'https://bol.com/nl/p/oppo-a72-128gb-zwart/9300000002779754/', 'https://bol.com/nl/p/alcatel-1se-32gb-grijs/9300000001580712/', 'https://bol.com/nl/p/samsung-galaxy-a10s-32gb-zwart/9200000121265417/', 'https://bol.com/nl/p/apple-iphone-12-pro-max-256gb-grafiet/9300000013742208/', 'https://bol.com/nl/p/apple-iphone-x-refurbished-door-forza-c-grade-64gb-spacegrijs/9200000101335076/', 'https://bol.com/nl/p/oneplus-nord-n100-64gb-grijs/9300000017872622/', 'https://bol.com/nl/p/samsung-galaxy-a21s-64gb-wit/9300000000132987/', 'https://bol.com/nl/p/samsung-galaxy-s20-5g-128gb-cosmic-grey/9200000128429194/', 'https://bol.com/nl/p/samsung-galaxy-a71-128gb-blauw/9200000127101719/', 'https://bol.com/nl/p/samsung-galaxy-a02s-32gb-zwart/9300000020547718/', 'https://bol.com/nl/p/nokia-5-4-64gb-blauw/9300000021882472/', 'https://bol.com/nl/p/samsung-galaxy-m21-power-64gb-zwart/9300000000133004/']\n"
     ]
    }
   ],
   "source": [
    "#fn=\"my_output.csv\"\n",
    "my_phones = get_phones(my_urls) \n",
    "print(my_phones) # <-delete after"
   ]
  },
  {
   "cell_type": "code",
   "execution_count": 12,
   "metadata": {},
   "outputs": [
    {
     "data": {
      "text/plain": [
       "['https://bol.com/nl/l/smartphones/N/4010/?page=1',\n",
       " 'https://bol.com/nl/l/smartphones/N/4010/?page=2',\n",
       " 'https://bol.com/nl/l/smartphones/N/4010/?page=3',\n",
       " 'https://bol.com/nl/l/smartphones/N/4010/?page=4',\n",
       " 'https://bol.com/nl/l/smartphones/N/4010/?page=5',\n",
       " 'https://bol.com/nl/l/smartphones/N/4010/?page=6',\n",
       " 'https://bol.com/nl/l/smartphones/N/4010/?page=7',\n",
       " 'https://bol.com/nl/l/smartphones/N/4010/?page=8',\n",
       " 'https://bol.com/nl/l/smartphones/N/4010/?page=9',\n",
       " 'https://bol.com/nl/l/smartphones/N/4010/?page=10',\n",
       " 'https://bol.com/nl/l/smartphones/N/4010/?page=11',\n",
       " 'https://bol.com/nl/l/smartphones/N/4010/?page=12',\n",
       " 'https://bol.com/nl/l/smartphones/N/4010/?page=13',\n",
       " 'https://bol.com/nl/l/smartphones/N/4010/?page=14',\n",
       " 'https://bol.com/nl/l/smartphones/N/4010/?page=15',\n",
       " 'https://bol.com/nl/l/smartphones/N/4010/?page=16',\n",
       " 'https://bol.com/nl/l/smartphones/N/4010/?page=17',\n",
       " 'https://bol.com/nl/l/smartphones/N/4010/?page=18',\n",
       " 'https://bol.com/nl/l/smartphones/N/4010/?page=19',\n",
       " 'https://bol.com/nl/l/smartphones/N/4010/?page=20',\n",
       " 'https://bol.com/nl/l/smartphones/N/4010/?page=21',\n",
       " 'https://bol.com/nl/l/smartphones/N/4010/?page=22',\n",
       " 'https://bol.com/nl/l/smartphones/N/4010/?page=23',\n",
       " 'https://bol.com/nl/l/smartphones/N/4010/?page=24',\n",
       " 'https://bol.com/nl/l/smartphones/N/4010/?page=25',\n",
       " 'https://bol.com/nl/l/smartphones/N/4010/?page=26',\n",
       " 'https://bol.com/nl/l/smartphones/N/4010/?page=27',\n",
       " 'https://bol.com/nl/l/smartphones/N/4010/?page=28',\n",
       " 'https://bol.com/nl/l/smartphones/N/4010/?page=29',\n",
       " 'https://bol.com/nl/l/smartphones/N/4010/?page=30',\n",
       " 'https://bol.com/nl/l/smartphones/N/4010/?page=31',\n",
       " 'https://bol.com/nl/l/smartphones/N/4010/?page=32',\n",
       " 'https://bol.com/nl/l/smartphones/N/4010/?page=33',\n",
       " 'https://bol.com/nl/l/smartphones/N/4010/?page=34',\n",
       " 'https://bol.com/nl/l/smartphones/N/4010/?page=35',\n",
       " 'https://bol.com/nl/l/smartphones/N/4010/?page=36',\n",
       " 'https://bol.com/nl/l/smartphones/N/4010/?page=37',\n",
       " 'https://bol.com/nl/l/smartphones/N/4010/?page=38',\n",
       " 'https://bol.com/nl/l/smartphones/N/4010/?page=39',\n",
       " 'https://bol.com/nl/l/smartphones/N/4010/?page=40',\n",
       " 'https://bol.com/nl/l/smartphones/N/4010/?page=41',\n",
       " 'https://bol.com/nl/l/smartphones/N/4010/?page=42',\n",
       " 'https://bol.com/nl/l/smartphones/N/4010/?page=43',\n",
       " 'https://bol.com/nl/l/smartphones/N/4010/?page=44',\n",
       " 'https://bol.com/nl/l/smartphones/N/4010/?page=45',\n",
       " 'https://bol.com/nl/l/smartphones/N/4010/?page=46',\n",
       " 'https://bol.com/nl/l/smartphones/N/4010/?page=47',\n",
       " 'https://bol.com/nl/l/smartphones/N/4010/?page=48',\n",
       " 'https://bol.com/nl/l/smartphones/N/4010/?page=49',\n",
       " 'https://bol.com/nl/l/smartphones/N/4010/?page=50',\n",
       " 'https://bol.com/nl/l/smartphones/N/4010/?page=51',\n",
       " 'https://bol.com/nl/l/smartphones/N/4010/?page=52',\n",
       " 'https://bol.com/nl/l/smartphones/N/4010/?page=53',\n",
       " 'https://bol.com/nl/l/smartphones/N/4010/?page=54',\n",
       " 'https://bol.com/nl/l/smartphones/N/4010/?page=55',\n",
       " 'https://bol.com/nl/l/smartphones/N/4010/?page=56',\n",
       " 'https://bol.com/nl/l/smartphones/N/4010/?page=57',\n",
       " 'https://bol.com/nl/l/smartphones/N/4010/?page=58',\n",
       " 'https://bol.com/nl/l/smartphones/N/4010/?page=59',\n",
       " 'https://bol.com/nl/l/smartphones/N/4010/?page=60',\n",
       " 'https://bol.com/nl/l/smartphones/N/4010/?page=61',\n",
       " 'https://bol.com/nl/l/smartphones/N/4010/?page=62',\n",
       " 'https://bol.com/nl/l/smartphones/N/4010/?page=63',\n",
       " 'https://bol.com/nl/l/smartphones/N/4010/?page=64',\n",
       " 'https://bol.com/nl/l/smartphones/N/4010/?page=65',\n",
       " 'https://bol.com/nl/l/smartphones/N/4010/?page=66',\n",
       " 'https://bol.com/nl/l/smartphones/N/4010/?page=67',\n",
       " 'https://bol.com/nl/l/smartphones/N/4010/?page=68',\n",
       " 'https://bol.com/nl/l/smartphones/N/4010/?page=69',\n",
       " 'https://bol.com/nl/l/smartphones/N/4010/?page=70',\n",
       " 'https://bol.com/nl/l/smartphones/N/4010/?page=71',\n",
       " 'https://bol.com/nl/l/smartphones/N/4010/?page=72',\n",
       " 'https://bol.com/nl/l/smartphones/N/4010/?page=73',\n",
       " 'https://bol.com/nl/l/smartphones/N/4010/?page=74',\n",
       " 'https://bol.com/nl/l/smartphones/N/4010/?page=75',\n",
       " 'https://bol.com/nl/l/smartphones/N/4010/?page=76',\n",
       " 'https://bol.com/nl/l/smartphones/N/4010/?page=77',\n",
       " 'https://bol.com/nl/l/smartphones/N/4010/?page=78',\n",
       " 'https://bol.com/nl/l/smartphones/N/4010/?page=79',\n",
       " 'https://bol.com/nl/l/smartphones/N/4010/?page=80',\n",
       " 'https://bol.com/nl/l/smartphones/N/4010/?page=81',\n",
       " 'https://bol.com/nl/l/smartphones/N/4010/?page=82',\n",
       " 'https://bol.com/nl/l/smartphones/N/4010/?page=83',\n",
       " 'https://bol.com/nl/l/smartphones/N/4010/?page=84',\n",
       " 'https://bol.com/nl/l/smartphones/N/4010/?page=85',\n",
       " 'https://bol.com/nl/l/smartphones/N/4010/?page=86',\n",
       " 'https://bol.com/nl/l/smartphones/N/4010/?page=87',\n",
       " 'https://bol.com/nl/l/smartphones/N/4010/?page=88',\n",
       " 'https://bol.com/nl/l/smartphones/N/4010/?page=89',\n",
       " 'https://bol.com/nl/l/smartphones/N/4010/?page=90',\n",
       " 'https://bol.com/nl/l/smartphones/N/4010/?page=91',\n",
       " 'https://bol.com/nl/l/smartphones/N/4010/?page=92',\n",
       " 'https://bol.com/nl/l/smartphones/N/4010/?page=93',\n",
       " 'https://bol.com/nl/l/smartphones/N/4010/?page=94',\n",
       " 'https://bol.com/nl/l/smartphones/N/4010/?page=95',\n",
       " 'https://bol.com/nl/l/smartphones/N/4010/?page=96',\n",
       " 'https://bol.com/nl/l/smartphones/N/4010/?page=97']"
      ]
     },
     "execution_count": 12,
     "metadata": {},
     "output_type": "execute_result"
    }
   ],
   "source": [
    "my_urls"
   ]
  },
  {
   "cell_type": "code",
   "execution_count": 13,
   "metadata": {},
   "outputs": [
    {
     "data": {
      "text/plain": [
       "['https://bol.com/nl/p/samsung-galaxy-a51-128gb-wit/9200000127101721/',\n",
       " 'https://bol.com/nl/p/samsung-galaxy-s10e-128gb-prism-zwart/9200000106450648/',\n",
       " 'https://bol.com/nl/p/samsung-galaxy-s21-5g-128gb-phantom-gray/9300000020732481/',\n",
       " 'https://bol.com/nl/p/apple-iphone-12-mini-64gb-zwart/9300000013742257/',\n",
       " 'https://bol.com/nl/p/apple-iphone-11-128gb-zwart/9200000119816199/',\n",
       " 'https://bol.com/nl/p/samsung-galaxy-a50-128gb-zwart/9200000106883561/',\n",
       " 'https://bol.com/nl/p/samsung-galaxy-a10-32gb-blauw/9200000111950979/',\n",
       " 'https://bol.com/nl/p/samsung-galaxy-xcover-4s-32gb-zwart/9200000111950981/',\n",
       " 'https://bol.com/nl/p/apple-iphone-se-128gb-zwart/9300000000886601/',\n",
       " 'https://bol.com/nl/p/motorola-moto-g9-power-128gb-groen/9300000012375717/',\n",
       " 'https://bol.com/nl/p/samsung-galaxy-a32-5g-128gb-awesome-black/9300000022106004/',\n",
       " 'https://bol.com/nl/p/huawei-p30-lite-new-edition-256gb-midnight-black/9200000126132549/',\n",
       " 'https://bol.com/nl/p/oppo-a72-128gb-zwart/9300000002779754/',\n",
       " 'https://bol.com/nl/p/alcatel-1se-32gb-grijs/9300000001580712/',\n",
       " 'https://bol.com/nl/p/samsung-galaxy-a10s-32gb-zwart/9200000121265417/',\n",
       " 'https://bol.com/nl/p/apple-iphone-12-pro-max-256gb-grafiet/9300000013742208/',\n",
       " 'https://bol.com/nl/p/apple-iphone-x-refurbished-door-forza-c-grade-64gb-spacegrijs/9200000101335076/',\n",
       " 'https://bol.com/nl/p/oneplus-nord-n100-64gb-grijs/9300000017872622/',\n",
       " 'https://bol.com/nl/p/samsung-galaxy-a21s-64gb-wit/9300000000132987/',\n",
       " 'https://bol.com/nl/p/samsung-galaxy-s20-5g-128gb-cosmic-grey/9200000128429194/',\n",
       " 'https://bol.com/nl/p/samsung-galaxy-a71-128gb-blauw/9200000127101719/',\n",
       " 'https://bol.com/nl/p/samsung-galaxy-a02s-32gb-zwart/9300000020547718/',\n",
       " 'https://bol.com/nl/p/nokia-5-4-64gb-blauw/9300000021882472/',\n",
       " 'https://bol.com/nl/p/samsung-galaxy-m21-power-64gb-zwart/9300000000133004/']"
      ]
     },
     "execution_count": 13,
     "metadata": {},
     "output_type": "execute_result"
    }
   ],
   "source": [
    "my_phones"
   ]
  },
  {
   "cell_type": "code",
   "execution_count": null,
   "metadata": {},
   "outputs": [],
   "source": [
    "#Right version\n",
    "fn=\"my_output.csv\"\n",
    "my_phones = get_phones(my_urls) \n",
    "#print(my_phones) # <-delete after\n",
    "f=open(fn,'w',encoding='utf-8')\n",
    "for url in my_phones:\n",
    "    f.write(url+'\\n')\n",
    "f.close()\n"
   ]
  },
  {
   "cell_type": "code",
   "execution_count": 14,
   "metadata": {},
   "outputs": [],
   "source": [
    "fn=\"my_output.csv\"\n",
    "my_phones = get_phones(my_urls) \n",
    "#print(my_phones) # <-delete after\n",
    "f=open(fn,'w',encoding='utf-8')\n",
    "for url in my_urls [:2]:\n",
    "    print(get_phones(url))     \n",
    "    f.write(str(get_phones(url))+'\\n')\n",
    "f.close()\n",
    "time.sleep(1)"
   ]
  },
  {
   "cell_type": "code",
   "execution_count": null,
   "metadata": {},
   "outputs": [],
   "source": []
  },
  {
   "cell_type": "code",
   "execution_count": null,
   "metadata": {},
   "outputs": [],
   "source": [
    "# This cell can probably be deleted\n",
    "#def get_complete_urls(my_urls):\n",
    "    #complete_urls = []\n",
    "    #for url in my_urls:\n",
    "        #get_phones(url)\n",
    "        \n",
    "    #return(complete_urls) "
   ]
  },
  {
   "cell_type": "code",
   "execution_count": null,
   "metadata": {},
   "outputs": [],
   "source": [
    "# This cell can probably be deleted\n",
    "#complete_urls = get_complete_urls(my_urls)"
   ]
  },
  {
   "cell_type": "markdown",
   "metadata": {},
   "source": [
    "## Trialing to input file"
   ]
  },
  {
   "cell_type": "code",
   "execution_count": null,
   "metadata": {},
   "outputs": [],
   "source": [
    "#TRIAL\n",
    "#f=open('my_output.csv','r',encoding='utf-8')\n",
    "\n",
    "#f.readlines()"
   ]
  },
  {
   "cell_type": "code",
   "execution_count": null,
   "metadata": {},
   "outputs": [],
   "source": [
    "# TRIAL\n",
    "#import csv\n",
    "\n",
    "#with open('my_output.csv', newline='') as f:\n",
    "    #reader = csv.reader(f)\n",
    "    #your_list = list(reader)\n",
    "\n",
    "#print(your_list)\n"
   ]
  },
  {
   "cell_type": "code",
   "execution_count": 17,
   "metadata": {},
   "outputs": [],
   "source": [
    "#WIP option\n",
    "f = open('my_output.csv', 'r', encoding='utf-8').readlines()\n",
    "new_urls = []\n",
    "for i in f: new_urls.append(i.replace('\\n',''))"
   ]
  },
  {
   "cell_type": "code",
   "execution_count": 18,
   "metadata": {},
   "outputs": [
    {
     "data": {
      "text/plain": [
       "['https://bol.com/nl/p/samsung-galaxy-a51-128gb-wit/9200000127101721/',\n",
       " 'https://bol.com/nl/p/samsung-galaxy-s10e-128gb-prism-zwart/9200000106450648/',\n",
       " 'https://bol.com/nl/p/samsung-galaxy-s21-5g-128gb-phantom-gray/9300000020732481/',\n",
       " 'https://bol.com/nl/p/apple-iphone-12-mini-64gb-zwart/9300000013742257/',\n",
       " 'https://bol.com/nl/p/apple-iphone-11-128gb-zwart/9200000119816199/',\n",
       " 'https://bol.com/nl/p/samsung-galaxy-a50-128gb-zwart/9200000106883561/',\n",
       " 'https://bol.com/nl/p/samsung-galaxy-a10-32gb-blauw/9200000111950979/',\n",
       " 'https://bol.com/nl/p/samsung-galaxy-xcover-4s-32gb-zwart/9200000111950981/',\n",
       " 'https://bol.com/nl/p/apple-iphone-se-128gb-zwart/9300000000886601/',\n",
       " 'https://bol.com/nl/p/motorola-moto-g9-power-128gb-groen/9300000012375717/',\n",
       " 'https://bol.com/nl/p/samsung-galaxy-a32-5g-128gb-awesome-black/9300000022106004/',\n",
       " 'https://bol.com/nl/p/huawei-p30-lite-new-edition-256gb-midnight-black/9200000126132549/',\n",
       " 'https://bol.com/nl/p/oppo-a72-128gb-zwart/9300000002779754/',\n",
       " 'https://bol.com/nl/p/alcatel-1se-32gb-grijs/9300000001580712/',\n",
       " 'https://bol.com/nl/p/samsung-galaxy-a10s-32gb-zwart/9200000121265417/',\n",
       " 'https://bol.com/nl/p/apple-iphone-12-pro-max-256gb-grafiet/9300000013742208/',\n",
       " 'https://bol.com/nl/p/apple-iphone-x-refurbished-door-forza-c-grade-64gb-spacegrijs/9200000101335076/',\n",
       " 'https://bol.com/nl/p/oneplus-nord-n100-64gb-grijs/9300000017872622/',\n",
       " 'https://bol.com/nl/p/samsung-galaxy-a21s-64gb-wit/9300000000132987/',\n",
       " 'https://bol.com/nl/p/samsung-galaxy-s20-5g-128gb-cosmic-grey/9200000128429194/',\n",
       " 'https://bol.com/nl/p/samsung-galaxy-a71-128gb-blauw/9200000127101719/',\n",
       " 'https://bol.com/nl/p/samsung-galaxy-a02s-32gb-zwart/9300000020547718/',\n",
       " 'https://bol.com/nl/p/nokia-5-4-64gb-blauw/9300000021882472/',\n",
       " 'https://bol.com/nl/p/samsung-galaxy-m21-power-64gb-zwart/9300000000133004/']"
      ]
     },
     "execution_count": 18,
     "metadata": {},
     "output_type": "execute_result"
    }
   ],
   "source": [
    "new_urls"
   ]
  },
  {
   "cell_type": "code",
   "execution_count": 12,
   "metadata": {},
   "outputs": [
    {
     "name": "stdout",
     "output_type": "stream",
     "text": [
      "[\"'https://bol.com/nl/p/samsung-galaxy-a51-128gb-zwart/9200000127101717/', 'https://bol.com/nl/p/samsung-galaxy-a20e-32gb-zwart/9200000109073236/', 'https://bol.com/nl/p/samsung-galaxy-a41-64gb-zwart/9300000000132992/', 'https://bol.com/nl/p/samsung-galaxy-a71-128gb-zwart/9200000127101810/', 'https://bol.com/nl/p/apple-iphone-se-64gb-zwart/9300000000886605/', 'https://bol.com/nl/p/samsung-galaxy-a21s-64gb-zwart/9300000000132986/', 'https://bol.com/nl/p/apple-iphone-12-64gb-zwart/9300000013742278/', 'https://bol.com/nl/p/alcatel-1c-3g-8gb-zwart/9200000112629003/', 'https://bol.com/nl/p/motorola-moto-e6-play-32gb-steel-black/9200000122803221/', 'https://bol.com/nl/p/samsung-galaxy-a51-128gb-blauw/9200000127101588/', 'https://bol.com/nl/p/samsung-galaxy-s20-fe-4g-128gb-cloud-navy/9300000008841647/', 'https://bol.com/nl/p/apple-iphone-11-64gb-zwart/9200000119815601/', 'https://bol.com/nl/p/samsung-galaxy-a12-128gb-zwart/9300000019419396/', 'https://bol.com/nl/p/samsung-galaxy-a21s-32gb-blauw/9300000000132994/', 'https://bol.com/nl/p/samsung-galaxy-a42-5g-128gb-prism-dot-black/9300000010098436/', 'https://bol.com/nl/p/apple-iphone-12-pro-128gb-oceaan-blauw/9300000013742251/', 'https://bol.com/nl/p/samsung-galaxy-a01-core-16gb-zwart/9300000007420502/', 'https://bol.com/nl/p/samsung-galaxy-a10-32gb-zwart/9200000111950985/', 'https://bol.com/nl/p/samsung-galaxy-a21s-128gb-zwart/9300000015820720/', 'https://bol.com/nl/p/apple-iphone-xr-64gb-zwart/9200000098453451/', 'https://bol.com/nl/p/samsung-galaxy-a40-64gb-zwart/9200000107463262/', 'https://bol.com/nl/p/samsung-galaxy-a12-64gb-zwart/9300000020208465/', 'https://bol.com/nl/p/samsung-galaxy-a51-128gb-wit/9200000127101721/''https://bol.com/nl/p/samsung-galaxy-a20e-dual-sim-32gb-blauw/9300000002133409/', 'https://bol.com/nl/p/samsung-galaxy-s10e-128gb-prism-zwart/9200000106450648/', 'https://bol.com/nl/p/apple-iphone-11-128gb-zwart/9200000119816199/', 'https://bol.com/nl/p/samsung-galaxy-s21-5g-128gb-phantom-gray/9300000020732481/', 'https://bol.com/nl/p/apple-iphone-12-mini-64gb-zwart/9300000013742257/', 'https://bol.com/nl/p/samsung-galaxy-a50-128gb-zwart/9200000106883561/', 'https://bol.com/nl/p/motorola-moto-g8-power-lite-blauw/9200000127141343/', 'https://bol.com/nl/p/huawei-p30-lite-128gb-midnight-zwart/9200000107750278/', 'https://bol.com/nl/p/samsung-galaxy-a10-32gb-blauw/9200000111950979/', 'https://bol.com/nl/p/samsung-galaxy-xcover-4s-32gb-zwart/9200000111950981/', 'https://bol.com/nl/p/apple-iphone-se-128gb-zwart/9300000000886601/', 'https://bol.com/nl/p/oneplus-nord-n100-64gb-grijs/9300000017872622/', 'https://bol.com/nl/p/motorola-moto-g9-power-128gb-groen/9300000012375717/', 'https://bol.com/nl/p/samsung-galaxy-a32-5g-128gb-awesome-black/9300000022106004/', 'https://bol.com/nl/p/huawei-p30-lite-new-edition-256gb-midnight-black/9200000126132549/', 'https://bol.com/nl/p/oppo-a72-128gb-zwart/9300000002779754/', 'https://bol.com/nl/p/samsung-galaxy-a10s-32gb-zwart/9200000121265417/', 'https://bol.com/nl/p/samsung-galaxy-s20-5g-128gb-cosmic-grey/9200000128429194/', 'https://bol.com/nl/p/apple-iphone-x-refurbished-door-forza-c-grade-64gb-spacegrijs/9200000101335076/', 'https://bol.com/nl/p/apple-iphone-12-pro-max-256gb-grafiet/9300000013742208/', 'https://bol.com/nl/p/alcatel-1se-32gb-grijs/9300000001580712/', 'https://bol.com/nl/p/nokia-5-4-64gb-blauw/9300000021882472/', 'https://bol.com/nl/p/samsung-galaxy-a02s-32gb-zwart/9300000020547718/'https://bol.com/nl/p/samsung-galaxy-a51-128gb-zwart/9200000127101717/', 'https://bol.com/nl/p/samsung-galaxy-a20e-32gb-zwart/9200000109073236/', 'https://bol.com/nl/p/samsung-galaxy-a41-64gb-zwart/9300000000132992/', 'https://bol.com/nl/p/samsung-galaxy-a71-128gb-zwart/9200000127101810/', 'https://bol.com/nl/p/apple-iphone-se-64gb-zwart/9300000000886605/', 'https://bol.com/nl/p/samsung-galaxy-a21s-64gb-zwart/9300000000132986/', 'https://bol.com/nl/p/apple-iphone-12-64gb-zwart/9300000013742278/', 'https://bol.com/nl/p/alcatel-1c-3g-8gb-zwart/9200000112629003/', 'https://bol.com/nl/p/motorola-moto-e6-play-32gb-steel-black/9200000122803221/', 'https://bol.com/nl/p/samsung-galaxy-a51-128gb-blauw/9200000127101588/', 'https://bol.com/nl/p/samsung-galaxy-s20-fe-4g-128gb-cloud-navy/9300000008841647/', 'https://bol.com/nl/p/apple-iphone-11-64gb-zwart/9200000119815601/', 'https://bol.com/nl/p/samsung-galaxy-a12-128gb-zwart/9300000019419396/', 'https://bol.com/nl/p/samsung-galaxy-a21s-32gb-blauw/9300000000132994/', 'https://bol.com/nl/p/samsung-galaxy-a42-5g-128gb-prism-dot-black/9300000010098436/', 'https://bol.com/nl/p/apple-iphone-12-pro-128gb-oceaan-blauw/9300000013742251/', 'https://bol.com/nl/p/samsung-galaxy-a01-core-16gb-zwart/9300000007420502/', 'https://bol.com/nl/p/samsung-galaxy-a10-32gb-zwart/9200000111950985/', 'https://bol.com/nl/p/samsung-galaxy-a21s-128gb-zwart/9300000015820720/', 'https://bol.com/nl/p/apple-iphone-xr-64gb-zwart/9200000098453451/', 'https://bol.com/nl/p/samsung-galaxy-a40-64gb-zwart/9200000107463262/', 'https://bol.com/nl/p/samsung-galaxy-a12-64gb-zwart/9300000020208465/', 'https://bol.com/nl/p/samsung-galaxy-a51-128gb-wit/9200000127101721/https://bol.com/nl/p/samsung-galaxy-a20e-dual-sim-32gb-blauw/9300000002133409/', 'https://bol.com/nl/p/samsung-galaxy-s10e-128gb-prism-zwart/9200000106450648/', 'https://bol.com/nl/p/apple-iphone-11-128gb-zwart/9200000119816199/', 'https://bol.com/nl/p/samsung-galaxy-s21-5g-128gb-phantom-gray/9300000020732481/', 'https://bol.com/nl/p/apple-iphone-12-mini-64gb-zwart/9300000013742257/', 'https://bol.com/nl/p/samsung-galaxy-a50-128gb-zwart/9200000106883561/', 'https://bol.com/nl/p/motorola-moto-g8-power-lite-blauw/9200000127141343/', 'https://bol.com/nl/p/huawei-p30-lite-128gb-midnight-zwart/9200000107750278/', 'https://bol.com/nl/p/samsung-galaxy-a10-32gb-blauw/9200000111950979/', 'https://bol.com/nl/p/samsung-galaxy-xcover-4s-32gb-zwart/9200000111950981/', 'https://bol.com/nl/p/apple-iphone-se-128gb-zwart/9300000000886601/', 'https://bol.com/nl/p/oneplus-nord-n100-64gb-grijs/9300000017872622/', 'https://bol.com/nl/p/motorola-moto-g9-power-128gb-groen/9300000012375717/', 'https://bol.com/nl/p/samsung-galaxy-a32-5g-128gb-awesome-black/9300000022106004/', 'https://bol.com/nl/p/huawei-p30-lite-new-edition-256gb-midnight-black/9200000126132549/', 'https://bol.com/nl/p/oppo-a72-128gb-zwart/9300000002779754/', 'https://bol.com/nl/p/samsung-galaxy-a10s-32gb-zwart/9200000121265417/', 'https://bol.com/nl/p/samsung-galaxy-s20-5g-128gb-cosmic-grey/9200000128429194/', 'https://bol.com/nl/p/apple-iphone-x-refurbished-door-forza-c-grade-64gb-spacegrijs/9200000101335076/', 'https://bol.com/nl/p/apple-iphone-12-pro-max-256gb-grafiet/9300000013742208/', 'https://bol.com/nl/p/alcatel-1se-32gb-grijs/9300000001580712/', 'https://bol.com/nl/p/nokia-5-4-64gb-blauw/9300000021882472/', 'https://bol.com/nl/p/samsung-galaxy-a02s-32gb-zwart/9300000020547718/'https://bol.com/nl/p/samsung-galaxy-a51-128gb-zwart/9200000127101717/', 'https://bol.com/nl/p/samsung-galaxy-a20e-32gb-zwart/9200000109073236/', 'https://bol.com/nl/p/samsung-galaxy-a41-64gb-zwart/9300000000132992/', 'https://bol.com/nl/p/samsung-galaxy-a71-128gb-zwart/9200000127101810/', 'https://bol.com/nl/p/apple-iphone-se-64gb-zwart/9300000000886605/', 'https://bol.com/nl/p/samsung-galaxy-a21s-64gb-zwart/9300000000132986/', 'https://bol.com/nl/p/apple-iphone-12-64gb-zwart/9300000013742278/', 'https://bol.com/nl/p/alcatel-1c-3g-8gb-zwart/9200000112629003/', 'https://bol.com/nl/p/motorola-moto-e6-play-32gb-steel-black/9200000122803221/', 'https://bol.com/nl/p/samsung-galaxy-a51-128gb-blauw/9200000127101588/', 'https://bol.com/nl/p/samsung-galaxy-s20-fe-4g-128gb-cloud-navy/9300000008841647/', 'https://bol.com/nl/p/apple-iphone-11-64gb-zwart/9200000119815601/', 'https://bol.com/nl/p/samsung-galaxy-a12-128gb-zwart/9300000019419396/', 'https://bol.com/nl/p/samsung-galaxy-a21s-32gb-blauw/9300000000132994/', 'https://bol.com/nl/p/samsung-galaxy-a42-5g-128gb-prism-dot-black/9300000010098436/', 'https://bol.com/nl/p/apple-iphone-12-pro-128gb-oceaan-blauw/9300000013742251/', 'https://bol.com/nl/p/samsung-galaxy-a01-core-16gb-zwart/9300000007420502/', 'https://bol.com/nl/p/samsung-galaxy-a10-32gb-zwart/9200000111950985/', 'https://bol.com/nl/p/samsung-galaxy-a21s-128gb-zwart/9300000015820720/', 'https://bol.com/nl/p/apple-iphone-xr-64gb-zwart/9200000098453451/', 'https://bol.com/nl/p/samsung-galaxy-a40-64gb-zwart/9200000107463262/', 'https://bol.com/nl/p/samsung-galaxy-a12-64gb-zwart/9300000020208465/', 'https://bol.com/nl/p/samsung-galaxy-a51-128gb-wit/9200000127101721/''https://bol.com/nl/p/samsung-galaxy-a20e-dual-sim-32gb-blauw/9300000002133409/', 'https://bol.com/nl/p/samsung-galaxy-s10e-128gb-prism-zwart/9200000106450648/', 'https://bol.com/nl/p/apple-iphone-11-128gb-zwart/9200000119816199/', 'https://bol.com/nl/p/samsung-galaxy-s21-5g-128gb-phantom-gray/9300000020732481/', 'https://bol.com/nl/p/apple-iphone-12-mini-64gb-zwart/9300000013742257/', 'https://bol.com/nl/p/samsung-galaxy-a50-128gb-zwart/9200000106883561/', 'https://bol.com/nl/p/motorola-moto-g8-power-lite-blauw/9200000127141343/', 'https://bol.com/nl/p/huawei-p30-lite-128gb-midnight-zwart/9200000107750278/', 'https://bol.com/nl/p/samsung-galaxy-a10-32gb-blauw/9200000111950979/', 'https://bol.com/nl/p/samsung-galaxy-xcover-4s-32gb-zwart/9200000111950981/', 'https://bol.com/nl/p/apple-iphone-se-128gb-zwart/9300000000886601/', 'https://bol.com/nl/p/oneplus-nord-n100-64gb-grijs/9300000017872622/', 'https://bol.com/nl/p/motorola-moto-g9-power-128gb-groen/9300000012375717/', 'https://bol.com/nl/p/samsung-galaxy-a32-5g-128gb-awesome-black/9300000022106004/', 'https://bol.com/nl/p/huawei-p30-lite-new-edition-256gb-midnight-black/9200000126132549/', 'https://bol.com/nl/p/oppo-a72-128gb-zwart/9300000002779754/', 'https://bol.com/nl/p/samsung-galaxy-a10s-32gb-zwart/9200000121265417/', 'https://bol.com/nl/p/samsung-galaxy-s20-5g-128gb-cosmic-grey/9200000128429194/', 'https://bol.com/nl/p/apple-iphone-x-refurbished-door-forza-c-grade-64gb-spacegrijs/9200000101335076/', 'https://bol.com/nl/p/apple-iphone-12-pro-max-256gb-grafiet/9300000013742208/', 'https://bol.com/nl/p/alcatel-1se-32gb-grijs/9300000001580712/', 'https://bol.com/nl/p/nokia-5-4-64gb-blauw/9300000021882472/', 'https://bol.com/nl/p/samsung-galaxy-a02s-32gb-zwart/9300000020547718/''https://bol.com/nl/p/samsung-galaxy-a51-128gb-zwart/9200000127101717/', 'https://bol.com/nl/p/samsung-galaxy-a20e-32gb-zwart/9200000109073236/', 'https://bol.com/nl/p/samsung-galaxy-a41-64gb-zwart/9300000000132992/', 'https://bol.com/nl/p/samsung-galaxy-a71-128gb-zwart/9200000127101810/', 'https://bol.com/nl/p/apple-iphone-se-64gb-zwart/9300000000886605/', 'https://bol.com/nl/p/samsung-galaxy-a21s-64gb-zwart/9300000000132986/', 'https://bol.com/nl/p/apple-iphone-12-64gb-zwart/9300000013742278/', 'https://bol.com/nl/p/alcatel-1c-3g-8gb-zwart/9200000112629003/', 'https://bol.com/nl/p/motorola-moto-e6-play-32gb-steel-black/9200000122803221/', 'https://bol.com/nl/p/samsung-galaxy-a51-128gb-blauw/9200000127101588/', 'https://bol.com/nl/p/samsung-galaxy-s20-fe-4g-128gb-cloud-navy/9300000008841647/', 'https://bol.com/nl/p/apple-iphone-11-64gb-zwart/9200000119815601/', 'https://bol.com/nl/p/samsung-galaxy-a12-128gb-zwart/9300000019419396/', 'https://bol.com/nl/p/samsung-galaxy-a21s-32gb-blauw/9300000000132994/', 'https://bol.com/nl/p/samsung-galaxy-a42-5g-128gb-prism-dot-black/9300000010098436/', 'https://bol.com/nl/p/apple-iphone-12-pro-128gb-oceaan-blauw/9300000013742251/', 'https://bol.com/nl/p/samsung-galaxy-a01-core-16gb-zwart/9300000007420502/', 'https://bol.com/nl/p/samsung-galaxy-a10-32gb-zwart/9200000111950985/', 'https://bol.com/nl/p/samsung-galaxy-a21s-128gb-zwart/9300000015820720/', 'https://bol.com/nl/p/apple-iphone-xr-64gb-zwart/9200000098453451/', 'https://bol.com/nl/p/samsung-galaxy-a40-64gb-zwart/9200000107463262/', 'https://bol.com/nl/p/samsung-galaxy-a12-64gb-zwart/9300000020208465/', 'https://bol.com/nl/p/samsung-galaxy-a51-128gb-wit/9200000127101721/''https://bol.com/nl/p/samsung-galaxy-a20e-dual-sim-32gb-blauw/9300000002133409/', 'https://bol.com/nl/p/samsung-galaxy-s10e-128gb-prism-zwart/9200000106450648/', 'https://bol.com/nl/p/apple-iphone-11-128gb-zwart/9200000119816199/', 'https://bol.com/nl/p/samsung-galaxy-s21-5g-128gb-phantom-gray/9300000020732481/', 'https://bol.com/nl/p/apple-iphone-12-mini-64gb-zwart/9300000013742257/', 'https://bol.com/nl/p/samsung-galaxy-a50-128gb-zwart/9200000106883561/', 'https://bol.com/nl/p/motorola-moto-g8-power-lite-blauw/9200000127141343/', 'https://bol.com/nl/p/huawei-p30-lite-128gb-midnight-zwart/9200000107750278/', 'https://bol.com/nl/p/samsung-galaxy-a10-32gb-blauw/9200000111950979/', 'https://bol.com/nl/p/samsung-galaxy-xcover-4s-32gb-zwart/9200000111950981/', 'https://bol.com/nl/p/apple-iphone-se-128gb-zwart/9300000000886601/', 'https://bol.com/nl/p/oneplus-nord-n100-64gb-grijs/9300000017872622/', 'https://bol.com/nl/p/motorola-moto-g9-power-128gb-groen/9300000012375717/', 'https://bol.com/nl/p/samsung-galaxy-a32-5g-128gb-awesome-black/9300000022106004/', 'https://bol.com/nl/p/huawei-p30-lite-new-edition-256gb-midnight-black/9200000126132549/', 'https://bol.com/nl/p/oppo-a72-128gb-zwart/9300000002779754/', 'https://bol.com/nl/p/samsung-galaxy-a10s-32gb-zwart/9200000121265417/', 'https://bol.com/nl/p/samsung-galaxy-s20-5g-128gb-cosmic-grey/9200000128429194/', 'https://bol.com/nl/p/apple-iphone-x-refurbished-door-forza-c-grade-64gb-spacegrijs/9200000101335076/', 'https://bol.com/nl/p/apple-iphone-12-pro-max-256gb-grafiet/9300000013742208/', 'https://bol.com/nl/p/alcatel-1se-32gb-grijs/9300000001580712/', 'https://bol.com/nl/p/nokia-5-4-64gb-blauw/9300000021882472/', 'https://bol.com/nl/p/samsung-galaxy-a02s-32gb-zwart/9300000020547718/''https://bol.com/nl/p/samsung-galaxy-a51-128gb-zwart/9200000127101717/', 'https://bol.com/nl/p/samsung-galaxy-a20e-32gb-zwart/9200000109073236/', 'https://bol.com/nl/p/samsung-galaxy-a41-64gb-zwart/9300000000132992/', 'https://bol.com/nl/p/apple-iphone-se-64gb-zwart/9300000000886605/', 'https://bol.com/nl/p/samsung-galaxy-a21s-64gb-zwart/9300000000132986/', 'https://bol.com/nl/p/apple-iphone-12-64gb-zwart/9300000013742278/', 'https://bol.com/nl/p/alcatel-1c-3g-8gb-zwart/9200000112629003/', 'https://bol.com/nl/p/motorola-moto-e6-play-32gb-steel-black/9200000122803221/', 'https://bol.com/nl/p/samsung-galaxy-a51-128gb-blauw/9200000127101588/', 'https://bol.com/nl/p/samsung-galaxy-a12-128gb-zwart/9300000019419396/', 'https://bol.com/nl/p/samsung-galaxy-s20-fe-4g-128gb-cloud-navy/9300000008841647/', 'https://bol.com/nl/p/apple-iphone-11-64gb-zwart/9200000119815601/', 'https://bol.com/nl/p/samsung-galaxy-a21s-32gb-blauw/9300000000132994/', 'https://bol.com/nl/p/samsung-galaxy-a42-5g-128gb-prism-dot-black/9300000010098436/', 'https://bol.com/nl/p/apple-iphone-12-pro-128gb-oceaan-blauw/9300000013742251/', 'https://bol.com/nl/p/samsung-galaxy-a01-core-16gb-zwart/9300000007420502/', 'https://bol.com/nl/p/samsung-galaxy-a10-32gb-zwart/9200000111950985/', 'https://bol.com/nl/p/samsung-galaxy-a21s-128gb-zwart/9300000015820720/', 'https://bol.com/nl/p/apple-iphone-xr-64gb-zwart/9200000098453451/', 'https://bol.com/nl/p/samsung-galaxy-a40-64gb-zwart/9200000107463262/', 'https://bol.com/nl/p/samsung-galaxy-a12-64gb-zwart/9300000020208465/', 'https://bol.com/nl/p/samsung-galaxy-a51-128gb-wit/9200000127101721/''https://bol.com/nl/p/samsung-galaxy-a20e-dual-sim-32gb-blauw/9300000002133409/', 'https://bol.com/nl/p/samsung-galaxy-s10e-128gb-prism-zwart/9200000106450648/', 'https://bol.com/nl/p/apple-iphone-11-128gb-zwart/9200000119816199/', 'https://bol.com/nl/p/samsung-galaxy-s21-5g-128gb-phantom-gray/9300000020732481/', 'https://bol.com/nl/p/apple-iphone-12-mini-64gb-zwart/9300000013742257/', 'https://bol.com/nl/p/samsung-galaxy-a50-128gb-zwart/9200000106883561/', 'https://bol.com/nl/p/motorola-moto-g8-power-lite-blauw/9200000127141343/', 'https://bol.com/nl/p/huawei-p30-lite-128gb-midnight-zwart/9200000107750278/', 'https://bol.com/nl/p/samsung-galaxy-a10-32gb-blauw/9200000111950979/', 'https://bol.com/nl/p/samsung-galaxy-xcover-4s-32gb-zwart/9200000111950981/', 'https://bol.com/nl/p/apple-iphone-se-128gb-zwart/9300000000886601/', 'https://bol.com/nl/p/oneplus-nord-n100-64gb-grijs/9300000017872622/', 'https://bol.com/nl/p/motorola-moto-g9-power-128gb-groen/9300000012375717/', 'https://bol.com/nl/p/samsung-galaxy-a32-5g-128gb-awesome-black/9300000022106004/', 'https://bol.com/nl/p/huawei-p30-lite-new-edition-256gb-midnight-black/9200000126132549/', 'https://bol.com/nl/p/oppo-a72-128gb-zwart/9300000002779754/', 'https://bol.com/nl/p/samsung-galaxy-a10s-32gb-zwart/9200000121265417/', 'https://bol.com/nl/p/samsung-galaxy-s20-5g-128gb-cosmic-grey/9200000128429194/', 'https://bol.com/nl/p/apple-iphone-x-refurbished-door-forza-c-grade-64gb-spacegrijs/9200000101335076/', 'https://bol.com/nl/p/apple-iphone-12-pro-max-256gb-grafiet/9300000013742208/', 'https://bol.com/nl/p/alcatel-1se-32gb-grijs/9300000001580712/', 'https://bol.com/nl/p/nokia-5-4-64gb-blauw/9300000021882472/', 'https://bol.com/nl/p/samsung-galaxy-a02s-32gb-zwart/9300000020547718/''https://bol.com/nl/p/samsung-galaxy-a51-128gb-zwart/9200000127101717/', 'https://bol.com/nl/p/samsung-galaxy-a20e-32gb-zwart/9200000109073236/', 'https://bol.com/nl/p/samsung-galaxy-a41-64gb-zwart/9300000000132992/', 'https://bol.com/nl/p/apple-iphone-se-64gb-zwart/9300000000886605/', 'https://bol.com/nl/p/samsung-galaxy-a21s-64gb-zwart/9300000000132986/', 'https://bol.com/nl/p/apple-iphone-12-64gb-zwart/9300000013742278/', 'https://bol.com/nl/p/alcatel-1c-3g-8gb-zwart/9200000112629003/', 'https://bol.com/nl/p/motorola-moto-e6-play-32gb-steel-black/9200000122803221/', 'https://bol.com/nl/p/samsung-galaxy-a51-128gb-blauw/9200000127101588/', 'https://bol.com/nl/p/samsung-galaxy-a12-128gb-zwart/9300000019419396/', 'https://bol.com/nl/p/samsung-galaxy-s20-fe-4g-128gb-cloud-navy/9300000008841647/', 'https://bol.com/nl/p/apple-iphone-11-64gb-zwart/9200000119815601/', 'https://bol.com/nl/p/samsung-galaxy-a21s-32gb-blauw/9300000000132994/', 'https://bol.com/nl/p/samsung-galaxy-a42-5g-128gb-prism-dot-black/9300000010098436/', 'https://bol.com/nl/p/apple-iphone-12-pro-128gb-oceaan-blauw/9300000013742251/', 'https://bol.com/nl/p/samsung-galaxy-a01-core-16gb-zwart/9300000007420502/', 'https://bol.com/nl/p/samsung-galaxy-a10-32gb-zwart/9200000111950985/', 'https://bol.com/nl/p/samsung-galaxy-a21s-128gb-zwart/9300000015820720/', 'https://bol.com/nl/p/apple-iphone-xr-64gb-zwart/9200000098453451/', 'https://bol.com/nl/p/samsung-galaxy-a40-64gb-zwart/9200000107463262/', 'https://bol.com/nl/p/samsung-galaxy-a12-64gb-zwart/9300000020208465/', 'https://bol.com/nl/p/samsung-galaxy-a51-128gb-wit/9200000127101721/''https://bol.com/nl/p/samsung-galaxy-a20e-dual-sim-32gb-blauw/9300000002133409/', 'https://bol.com/nl/p/samsung-galaxy-s10e-128gb-prism-zwart/9200000106450648/', 'https://bol.com/nl/p/apple-iphone-11-128gb-zwart/9200000119816199/', 'https://bol.com/nl/p/samsung-galaxy-s21-5g-128gb-phantom-gray/9300000020732481/', 'https://bol.com/nl/p/apple-iphone-12-mini-64gb-zwart/9300000013742257/', 'https://bol.com/nl/p/samsung-galaxy-a50-128gb-zwart/9200000106883561/', 'https://bol.com/nl/p/motorola-moto-g8-power-lite-blauw/9200000127141343/', 'https://bol.com/nl/p/huawei-p30-lite-128gb-midnight-zwart/9200000107750278/', 'https://bol.com/nl/p/samsung-galaxy-a10-32gb-blauw/9200000111950979/', 'https://bol.com/nl/p/samsung-galaxy-xcover-4s-32gb-zwart/9200000111950981/', 'https://bol.com/nl/p/apple-iphone-se-128gb-zwart/9300000000886601/', 'https://bol.com/nl/p/oneplus-nord-n100-64gb-grijs/9300000017872622/', 'https://bol.com/nl/p/motorola-moto-g9-power-128gb-groen/9300000012375717/', 'https://bol.com/nl/p/samsung-galaxy-a32-5g-128gb-awesome-black/9300000022106004/', 'https://bol.com/nl/p/huawei-p30-lite-new-edition-256gb-midnight-black/9200000126132549/', 'https://bol.com/nl/p/oppo-a72-128gb-zwart/9300000002779754/', 'https://bol.com/nl/p/samsung-galaxy-a10s-32gb-zwart/9200000121265417/', 'https://bol.com/nl/p/samsung-galaxy-s20-5g-128gb-cosmic-grey/9200000128429194/', 'https://bol.com/nl/p/apple-iphone-x-refurbished-door-forza-c-grade-64gb-spacegrijs/9200000101335076/', 'https://bol.com/nl/p/apple-iphone-12-pro-max-256gb-grafiet/9300000013742208/', 'https://bol.com/nl/p/alcatel-1se-32gb-grijs/9300000001580712/', 'https://bol.com/nl/p/nokia-5-4-64gb-blauw/9300000021882472/', 'https://bol.com/nl/p/samsung-galaxy-a02s-32gb-zwart/9300000020547718/''https://bol.com/nl/p/samsung-galaxy-a51-128gb-zwart/9200000127101717/', 'https://bol.com/nl/p/samsung-galaxy-a20e-32gb-zwart/9200000109073236/', 'https://bol.com/nl/p/samsung-galaxy-a41-64gb-zwart/9300000000132992/', 'https://bol.com/nl/p/samsung-galaxy-a71-128gb-zwart/9200000127101810/', 'https://bol.com/nl/p/apple-iphone-se-64gb-zwart/9300000000886605/', 'https://bol.com/nl/p/apple-iphone-12-64gb-zwart/9300000013742278/', 'https://bol.com/nl/p/alcatel-1c-3g-8gb-zwart/9200000112629003/', 'https://bol.com/nl/p/motorola-moto-e6-play-32gb-steel-black/9200000122803221/', 'https://bol.com/nl/p/samsung-galaxy-a12-128gb-zwart/9300000019419396/', 'https://bol.com/nl/p/samsung-galaxy-s20-fe-4g-128gb-cloud-navy/9300000008841647/', 'https://bol.com/nl/p/samsung-galaxy-a21s-32gb-blauw/9300000000132994/', 'https://bol.com/nl/p/apple-iphone-11-64gb-zwart/9200000119815601/', 'https://bol.com/nl/p/samsung-galaxy-a42-5g-128gb-prism-dot-black/9300000010098436/', 'https://bol.com/nl/p/apple-iphone-12-pro-128gb-oceaan-blauw/9300000013742251/', 'https://bol.com/nl/p/samsung-galaxy-a01-core-16gb-zwart/9300000007420502/', 'https://bol.com/nl/p/samsung-galaxy-a10-32gb-zwart/9200000111950985/', 'https://bol.com/nl/p/samsung-galaxy-a21s-128gb-zwart/9300000015820720/', 'https://bol.com/nl/p/samsung-galaxy-a12-64gb-zwart/9300000020208465/', 'https://bol.com/nl/p/apple-iphone-xr-64gb-zwart/9200000098453451/', 'https://bol.com/nl/p/samsung-galaxy-a40-64gb-zwart/9200000107463262/''https://bol.com/nl/p/samsung-galaxy-s10e-128gb-prism-zwart/9200000106450648/', 'https://bol.com/nl/p/samsung-galaxy-s21-5g-128gb-phantom-gray/9300000020732481/', 'https://bol.com/nl/p/apple-iphone-12-mini-64gb-zwart/9300000013742257/', 'https://bol.com/nl/p/apple-iphone-11-128gb-zwart/9200000119816199/', 'https://bol.com/nl/p/huawei-p30-lite-128gb-midnight-zwart/9200000107750278/', 'https://bol.com/nl/p/samsung-galaxy-a50-128gb-zwart/9200000106883561/', 'https://bol.com/nl/p/motorola-moto-g8-power-lite-blauw/9200000127141343/', 'https://bol.com/nl/p/samsung-galaxy-a10-32gb-blauw/9200000111950979/', 'https://bol.com/nl/p/samsung-galaxy-xcover-4s-32gb-zwart/9200000111950981/', 'https://bol.com/nl/p/apple-iphone-se-128gb-zwart/9300000000886601/', 'https://bol.com/nl/p/motorola-moto-g9-power-128gb-groen/9300000012375717/', 'https://bol.com/nl/p/samsung-galaxy-a32-5g-128gb-awesome-black/9300000022106004/', 'https://bol.com/nl/p/huawei-p30-lite-new-edition-256gb-midnight-black/9200000126132549/', 'https://bol.com/nl/p/oppo-a72-128gb-zwart/9300000002779754/', 'https://bol.com/nl/p/alcatel-1se-32gb-grijs/9300000001580712/', 'https://bol.com/nl/p/samsung-galaxy-a10s-32gb-zwart/9200000121265417/', 'https://bol.com/nl/p/apple-iphone-12-pro-max-256gb-grafiet/9300000013742208/', 'https://bol.com/nl/p/apple-iphone-x-refurbished-door-forza-c-grade-64gb-spacegrijs/9200000101335076/', 'https://bol.com/nl/p/oneplus-nord-n100-64gb-grijs/9300000017872622/', 'https://bol.com/nl/p/samsung-galaxy-a21s-64gb-wit/9300000000132987/', 'https://bol.com/nl/p/samsung-galaxy-s20-5g-128gb-cosmic-grey/9200000128429194/', 'https://bol.com/nl/p/samsung-galaxy-a71-128gb-blauw/9200000127101719/', 'https://bol.com/nl/p/samsung-galaxy-a02s-32gb-zwart/9300000020547718/', 'https://bol.com/nl/p/nokia-5-4-64gb-blauw/9300000021882472/'['https://bol.com/nl/p/samsung-galaxy-a51-128gb-zwart/9200000127101717/', 'https://bol.com/nl/p/samsung-galaxy-a20e-32gb-zwart/9200000109073236/', 'https://bol.com/nl/p/samsung-galaxy-a41-64gb-zwart/9300000000132992/', 'https://bol.com/nl/p/samsung-galaxy-a71-128gb-zwart/9200000127101810/', 'https://bol.com/nl/p/apple-iphone-se-64gb-zwart/9300000000886605/', 'https://bol.com/nl/p/apple-iphone-12-64gb-zwart/9300000013742278/', 'https://bol.com/nl/p/alcatel-1c-3g-8gb-zwart/9200000112629003/', 'https://bol.com/nl/p/motorola-moto-e6-play-32gb-steel-black/9200000122803221/', 'https://bol.com/nl/p/samsung-galaxy-a12-128gb-zwart/9300000019419396/', 'https://bol.com/nl/p/samsung-galaxy-s20-fe-4g-128gb-cloud-navy/9300000008841647/', 'https://bol.com/nl/p/samsung-galaxy-a21s-32gb-blauw/9300000000132994/', 'https://bol.com/nl/p/apple-iphone-11-64gb-zwart/9200000119815601/', 'https://bol.com/nl/p/samsung-galaxy-a42-5g-128gb-prism-dot-black/9300000010098436/', 'https://bol.com/nl/p/apple-iphone-12-pro-128gb-oceaan-blauw/9300000013742251/', 'https://bol.com/nl/p/samsung-galaxy-a01-core-16gb-zwart/9300000007420502/', 'https://bol.com/nl/p/samsung-galaxy-a10-32gb-zwart/9200000111950985/', 'https://bol.com/nl/p/samsung-galaxy-a21s-128gb-zwart/9300000015820720/', 'https://bol.com/nl/p/samsung-galaxy-a12-64gb-zwart/9300000020208465/', 'https://bol.com/nl/p/apple-iphone-xr-64gb-zwart/9200000098453451/', 'https://bol.com/nl/p/samsung-galaxy-a40-64gb-zwart/9200000107463262/']['https://bol.com/nl/p/samsung-galaxy-s10e-128gb-prism-zwart/9200000106450648/', 'https://bol.com/nl/p/samsung-galaxy-s21-5g-128gb-phantom-gray/9300000020732481/', 'https://bol.com/nl/p/apple-iphone-12-mini-64gb-zwart/9300000013742257/', 'https://bol.com/nl/p/apple-iphone-11-128gb-zwart/9200000119816199/', 'https://bol.com/nl/p/huawei-p30-lite-128gb-midnight-zwart/9200000107750278/', 'https://bol.com/nl/p/samsung-galaxy-a50-128gb-zwart/9200000106883561/', 'https://bol.com/nl/p/motorola-moto-g8-power-lite-blauw/9200000127141343/', 'https://bol.com/nl/p/samsung-galaxy-a10-32gb-blauw/9200000111950979/', 'https://bol.com/nl/p/samsung-galaxy-xcover-4s-32gb-zwart/9200000111950981/', 'https://bol.com/nl/p/apple-iphone-se-128gb-zwart/9300000000886601/', 'https://bol.com/nl/p/motorola-moto-g9-power-128gb-groen/9300000012375717/', 'https://bol.com/nl/p/samsung-galaxy-a32-5g-128gb-awesome-black/9300000022106004/', 'https://bol.com/nl/p/huawei-p30-lite-new-edition-256gb-midnight-black/9200000126132549/', 'https://bol.com/nl/p/oppo-a72-128gb-zwart/9300000002779754/', 'https://bol.com/nl/p/alcatel-1se-32gb-grijs/9300000001580712/', 'https://bol.com/nl/p/samsung-galaxy-a10s-32gb-zwart/9200000121265417/', 'https://bol.com/nl/p/apple-iphone-12-pro-max-256gb-grafiet/9300000013742208/', 'https://bol.com/nl/p/apple-iphone-x-refurbished-door-forza-c-grade-64gb-spacegrijs/9200000101335076/', 'https://bol.com/nl/p/oneplus-nord-n100-64gb-grijs/9300000017872622/', 'https://bol.com/nl/p/samsung-galaxy-a21s-64gb-wit/9300000000132987/', 'https://bol.com/nl/p/samsung-galaxy-s20-5g-128gb-cosmic-grey/9200000128429194/', 'https://bol.com/nl/p/samsung-galaxy-a71-128gb-blauw/9200000127101719/', 'https://bol.com/nl/p/samsung-galaxy-a02s-32gb-zwart/9300000020547718/', 'https://bol.com/nl/p/nokia-5-4-64gb-blauw/9300000021882472/']['https://bol.com/nl/p/samsung-galaxy-a51-128gb-zwart/9200000127101717/', 'https://bol.com/nl/p/samsung-galaxy-a20e-32gb-zwart/9200000109073236/', 'https://bol.com/nl/p/samsung-galaxy-a41-64gb-zwart/9300000000132992/', 'https://bol.com/nl/p/samsung-galaxy-a71-128gb-zwart/9200000127101810/', 'https://bol.com/nl/p/apple-iphone-se-64gb-zwart/9300000000886605/', 'https://bol.com/nl/p/samsung-galaxy-a21s-64gb-zwart/9300000000132986/', 'https://bol.com/nl/p/apple-iphone-12-64gb-zwart/9300000013742278/', 'https://bol.com/nl/p/alcatel-1c-3g-8gb-zwart/9200000112629003/', 'https://bol.com/nl/p/motorola-moto-e6-play-32gb-steel-black/9200000122803221/', 'https://bol.com/nl/p/samsung-galaxy-a12-128gb-zwart/9300000019419396/', 'https://bol.com/nl/p/samsung-galaxy-a21s-32gb-blauw/9300000000132994/', 'https://bol.com/nl/p/apple-iphone-11-64gb-zwart/9200000119815601/', 'https://bol.com/nl/p/samsung-galaxy-s20-fe-4g-128gb-cloud-navy/9300000008841647/', 'https://bol.com/nl/p/samsung-galaxy-a42-5g-128gb-prism-dot-black/9300000010098436/', 'https://bol.com/nl/p/apple-iphone-12-pro-128gb-oceaan-blauw/9300000013742251/', 'https://bol.com/nl/p/samsung-galaxy-a01-core-16gb-zwart/9300000007420502/', 'https://bol.com/nl/p/samsung-galaxy-a10-32gb-zwart/9200000111950985/', 'https://bol.com/nl/p/samsung-galaxy-a21s-128gb-zwart/9300000015820720/', 'https://bol.com/nl/p/samsung-galaxy-a12-64gb-zwart/9300000020208465/', 'https://bol.com/nl/p/apple-iphone-xr-64gb-zwart/9200000098453451/', 'https://bol.com/nl/p/samsung-galaxy-a40-64gb-zwart/9200000107463262/']['https://bol.com/nl/p/samsung-galaxy-a51-128gb-wit/9200000127101721/', 'https://bol.com/nl/p/samsung-galaxy-s10e-128gb-prism-zwart/9200000106450648/', 'https://bol.com/nl/p/apple-iphone-12-mini-64gb-zwart/9300000013742257/', 'https://bol.com/nl/p/apple-iphone-11-128gb-zwart/9200000119816199/', 'https://bol.com/nl/p/samsung-galaxy-s21-5g-128gb-phantom-gray/9300000020732481/', 'https://bol.com/nl/p/samsung-galaxy-a50-128gb-zwart/9200000106883561/', 'https://bol.com/nl/p/samsung-galaxy-a10-32gb-blauw/9200000111950979/', 'https://bol.com/nl/p/huawei-p30-lite-128gb-midnight-zwart/9200000107750278/', 'https://bol.com/nl/p/apple-iphone-se-128gb-zwart/9300000000886601/', 'https://bol.com/nl/p/samsung-galaxy-a32-5g-128gb-awesome-black/9300000022106004/', 'https://bol.com/nl/p/samsung-galaxy-xcover-4s-32gb-zwart/9200000111950981/', 'https://bol.com/nl/p/huawei-p30-lite-new-edition-256gb-midnight-black/9200000126132549/', 'https://bol.com/nl/p/oppo-a72-128gb-zwart/9300000002779754/', 'https://bol.com/nl/p/alcatel-1se-32gb-grijs/9300000001580712/', 'https://bol.com/nl/p/samsung-galaxy-a10s-32gb-zwart/9200000121265417/', 'https://bol.com/nl/p/apple-iphone-12-pro-max-256gb-grafiet/9300000013742208/', 'https://bol.com/nl/p/apple-iphone-x-refurbished-door-forza-c-grade-64gb-spacegrijs/9200000101335076/', 'https://bol.com/nl/p/oneplus-nord-n100-64gb-grijs/9300000017872622/', 'https://bol.com/nl/p/samsung-galaxy-a21s-64gb-wit/9300000000132987/', 'https://bol.com/nl/p/samsung-galaxy-s20-5g-128gb-cosmic-grey/9200000128429194/', 'https://bol.com/nl/p/motorola-moto-g9-power-128gb-groen/9300000012375717/', 'https://bol.com/nl/p/samsung-galaxy-a71-128gb-blauw/9200000127101719/', 'https://bol.com/nl/p/samsung-galaxy-a02s-32gb-zwart/9300000020547718/', 'https://bol.com/nl/p/samsung-galaxy-m21-power-64gb-zwart/9300000000133004/']['https://bol.com/nl/p/samsung-galaxy-a51-128gb-zwart/9200000127101717/', 'https://bol.com/nl/p/samsung-galaxy-a20e-32gb-zwart/9200000109073236/', 'https://bol.com/nl/p/samsung-galaxy-a41-64gb-zwart/9300000000132992/', 'https://bol.com/nl/p/samsung-galaxy-a71-128gb-zwart/9200000127101810/', 'https://bol.com/nl/p/apple-iphone-se-64gb-zwart/9300000000886605/', 'https://bol.com/nl/p/samsung-galaxy-a21s-64gb-zwart/9300000000132986/', 'https://bol.com/nl/p/apple-iphone-12-64gb-zwart/9300000013742278/', 'https://bol.com/nl/p/alcatel-1c-3g-8gb-zwart/9200000112629003/', 'https://bol.com/nl/p/motorola-moto-e6-play-32gb-steel-black/9200000122803221/', 'https://bol.com/nl/p/samsung-galaxy-a12-128gb-zwart/9300000019419396/', 'https://bol.com/nl/p/samsung-galaxy-a21s-32gb-blauw/9300000000132994/', 'https://bol.com/nl/p/apple-iphone-11-64gb-zwart/9200000119815601/', 'https://bol.com/nl/p/samsung-galaxy-s20-fe-4g-128gb-cloud-navy/9300000008841647/', 'https://bol.com/nl/p/samsung-galaxy-a42-5g-128gb-prism-dot-black/9300000010098436/', 'https://bol.com/nl/p/apple-iphone-12-pro-128gb-oceaan-blauw/9300000013742251/', 'https://bol.com/nl/p/samsung-galaxy-a01-core-16gb-zwart/9300000007420502/', 'https://bol.com/nl/p/samsung-galaxy-a10-32gb-zwart/9200000111950985/', 'https://bol.com/nl/p/samsung-galaxy-a21s-128gb-zwart/9300000015820720/', 'https://bol.com/nl/p/samsung-galaxy-a12-64gb-zwart/9300000020208465/', 'https://bol.com/nl/p/apple-iphone-xr-64gb-zwart/9200000098453451/', 'https://bol.com/nl/p/samsung-galaxy-a40-64gb-zwart/9200000107463262/']['https://bol.com/nl/p/samsung-galaxy-a51-128gb-wit/9200000127101721/', 'https://bol.com/nl/p/samsung-galaxy-s10e-128gb-prism-zwart/9200000106450648/', 'https://bol.com/nl/p/apple-iphone-12-mini-64gb-zwart/9300000013742257/', 'https://bol.com/nl/p/apple-iphone-11-128gb-zwart/9200000119816199/', 'https://bol.com/nl/p/samsung-galaxy-s21-5g-128gb-phantom-gray/9300000020732481/', 'https://bol.com/nl/p/samsung-galaxy-a50-128gb-zwart/9200000106883561/', 'https://bol.com/nl/p/samsung-galaxy-a10-32gb-blauw/9200000111950979/', 'https://bol.com/nl/p/huawei-p30-lite-128gb-midnight-zwart/9200000107750278/', 'https://bol.com/nl/p/apple-iphone-se-128gb-zwart/9300000000886601/', 'https://bol.com/nl/p/samsung-galaxy-a32-5g-128gb-awesome-black/9300000022106004/', 'https://bol.com/nl/p/samsung-galaxy-xcover-4s-32gb-zwart/9200000111950981/', 'https://bol.com/nl/p/huawei-p30-lite-new-edition-256gb-midnight-black/9200000126132549/', 'https://bol.com/nl/p/oppo-a72-128gb-zwart/9300000002779754/', 'https://bol.com/nl/p/alcatel-1se-32gb-grijs/9300000001580712/', 'https://bol.com/nl/p/samsung-galaxy-a10s-32gb-zwart/9200000121265417/', 'https://bol.com/nl/p/apple-iphone-12-pro-max-256gb-grafiet/9300000013742208/', 'https://bol.com/nl/p/apple-iphone-x-refurbished-door-forza-c-grade-64gb-spacegrijs/9200000101335076/', 'https://bol.com/nl/p/oneplus-nord-n100-64gb-grijs/9300000017872622/', 'https://bol.com/nl/p/samsung-galaxy-a21s-64gb-wit/9300000000132987/', 'https://bol.com/nl/p/samsung-galaxy-s20-5g-128gb-cosmic-grey/9200000128429194/', 'https://bol.com/nl/p/motorola-moto-g9-power-128gb-groen/9300000012375717/', 'https://bol.com/nl/p/samsung-galaxy-a71-128gb-blauw/9200000127101719/', 'https://bol.com/nl/p/samsung-galaxy-a02s-32gb-zwart/9300000020547718/', 'https://bol.com/nl/p/samsung-galaxy-m21-power-64gb-zwart/9300000000133004/']['https://bol.com/nl/p/samsung-galaxy-a51-128gb-zwart/9200000127101717/', 'https://bol.com/nl/p/samsung-galaxy-a20e-32gb-zwart/9200000109073236/', 'https://bol.com/nl/p/samsung-galaxy-a41-64gb-zwart/9300000000132992/', 'https://bol.com/nl/p/samsung-galaxy-a71-128gb-zwart/9200000127101810/', 'https://bol.com/nl/p/apple-iphone-se-64gb-zwart/9300000000886605/', 'https://bol.com/nl/p/samsung-galaxy-a21s-64gb-zwart/9300000000132986/', 'https://bol.com/nl/p/apple-iphone-12-64gb-zwart/9300000013742278/', 'https://bol.com/nl/p/alcatel-1c-3g-8gb-zwart/9200000112629003/', 'https://bol.com/nl/p/motorola-moto-e6-play-32gb-steel-black/9200000122803221/', 'https://bol.com/nl/p/samsung-galaxy-a12-128gb-zwart/9300000019419396/', 'https://bol.com/nl/p/samsung-galaxy-a21s-32gb-blauw/9300000000132994/', 'https://bol.com/nl/p/apple-iphone-11-64gb-zwart/9200000119815601/', 'https://bol.com/nl/p/samsung-galaxy-s20-fe-4g-128gb-cloud-navy/9300000008841647/', 'https://bol.com/nl/p/samsung-galaxy-a42-5g-128gb-prism-dot-black/9300000010098436/', 'https://bol.com/nl/p/apple-iphone-12-pro-128gb-oceaan-blauw/9300000013742251/', 'https://bol.com/nl/p/samsung-galaxy-a01-core-16gb-zwart/9300000007420502/', 'https://bol.com/nl/p/samsung-galaxy-a10-32gb-zwart/9200000111950985/', 'https://bol.com/nl/p/samsung-galaxy-a21s-128gb-zwart/9300000015820720/', 'https://bol.com/nl/p/samsung-galaxy-a12-64gb-zwart/9300000020208465/', 'https://bol.com/nl/p/apple-iphone-xr-64gb-zwart/9200000098453451/', 'https://bol.com/nl/p/samsung-galaxy-a40-64gb-zwart/9200000107463262/']['https://bol.com/nl/p/samsung-galaxy-a51-128gb-wit/9200000127101721/', 'https://bol.com/nl/p/samsung-galaxy-s10e-128gb-prism-zwart/9200000106450648/', 'https://bol.com/nl/p/apple-iphone-12-mini-64gb-zwart/9300000013742257/', 'https://bol.com/nl/p/apple-iphone-11-128gb-zwart/9200000119816199/', 'https://bol.com/nl/p/samsung-galaxy-s21-5g-128gb-phantom-gray/9300000020732481/', 'https://bol.com/nl/p/samsung-galaxy-a50-128gb-zwart/9200000106883561/', 'https://bol.com/nl/p/samsung-galaxy-a10-32gb-blauw/9200000111950979/', 'https://bol.com/nl/p/huawei-p30-lite-128gb-midnight-zwart/9200000107750278/', 'https://bol.com/nl/p/apple-iphone-se-128gb-zwart/9300000000886601/', 'https://bol.com/nl/p/samsung-galaxy-a32-5g-128gb-awesome-black/9300000022106004/', 'https://bol.com/nl/p/samsung-galaxy-xcover-4s-32gb-zwart/9200000111950981/', 'https://bol.com/nl/p/huawei-p30-lite-new-edition-256gb-midnight-black/9200000126132549/', 'https://bol.com/nl/p/oppo-a72-128gb-zwart/9300000002779754/', 'https://bol.com/nl/p/alcatel-1se-32gb-grijs/9300000001580712/', 'https://bol.com/nl/p/samsung-galaxy-a10s-32gb-zwart/9200000121265417/', 'https://bol.com/nl/p/apple-iphone-12-pro-max-256gb-grafiet/9300000013742208/', 'https://bol.com/nl/p/apple-iphone-x-refurbished-door-forza-c-grade-64gb-spacegrijs/9200000101335076/', 'https://bol.com/nl/p/oneplus-nord-n100-64gb-grijs/9300000017872622/', 'https://bol.com/nl/p/samsung-galaxy-a21s-64gb-wit/9300000000132987/', 'https://bol.com/nl/p/samsung-galaxy-s20-5g-128gb-cosmic-grey/9200000128429194/', 'https://bol.com/nl/p/motorola-moto-g9-power-128gb-groen/9300000012375717/', 'https://bol.com/nl/p/samsung-galaxy-a71-128gb-blauw/9200000127101719/', 'https://bol.com/nl/p/samsung-galaxy-a02s-32gb-zwart/9300000020547718/', 'https://bol.com/nl/p/samsung-galaxy-m21-power-64gb-zwart/9300000000133004/']\"]\n"
     ]
    }
   ],
   "source": [
    "print(lines)"
   ]
  },
  {
   "cell_type": "code",
   "execution_count": 13,
   "metadata": {},
   "outputs": [
    {
     "name": "stdout",
     "output_type": "stream",
     "text": [
      "[\"'https://bol.com/nl/p/samsung-galaxy-a51-128gb-zwart/9200000127101717/',\", \"'https://bol.com/nl/p/samsung-galaxy-a20e-32gb-zwart/9200000109073236/',\", \"'https://bol.com/nl/p/samsung-galaxy-a41-64gb-zwart/9300000000132992/',\", \"'https://bol.com/nl/p/samsung-galaxy-a71-128gb-zwart/9200000127101810/',\", \"'https://bol.com/nl/p/apple-iphone-se-64gb-zwart/9300000000886605/',\", \"'https://bol.com/nl/p/samsung-galaxy-a21s-64gb-zwart/9300000000132986/',\", \"'https://bol.com/nl/p/apple-iphone-12-64gb-zwart/9300000013742278/',\", \"'https://bol.com/nl/p/alcatel-1c-3g-8gb-zwart/9200000112629003/',\", \"'https://bol.com/nl/p/motorola-moto-e6-play-32gb-steel-black/9200000122803221/',\", \"'https://bol.com/nl/p/samsung-galaxy-a51-128gb-blauw/9200000127101588/',\", \"'https://bol.com/nl/p/samsung-galaxy-s20-fe-4g-128gb-cloud-navy/9300000008841647/',\", \"'https://bol.com/nl/p/apple-iphone-11-64gb-zwart/9200000119815601/',\", \"'https://bol.com/nl/p/samsung-galaxy-a12-128gb-zwart/9300000019419396/',\", \"'https://bol.com/nl/p/samsung-galaxy-a21s-32gb-blauw/9300000000132994/',\", \"'https://bol.com/nl/p/samsung-galaxy-a42-5g-128gb-prism-dot-black/9300000010098436/',\", \"'https://bol.com/nl/p/apple-iphone-12-pro-128gb-oceaan-blauw/9300000013742251/',\", \"'https://bol.com/nl/p/samsung-galaxy-a01-core-16gb-zwart/9300000007420502/',\", \"'https://bol.com/nl/p/samsung-galaxy-a10-32gb-zwart/9200000111950985/',\", \"'https://bol.com/nl/p/samsung-galaxy-a21s-128gb-zwart/9300000015820720/',\", \"'https://bol.com/nl/p/apple-iphone-xr-64gb-zwart/9200000098453451/',\", \"'https://bol.com/nl/p/samsung-galaxy-a40-64gb-zwart/9200000107463262/',\", \"'https://bol.com/nl/p/samsung-galaxy-a12-64gb-zwart/9300000020208465/',\", \"'https://bol.com/nl/p/samsung-galaxy-a51-128gb-wit/9200000127101721/''https://bol.com/nl/p/samsung-galaxy-a20e-dual-sim-32gb-blauw/9300000002133409/',\", \"'https://bol.com/nl/p/samsung-galaxy-s10e-128gb-prism-zwart/9200000106450648/',\", \"'https://bol.com/nl/p/apple-iphone-11-128gb-zwart/9200000119816199/',\", \"'https://bol.com/nl/p/samsung-galaxy-s21-5g-128gb-phantom-gray/9300000020732481/',\", \"'https://bol.com/nl/p/apple-iphone-12-mini-64gb-zwart/9300000013742257/',\", \"'https://bol.com/nl/p/samsung-galaxy-a50-128gb-zwart/9200000106883561/',\", \"'https://bol.com/nl/p/motorola-moto-g8-power-lite-blauw/9200000127141343/',\", \"'https://bol.com/nl/p/huawei-p30-lite-128gb-midnight-zwart/9200000107750278/',\", \"'https://bol.com/nl/p/samsung-galaxy-a10-32gb-blauw/9200000111950979/',\", \"'https://bol.com/nl/p/samsung-galaxy-xcover-4s-32gb-zwart/9200000111950981/',\", \"'https://bol.com/nl/p/apple-iphone-se-128gb-zwart/9300000000886601/',\", \"'https://bol.com/nl/p/oneplus-nord-n100-64gb-grijs/9300000017872622/',\", \"'https://bol.com/nl/p/motorola-moto-g9-power-128gb-groen/9300000012375717/',\", \"'https://bol.com/nl/p/samsung-galaxy-a32-5g-128gb-awesome-black/9300000022106004/',\", \"'https://bol.com/nl/p/huawei-p30-lite-new-edition-256gb-midnight-black/9200000126132549/',\", \"'https://bol.com/nl/p/oppo-a72-128gb-zwart/9300000002779754/',\", \"'https://bol.com/nl/p/samsung-galaxy-a10s-32gb-zwart/9200000121265417/',\", \"'https://bol.com/nl/p/samsung-galaxy-s20-5g-128gb-cosmic-grey/9200000128429194/',\", \"'https://bol.com/nl/p/apple-iphone-x-refurbished-door-forza-c-grade-64gb-spacegrijs/9200000101335076/',\", \"'https://bol.com/nl/p/apple-iphone-12-pro-max-256gb-grafiet/9300000013742208/',\", \"'https://bol.com/nl/p/alcatel-1se-32gb-grijs/9300000001580712/',\", \"'https://bol.com/nl/p/nokia-5-4-64gb-blauw/9300000021882472/',\", \"'https://bol.com/nl/p/samsung-galaxy-a02s-32gb-zwart/9300000020547718/'https://bol.com/nl/p/samsung-galaxy-a51-128gb-zwart/9200000127101717/',\", \"'https://bol.com/nl/p/samsung-galaxy-a20e-32gb-zwart/9200000109073236/',\", \"'https://bol.com/nl/p/samsung-galaxy-a41-64gb-zwart/9300000000132992/',\", \"'https://bol.com/nl/p/samsung-galaxy-a71-128gb-zwart/9200000127101810/',\", \"'https://bol.com/nl/p/apple-iphone-se-64gb-zwart/9300000000886605/',\", \"'https://bol.com/nl/p/samsung-galaxy-a21s-64gb-zwart/9300000000132986/',\", \"'https://bol.com/nl/p/apple-iphone-12-64gb-zwart/9300000013742278/',\", \"'https://bol.com/nl/p/alcatel-1c-3g-8gb-zwart/9200000112629003/',\", \"'https://bol.com/nl/p/motorola-moto-e6-play-32gb-steel-black/9200000122803221/',\", \"'https://bol.com/nl/p/samsung-galaxy-a51-128gb-blauw/9200000127101588/',\", \"'https://bol.com/nl/p/samsung-galaxy-s20-fe-4g-128gb-cloud-navy/9300000008841647/',\", \"'https://bol.com/nl/p/apple-iphone-11-64gb-zwart/9200000119815601/',\", \"'https://bol.com/nl/p/samsung-galaxy-a12-128gb-zwart/9300000019419396/',\", \"'https://bol.com/nl/p/samsung-galaxy-a21s-32gb-blauw/9300000000132994/',\", \"'https://bol.com/nl/p/samsung-galaxy-a42-5g-128gb-prism-dot-black/9300000010098436/',\", \"'https://bol.com/nl/p/apple-iphone-12-pro-128gb-oceaan-blauw/9300000013742251/',\", \"'https://bol.com/nl/p/samsung-galaxy-a01-core-16gb-zwart/9300000007420502/',\", \"'https://bol.com/nl/p/samsung-galaxy-a10-32gb-zwart/9200000111950985/',\", \"'https://bol.com/nl/p/samsung-galaxy-a21s-128gb-zwart/9300000015820720/',\", \"'https://bol.com/nl/p/apple-iphone-xr-64gb-zwart/9200000098453451/',\", \"'https://bol.com/nl/p/samsung-galaxy-a40-64gb-zwart/9200000107463262/',\", \"'https://bol.com/nl/p/samsung-galaxy-a12-64gb-zwart/9300000020208465/',\", \"'https://bol.com/nl/p/samsung-galaxy-a51-128gb-wit/9200000127101721/https://bol.com/nl/p/samsung-galaxy-a20e-dual-sim-32gb-blauw/9300000002133409/',\", \"'https://bol.com/nl/p/samsung-galaxy-s10e-128gb-prism-zwart/9200000106450648/',\", \"'https://bol.com/nl/p/apple-iphone-11-128gb-zwart/9200000119816199/',\", \"'https://bol.com/nl/p/samsung-galaxy-s21-5g-128gb-phantom-gray/9300000020732481/',\", \"'https://bol.com/nl/p/apple-iphone-12-mini-64gb-zwart/9300000013742257/',\", \"'https://bol.com/nl/p/samsung-galaxy-a50-128gb-zwart/9200000106883561/',\", \"'https://bol.com/nl/p/motorola-moto-g8-power-lite-blauw/9200000127141343/',\", \"'https://bol.com/nl/p/huawei-p30-lite-128gb-midnight-zwart/9200000107750278/',\", \"'https://bol.com/nl/p/samsung-galaxy-a10-32gb-blauw/9200000111950979/',\", \"'https://bol.com/nl/p/samsung-galaxy-xcover-4s-32gb-zwart/9200000111950981/',\", \"'https://bol.com/nl/p/apple-iphone-se-128gb-zwart/9300000000886601/',\", \"'https://bol.com/nl/p/oneplus-nord-n100-64gb-grijs/9300000017872622/',\", \"'https://bol.com/nl/p/motorola-moto-g9-power-128gb-groen/9300000012375717/',\", \"'https://bol.com/nl/p/samsung-galaxy-a32-5g-128gb-awesome-black/9300000022106004/',\", \"'https://bol.com/nl/p/huawei-p30-lite-new-edition-256gb-midnight-black/9200000126132549/',\", \"'https://bol.com/nl/p/oppo-a72-128gb-zwart/9300000002779754/',\", \"'https://bol.com/nl/p/samsung-galaxy-a10s-32gb-zwart/9200000121265417/',\", \"'https://bol.com/nl/p/samsung-galaxy-s20-5g-128gb-cosmic-grey/9200000128429194/',\", \"'https://bol.com/nl/p/apple-iphone-x-refurbished-door-forza-c-grade-64gb-spacegrijs/9200000101335076/',\", \"'https://bol.com/nl/p/apple-iphone-12-pro-max-256gb-grafiet/9300000013742208/',\", \"'https://bol.com/nl/p/alcatel-1se-32gb-grijs/9300000001580712/',\", \"'https://bol.com/nl/p/nokia-5-4-64gb-blauw/9300000021882472/',\", \"'https://bol.com/nl/p/samsung-galaxy-a02s-32gb-zwart/9300000020547718/'https://bol.com/nl/p/samsung-galaxy-a51-128gb-zwart/9200000127101717/',\", \"'https://bol.com/nl/p/samsung-galaxy-a20e-32gb-zwart/9200000109073236/',\", \"'https://bol.com/nl/p/samsung-galaxy-a41-64gb-zwart/9300000000132992/',\", \"'https://bol.com/nl/p/samsung-galaxy-a71-128gb-zwart/9200000127101810/',\", \"'https://bol.com/nl/p/apple-iphone-se-64gb-zwart/9300000000886605/',\", \"'https://bol.com/nl/p/samsung-galaxy-a21s-64gb-zwart/9300000000132986/',\", \"'https://bol.com/nl/p/apple-iphone-12-64gb-zwart/9300000013742278/',\", \"'https://bol.com/nl/p/alcatel-1c-3g-8gb-zwart/9200000112629003/',\", \"'https://bol.com/nl/p/motorola-moto-e6-play-32gb-steel-black/9200000122803221/',\", \"'https://bol.com/nl/p/samsung-galaxy-a51-128gb-blauw/9200000127101588/',\", \"'https://bol.com/nl/p/samsung-galaxy-s20-fe-4g-128gb-cloud-navy/9300000008841647/',\", \"'https://bol.com/nl/p/apple-iphone-11-64gb-zwart/9200000119815601/',\", \"'https://bol.com/nl/p/samsung-galaxy-a12-128gb-zwart/9300000019419396/',\", \"'https://bol.com/nl/p/samsung-galaxy-a21s-32gb-blauw/9300000000132994/',\", \"'https://bol.com/nl/p/samsung-galaxy-a42-5g-128gb-prism-dot-black/9300000010098436/',\", \"'https://bol.com/nl/p/apple-iphone-12-pro-128gb-oceaan-blauw/9300000013742251/',\", \"'https://bol.com/nl/p/samsung-galaxy-a01-core-16gb-zwart/9300000007420502/',\", \"'https://bol.com/nl/p/samsung-galaxy-a10-32gb-zwart/9200000111950985/',\", \"'https://bol.com/nl/p/samsung-galaxy-a21s-128gb-zwart/9300000015820720/',\", \"'https://bol.com/nl/p/apple-iphone-xr-64gb-zwart/9200000098453451/',\", \"'https://bol.com/nl/p/samsung-galaxy-a40-64gb-zwart/9200000107463262/',\", \"'https://bol.com/nl/p/samsung-galaxy-a12-64gb-zwart/9300000020208465/',\", \"'https://bol.com/nl/p/samsung-galaxy-a51-128gb-wit/9200000127101721/''https://bol.com/nl/p/samsung-galaxy-a20e-dual-sim-32gb-blauw/9300000002133409/',\", \"'https://bol.com/nl/p/samsung-galaxy-s10e-128gb-prism-zwart/9200000106450648/',\", \"'https://bol.com/nl/p/apple-iphone-11-128gb-zwart/9200000119816199/',\", \"'https://bol.com/nl/p/samsung-galaxy-s21-5g-128gb-phantom-gray/9300000020732481/',\", \"'https://bol.com/nl/p/apple-iphone-12-mini-64gb-zwart/9300000013742257/',\", \"'https://bol.com/nl/p/samsung-galaxy-a50-128gb-zwart/9200000106883561/',\", \"'https://bol.com/nl/p/motorola-moto-g8-power-lite-blauw/9200000127141343/',\", \"'https://bol.com/nl/p/huawei-p30-lite-128gb-midnight-zwart/9200000107750278/',\", \"'https://bol.com/nl/p/samsung-galaxy-a10-32gb-blauw/9200000111950979/',\", \"'https://bol.com/nl/p/samsung-galaxy-xcover-4s-32gb-zwart/9200000111950981/',\", \"'https://bol.com/nl/p/apple-iphone-se-128gb-zwart/9300000000886601/',\", \"'https://bol.com/nl/p/oneplus-nord-n100-64gb-grijs/9300000017872622/',\", \"'https://bol.com/nl/p/motorola-moto-g9-power-128gb-groen/9300000012375717/',\", \"'https://bol.com/nl/p/samsung-galaxy-a32-5g-128gb-awesome-black/9300000022106004/',\", \"'https://bol.com/nl/p/huawei-p30-lite-new-edition-256gb-midnight-black/9200000126132549/',\", \"'https://bol.com/nl/p/oppo-a72-128gb-zwart/9300000002779754/',\", \"'https://bol.com/nl/p/samsung-galaxy-a10s-32gb-zwart/9200000121265417/',\", \"'https://bol.com/nl/p/samsung-galaxy-s20-5g-128gb-cosmic-grey/9200000128429194/',\", \"'https://bol.com/nl/p/apple-iphone-x-refurbished-door-forza-c-grade-64gb-spacegrijs/9200000101335076/',\", \"'https://bol.com/nl/p/apple-iphone-12-pro-max-256gb-grafiet/9300000013742208/',\", \"'https://bol.com/nl/p/alcatel-1se-32gb-grijs/9300000001580712/',\", \"'https://bol.com/nl/p/nokia-5-4-64gb-blauw/9300000021882472/',\", \"'https://bol.com/nl/p/samsung-galaxy-a02s-32gb-zwart/9300000020547718/''https://bol.com/nl/p/samsung-galaxy-a51-128gb-zwart/9200000127101717/',\", \"'https://bol.com/nl/p/samsung-galaxy-a20e-32gb-zwart/9200000109073236/',\", \"'https://bol.com/nl/p/samsung-galaxy-a41-64gb-zwart/9300000000132992/',\", \"'https://bol.com/nl/p/samsung-galaxy-a71-128gb-zwart/9200000127101810/',\", \"'https://bol.com/nl/p/apple-iphone-se-64gb-zwart/9300000000886605/',\", \"'https://bol.com/nl/p/samsung-galaxy-a21s-64gb-zwart/9300000000132986/',\", \"'https://bol.com/nl/p/apple-iphone-12-64gb-zwart/9300000013742278/',\", \"'https://bol.com/nl/p/alcatel-1c-3g-8gb-zwart/9200000112629003/',\", \"'https://bol.com/nl/p/motorola-moto-e6-play-32gb-steel-black/9200000122803221/',\", \"'https://bol.com/nl/p/samsung-galaxy-a51-128gb-blauw/9200000127101588/',\", \"'https://bol.com/nl/p/samsung-galaxy-s20-fe-4g-128gb-cloud-navy/9300000008841647/',\", \"'https://bol.com/nl/p/apple-iphone-11-64gb-zwart/9200000119815601/',\", \"'https://bol.com/nl/p/samsung-galaxy-a12-128gb-zwart/9300000019419396/',\", \"'https://bol.com/nl/p/samsung-galaxy-a21s-32gb-blauw/9300000000132994/',\", \"'https://bol.com/nl/p/samsung-galaxy-a42-5g-128gb-prism-dot-black/9300000010098436/',\", \"'https://bol.com/nl/p/apple-iphone-12-pro-128gb-oceaan-blauw/9300000013742251/',\", \"'https://bol.com/nl/p/samsung-galaxy-a01-core-16gb-zwart/9300000007420502/',\", \"'https://bol.com/nl/p/samsung-galaxy-a10-32gb-zwart/9200000111950985/',\", \"'https://bol.com/nl/p/samsung-galaxy-a21s-128gb-zwart/9300000015820720/',\", \"'https://bol.com/nl/p/apple-iphone-xr-64gb-zwart/9200000098453451/',\", \"'https://bol.com/nl/p/samsung-galaxy-a40-64gb-zwart/9200000107463262/',\", \"'https://bol.com/nl/p/samsung-galaxy-a12-64gb-zwart/9300000020208465/',\", \"'https://bol.com/nl/p/samsung-galaxy-a51-128gb-wit/9200000127101721/''https://bol.com/nl/p/samsung-galaxy-a20e-dual-sim-32gb-blauw/9300000002133409/',\", \"'https://bol.com/nl/p/samsung-galaxy-s10e-128gb-prism-zwart/9200000106450648/',\", \"'https://bol.com/nl/p/apple-iphone-11-128gb-zwart/9200000119816199/',\", \"'https://bol.com/nl/p/samsung-galaxy-s21-5g-128gb-phantom-gray/9300000020732481/',\", \"'https://bol.com/nl/p/apple-iphone-12-mini-64gb-zwart/9300000013742257/',\", \"'https://bol.com/nl/p/samsung-galaxy-a50-128gb-zwart/9200000106883561/',\", \"'https://bol.com/nl/p/motorola-moto-g8-power-lite-blauw/9200000127141343/',\", \"'https://bol.com/nl/p/huawei-p30-lite-128gb-midnight-zwart/9200000107750278/',\", \"'https://bol.com/nl/p/samsung-galaxy-a10-32gb-blauw/9200000111950979/',\", \"'https://bol.com/nl/p/samsung-galaxy-xcover-4s-32gb-zwart/9200000111950981/',\", \"'https://bol.com/nl/p/apple-iphone-se-128gb-zwart/9300000000886601/',\", \"'https://bol.com/nl/p/oneplus-nord-n100-64gb-grijs/9300000017872622/',\", \"'https://bol.com/nl/p/motorola-moto-g9-power-128gb-groen/9300000012375717/',\", \"'https://bol.com/nl/p/samsung-galaxy-a32-5g-128gb-awesome-black/9300000022106004/',\", \"'https://bol.com/nl/p/huawei-p30-lite-new-edition-256gb-midnight-black/9200000126132549/',\", \"'https://bol.com/nl/p/oppo-a72-128gb-zwart/9300000002779754/',\", \"'https://bol.com/nl/p/samsung-galaxy-a10s-32gb-zwart/9200000121265417/',\", \"'https://bol.com/nl/p/samsung-galaxy-s20-5g-128gb-cosmic-grey/9200000128429194/',\", \"'https://bol.com/nl/p/apple-iphone-x-refurbished-door-forza-c-grade-64gb-spacegrijs/9200000101335076/',\", \"'https://bol.com/nl/p/apple-iphone-12-pro-max-256gb-grafiet/9300000013742208/',\", \"'https://bol.com/nl/p/alcatel-1se-32gb-grijs/9300000001580712/',\", \"'https://bol.com/nl/p/nokia-5-4-64gb-blauw/9300000021882472/',\", \"'https://bol.com/nl/p/samsung-galaxy-a02s-32gb-zwart/9300000020547718/''https://bol.com/nl/p/samsung-galaxy-a51-128gb-zwart/9200000127101717/',\", \"'https://bol.com/nl/p/samsung-galaxy-a20e-32gb-zwart/9200000109073236/',\", \"'https://bol.com/nl/p/samsung-galaxy-a41-64gb-zwart/9300000000132992/',\", \"'https://bol.com/nl/p/apple-iphone-se-64gb-zwart/9300000000886605/',\", \"'https://bol.com/nl/p/samsung-galaxy-a21s-64gb-zwart/9300000000132986/',\", \"'https://bol.com/nl/p/apple-iphone-12-64gb-zwart/9300000013742278/',\", \"'https://bol.com/nl/p/alcatel-1c-3g-8gb-zwart/9200000112629003/',\", \"'https://bol.com/nl/p/motorola-moto-e6-play-32gb-steel-black/9200000122803221/',\", \"'https://bol.com/nl/p/samsung-galaxy-a51-128gb-blauw/9200000127101588/',\", \"'https://bol.com/nl/p/samsung-galaxy-a12-128gb-zwart/9300000019419396/',\", \"'https://bol.com/nl/p/samsung-galaxy-s20-fe-4g-128gb-cloud-navy/9300000008841647/',\", \"'https://bol.com/nl/p/apple-iphone-11-64gb-zwart/9200000119815601/',\", \"'https://bol.com/nl/p/samsung-galaxy-a21s-32gb-blauw/9300000000132994/',\", \"'https://bol.com/nl/p/samsung-galaxy-a42-5g-128gb-prism-dot-black/9300000010098436/',\", \"'https://bol.com/nl/p/apple-iphone-12-pro-128gb-oceaan-blauw/9300000013742251/',\", \"'https://bol.com/nl/p/samsung-galaxy-a01-core-16gb-zwart/9300000007420502/',\", \"'https://bol.com/nl/p/samsung-galaxy-a10-32gb-zwart/9200000111950985/',\", \"'https://bol.com/nl/p/samsung-galaxy-a21s-128gb-zwart/9300000015820720/',\", \"'https://bol.com/nl/p/apple-iphone-xr-64gb-zwart/9200000098453451/',\", \"'https://bol.com/nl/p/samsung-galaxy-a40-64gb-zwart/9200000107463262/',\", \"'https://bol.com/nl/p/samsung-galaxy-a12-64gb-zwart/9300000020208465/',\", \"'https://bol.com/nl/p/samsung-galaxy-a51-128gb-wit/9200000127101721/''https://bol.com/nl/p/samsung-galaxy-a20e-dual-sim-32gb-blauw/9300000002133409/',\", \"'https://bol.com/nl/p/samsung-galaxy-s10e-128gb-prism-zwart/9200000106450648/',\", \"'https://bol.com/nl/p/apple-iphone-11-128gb-zwart/9200000119816199/',\", \"'https://bol.com/nl/p/samsung-galaxy-s21-5g-128gb-phantom-gray/9300000020732481/',\", \"'https://bol.com/nl/p/apple-iphone-12-mini-64gb-zwart/9300000013742257/',\", \"'https://bol.com/nl/p/samsung-galaxy-a50-128gb-zwart/9200000106883561/',\", \"'https://bol.com/nl/p/motorola-moto-g8-power-lite-blauw/9200000127141343/',\", \"'https://bol.com/nl/p/huawei-p30-lite-128gb-midnight-zwart/9200000107750278/',\", \"'https://bol.com/nl/p/samsung-galaxy-a10-32gb-blauw/9200000111950979/',\", \"'https://bol.com/nl/p/samsung-galaxy-xcover-4s-32gb-zwart/9200000111950981/',\", \"'https://bol.com/nl/p/apple-iphone-se-128gb-zwart/9300000000886601/',\", \"'https://bol.com/nl/p/oneplus-nord-n100-64gb-grijs/9300000017872622/',\", \"'https://bol.com/nl/p/motorola-moto-g9-power-128gb-groen/9300000012375717/',\", \"'https://bol.com/nl/p/samsung-galaxy-a32-5g-128gb-awesome-black/9300000022106004/',\", \"'https://bol.com/nl/p/huawei-p30-lite-new-edition-256gb-midnight-black/9200000126132549/',\", \"'https://bol.com/nl/p/oppo-a72-128gb-zwart/9300000002779754/',\", \"'https://bol.com/nl/p/samsung-galaxy-a10s-32gb-zwart/9200000121265417/',\", \"'https://bol.com/nl/p/samsung-galaxy-s20-5g-128gb-cosmic-grey/9200000128429194/',\", \"'https://bol.com/nl/p/apple-iphone-x-refurbished-door-forza-c-grade-64gb-spacegrijs/9200000101335076/',\", \"'https://bol.com/nl/p/apple-iphone-12-pro-max-256gb-grafiet/9300000013742208/',\", \"'https://bol.com/nl/p/alcatel-1se-32gb-grijs/9300000001580712/',\", \"'https://bol.com/nl/p/nokia-5-4-64gb-blauw/9300000021882472/',\", \"'https://bol.com/nl/p/samsung-galaxy-a02s-32gb-zwart/9300000020547718/''https://bol.com/nl/p/samsung-galaxy-a51-128gb-zwart/9200000127101717/',\", \"'https://bol.com/nl/p/samsung-galaxy-a20e-32gb-zwart/9200000109073236/',\", \"'https://bol.com/nl/p/samsung-galaxy-a41-64gb-zwart/9300000000132992/',\", \"'https://bol.com/nl/p/apple-iphone-se-64gb-zwart/9300000000886605/',\", \"'https://bol.com/nl/p/samsung-galaxy-a21s-64gb-zwart/9300000000132986/',\", \"'https://bol.com/nl/p/apple-iphone-12-64gb-zwart/9300000013742278/',\", \"'https://bol.com/nl/p/alcatel-1c-3g-8gb-zwart/9200000112629003/',\", \"'https://bol.com/nl/p/motorola-moto-e6-play-32gb-steel-black/9200000122803221/',\", \"'https://bol.com/nl/p/samsung-galaxy-a51-128gb-blauw/9200000127101588/',\", \"'https://bol.com/nl/p/samsung-galaxy-a12-128gb-zwart/9300000019419396/',\", \"'https://bol.com/nl/p/samsung-galaxy-s20-fe-4g-128gb-cloud-navy/9300000008841647/',\", \"'https://bol.com/nl/p/apple-iphone-11-64gb-zwart/9200000119815601/',\", \"'https://bol.com/nl/p/samsung-galaxy-a21s-32gb-blauw/9300000000132994/',\", \"'https://bol.com/nl/p/samsung-galaxy-a42-5g-128gb-prism-dot-black/9300000010098436/',\", \"'https://bol.com/nl/p/apple-iphone-12-pro-128gb-oceaan-blauw/9300000013742251/',\", \"'https://bol.com/nl/p/samsung-galaxy-a01-core-16gb-zwart/9300000007420502/',\", \"'https://bol.com/nl/p/samsung-galaxy-a10-32gb-zwart/9200000111950985/',\", \"'https://bol.com/nl/p/samsung-galaxy-a21s-128gb-zwart/9300000015820720/',\", \"'https://bol.com/nl/p/apple-iphone-xr-64gb-zwart/9200000098453451/',\", \"'https://bol.com/nl/p/samsung-galaxy-a40-64gb-zwart/9200000107463262/',\", \"'https://bol.com/nl/p/samsung-galaxy-a12-64gb-zwart/9300000020208465/',\", \"'https://bol.com/nl/p/samsung-galaxy-a51-128gb-wit/9200000127101721/''https://bol.com/nl/p/samsung-galaxy-a20e-dual-sim-32gb-blauw/9300000002133409/',\", \"'https://bol.com/nl/p/samsung-galaxy-s10e-128gb-prism-zwart/9200000106450648/',\", \"'https://bol.com/nl/p/apple-iphone-11-128gb-zwart/9200000119816199/',\", \"'https://bol.com/nl/p/samsung-galaxy-s21-5g-128gb-phantom-gray/9300000020732481/',\", \"'https://bol.com/nl/p/apple-iphone-12-mini-64gb-zwart/9300000013742257/',\", \"'https://bol.com/nl/p/samsung-galaxy-a50-128gb-zwart/9200000106883561/',\", \"'https://bol.com/nl/p/motorola-moto-g8-power-lite-blauw/9200000127141343/',\", \"'https://bol.com/nl/p/huawei-p30-lite-128gb-midnight-zwart/9200000107750278/',\", \"'https://bol.com/nl/p/samsung-galaxy-a10-32gb-blauw/9200000111950979/',\", \"'https://bol.com/nl/p/samsung-galaxy-xcover-4s-32gb-zwart/9200000111950981/',\", \"'https://bol.com/nl/p/apple-iphone-se-128gb-zwart/9300000000886601/',\", \"'https://bol.com/nl/p/oneplus-nord-n100-64gb-grijs/9300000017872622/',\", \"'https://bol.com/nl/p/motorola-moto-g9-power-128gb-groen/9300000012375717/',\", \"'https://bol.com/nl/p/samsung-galaxy-a32-5g-128gb-awesome-black/9300000022106004/',\", \"'https://bol.com/nl/p/huawei-p30-lite-new-edition-256gb-midnight-black/9200000126132549/',\", \"'https://bol.com/nl/p/oppo-a72-128gb-zwart/9300000002779754/',\", \"'https://bol.com/nl/p/samsung-galaxy-a10s-32gb-zwart/9200000121265417/',\", \"'https://bol.com/nl/p/samsung-galaxy-s20-5g-128gb-cosmic-grey/9200000128429194/',\", \"'https://bol.com/nl/p/apple-iphone-x-refurbished-door-forza-c-grade-64gb-spacegrijs/9200000101335076/',\", \"'https://bol.com/nl/p/apple-iphone-12-pro-max-256gb-grafiet/9300000013742208/',\", \"'https://bol.com/nl/p/alcatel-1se-32gb-grijs/9300000001580712/',\", \"'https://bol.com/nl/p/nokia-5-4-64gb-blauw/9300000021882472/',\", \"'https://bol.com/nl/p/samsung-galaxy-a02s-32gb-zwart/9300000020547718/''https://bol.com/nl/p/samsung-galaxy-a51-128gb-zwart/9200000127101717/',\", \"'https://bol.com/nl/p/samsung-galaxy-a20e-32gb-zwart/9200000109073236/',\", \"'https://bol.com/nl/p/samsung-galaxy-a41-64gb-zwart/9300000000132992/',\", \"'https://bol.com/nl/p/samsung-galaxy-a71-128gb-zwart/9200000127101810/',\", \"'https://bol.com/nl/p/apple-iphone-se-64gb-zwart/9300000000886605/',\", \"'https://bol.com/nl/p/apple-iphone-12-64gb-zwart/9300000013742278/',\", \"'https://bol.com/nl/p/alcatel-1c-3g-8gb-zwart/9200000112629003/',\", \"'https://bol.com/nl/p/motorola-moto-e6-play-32gb-steel-black/9200000122803221/',\", \"'https://bol.com/nl/p/samsung-galaxy-a12-128gb-zwart/9300000019419396/',\", \"'https://bol.com/nl/p/samsung-galaxy-s20-fe-4g-128gb-cloud-navy/9300000008841647/',\", \"'https://bol.com/nl/p/samsung-galaxy-a21s-32gb-blauw/9300000000132994/',\", \"'https://bol.com/nl/p/apple-iphone-11-64gb-zwart/9200000119815601/',\", \"'https://bol.com/nl/p/samsung-galaxy-a42-5g-128gb-prism-dot-black/9300000010098436/',\", \"'https://bol.com/nl/p/apple-iphone-12-pro-128gb-oceaan-blauw/9300000013742251/',\", \"'https://bol.com/nl/p/samsung-galaxy-a01-core-16gb-zwart/9300000007420502/',\", \"'https://bol.com/nl/p/samsung-galaxy-a10-32gb-zwart/9200000111950985/',\", \"'https://bol.com/nl/p/samsung-galaxy-a21s-128gb-zwart/9300000015820720/',\", \"'https://bol.com/nl/p/samsung-galaxy-a12-64gb-zwart/9300000020208465/',\", \"'https://bol.com/nl/p/apple-iphone-xr-64gb-zwart/9200000098453451/',\", \"'https://bol.com/nl/p/samsung-galaxy-a40-64gb-zwart/9200000107463262/''https://bol.com/nl/p/samsung-galaxy-s10e-128gb-prism-zwart/9200000106450648/',\", \"'https://bol.com/nl/p/samsung-galaxy-s21-5g-128gb-phantom-gray/9300000020732481/',\", \"'https://bol.com/nl/p/apple-iphone-12-mini-64gb-zwart/9300000013742257/',\", \"'https://bol.com/nl/p/apple-iphone-11-128gb-zwart/9200000119816199/',\", \"'https://bol.com/nl/p/huawei-p30-lite-128gb-midnight-zwart/9200000107750278/',\", \"'https://bol.com/nl/p/samsung-galaxy-a50-128gb-zwart/9200000106883561/',\", \"'https://bol.com/nl/p/motorola-moto-g8-power-lite-blauw/9200000127141343/',\", \"'https://bol.com/nl/p/samsung-galaxy-a10-32gb-blauw/9200000111950979/',\", \"'https://bol.com/nl/p/samsung-galaxy-xcover-4s-32gb-zwart/9200000111950981/',\", \"'https://bol.com/nl/p/apple-iphone-se-128gb-zwart/9300000000886601/',\", \"'https://bol.com/nl/p/motorola-moto-g9-power-128gb-groen/9300000012375717/',\", \"'https://bol.com/nl/p/samsung-galaxy-a32-5g-128gb-awesome-black/9300000022106004/',\", \"'https://bol.com/nl/p/huawei-p30-lite-new-edition-256gb-midnight-black/9200000126132549/',\", \"'https://bol.com/nl/p/oppo-a72-128gb-zwart/9300000002779754/',\", \"'https://bol.com/nl/p/alcatel-1se-32gb-grijs/9300000001580712/',\", \"'https://bol.com/nl/p/samsung-galaxy-a10s-32gb-zwart/9200000121265417/',\", \"'https://bol.com/nl/p/apple-iphone-12-pro-max-256gb-grafiet/9300000013742208/',\", \"'https://bol.com/nl/p/apple-iphone-x-refurbished-door-forza-c-grade-64gb-spacegrijs/9200000101335076/',\", \"'https://bol.com/nl/p/oneplus-nord-n100-64gb-grijs/9300000017872622/',\", \"'https://bol.com/nl/p/samsung-galaxy-a21s-64gb-wit/9300000000132987/',\", \"'https://bol.com/nl/p/samsung-galaxy-s20-5g-128gb-cosmic-grey/9200000128429194/',\", \"'https://bol.com/nl/p/samsung-galaxy-a71-128gb-blauw/9200000127101719/',\", \"'https://bol.com/nl/p/samsung-galaxy-a02s-32gb-zwart/9300000020547718/',\", \"'https://bol.com/nl/p/nokia-5-4-64gb-blauw/9300000021882472/'['https://bol.com/nl/p/samsung-galaxy-a51-128gb-zwart/9200000127101717/',\", \"'https://bol.com/nl/p/samsung-galaxy-a20e-32gb-zwart/9200000109073236/',\", \"'https://bol.com/nl/p/samsung-galaxy-a41-64gb-zwart/9300000000132992/',\", \"'https://bol.com/nl/p/samsung-galaxy-a71-128gb-zwart/9200000127101810/',\", \"'https://bol.com/nl/p/apple-iphone-se-64gb-zwart/9300000000886605/',\", \"'https://bol.com/nl/p/apple-iphone-12-64gb-zwart/9300000013742278/',\", \"'https://bol.com/nl/p/alcatel-1c-3g-8gb-zwart/9200000112629003/',\", \"'https://bol.com/nl/p/motorola-moto-e6-play-32gb-steel-black/9200000122803221/',\", \"'https://bol.com/nl/p/samsung-galaxy-a12-128gb-zwart/9300000019419396/',\", \"'https://bol.com/nl/p/samsung-galaxy-s20-fe-4g-128gb-cloud-navy/9300000008841647/',\", \"'https://bol.com/nl/p/samsung-galaxy-a21s-32gb-blauw/9300000000132994/',\", \"'https://bol.com/nl/p/apple-iphone-11-64gb-zwart/9200000119815601/',\", \"'https://bol.com/nl/p/samsung-galaxy-a42-5g-128gb-prism-dot-black/9300000010098436/',\", \"'https://bol.com/nl/p/apple-iphone-12-pro-128gb-oceaan-blauw/9300000013742251/',\", \"'https://bol.com/nl/p/samsung-galaxy-a01-core-16gb-zwart/9300000007420502/',\", \"'https://bol.com/nl/p/samsung-galaxy-a10-32gb-zwart/9200000111950985/',\", \"'https://bol.com/nl/p/samsung-galaxy-a21s-128gb-zwart/9300000015820720/',\", \"'https://bol.com/nl/p/samsung-galaxy-a12-64gb-zwart/9300000020208465/',\", \"'https://bol.com/nl/p/apple-iphone-xr-64gb-zwart/9200000098453451/',\", \"'https://bol.com/nl/p/samsung-galaxy-a40-64gb-zwart/9200000107463262/']['https://bol.com/nl/p/samsung-galaxy-s10e-128gb-prism-zwart/9200000106450648/',\", \"'https://bol.com/nl/p/samsung-galaxy-s21-5g-128gb-phantom-gray/9300000020732481/',\", \"'https://bol.com/nl/p/apple-iphone-12-mini-64gb-zwart/9300000013742257/',\", \"'https://bol.com/nl/p/apple-iphone-11-128gb-zwart/9200000119816199/',\", \"'https://bol.com/nl/p/huawei-p30-lite-128gb-midnight-zwart/9200000107750278/',\", \"'https://bol.com/nl/p/samsung-galaxy-a50-128gb-zwart/9200000106883561/',\", \"'https://bol.com/nl/p/motorola-moto-g8-power-lite-blauw/9200000127141343/',\", \"'https://bol.com/nl/p/samsung-galaxy-a10-32gb-blauw/9200000111950979/',\", \"'https://bol.com/nl/p/samsung-galaxy-xcover-4s-32gb-zwart/9200000111950981/',\", \"'https://bol.com/nl/p/apple-iphone-se-128gb-zwart/9300000000886601/',\", \"'https://bol.com/nl/p/motorola-moto-g9-power-128gb-groen/9300000012375717/',\", \"'https://bol.com/nl/p/samsung-galaxy-a32-5g-128gb-awesome-black/9300000022106004/',\", \"'https://bol.com/nl/p/huawei-p30-lite-new-edition-256gb-midnight-black/9200000126132549/',\", \"'https://bol.com/nl/p/oppo-a72-128gb-zwart/9300000002779754/',\", \"'https://bol.com/nl/p/alcatel-1se-32gb-grijs/9300000001580712/',\", \"'https://bol.com/nl/p/samsung-galaxy-a10s-32gb-zwart/9200000121265417/',\", \"'https://bol.com/nl/p/apple-iphone-12-pro-max-256gb-grafiet/9300000013742208/',\", \"'https://bol.com/nl/p/apple-iphone-x-refurbished-door-forza-c-grade-64gb-spacegrijs/9200000101335076/',\", \"'https://bol.com/nl/p/oneplus-nord-n100-64gb-grijs/9300000017872622/',\", \"'https://bol.com/nl/p/samsung-galaxy-a21s-64gb-wit/9300000000132987/',\", \"'https://bol.com/nl/p/samsung-galaxy-s20-5g-128gb-cosmic-grey/9200000128429194/',\", \"'https://bol.com/nl/p/samsung-galaxy-a71-128gb-blauw/9200000127101719/',\", \"'https://bol.com/nl/p/samsung-galaxy-a02s-32gb-zwart/9300000020547718/',\", \"'https://bol.com/nl/p/nokia-5-4-64gb-blauw/9300000021882472/']['https://bol.com/nl/p/samsung-galaxy-a51-128gb-zwart/9200000127101717/',\", \"'https://bol.com/nl/p/samsung-galaxy-a20e-32gb-zwart/9200000109073236/',\", \"'https://bol.com/nl/p/samsung-galaxy-a41-64gb-zwart/9300000000132992/',\", \"'https://bol.com/nl/p/samsung-galaxy-a71-128gb-zwart/9200000127101810/',\", \"'https://bol.com/nl/p/apple-iphone-se-64gb-zwart/9300000000886605/',\", \"'https://bol.com/nl/p/samsung-galaxy-a21s-64gb-zwart/9300000000132986/',\", \"'https://bol.com/nl/p/apple-iphone-12-64gb-zwart/9300000013742278/',\", \"'https://bol.com/nl/p/alcatel-1c-3g-8gb-zwart/9200000112629003/',\", \"'https://bol.com/nl/p/motorola-moto-e6-play-32gb-steel-black/9200000122803221/',\", \"'https://bol.com/nl/p/samsung-galaxy-a12-128gb-zwart/9300000019419396/',\", \"'https://bol.com/nl/p/samsung-galaxy-a21s-32gb-blauw/9300000000132994/',\", \"'https://bol.com/nl/p/apple-iphone-11-64gb-zwart/9200000119815601/',\", \"'https://bol.com/nl/p/samsung-galaxy-s20-fe-4g-128gb-cloud-navy/9300000008841647/',\", \"'https://bol.com/nl/p/samsung-galaxy-a42-5g-128gb-prism-dot-black/9300000010098436/',\", \"'https://bol.com/nl/p/apple-iphone-12-pro-128gb-oceaan-blauw/9300000013742251/',\", \"'https://bol.com/nl/p/samsung-galaxy-a01-core-16gb-zwart/9300000007420502/',\", \"'https://bol.com/nl/p/samsung-galaxy-a10-32gb-zwart/9200000111950985/',\", \"'https://bol.com/nl/p/samsung-galaxy-a21s-128gb-zwart/9300000015820720/',\", \"'https://bol.com/nl/p/samsung-galaxy-a12-64gb-zwart/9300000020208465/',\", \"'https://bol.com/nl/p/apple-iphone-xr-64gb-zwart/9200000098453451/',\", \"'https://bol.com/nl/p/samsung-galaxy-a40-64gb-zwart/9200000107463262/']['https://bol.com/nl/p/samsung-galaxy-a51-128gb-wit/9200000127101721/',\", \"'https://bol.com/nl/p/samsung-galaxy-s10e-128gb-prism-zwart/9200000106450648/',\", \"'https://bol.com/nl/p/apple-iphone-12-mini-64gb-zwart/9300000013742257/',\", \"'https://bol.com/nl/p/apple-iphone-11-128gb-zwart/9200000119816199/',\", \"'https://bol.com/nl/p/samsung-galaxy-s21-5g-128gb-phantom-gray/9300000020732481/',\", \"'https://bol.com/nl/p/samsung-galaxy-a50-128gb-zwart/9200000106883561/',\", \"'https://bol.com/nl/p/samsung-galaxy-a10-32gb-blauw/9200000111950979/',\", \"'https://bol.com/nl/p/huawei-p30-lite-128gb-midnight-zwart/9200000107750278/',\", \"'https://bol.com/nl/p/apple-iphone-se-128gb-zwart/9300000000886601/',\", \"'https://bol.com/nl/p/samsung-galaxy-a32-5g-128gb-awesome-black/9300000022106004/',\", \"'https://bol.com/nl/p/samsung-galaxy-xcover-4s-32gb-zwart/9200000111950981/',\", \"'https://bol.com/nl/p/huawei-p30-lite-new-edition-256gb-midnight-black/9200000126132549/',\", \"'https://bol.com/nl/p/oppo-a72-128gb-zwart/9300000002779754/',\", \"'https://bol.com/nl/p/alcatel-1se-32gb-grijs/9300000001580712/',\", \"'https://bol.com/nl/p/samsung-galaxy-a10s-32gb-zwart/9200000121265417/',\", \"'https://bol.com/nl/p/apple-iphone-12-pro-max-256gb-grafiet/9300000013742208/',\", \"'https://bol.com/nl/p/apple-iphone-x-refurbished-door-forza-c-grade-64gb-spacegrijs/9200000101335076/',\", \"'https://bol.com/nl/p/oneplus-nord-n100-64gb-grijs/9300000017872622/',\", \"'https://bol.com/nl/p/samsung-galaxy-a21s-64gb-wit/9300000000132987/',\", \"'https://bol.com/nl/p/samsung-galaxy-s20-5g-128gb-cosmic-grey/9200000128429194/',\", \"'https://bol.com/nl/p/motorola-moto-g9-power-128gb-groen/9300000012375717/',\", \"'https://bol.com/nl/p/samsung-galaxy-a71-128gb-blauw/9200000127101719/',\", \"'https://bol.com/nl/p/samsung-galaxy-a02s-32gb-zwart/9300000020547718/',\", \"'https://bol.com/nl/p/samsung-galaxy-m21-power-64gb-zwart/9300000000133004/']['https://bol.com/nl/p/samsung-galaxy-a51-128gb-zwart/9200000127101717/',\", \"'https://bol.com/nl/p/samsung-galaxy-a20e-32gb-zwart/9200000109073236/',\", \"'https://bol.com/nl/p/samsung-galaxy-a41-64gb-zwart/9300000000132992/',\", \"'https://bol.com/nl/p/samsung-galaxy-a71-128gb-zwart/9200000127101810/',\", \"'https://bol.com/nl/p/apple-iphone-se-64gb-zwart/9300000000886605/',\", \"'https://bol.com/nl/p/samsung-galaxy-a21s-64gb-zwart/9300000000132986/',\", \"'https://bol.com/nl/p/apple-iphone-12-64gb-zwart/9300000013742278/',\", \"'https://bol.com/nl/p/alcatel-1c-3g-8gb-zwart/9200000112629003/',\", \"'https://bol.com/nl/p/motorola-moto-e6-play-32gb-steel-black/9200000122803221/',\", \"'https://bol.com/nl/p/samsung-galaxy-a12-128gb-zwart/9300000019419396/',\", \"'https://bol.com/nl/p/samsung-galaxy-a21s-32gb-blauw/9300000000132994/',\", \"'https://bol.com/nl/p/apple-iphone-11-64gb-zwart/9200000119815601/',\", \"'https://bol.com/nl/p/samsung-galaxy-s20-fe-4g-128gb-cloud-navy/9300000008841647/',\", \"'https://bol.com/nl/p/samsung-galaxy-a42-5g-128gb-prism-dot-black/9300000010098436/',\", \"'https://bol.com/nl/p/apple-iphone-12-pro-128gb-oceaan-blauw/9300000013742251/',\", \"'https://bol.com/nl/p/samsung-galaxy-a01-core-16gb-zwart/9300000007420502/',\", \"'https://bol.com/nl/p/samsung-galaxy-a10-32gb-zwart/9200000111950985/',\", \"'https://bol.com/nl/p/samsung-galaxy-a21s-128gb-zwart/9300000015820720/',\", \"'https://bol.com/nl/p/samsung-galaxy-a12-64gb-zwart/9300000020208465/',\", \"'https://bol.com/nl/p/apple-iphone-xr-64gb-zwart/9200000098453451/',\", \"'https://bol.com/nl/p/samsung-galaxy-a40-64gb-zwart/9200000107463262/']['https://bol.com/nl/p/samsung-galaxy-a51-128gb-wit/9200000127101721/',\", \"'https://bol.com/nl/p/samsung-galaxy-s10e-128gb-prism-zwart/9200000106450648/',\", \"'https://bol.com/nl/p/apple-iphone-12-mini-64gb-zwart/9300000013742257/',\", \"'https://bol.com/nl/p/apple-iphone-11-128gb-zwart/9200000119816199/',\", \"'https://bol.com/nl/p/samsung-galaxy-s21-5g-128gb-phantom-gray/9300000020732481/',\", \"'https://bol.com/nl/p/samsung-galaxy-a50-128gb-zwart/9200000106883561/',\", \"'https://bol.com/nl/p/samsung-galaxy-a10-32gb-blauw/9200000111950979/',\", \"'https://bol.com/nl/p/huawei-p30-lite-128gb-midnight-zwart/9200000107750278/',\", \"'https://bol.com/nl/p/apple-iphone-se-128gb-zwart/9300000000886601/',\", \"'https://bol.com/nl/p/samsung-galaxy-a32-5g-128gb-awesome-black/9300000022106004/',\", \"'https://bol.com/nl/p/samsung-galaxy-xcover-4s-32gb-zwart/9200000111950981/',\", \"'https://bol.com/nl/p/huawei-p30-lite-new-edition-256gb-midnight-black/9200000126132549/',\", \"'https://bol.com/nl/p/oppo-a72-128gb-zwart/9300000002779754/',\", \"'https://bol.com/nl/p/alcatel-1se-32gb-grijs/9300000001580712/',\", \"'https://bol.com/nl/p/samsung-galaxy-a10s-32gb-zwart/9200000121265417/',\", \"'https://bol.com/nl/p/apple-iphone-12-pro-max-256gb-grafiet/9300000013742208/',\", \"'https://bol.com/nl/p/apple-iphone-x-refurbished-door-forza-c-grade-64gb-spacegrijs/9200000101335076/',\", \"'https://bol.com/nl/p/oneplus-nord-n100-64gb-grijs/9300000017872622/',\", \"'https://bol.com/nl/p/samsung-galaxy-a21s-64gb-wit/9300000000132987/',\", \"'https://bol.com/nl/p/samsung-galaxy-s20-5g-128gb-cosmic-grey/9200000128429194/',\", \"'https://bol.com/nl/p/motorola-moto-g9-power-128gb-groen/9300000012375717/',\", \"'https://bol.com/nl/p/samsung-galaxy-a71-128gb-blauw/9200000127101719/',\", \"'https://bol.com/nl/p/samsung-galaxy-a02s-32gb-zwart/9300000020547718/',\", \"'https://bol.com/nl/p/samsung-galaxy-m21-power-64gb-zwart/9300000000133004/']['https://bol.com/nl/p/samsung-galaxy-a51-128gb-zwart/9200000127101717/',\", \"'https://bol.com/nl/p/samsung-galaxy-a20e-32gb-zwart/9200000109073236/',\", \"'https://bol.com/nl/p/samsung-galaxy-a41-64gb-zwart/9300000000132992/',\", \"'https://bol.com/nl/p/samsung-galaxy-a71-128gb-zwart/9200000127101810/',\", \"'https://bol.com/nl/p/apple-iphone-se-64gb-zwart/9300000000886605/',\", \"'https://bol.com/nl/p/samsung-galaxy-a21s-64gb-zwart/9300000000132986/',\", \"'https://bol.com/nl/p/apple-iphone-12-64gb-zwart/9300000013742278/',\", \"'https://bol.com/nl/p/alcatel-1c-3g-8gb-zwart/9200000112629003/',\", \"'https://bol.com/nl/p/motorola-moto-e6-play-32gb-steel-black/9200000122803221/',\", \"'https://bol.com/nl/p/samsung-galaxy-a12-128gb-zwart/9300000019419396/',\", \"'https://bol.com/nl/p/samsung-galaxy-a21s-32gb-blauw/9300000000132994/',\", \"'https://bol.com/nl/p/apple-iphone-11-64gb-zwart/9200000119815601/',\", \"'https://bol.com/nl/p/samsung-galaxy-s20-fe-4g-128gb-cloud-navy/9300000008841647/',\", \"'https://bol.com/nl/p/samsung-galaxy-a42-5g-128gb-prism-dot-black/9300000010098436/',\", \"'https://bol.com/nl/p/apple-iphone-12-pro-128gb-oceaan-blauw/9300000013742251/',\", \"'https://bol.com/nl/p/samsung-galaxy-a01-core-16gb-zwart/9300000007420502/',\", \"'https://bol.com/nl/p/samsung-galaxy-a10-32gb-zwart/9200000111950985/',\", \"'https://bol.com/nl/p/samsung-galaxy-a21s-128gb-zwart/9300000015820720/',\", \"'https://bol.com/nl/p/samsung-galaxy-a12-64gb-zwart/9300000020208465/',\", \"'https://bol.com/nl/p/apple-iphone-xr-64gb-zwart/9200000098453451/',\", \"'https://bol.com/nl/p/samsung-galaxy-a40-64gb-zwart/9200000107463262/']['https://bol.com/nl/p/samsung-galaxy-a51-128gb-wit/9200000127101721/',\", \"'https://bol.com/nl/p/samsung-galaxy-s10e-128gb-prism-zwart/9200000106450648/',\", \"'https://bol.com/nl/p/apple-iphone-12-mini-64gb-zwart/9300000013742257/',\", \"'https://bol.com/nl/p/apple-iphone-11-128gb-zwart/9200000119816199/',\", \"'https://bol.com/nl/p/samsung-galaxy-s21-5g-128gb-phantom-gray/9300000020732481/',\", \"'https://bol.com/nl/p/samsung-galaxy-a50-128gb-zwart/9200000106883561/',\", \"'https://bol.com/nl/p/samsung-galaxy-a10-32gb-blauw/9200000111950979/',\", \"'https://bol.com/nl/p/huawei-p30-lite-128gb-midnight-zwart/9200000107750278/',\", \"'https://bol.com/nl/p/apple-iphone-se-128gb-zwart/9300000000886601/',\", \"'https://bol.com/nl/p/samsung-galaxy-a32-5g-128gb-awesome-black/9300000022106004/',\", \"'https://bol.com/nl/p/samsung-galaxy-xcover-4s-32gb-zwart/9200000111950981/',\", \"'https://bol.com/nl/p/huawei-p30-lite-new-edition-256gb-midnight-black/9200000126132549/',\", \"'https://bol.com/nl/p/oppo-a72-128gb-zwart/9300000002779754/',\", \"'https://bol.com/nl/p/alcatel-1se-32gb-grijs/9300000001580712/',\", \"'https://bol.com/nl/p/samsung-galaxy-a10s-32gb-zwart/9200000121265417/',\", \"'https://bol.com/nl/p/apple-iphone-12-pro-max-256gb-grafiet/9300000013742208/',\", \"'https://bol.com/nl/p/apple-iphone-x-refurbished-door-forza-c-grade-64gb-spacegrijs/9200000101335076/',\", \"'https://bol.com/nl/p/oneplus-nord-n100-64gb-grijs/9300000017872622/',\", \"'https://bol.com/nl/p/samsung-galaxy-a21s-64gb-wit/9300000000132987/',\", \"'https://bol.com/nl/p/samsung-galaxy-s20-5g-128gb-cosmic-grey/9200000128429194/',\", \"'https://bol.com/nl/p/motorola-moto-g9-power-128gb-groen/9300000012375717/',\", \"'https://bol.com/nl/p/samsung-galaxy-a71-128gb-blauw/9200000127101719/',\", \"'https://bol.com/nl/p/samsung-galaxy-a02s-32gb-zwart/9300000020547718/',\", \"'https://bol.com/nl/p/samsung-galaxy-m21-power-64gb-zwart/9300000000133004/']\"]\n"
     ]
    },
    {
     "data": {
      "text/plain": [
       "476"
      ]
     },
     "execution_count": 13,
     "metadata": {},
     "output_type": "execute_result"
    }
   ],
   "source": [
    "new_lines = [word for line in lines for word in line.split()]\n",
    "print(new_lines)\n",
    "len(new_lines)"
   ]
  },
  {
   "cell_type": "code",
   "execution_count": 40,
   "metadata": {},
   "outputs": [
    {
     "name": "stdout",
     "output_type": "stream",
     "text": [
      "https://bol.com/nl/p/samsung-galaxy-a51-128gb-zwart/9200000127101717/\n",
      "https://bol.com/nl/p/samsung-galaxy-a20e-32gb-zwart/9200000109073236/\n",
      "https://bol.com/nl/p/samsung-galaxy-a41-64gb-zwart/9300000000132992/\n",
      "https://bol.com/nl/p/samsung-galaxy-a71-128gb-zwart/9200000127101810/\n",
      "https://bol.com/nl/p/apple-iphone-se-64gb-zwart/9300000000886605/\n",
      "https://bol.com/nl/p/samsung-galaxy-a21s-64gb-zwart/9300000000132986/\n",
      "https://bol.com/nl/p/apple-iphone-12-64gb-zwart/9300000013742278/\n",
      "https://bol.com/nl/p/alcatel-1c-3g-8gb-zwart/9200000112629003/\n",
      "https://bol.com/nl/p/motorola-moto-e6-play-32gb-steel-black/9200000122803221/\n",
      "https://bol.com/nl/p/samsung-galaxy-a51-128gb-blauw/9200000127101588/\n",
      "https://bol.com/nl/p/samsung-galaxy-s20-fe-4g-128gb-cloud-navy/9300000008841647/\n",
      "https://bol.com/nl/p/apple-iphone-11-64gb-zwart/9200000119815601/\n",
      "https://bol.com/nl/p/samsung-galaxy-a12-128gb-zwart/9300000019419396/\n",
      "https://bol.com/nl/p/samsung-galaxy-a21s-32gb-blauw/9300000000132994/\n",
      "https://bol.com/nl/p/samsung-galaxy-a42-5g-128gb-prism-dot-black/9300000010098436/\n",
      "https://bol.com/nl/p/apple-iphone-12-pro-128gb-oceaan-blauw/9300000013742251/\n",
      "https://bol.com/nl/p/samsung-galaxy-a01-core-16gb-zwart/9300000007420502/\n",
      "https://bol.com/nl/p/samsung-galaxy-a10-32gb-zwart/9200000111950985/\n",
      "https://bol.com/nl/p/samsung-galaxy-a21s-128gb-zwart/9300000015820720/\n",
      "https://bol.com/nl/p/apple-iphone-xr-64gb-zwart/9200000098453451/\n",
      "https://bol.com/nl/p/samsung-galaxy-a40-64gb-zwart/9200000107463262/\n",
      "https://bol.com/nl/p/samsung-galaxy-a12-64gb-zwart/9300000020208465/\n",
      "https://bol.com/nl/p/samsung-galaxy-a51-128gb-wit/9200000127101721/''https://bol.com/nl/p/samsung-galaxy-a20e-dual-sim-32gb-blauw/9300000002133409/\n",
      "https://bol.com/nl/p/samsung-galaxy-s10e-128gb-prism-zwart/9200000106450648/\n",
      "https://bol.com/nl/p/apple-iphone-11-128gb-zwart/9200000119816199/\n",
      "https://bol.com/nl/p/samsung-galaxy-s21-5g-128gb-phantom-gray/9300000020732481/\n",
      "https://bol.com/nl/p/apple-iphone-12-mini-64gb-zwart/9300000013742257/\n",
      "https://bol.com/nl/p/samsung-galaxy-a50-128gb-zwart/9200000106883561/\n",
      "https://bol.com/nl/p/motorola-moto-g8-power-lite-blauw/9200000127141343/\n",
      "https://bol.com/nl/p/huawei-p30-lite-128gb-midnight-zwart/9200000107750278/\n",
      "https://bol.com/nl/p/samsung-galaxy-a10-32gb-blauw/9200000111950979/\n",
      "https://bol.com/nl/p/samsung-galaxy-xcover-4s-32gb-zwart/9200000111950981/\n",
      "https://bol.com/nl/p/apple-iphone-se-128gb-zwart/9300000000886601/\n",
      "https://bol.com/nl/p/oneplus-nord-n100-64gb-grijs/9300000017872622/\n",
      "https://bol.com/nl/p/motorola-moto-g9-power-128gb-groen/9300000012375717/\n",
      "https://bol.com/nl/p/samsung-galaxy-a32-5g-128gb-awesome-black/9300000022106004/\n",
      "https://bol.com/nl/p/huawei-p30-lite-new-edition-256gb-midnight-black/9200000126132549/\n",
      "https://bol.com/nl/p/oppo-a72-128gb-zwart/9300000002779754/\n",
      "https://bol.com/nl/p/samsung-galaxy-a10s-32gb-zwart/9200000121265417/\n",
      "https://bol.com/nl/p/samsung-galaxy-s20-5g-128gb-cosmic-grey/9200000128429194/\n",
      "https://bol.com/nl/p/apple-iphone-x-refurbished-door-forza-c-grade-64gb-spacegrijs/9200000101335076/\n",
      "https://bol.com/nl/p/apple-iphone-12-pro-max-256gb-grafiet/9300000013742208/\n",
      "https://bol.com/nl/p/alcatel-1se-32gb-grijs/9300000001580712/\n",
      "https://bol.com/nl/p/nokia-5-4-64gb-blauw/9300000021882472/\n",
      "https://bol.com/nl/p/samsung-galaxy-a02s-32gb-zwart/9300000020547718/'https://bol.com/nl/p/samsung-galaxy-a51-128gb-zwart/9200000127101717/\n",
      "https://bol.com/nl/p/samsung-galaxy-a20e-32gb-zwart/9200000109073236/\n",
      "https://bol.com/nl/p/samsung-galaxy-a41-64gb-zwart/9300000000132992/\n",
      "https://bol.com/nl/p/samsung-galaxy-a71-128gb-zwart/9200000127101810/\n",
      "https://bol.com/nl/p/apple-iphone-se-64gb-zwart/9300000000886605/\n",
      "https://bol.com/nl/p/samsung-galaxy-a21s-64gb-zwart/9300000000132986/\n",
      "https://bol.com/nl/p/apple-iphone-12-64gb-zwart/9300000013742278/\n",
      "https://bol.com/nl/p/alcatel-1c-3g-8gb-zwart/9200000112629003/\n",
      "https://bol.com/nl/p/motorola-moto-e6-play-32gb-steel-black/9200000122803221/\n",
      "https://bol.com/nl/p/samsung-galaxy-a51-128gb-blauw/9200000127101588/\n",
      "https://bol.com/nl/p/samsung-galaxy-s20-fe-4g-128gb-cloud-navy/9300000008841647/\n",
      "https://bol.com/nl/p/apple-iphone-11-64gb-zwart/9200000119815601/\n",
      "https://bol.com/nl/p/samsung-galaxy-a12-128gb-zwart/9300000019419396/\n",
      "https://bol.com/nl/p/samsung-galaxy-a21s-32gb-blauw/9300000000132994/\n",
      "https://bol.com/nl/p/samsung-galaxy-a42-5g-128gb-prism-dot-black/9300000010098436/\n",
      "https://bol.com/nl/p/apple-iphone-12-pro-128gb-oceaan-blauw/9300000013742251/\n",
      "https://bol.com/nl/p/samsung-galaxy-a01-core-16gb-zwart/9300000007420502/\n",
      "https://bol.com/nl/p/samsung-galaxy-a10-32gb-zwart/9200000111950985/\n",
      "https://bol.com/nl/p/samsung-galaxy-a21s-128gb-zwart/9300000015820720/\n",
      "https://bol.com/nl/p/apple-iphone-xr-64gb-zwart/9200000098453451/\n",
      "https://bol.com/nl/p/samsung-galaxy-a40-64gb-zwart/9200000107463262/\n",
      "https://bol.com/nl/p/samsung-galaxy-a12-64gb-zwart/9300000020208465/\n",
      "https://bol.com/nl/p/samsung-galaxy-a51-128gb-wit/9200000127101721/https://bol.com/nl/p/samsung-galaxy-a20e-dual-sim-32gb-blauw/9300000002133409/\n",
      "https://bol.com/nl/p/samsung-galaxy-s10e-128gb-prism-zwart/9200000106450648/\n",
      "https://bol.com/nl/p/apple-iphone-11-128gb-zwart/9200000119816199/\n",
      "https://bol.com/nl/p/samsung-galaxy-s21-5g-128gb-phantom-gray/9300000020732481/\n",
      "https://bol.com/nl/p/apple-iphone-12-mini-64gb-zwart/9300000013742257/\n",
      "https://bol.com/nl/p/samsung-galaxy-a50-128gb-zwart/9200000106883561/\n",
      "https://bol.com/nl/p/motorola-moto-g8-power-lite-blauw/9200000127141343/\n",
      "https://bol.com/nl/p/huawei-p30-lite-128gb-midnight-zwart/9200000107750278/\n",
      "https://bol.com/nl/p/samsung-galaxy-a10-32gb-blauw/9200000111950979/\n",
      "https://bol.com/nl/p/samsung-galaxy-xcover-4s-32gb-zwart/9200000111950981/\n",
      "https://bol.com/nl/p/apple-iphone-se-128gb-zwart/9300000000886601/\n",
      "https://bol.com/nl/p/oneplus-nord-n100-64gb-grijs/9300000017872622/\n",
      "https://bol.com/nl/p/motorola-moto-g9-power-128gb-groen/9300000012375717/\n",
      "https://bol.com/nl/p/samsung-galaxy-a32-5g-128gb-awesome-black/9300000022106004/\n",
      "https://bol.com/nl/p/huawei-p30-lite-new-edition-256gb-midnight-black/9200000126132549/\n",
      "https://bol.com/nl/p/oppo-a72-128gb-zwart/9300000002779754/\n",
      "https://bol.com/nl/p/samsung-galaxy-a10s-32gb-zwart/9200000121265417/\n",
      "https://bol.com/nl/p/samsung-galaxy-s20-5g-128gb-cosmic-grey/9200000128429194/\n",
      "https://bol.com/nl/p/apple-iphone-x-refurbished-door-forza-c-grade-64gb-spacegrijs/9200000101335076/\n",
      "https://bol.com/nl/p/apple-iphone-12-pro-max-256gb-grafiet/9300000013742208/\n",
      "https://bol.com/nl/p/alcatel-1se-32gb-grijs/9300000001580712/\n",
      "https://bol.com/nl/p/nokia-5-4-64gb-blauw/9300000021882472/\n",
      "https://bol.com/nl/p/samsung-galaxy-a02s-32gb-zwart/9300000020547718/'https://bol.com/nl/p/samsung-galaxy-a51-128gb-zwart/9200000127101717/\n",
      "https://bol.com/nl/p/samsung-galaxy-a20e-32gb-zwart/9200000109073236/\n",
      "https://bol.com/nl/p/samsung-galaxy-a41-64gb-zwart/9300000000132992/\n",
      "https://bol.com/nl/p/samsung-galaxy-a71-128gb-zwart/9200000127101810/\n",
      "https://bol.com/nl/p/apple-iphone-se-64gb-zwart/9300000000886605/\n",
      "https://bol.com/nl/p/samsung-galaxy-a21s-64gb-zwart/9300000000132986/\n",
      "https://bol.com/nl/p/apple-iphone-12-64gb-zwart/9300000013742278/\n",
      "https://bol.com/nl/p/alcatel-1c-3g-8gb-zwart/9200000112629003/\n",
      "https://bol.com/nl/p/motorola-moto-e6-play-32gb-steel-black/9200000122803221/\n",
      "https://bol.com/nl/p/samsung-galaxy-a51-128gb-blauw/9200000127101588/\n",
      "https://bol.com/nl/p/samsung-galaxy-s20-fe-4g-128gb-cloud-navy/9300000008841647/\n",
      "https://bol.com/nl/p/apple-iphone-11-64gb-zwart/9200000119815601/\n",
      "https://bol.com/nl/p/samsung-galaxy-a12-128gb-zwart/9300000019419396/\n",
      "https://bol.com/nl/p/samsung-galaxy-a21s-32gb-blauw/9300000000132994/\n",
      "https://bol.com/nl/p/samsung-galaxy-a42-5g-128gb-prism-dot-black/9300000010098436/\n",
      "https://bol.com/nl/p/apple-iphone-12-pro-128gb-oceaan-blauw/9300000013742251/\n",
      "https://bol.com/nl/p/samsung-galaxy-a01-core-16gb-zwart/9300000007420502/\n",
      "https://bol.com/nl/p/samsung-galaxy-a10-32gb-zwart/9200000111950985/\n",
      "https://bol.com/nl/p/samsung-galaxy-a21s-128gb-zwart/9300000015820720/\n",
      "https://bol.com/nl/p/apple-iphone-xr-64gb-zwart/9200000098453451/\n",
      "https://bol.com/nl/p/samsung-galaxy-a40-64gb-zwart/9200000107463262/\n",
      "https://bol.com/nl/p/samsung-galaxy-a12-64gb-zwart/9300000020208465/\n",
      "https://bol.com/nl/p/samsung-galaxy-a51-128gb-wit/9200000127101721/''https://bol.com/nl/p/samsung-galaxy-a20e-dual-sim-32gb-blauw/9300000002133409/\n",
      "https://bol.com/nl/p/samsung-galaxy-s10e-128gb-prism-zwart/9200000106450648/\n",
      "https://bol.com/nl/p/apple-iphone-11-128gb-zwart/9200000119816199/\n",
      "https://bol.com/nl/p/samsung-galaxy-s21-5g-128gb-phantom-gray/9300000020732481/\n",
      "https://bol.com/nl/p/apple-iphone-12-mini-64gb-zwart/9300000013742257/\n",
      "https://bol.com/nl/p/samsung-galaxy-a50-128gb-zwart/9200000106883561/\n",
      "https://bol.com/nl/p/motorola-moto-g8-power-lite-blauw/9200000127141343/\n",
      "https://bol.com/nl/p/huawei-p30-lite-128gb-midnight-zwart/9200000107750278/\n",
      "https://bol.com/nl/p/samsung-galaxy-a10-32gb-blauw/9200000111950979/\n",
      "https://bol.com/nl/p/samsung-galaxy-xcover-4s-32gb-zwart/9200000111950981/\n",
      "https://bol.com/nl/p/apple-iphone-se-128gb-zwart/9300000000886601/\n",
      "https://bol.com/nl/p/oneplus-nord-n100-64gb-grijs/9300000017872622/\n",
      "https://bol.com/nl/p/motorola-moto-g9-power-128gb-groen/9300000012375717/\n",
      "https://bol.com/nl/p/samsung-galaxy-a32-5g-128gb-awesome-black/9300000022106004/\n",
      "https://bol.com/nl/p/huawei-p30-lite-new-edition-256gb-midnight-black/9200000126132549/\n",
      "https://bol.com/nl/p/oppo-a72-128gb-zwart/9300000002779754/\n",
      "https://bol.com/nl/p/samsung-galaxy-a10s-32gb-zwart/9200000121265417/\n",
      "https://bol.com/nl/p/samsung-galaxy-s20-5g-128gb-cosmic-grey/9200000128429194/\n",
      "https://bol.com/nl/p/apple-iphone-x-refurbished-door-forza-c-grade-64gb-spacegrijs/9200000101335076/\n",
      "https://bol.com/nl/p/apple-iphone-12-pro-max-256gb-grafiet/9300000013742208/\n",
      "https://bol.com/nl/p/alcatel-1se-32gb-grijs/9300000001580712/\n",
      "https://bol.com/nl/p/nokia-5-4-64gb-blauw/9300000021882472/\n",
      "https://bol.com/nl/p/samsung-galaxy-a02s-32gb-zwart/9300000020547718/''https://bol.com/nl/p/samsung-galaxy-a51-128gb-zwart/9200000127101717/\n",
      "https://bol.com/nl/p/samsung-galaxy-a20e-32gb-zwart/9200000109073236/\n",
      "https://bol.com/nl/p/samsung-galaxy-a41-64gb-zwart/9300000000132992/\n",
      "https://bol.com/nl/p/samsung-galaxy-a71-128gb-zwart/9200000127101810/\n",
      "https://bol.com/nl/p/apple-iphone-se-64gb-zwart/9300000000886605/\n",
      "https://bol.com/nl/p/samsung-galaxy-a21s-64gb-zwart/9300000000132986/\n",
      "https://bol.com/nl/p/apple-iphone-12-64gb-zwart/9300000013742278/\n",
      "https://bol.com/nl/p/alcatel-1c-3g-8gb-zwart/9200000112629003/\n",
      "https://bol.com/nl/p/motorola-moto-e6-play-32gb-steel-black/9200000122803221/\n",
      "https://bol.com/nl/p/samsung-galaxy-a51-128gb-blauw/9200000127101588/\n",
      "https://bol.com/nl/p/samsung-galaxy-s20-fe-4g-128gb-cloud-navy/9300000008841647/\n",
      "https://bol.com/nl/p/apple-iphone-11-64gb-zwart/9200000119815601/\n",
      "https://bol.com/nl/p/samsung-galaxy-a12-128gb-zwart/9300000019419396/\n",
      "https://bol.com/nl/p/samsung-galaxy-a21s-32gb-blauw/9300000000132994/\n",
      "https://bol.com/nl/p/samsung-galaxy-a42-5g-128gb-prism-dot-black/9300000010098436/\n",
      "https://bol.com/nl/p/apple-iphone-12-pro-128gb-oceaan-blauw/9300000013742251/\n",
      "https://bol.com/nl/p/samsung-galaxy-a01-core-16gb-zwart/9300000007420502/\n",
      "https://bol.com/nl/p/samsung-galaxy-a10-32gb-zwart/9200000111950985/\n",
      "https://bol.com/nl/p/samsung-galaxy-a21s-128gb-zwart/9300000015820720/\n",
      "https://bol.com/nl/p/apple-iphone-xr-64gb-zwart/9200000098453451/\n",
      "https://bol.com/nl/p/samsung-galaxy-a40-64gb-zwart/9200000107463262/\n",
      "https://bol.com/nl/p/samsung-galaxy-a12-64gb-zwart/9300000020208465/\n",
      "https://bol.com/nl/p/samsung-galaxy-a51-128gb-wit/9200000127101721/''https://bol.com/nl/p/samsung-galaxy-a20e-dual-sim-32gb-blauw/9300000002133409/\n",
      "https://bol.com/nl/p/samsung-galaxy-s10e-128gb-prism-zwart/9200000106450648/\n",
      "https://bol.com/nl/p/apple-iphone-11-128gb-zwart/9200000119816199/\n",
      "https://bol.com/nl/p/samsung-galaxy-s21-5g-128gb-phantom-gray/9300000020732481/\n",
      "https://bol.com/nl/p/apple-iphone-12-mini-64gb-zwart/9300000013742257/\n",
      "https://bol.com/nl/p/samsung-galaxy-a50-128gb-zwart/9200000106883561/\n",
      "https://bol.com/nl/p/motorola-moto-g8-power-lite-blauw/9200000127141343/\n",
      "https://bol.com/nl/p/huawei-p30-lite-128gb-midnight-zwart/9200000107750278/\n",
      "https://bol.com/nl/p/samsung-galaxy-a10-32gb-blauw/9200000111950979/\n",
      "https://bol.com/nl/p/samsung-galaxy-xcover-4s-32gb-zwart/9200000111950981/\n",
      "https://bol.com/nl/p/apple-iphone-se-128gb-zwart/9300000000886601/\n",
      "https://bol.com/nl/p/oneplus-nord-n100-64gb-grijs/9300000017872622/\n",
      "https://bol.com/nl/p/motorola-moto-g9-power-128gb-groen/9300000012375717/\n",
      "https://bol.com/nl/p/samsung-galaxy-a32-5g-128gb-awesome-black/9300000022106004/\n",
      "https://bol.com/nl/p/huawei-p30-lite-new-edition-256gb-midnight-black/9200000126132549/\n",
      "https://bol.com/nl/p/oppo-a72-128gb-zwart/9300000002779754/\n",
      "https://bol.com/nl/p/samsung-galaxy-a10s-32gb-zwart/9200000121265417/\n",
      "https://bol.com/nl/p/samsung-galaxy-s20-5g-128gb-cosmic-grey/9200000128429194/\n",
      "https://bol.com/nl/p/apple-iphone-x-refurbished-door-forza-c-grade-64gb-spacegrijs/9200000101335076/\n",
      "https://bol.com/nl/p/apple-iphone-12-pro-max-256gb-grafiet/9300000013742208/\n",
      "https://bol.com/nl/p/alcatel-1se-32gb-grijs/9300000001580712/\n",
      "https://bol.com/nl/p/nokia-5-4-64gb-blauw/9300000021882472/\n",
      "https://bol.com/nl/p/samsung-galaxy-a02s-32gb-zwart/9300000020547718/''https://bol.com/nl/p/samsung-galaxy-a51-128gb-zwart/9200000127101717/\n",
      "https://bol.com/nl/p/samsung-galaxy-a20e-32gb-zwart/9200000109073236/\n",
      "https://bol.com/nl/p/samsung-galaxy-a41-64gb-zwart/9300000000132992/\n",
      "https://bol.com/nl/p/apple-iphone-se-64gb-zwart/9300000000886605/\n",
      "https://bol.com/nl/p/samsung-galaxy-a21s-64gb-zwart/9300000000132986/\n",
      "https://bol.com/nl/p/apple-iphone-12-64gb-zwart/9300000013742278/\n",
      "https://bol.com/nl/p/alcatel-1c-3g-8gb-zwart/9200000112629003/\n",
      "https://bol.com/nl/p/motorola-moto-e6-play-32gb-steel-black/9200000122803221/\n",
      "https://bol.com/nl/p/samsung-galaxy-a51-128gb-blauw/9200000127101588/\n",
      "https://bol.com/nl/p/samsung-galaxy-a12-128gb-zwart/9300000019419396/\n",
      "https://bol.com/nl/p/samsung-galaxy-s20-fe-4g-128gb-cloud-navy/9300000008841647/\n",
      "https://bol.com/nl/p/apple-iphone-11-64gb-zwart/9200000119815601/\n",
      "https://bol.com/nl/p/samsung-galaxy-a21s-32gb-blauw/9300000000132994/\n",
      "https://bol.com/nl/p/samsung-galaxy-a42-5g-128gb-prism-dot-black/9300000010098436/\n",
      "https://bol.com/nl/p/apple-iphone-12-pro-128gb-oceaan-blauw/9300000013742251/\n",
      "https://bol.com/nl/p/samsung-galaxy-a01-core-16gb-zwart/9300000007420502/\n",
      "https://bol.com/nl/p/samsung-galaxy-a10-32gb-zwart/9200000111950985/\n",
      "https://bol.com/nl/p/samsung-galaxy-a21s-128gb-zwart/9300000015820720/\n",
      "https://bol.com/nl/p/apple-iphone-xr-64gb-zwart/9200000098453451/\n",
      "https://bol.com/nl/p/samsung-galaxy-a40-64gb-zwart/9200000107463262/\n",
      "https://bol.com/nl/p/samsung-galaxy-a12-64gb-zwart/9300000020208465/\n",
      "https://bol.com/nl/p/samsung-galaxy-a51-128gb-wit/9200000127101721/''https://bol.com/nl/p/samsung-galaxy-a20e-dual-sim-32gb-blauw/9300000002133409/\n",
      "https://bol.com/nl/p/samsung-galaxy-s10e-128gb-prism-zwart/9200000106450648/\n",
      "https://bol.com/nl/p/apple-iphone-11-128gb-zwart/9200000119816199/\n",
      "https://bol.com/nl/p/samsung-galaxy-s21-5g-128gb-phantom-gray/9300000020732481/\n",
      "https://bol.com/nl/p/apple-iphone-12-mini-64gb-zwart/9300000013742257/\n",
      "https://bol.com/nl/p/samsung-galaxy-a50-128gb-zwart/9200000106883561/\n",
      "https://bol.com/nl/p/motorola-moto-g8-power-lite-blauw/9200000127141343/\n",
      "https://bol.com/nl/p/huawei-p30-lite-128gb-midnight-zwart/9200000107750278/\n",
      "https://bol.com/nl/p/samsung-galaxy-a10-32gb-blauw/9200000111950979/\n",
      "https://bol.com/nl/p/samsung-galaxy-xcover-4s-32gb-zwart/9200000111950981/\n",
      "https://bol.com/nl/p/apple-iphone-se-128gb-zwart/9300000000886601/\n",
      "https://bol.com/nl/p/oneplus-nord-n100-64gb-grijs/9300000017872622/\n",
      "https://bol.com/nl/p/motorola-moto-g9-power-128gb-groen/9300000012375717/\n",
      "https://bol.com/nl/p/samsung-galaxy-a32-5g-128gb-awesome-black/9300000022106004/\n",
      "https://bol.com/nl/p/huawei-p30-lite-new-edition-256gb-midnight-black/9200000126132549/\n",
      "https://bol.com/nl/p/oppo-a72-128gb-zwart/9300000002779754/\n",
      "https://bol.com/nl/p/samsung-galaxy-a10s-32gb-zwart/9200000121265417/\n",
      "https://bol.com/nl/p/samsung-galaxy-s20-5g-128gb-cosmic-grey/9200000128429194/\n",
      "https://bol.com/nl/p/apple-iphone-x-refurbished-door-forza-c-grade-64gb-spacegrijs/9200000101335076/\n",
      "https://bol.com/nl/p/apple-iphone-12-pro-max-256gb-grafiet/9300000013742208/\n",
      "https://bol.com/nl/p/alcatel-1se-32gb-grijs/9300000001580712/\n",
      "https://bol.com/nl/p/nokia-5-4-64gb-blauw/9300000021882472/\n",
      "https://bol.com/nl/p/samsung-galaxy-a02s-32gb-zwart/9300000020547718/''https://bol.com/nl/p/samsung-galaxy-a51-128gb-zwart/9200000127101717/\n",
      "https://bol.com/nl/p/samsung-galaxy-a20e-32gb-zwart/9200000109073236/\n",
      "https://bol.com/nl/p/samsung-galaxy-a41-64gb-zwart/9300000000132992/\n",
      "https://bol.com/nl/p/apple-iphone-se-64gb-zwart/9300000000886605/\n",
      "https://bol.com/nl/p/samsung-galaxy-a21s-64gb-zwart/9300000000132986/\n",
      "https://bol.com/nl/p/apple-iphone-12-64gb-zwart/9300000013742278/\n",
      "https://bol.com/nl/p/alcatel-1c-3g-8gb-zwart/9200000112629003/\n",
      "https://bol.com/nl/p/motorola-moto-e6-play-32gb-steel-black/9200000122803221/\n",
      "https://bol.com/nl/p/samsung-galaxy-a51-128gb-blauw/9200000127101588/\n",
      "https://bol.com/nl/p/samsung-galaxy-a12-128gb-zwart/9300000019419396/\n",
      "https://bol.com/nl/p/samsung-galaxy-s20-fe-4g-128gb-cloud-navy/9300000008841647/\n",
      "https://bol.com/nl/p/apple-iphone-11-64gb-zwart/9200000119815601/\n",
      "https://bol.com/nl/p/samsung-galaxy-a21s-32gb-blauw/9300000000132994/\n",
      "https://bol.com/nl/p/samsung-galaxy-a42-5g-128gb-prism-dot-black/9300000010098436/\n",
      "https://bol.com/nl/p/apple-iphone-12-pro-128gb-oceaan-blauw/9300000013742251/\n",
      "https://bol.com/nl/p/samsung-galaxy-a01-core-16gb-zwart/9300000007420502/\n",
      "https://bol.com/nl/p/samsung-galaxy-a10-32gb-zwart/9200000111950985/\n",
      "https://bol.com/nl/p/samsung-galaxy-a21s-128gb-zwart/9300000015820720/\n",
      "https://bol.com/nl/p/apple-iphone-xr-64gb-zwart/9200000098453451/\n",
      "https://bol.com/nl/p/samsung-galaxy-a40-64gb-zwart/9200000107463262/\n",
      "https://bol.com/nl/p/samsung-galaxy-a12-64gb-zwart/9300000020208465/\n",
      "https://bol.com/nl/p/samsung-galaxy-a51-128gb-wit/9200000127101721/''https://bol.com/nl/p/samsung-galaxy-a20e-dual-sim-32gb-blauw/9300000002133409/\n",
      "https://bol.com/nl/p/samsung-galaxy-s10e-128gb-prism-zwart/9200000106450648/\n",
      "https://bol.com/nl/p/apple-iphone-11-128gb-zwart/9200000119816199/\n",
      "https://bol.com/nl/p/samsung-galaxy-s21-5g-128gb-phantom-gray/9300000020732481/\n",
      "https://bol.com/nl/p/apple-iphone-12-mini-64gb-zwart/9300000013742257/\n",
      "https://bol.com/nl/p/samsung-galaxy-a50-128gb-zwart/9200000106883561/\n",
      "https://bol.com/nl/p/motorola-moto-g8-power-lite-blauw/9200000127141343/\n",
      "https://bol.com/nl/p/huawei-p30-lite-128gb-midnight-zwart/9200000107750278/\n",
      "https://bol.com/nl/p/samsung-galaxy-a10-32gb-blauw/9200000111950979/\n",
      "https://bol.com/nl/p/samsung-galaxy-xcover-4s-32gb-zwart/9200000111950981/\n",
      "https://bol.com/nl/p/apple-iphone-se-128gb-zwart/9300000000886601/\n",
      "https://bol.com/nl/p/oneplus-nord-n100-64gb-grijs/9300000017872622/\n",
      "https://bol.com/nl/p/motorola-moto-g9-power-128gb-groen/9300000012375717/\n",
      "https://bol.com/nl/p/samsung-galaxy-a32-5g-128gb-awesome-black/9300000022106004/\n",
      "https://bol.com/nl/p/huawei-p30-lite-new-edition-256gb-midnight-black/9200000126132549/\n",
      "https://bol.com/nl/p/oppo-a72-128gb-zwart/9300000002779754/\n",
      "https://bol.com/nl/p/samsung-galaxy-a10s-32gb-zwart/9200000121265417/\n",
      "https://bol.com/nl/p/samsung-galaxy-s20-5g-128gb-cosmic-grey/9200000128429194/\n",
      "https://bol.com/nl/p/apple-iphone-x-refurbished-door-forza-c-grade-64gb-spacegrijs/9200000101335076/\n",
      "https://bol.com/nl/p/apple-iphone-12-pro-max-256gb-grafiet/9300000013742208/\n",
      "https://bol.com/nl/p/alcatel-1se-32gb-grijs/9300000001580712/\n",
      "https://bol.com/nl/p/nokia-5-4-64gb-blauw/9300000021882472/\n",
      "https://bol.com/nl/p/samsung-galaxy-a02s-32gb-zwart/9300000020547718/''https://bol.com/nl/p/samsung-galaxy-a51-128gb-zwart/9200000127101717/\n",
      "https://bol.com/nl/p/samsung-galaxy-a20e-32gb-zwart/9200000109073236/\n",
      "https://bol.com/nl/p/samsung-galaxy-a41-64gb-zwart/9300000000132992/\n",
      "https://bol.com/nl/p/samsung-galaxy-a71-128gb-zwart/9200000127101810/\n",
      "https://bol.com/nl/p/apple-iphone-se-64gb-zwart/9300000000886605/\n",
      "https://bol.com/nl/p/apple-iphone-12-64gb-zwart/9300000013742278/\n",
      "https://bol.com/nl/p/alcatel-1c-3g-8gb-zwart/9200000112629003/\n",
      "https://bol.com/nl/p/motorola-moto-e6-play-32gb-steel-black/9200000122803221/\n",
      "https://bol.com/nl/p/samsung-galaxy-a12-128gb-zwart/9300000019419396/\n",
      "https://bol.com/nl/p/samsung-galaxy-s20-fe-4g-128gb-cloud-navy/9300000008841647/\n",
      "https://bol.com/nl/p/samsung-galaxy-a21s-32gb-blauw/9300000000132994/\n",
      "https://bol.com/nl/p/apple-iphone-11-64gb-zwart/9200000119815601/\n",
      "https://bol.com/nl/p/samsung-galaxy-a42-5g-128gb-prism-dot-black/9300000010098436/\n",
      "https://bol.com/nl/p/apple-iphone-12-pro-128gb-oceaan-blauw/9300000013742251/\n",
      "https://bol.com/nl/p/samsung-galaxy-a01-core-16gb-zwart/9300000007420502/\n",
      "https://bol.com/nl/p/samsung-galaxy-a10-32gb-zwart/9200000111950985/\n",
      "https://bol.com/nl/p/samsung-galaxy-a21s-128gb-zwart/9300000015820720/\n",
      "https://bol.com/nl/p/samsung-galaxy-a12-64gb-zwart/9300000020208465/\n",
      "https://bol.com/nl/p/apple-iphone-xr-64gb-zwart/9200000098453451/\n",
      "https://bol.com/nl/p/samsung-galaxy-a40-64gb-zwart/9200000107463262/''https://bol.com/nl/p/samsung-galaxy-s10e-128gb-prism-zwart/9200000106450648/\n",
      "https://bol.com/nl/p/samsung-galaxy-s21-5g-128gb-phantom-gray/9300000020732481/\n",
      "https://bol.com/nl/p/apple-iphone-12-mini-64gb-zwart/9300000013742257/\n",
      "https://bol.com/nl/p/apple-iphone-11-128gb-zwart/9200000119816199/\n",
      "https://bol.com/nl/p/huawei-p30-lite-128gb-midnight-zwart/9200000107750278/\n",
      "https://bol.com/nl/p/samsung-galaxy-a50-128gb-zwart/9200000106883561/\n",
      "https://bol.com/nl/p/motorola-moto-g8-power-lite-blauw/9200000127141343/\n",
      "https://bol.com/nl/p/samsung-galaxy-a10-32gb-blauw/9200000111950979/\n",
      "https://bol.com/nl/p/samsung-galaxy-xcover-4s-32gb-zwart/9200000111950981/\n",
      "https://bol.com/nl/p/apple-iphone-se-128gb-zwart/9300000000886601/\n",
      "https://bol.com/nl/p/motorola-moto-g9-power-128gb-groen/9300000012375717/\n",
      "https://bol.com/nl/p/samsung-galaxy-a32-5g-128gb-awesome-black/9300000022106004/\n",
      "https://bol.com/nl/p/huawei-p30-lite-new-edition-256gb-midnight-black/9200000126132549/\n",
      "https://bol.com/nl/p/oppo-a72-128gb-zwart/9300000002779754/\n",
      "https://bol.com/nl/p/alcatel-1se-32gb-grijs/9300000001580712/\n",
      "https://bol.com/nl/p/samsung-galaxy-a10s-32gb-zwart/9200000121265417/\n",
      "https://bol.com/nl/p/apple-iphone-12-pro-max-256gb-grafiet/9300000013742208/\n",
      "https://bol.com/nl/p/apple-iphone-x-refurbished-door-forza-c-grade-64gb-spacegrijs/9200000101335076/\n",
      "https://bol.com/nl/p/oneplus-nord-n100-64gb-grijs/9300000017872622/\n",
      "https://bol.com/nl/p/samsung-galaxy-a21s-64gb-wit/9300000000132987/\n",
      "https://bol.com/nl/p/samsung-galaxy-s20-5g-128gb-cosmic-grey/9200000128429194/\n",
      "https://bol.com/nl/p/samsung-galaxy-a71-128gb-blauw/9200000127101719/\n",
      "https://bol.com/nl/p/samsung-galaxy-a02s-32gb-zwart/9300000020547718/\n",
      "https://bol.com/nl/p/nokia-5-4-64gb-blauw/9300000021882472/'['https://bol.com/nl/p/samsung-galaxy-a51-128gb-zwart/9200000127101717/\n",
      "https://bol.com/nl/p/samsung-galaxy-a20e-32gb-zwart/9200000109073236/\n",
      "https://bol.com/nl/p/samsung-galaxy-a41-64gb-zwart/9300000000132992/\n",
      "https://bol.com/nl/p/samsung-galaxy-a71-128gb-zwart/9200000127101810/\n",
      "https://bol.com/nl/p/apple-iphone-se-64gb-zwart/9300000000886605/\n",
      "https://bol.com/nl/p/apple-iphone-12-64gb-zwart/9300000013742278/\n",
      "https://bol.com/nl/p/alcatel-1c-3g-8gb-zwart/9200000112629003/\n",
      "https://bol.com/nl/p/motorola-moto-e6-play-32gb-steel-black/9200000122803221/\n",
      "https://bol.com/nl/p/samsung-galaxy-a12-128gb-zwart/9300000019419396/\n",
      "https://bol.com/nl/p/samsung-galaxy-s20-fe-4g-128gb-cloud-navy/9300000008841647/\n",
      "https://bol.com/nl/p/samsung-galaxy-a21s-32gb-blauw/9300000000132994/\n",
      "https://bol.com/nl/p/apple-iphone-11-64gb-zwart/9200000119815601/\n",
      "https://bol.com/nl/p/samsung-galaxy-a42-5g-128gb-prism-dot-black/9300000010098436/\n",
      "https://bol.com/nl/p/apple-iphone-12-pro-128gb-oceaan-blauw/9300000013742251/\n",
      "https://bol.com/nl/p/samsung-galaxy-a01-core-16gb-zwart/9300000007420502/\n",
      "https://bol.com/nl/p/samsung-galaxy-a10-32gb-zwart/9200000111950985/\n",
      "https://bol.com/nl/p/samsung-galaxy-a21s-128gb-zwart/9300000015820720/\n",
      "https://bol.com/nl/p/samsung-galaxy-a12-64gb-zwart/9300000020208465/\n",
      "https://bol.com/nl/p/apple-iphone-xr-64gb-zwart/9200000098453451/\n",
      "https://bol.com/nl/p/samsung-galaxy-a40-64gb-zwart/9200000107463262/']['https://bol.com/nl/p/samsung-galaxy-s10e-128gb-prism-zwart/9200000106450648/\n",
      "https://bol.com/nl/p/samsung-galaxy-s21-5g-128gb-phantom-gray/9300000020732481/\n",
      "https://bol.com/nl/p/apple-iphone-12-mini-64gb-zwart/9300000013742257/\n",
      "https://bol.com/nl/p/apple-iphone-11-128gb-zwart/9200000119816199/\n",
      "https://bol.com/nl/p/huawei-p30-lite-128gb-midnight-zwart/9200000107750278/\n",
      "https://bol.com/nl/p/samsung-galaxy-a50-128gb-zwart/9200000106883561/\n",
      "https://bol.com/nl/p/motorola-moto-g8-power-lite-blauw/9200000127141343/\n",
      "https://bol.com/nl/p/samsung-galaxy-a10-32gb-blauw/9200000111950979/\n",
      "https://bol.com/nl/p/samsung-galaxy-xcover-4s-32gb-zwart/9200000111950981/\n",
      "https://bol.com/nl/p/apple-iphone-se-128gb-zwart/9300000000886601/\n",
      "https://bol.com/nl/p/motorola-moto-g9-power-128gb-groen/9300000012375717/\n",
      "https://bol.com/nl/p/samsung-galaxy-a32-5g-128gb-awesome-black/9300000022106004/\n",
      "https://bol.com/nl/p/huawei-p30-lite-new-edition-256gb-midnight-black/9200000126132549/\n",
      "https://bol.com/nl/p/oppo-a72-128gb-zwart/9300000002779754/\n",
      "https://bol.com/nl/p/alcatel-1se-32gb-grijs/9300000001580712/\n",
      "https://bol.com/nl/p/samsung-galaxy-a10s-32gb-zwart/9200000121265417/\n",
      "https://bol.com/nl/p/apple-iphone-12-pro-max-256gb-grafiet/9300000013742208/\n",
      "https://bol.com/nl/p/apple-iphone-x-refurbished-door-forza-c-grade-64gb-spacegrijs/9200000101335076/\n",
      "https://bol.com/nl/p/oneplus-nord-n100-64gb-grijs/9300000017872622/\n",
      "https://bol.com/nl/p/samsung-galaxy-a21s-64gb-wit/9300000000132987/\n",
      "https://bol.com/nl/p/samsung-galaxy-s20-5g-128gb-cosmic-grey/9200000128429194/\n",
      "https://bol.com/nl/p/samsung-galaxy-a71-128gb-blauw/9200000127101719/\n",
      "https://bol.com/nl/p/samsung-galaxy-a02s-32gb-zwart/9300000020547718/\n",
      "https://bol.com/nl/p/nokia-5-4-64gb-blauw/9300000021882472/']['https://bol.com/nl/p/samsung-galaxy-a51-128gb-zwart/9200000127101717/\n",
      "https://bol.com/nl/p/samsung-galaxy-a20e-32gb-zwart/9200000109073236/\n",
      "https://bol.com/nl/p/samsung-galaxy-a41-64gb-zwart/9300000000132992/\n",
      "https://bol.com/nl/p/samsung-galaxy-a71-128gb-zwart/9200000127101810/\n",
      "https://bol.com/nl/p/apple-iphone-se-64gb-zwart/9300000000886605/\n",
      "https://bol.com/nl/p/samsung-galaxy-a21s-64gb-zwart/9300000000132986/\n",
      "https://bol.com/nl/p/apple-iphone-12-64gb-zwart/9300000013742278/\n",
      "https://bol.com/nl/p/alcatel-1c-3g-8gb-zwart/9200000112629003/\n",
      "https://bol.com/nl/p/motorola-moto-e6-play-32gb-steel-black/9200000122803221/\n",
      "https://bol.com/nl/p/samsung-galaxy-a12-128gb-zwart/9300000019419396/\n",
      "https://bol.com/nl/p/samsung-galaxy-a21s-32gb-blauw/9300000000132994/\n",
      "https://bol.com/nl/p/apple-iphone-11-64gb-zwart/9200000119815601/\n",
      "https://bol.com/nl/p/samsung-galaxy-s20-fe-4g-128gb-cloud-navy/9300000008841647/\n",
      "https://bol.com/nl/p/samsung-galaxy-a42-5g-128gb-prism-dot-black/9300000010098436/\n",
      "https://bol.com/nl/p/apple-iphone-12-pro-128gb-oceaan-blauw/9300000013742251/\n",
      "https://bol.com/nl/p/samsung-galaxy-a01-core-16gb-zwart/9300000007420502/\n",
      "https://bol.com/nl/p/samsung-galaxy-a10-32gb-zwart/9200000111950985/\n",
      "https://bol.com/nl/p/samsung-galaxy-a21s-128gb-zwart/9300000015820720/\n",
      "https://bol.com/nl/p/samsung-galaxy-a12-64gb-zwart/9300000020208465/\n",
      "https://bol.com/nl/p/apple-iphone-xr-64gb-zwart/9200000098453451/\n",
      "https://bol.com/nl/p/samsung-galaxy-a40-64gb-zwart/9200000107463262/']['https://bol.com/nl/p/samsung-galaxy-a51-128gb-wit/9200000127101721/\n",
      "https://bol.com/nl/p/samsung-galaxy-s10e-128gb-prism-zwart/9200000106450648/\n",
      "https://bol.com/nl/p/apple-iphone-12-mini-64gb-zwart/9300000013742257/\n",
      "https://bol.com/nl/p/apple-iphone-11-128gb-zwart/9200000119816199/\n",
      "https://bol.com/nl/p/samsung-galaxy-s21-5g-128gb-phantom-gray/9300000020732481/\n",
      "https://bol.com/nl/p/samsung-galaxy-a50-128gb-zwart/9200000106883561/\n",
      "https://bol.com/nl/p/samsung-galaxy-a10-32gb-blauw/9200000111950979/\n",
      "https://bol.com/nl/p/huawei-p30-lite-128gb-midnight-zwart/9200000107750278/\n",
      "https://bol.com/nl/p/apple-iphone-se-128gb-zwart/9300000000886601/\n",
      "https://bol.com/nl/p/samsung-galaxy-a32-5g-128gb-awesome-black/9300000022106004/\n",
      "https://bol.com/nl/p/samsung-galaxy-xcover-4s-32gb-zwart/9200000111950981/\n",
      "https://bol.com/nl/p/huawei-p30-lite-new-edition-256gb-midnight-black/9200000126132549/\n",
      "https://bol.com/nl/p/oppo-a72-128gb-zwart/9300000002779754/\n",
      "https://bol.com/nl/p/alcatel-1se-32gb-grijs/9300000001580712/\n",
      "https://bol.com/nl/p/samsung-galaxy-a10s-32gb-zwart/9200000121265417/\n",
      "https://bol.com/nl/p/apple-iphone-12-pro-max-256gb-grafiet/9300000013742208/\n",
      "https://bol.com/nl/p/apple-iphone-x-refurbished-door-forza-c-grade-64gb-spacegrijs/9200000101335076/\n",
      "https://bol.com/nl/p/oneplus-nord-n100-64gb-grijs/9300000017872622/\n",
      "https://bol.com/nl/p/samsung-galaxy-a21s-64gb-wit/9300000000132987/\n",
      "https://bol.com/nl/p/samsung-galaxy-s20-5g-128gb-cosmic-grey/9200000128429194/\n",
      "https://bol.com/nl/p/motorola-moto-g9-power-128gb-groen/9300000012375717/\n",
      "https://bol.com/nl/p/samsung-galaxy-a71-128gb-blauw/9200000127101719/\n",
      "https://bol.com/nl/p/samsung-galaxy-a02s-32gb-zwart/9300000020547718/\n",
      "https://bol.com/nl/p/samsung-galaxy-m21-power-64gb-zwart/9300000000133004/']['https://bol.com/nl/p/samsung-galaxy-a51-128gb-zwart/9200000127101717/\n",
      "https://bol.com/nl/p/samsung-galaxy-a20e-32gb-zwart/9200000109073236/\n",
      "https://bol.com/nl/p/samsung-galaxy-a41-64gb-zwart/9300000000132992/\n",
      "https://bol.com/nl/p/samsung-galaxy-a71-128gb-zwart/9200000127101810/\n",
      "https://bol.com/nl/p/apple-iphone-se-64gb-zwart/9300000000886605/\n",
      "https://bol.com/nl/p/samsung-galaxy-a21s-64gb-zwart/9300000000132986/\n",
      "https://bol.com/nl/p/apple-iphone-12-64gb-zwart/9300000013742278/\n",
      "https://bol.com/nl/p/alcatel-1c-3g-8gb-zwart/9200000112629003/\n",
      "https://bol.com/nl/p/motorola-moto-e6-play-32gb-steel-black/9200000122803221/\n",
      "https://bol.com/nl/p/samsung-galaxy-a12-128gb-zwart/9300000019419396/\n",
      "https://bol.com/nl/p/samsung-galaxy-a21s-32gb-blauw/9300000000132994/\n",
      "https://bol.com/nl/p/apple-iphone-11-64gb-zwart/9200000119815601/\n",
      "https://bol.com/nl/p/samsung-galaxy-s20-fe-4g-128gb-cloud-navy/9300000008841647/\n",
      "https://bol.com/nl/p/samsung-galaxy-a42-5g-128gb-prism-dot-black/9300000010098436/\n",
      "https://bol.com/nl/p/apple-iphone-12-pro-128gb-oceaan-blauw/9300000013742251/\n",
      "https://bol.com/nl/p/samsung-galaxy-a01-core-16gb-zwart/9300000007420502/\n",
      "https://bol.com/nl/p/samsung-galaxy-a10-32gb-zwart/9200000111950985/\n",
      "https://bol.com/nl/p/samsung-galaxy-a21s-128gb-zwart/9300000015820720/\n",
      "https://bol.com/nl/p/samsung-galaxy-a12-64gb-zwart/9300000020208465/\n",
      "https://bol.com/nl/p/apple-iphone-xr-64gb-zwart/9200000098453451/\n",
      "https://bol.com/nl/p/samsung-galaxy-a40-64gb-zwart/9200000107463262/']['https://bol.com/nl/p/samsung-galaxy-a51-128gb-wit/9200000127101721/\n",
      "https://bol.com/nl/p/samsung-galaxy-s10e-128gb-prism-zwart/9200000106450648/\n",
      "https://bol.com/nl/p/apple-iphone-12-mini-64gb-zwart/9300000013742257/\n",
      "https://bol.com/nl/p/apple-iphone-11-128gb-zwart/9200000119816199/\n",
      "https://bol.com/nl/p/samsung-galaxy-s21-5g-128gb-phantom-gray/9300000020732481/\n",
      "https://bol.com/nl/p/samsung-galaxy-a50-128gb-zwart/9200000106883561/\n",
      "https://bol.com/nl/p/samsung-galaxy-a10-32gb-blauw/9200000111950979/\n",
      "https://bol.com/nl/p/huawei-p30-lite-128gb-midnight-zwart/9200000107750278/\n",
      "https://bol.com/nl/p/apple-iphone-se-128gb-zwart/9300000000886601/\n",
      "https://bol.com/nl/p/samsung-galaxy-a32-5g-128gb-awesome-black/9300000022106004/\n",
      "https://bol.com/nl/p/samsung-galaxy-xcover-4s-32gb-zwart/9200000111950981/\n",
      "https://bol.com/nl/p/huawei-p30-lite-new-edition-256gb-midnight-black/9200000126132549/\n",
      "https://bol.com/nl/p/oppo-a72-128gb-zwart/9300000002779754/\n",
      "https://bol.com/nl/p/alcatel-1se-32gb-grijs/9300000001580712/\n",
      "https://bol.com/nl/p/samsung-galaxy-a10s-32gb-zwart/9200000121265417/\n",
      "https://bol.com/nl/p/apple-iphone-12-pro-max-256gb-grafiet/9300000013742208/\n",
      "https://bol.com/nl/p/apple-iphone-x-refurbished-door-forza-c-grade-64gb-spacegrijs/9200000101335076/\n",
      "https://bol.com/nl/p/oneplus-nord-n100-64gb-grijs/9300000017872622/\n",
      "https://bol.com/nl/p/samsung-galaxy-a21s-64gb-wit/9300000000132987/\n",
      "https://bol.com/nl/p/samsung-galaxy-s20-5g-128gb-cosmic-grey/9200000128429194/\n",
      "https://bol.com/nl/p/motorola-moto-g9-power-128gb-groen/9300000012375717/\n",
      "https://bol.com/nl/p/samsung-galaxy-a71-128gb-blauw/9200000127101719/\n",
      "https://bol.com/nl/p/samsung-galaxy-a02s-32gb-zwart/9300000020547718/\n",
      "https://bol.com/nl/p/samsung-galaxy-m21-power-64gb-zwart/9300000000133004/']['https://bol.com/nl/p/samsung-galaxy-a51-128gb-zwart/9200000127101717/\n",
      "https://bol.com/nl/p/samsung-galaxy-a20e-32gb-zwart/9200000109073236/\n",
      "https://bol.com/nl/p/samsung-galaxy-a41-64gb-zwart/9300000000132992/\n",
      "https://bol.com/nl/p/samsung-galaxy-a71-128gb-zwart/9200000127101810/\n",
      "https://bol.com/nl/p/apple-iphone-se-64gb-zwart/9300000000886605/\n",
      "https://bol.com/nl/p/samsung-galaxy-a21s-64gb-zwart/9300000000132986/\n",
      "https://bol.com/nl/p/apple-iphone-12-64gb-zwart/9300000013742278/\n",
      "https://bol.com/nl/p/alcatel-1c-3g-8gb-zwart/9200000112629003/\n",
      "https://bol.com/nl/p/motorola-moto-e6-play-32gb-steel-black/9200000122803221/\n",
      "https://bol.com/nl/p/samsung-galaxy-a12-128gb-zwart/9300000019419396/\n",
      "https://bol.com/nl/p/samsung-galaxy-a21s-32gb-blauw/9300000000132994/\n",
      "https://bol.com/nl/p/apple-iphone-11-64gb-zwart/9200000119815601/\n",
      "https://bol.com/nl/p/samsung-galaxy-s20-fe-4g-128gb-cloud-navy/9300000008841647/\n",
      "https://bol.com/nl/p/samsung-galaxy-a42-5g-128gb-prism-dot-black/9300000010098436/\n",
      "https://bol.com/nl/p/apple-iphone-12-pro-128gb-oceaan-blauw/9300000013742251/\n",
      "https://bol.com/nl/p/samsung-galaxy-a01-core-16gb-zwart/9300000007420502/\n",
      "https://bol.com/nl/p/samsung-galaxy-a10-32gb-zwart/9200000111950985/\n",
      "https://bol.com/nl/p/samsung-galaxy-a21s-128gb-zwart/9300000015820720/\n",
      "https://bol.com/nl/p/samsung-galaxy-a12-64gb-zwart/9300000020208465/\n",
      "https://bol.com/nl/p/apple-iphone-xr-64gb-zwart/9200000098453451/\n",
      "https://bol.com/nl/p/samsung-galaxy-a40-64gb-zwart/9200000107463262/']['https://bol.com/nl/p/samsung-galaxy-a51-128gb-wit/9200000127101721/\n",
      "https://bol.com/nl/p/samsung-galaxy-s10e-128gb-prism-zwart/9200000106450648/\n",
      "https://bol.com/nl/p/apple-iphone-12-mini-64gb-zwart/9300000013742257/\n",
      "https://bol.com/nl/p/apple-iphone-11-128gb-zwart/9200000119816199/\n",
      "https://bol.com/nl/p/samsung-galaxy-s21-5g-128gb-phantom-gray/9300000020732481/\n",
      "https://bol.com/nl/p/samsung-galaxy-a50-128gb-zwart/9200000106883561/\n",
      "https://bol.com/nl/p/samsung-galaxy-a10-32gb-blauw/9200000111950979/\n",
      "https://bol.com/nl/p/huawei-p30-lite-128gb-midnight-zwart/9200000107750278/\n",
      "https://bol.com/nl/p/apple-iphone-se-128gb-zwart/9300000000886601/\n",
      "https://bol.com/nl/p/samsung-galaxy-a32-5g-128gb-awesome-black/9300000022106004/\n",
      "https://bol.com/nl/p/samsung-galaxy-xcover-4s-32gb-zwart/9200000111950981/\n",
      "https://bol.com/nl/p/huawei-p30-lite-new-edition-256gb-midnight-black/9200000126132549/\n",
      "https://bol.com/nl/p/oppo-a72-128gb-zwart/9300000002779754/\n",
      "https://bol.com/nl/p/alcatel-1se-32gb-grijs/9300000001580712/\n",
      "https://bol.com/nl/p/samsung-galaxy-a10s-32gb-zwart/9200000121265417/\n",
      "https://bol.com/nl/p/apple-iphone-12-pro-max-256gb-grafiet/9300000013742208/\n",
      "https://bol.com/nl/p/apple-iphone-x-refurbished-door-forza-c-grade-64gb-spacegrijs/9200000101335076/\n",
      "https://bol.com/nl/p/oneplus-nord-n100-64gb-grijs/9300000017872622/\n",
      "https://bol.com/nl/p/samsung-galaxy-a21s-64gb-wit/9300000000132987/\n",
      "https://bol.com/nl/p/samsung-galaxy-s20-5g-128gb-cosmic-grey/9200000128429194/\n",
      "https://bol.com/nl/p/motorola-moto-g9-power-128gb-groen/9300000012375717/\n",
      "https://bol.com/nl/p/samsung-galaxy-a71-128gb-blauw/9200000127101719/\n",
      "https://bol.com/nl/p/samsung-galaxy-a02s-32gb-zwart/9300000020547718/\n",
      "https://bol.com/nl/p/samsung-galaxy-m21-power-64gb-zwart/9300000000133004/\n"
     ]
    }
   ],
   "source": [
    "for url in new_lines:\n",
    "    print(url[1:-2])\n",
    "    \n",
    "#return(url) "
   ]
  },
  {
   "cell_type": "code",
   "execution_count": null,
   "metadata": {},
   "outputs": [],
   "source": [
    "#Doesn't work but save for now\n",
    "#new_lines = [i.replace(\"'\", \" \") for i in new_lines]\n",
    "#print(new_lines)"
   ]
  },
  {
   "cell_type": "code",
   "execution_count": null,
   "metadata": {},
   "outputs": [],
   "source": [
    "#import csv\n",
    "#import json\n",
    "\n",
    "#def csv_to_json(csvFilePath, jsonFilePath):\n",
    "    #jsonArray = []\n",
    "    \n",
    "    #read csv file\n",
    "    #with open(csvFilePath, encoding='utf-8') as csvf: \n",
    "        #load csv file data using csv library's dictionary reader\n",
    "        #csvReader = csv.DictReader(csvf) \n",
    "\n",
    "        #convert each csv row into python dict\n",
    "        #for row in csvReader: \n",
    "            #add this python dict to json array\n",
    "            #jsonArray.append(row)\n",
    "  \n",
    "    #convert python jsonArray to JSON String and write to file\n",
    "    #with open(jsonFilePath, 'w', encoding='utf-8') as jsonf: \n",
    "        jsonString = json.dumps(jsonArray, indent=4)\n",
    "        jsonf.write(jsonString)\n",
    "          \n",
    "#csvFilePath = r'my_output' + '.csv'\n",
    "#jsonFilePath = r'my_output' + '.json'\n",
    "#csv_to_json(csvFilePath, jsonFilePath)\n"
   ]
  },
  {
   "cell_type": "code",
   "execution_count": null,
   "metadata": {},
   "outputs": [],
   "source": [
    "#import json\n",
    "\n",
    "#with open('my_output.json') as f:\n",
    "  #data = json.load(f)\n",
    "\n",
    "# Output: {'name': 'Bob', 'languages': ['English', 'Fench']}\n",
    "#print(data)"
   ]
  },
  {
   "cell_type": "code",
   "execution_count": null,
   "metadata": {},
   "outputs": [],
   "source": [
    "#stripped_new_lines = new_lines.strip(\"'\")\n"
   ]
  },
  {
   "cell_type": "code",
   "execution_count": null,
   "metadata": {},
   "outputs": [],
   "source": [
    "#def all_urls():\n",
    "    #all_urls_list = []    \n",
    "    #for url in lines:\n",
    "        #print(url)\n",
    "        #all_urls_list.append(url)\n",
    "    #return(all_urls_list)"
   ]
  },
  {
   "cell_type": "code",
   "execution_count": null,
   "metadata": {},
   "outputs": [],
   "source": [
    "#all_urls()"
   ]
  },
  {
   "cell_type": "code",
   "execution_count": null,
   "metadata": {},
   "outputs": [],
   "source": [
    "#for url in lines:\n",
    "    #print(url)"
   ]
  },
  {
   "cell_type": "code",
   "execution_count": null,
   "metadata": {},
   "outputs": [],
   "source": [
    "#Doesn't work\n",
    "#import csv\n",
    "\n",
    "#with open('my_output.csv', newline='') as f:\n",
    "    #reader = csv.reader(f)\n",
    "    #data = list(reader)\n",
    "\n",
    "#print(data)"
   ]
  },
  {
   "cell_type": "code",
   "execution_count": 41,
   "metadata": {},
   "outputs": [
    {
     "name": "stdout",
     "output_type": "stream",
     "text": [
      "https://bol.com/nl/p/samsung-galaxy-a51-128gb-wit/9200000127101721/\n",
      "https://bol.com/nl/p/samsung-galaxy-s10e-128gb-prism-zwart/9200000106450648/\n",
      "https://bol.com/nl/p/apple-iphone-12-mini-64gb-zwart/9300000013742257/\n",
      "https://bol.com/nl/p/apple-iphone-11-128gb-zwart/9200000119816199/\n",
      "https://bol.com/nl/p/samsung-galaxy-s21-5g-128gb-phantom-gray/9300000020732481/\n",
      "https://bol.com/nl/p/samsung-galaxy-a50-128gb-zwart/9200000106883561/\n",
      "https://bol.com/nl/p/samsung-galaxy-a10-32gb-blauw/9200000111950979/\n",
      "https://bol.com/nl/p/huawei-p30-lite-128gb-midnight-zwart/9200000107750278/\n",
      "https://bol.com/nl/p/apple-iphone-se-128gb-zwart/9300000000886601/\n",
      "https://bol.com/nl/p/samsung-galaxy-a32-5g-128gb-awesome-black/9300000022106004/\n",
      "https://bol.com/nl/p/samsung-galaxy-xcover-4s-32gb-zwart/9200000111950981/\n",
      "https://bol.com/nl/p/huawei-p30-lite-new-edition-256gb-midnight-black/9200000126132549/\n",
      "https://bol.com/nl/p/oppo-a72-128gb-zwart/9300000002779754/\n",
      "https://bol.com/nl/p/alcatel-1se-32gb-grijs/9300000001580712/\n",
      "https://bol.com/nl/p/samsung-galaxy-a10s-32gb-zwart/9200000121265417/\n",
      "https://bol.com/nl/p/apple-iphone-12-pro-max-256gb-grafiet/9300000013742208/\n",
      "https://bol.com/nl/p/apple-iphone-x-refurbished-door-forza-c-grade-64gb-spacegrijs/9200000101335076/\n",
      "https://bol.com/nl/p/oneplus-nord-n100-64gb-grijs/9300000017872622/\n",
      "https://bol.com/nl/p/samsung-galaxy-a21s-64gb-wit/9300000000132987/\n",
      "https://bol.com/nl/p/samsung-galaxy-s20-5g-128gb-cosmic-grey/9200000128429194/\n",
      "https://bol.com/nl/p/motorola-moto-g9-power-128gb-groen/9300000012375717/\n",
      "https://bol.com/nl/p/samsung-galaxy-a71-128gb-blauw/9200000127101719/\n",
      "https://bol.com/nl/p/samsung-galaxy-a02s-32gb-zwart/9300000020547718/\n",
      "https://bol.com/nl/p/samsung-galaxy-m21-power-64gb-zwart/9300000000133004/\n"
     ]
    }
   ],
   "source": [
    "for url in my_phones:\n",
    "    print(url)"
   ]
  },
  {
   "cell_type": "markdown",
   "metadata": {},
   "source": [
    "## Get data from phone urls"
   ]
  },
  {
   "cell_type": "code",
   "execution_count": null,
   "metadata": {},
   "outputs": [],
   "source": [
    "#def get_product_data(url):\n",
    "    #driver.get(your_list)\n",
    "    #your_list[]"
   ]
  },
  {
   "cell_type": "code",
   "execution_count": 42,
   "metadata": {},
   "outputs": [],
   "source": [
    "# Correct cell\n",
    "#def get_product_data(my_phones):\n",
    "    driver.get(url)\n",
    "    time.sleep(2)\n",
    "    res = driver.page_source.encode('utf-8')\n",
    "    soup = BeautifulSoup(res, \"html.parser\")\n",
    "    \n",
    "    #get prodcuts\n",
    "    title = soup.find(attrs={\"data-test\": \"title\"}).text\n",
    "    price = soup.find(attrs={\"data-test\": \"price\"}).text\n",
    "    price = price.replace(\"\\n\", \"\")\n",
    "    star_rating = soup.find(attrs={\"data-test\": 'reviews'}).text\n",
    "    star_rating = star_rating.replace(\"\\n\\n\\n\", \"\")\n",
    "    today = date.today()\n",
    "    \n",
    "    jsondict = {\"title\": title,\n",
    "               \"price\": price,\n",
    "               \"star_rating\": star_rating,\n",
    "               \"date\": str(today)}\n",
    "               \n",
    "    return(jsondict)\n",
    "    "
   ]
  },
  {
   "cell_type": "code",
   "execution_count": 30,
   "metadata": {},
   "outputs": [],
   "source": [
    "# Trial cell\n",
    "def get_product_data(new_urls):\n",
    "    driver.get(url)\n",
    "    time.sleep(2)\n",
    "    res = driver.page_source.encode('utf-8')\n",
    "    soup = BeautifulSoup(res, \"html.parser\")\n",
    "    \n",
    "    #get prodcuts\n",
    "    title = soup.find(attrs={\"data-test\": \"title\"}).text\n",
    "    price = soup.find(attrs={\"data-test\": \"price\"}).text\n",
    "    price = price.replace(\"\\n\", \"\")\n",
    "    star_rating = soup.find(attrs={\"data-test\": 'reviews'}).text\n",
    "    star_rating = star_rating.replace(\"\\n\\n\\n\", \"\")\n",
    "    today = date.today()\n",
    "    \n",
    "    jsondict = {\"title\": title,\n",
    "               \"price\": price,\n",
    "               \"star_rating\": star_rating,\n",
    "               \"date\": str(today)}\n",
    "               \n",
    "    return(jsondict)\n",
    "    "
   ]
  },
  {
   "cell_type": "code",
   "execution_count": 31,
   "metadata": {},
   "outputs": [],
   "source": [
    "my_json = get_product_data(new_urls[0])"
   ]
  },
  {
   "cell_type": "code",
   "execution_count": 32,
   "metadata": {},
   "outputs": [
    {
     "name": "stdout",
     "output_type": "stream",
     "text": [
      "{'title': 'Samsung Galaxy M21 Power - 64GB - Zwart', 'price': '229  -', 'star_rating': '\\n4.6 5\\n256 reviews\\n', 'date': '2021-03-19'}\n"
     ]
    }
   ],
   "source": [
    "print(my_json)"
   ]
  },
  {
   "cell_type": "code",
   "execution_count": 33,
   "metadata": {},
   "outputs": [],
   "source": [
    "f = open('out_bol.json','w',encoding='utf-8')\n",
    "f.close()"
   ]
  },
  {
   "cell_type": "code",
   "execution_count": 34,
   "metadata": {},
   "outputs": [],
   "source": [
    "import json\n",
    "\n",
    "def get_filename(prefix='data_', suffix='.csv'):\n",
    "    timestr = time.strftime(\"%Y%m%d-%H\")\n",
    "    return(prefix + timestr + suffix)"
   ]
  },
  {
   "cell_type": "code",
   "execution_count": 35,
   "metadata": {},
   "outputs": [
    {
     "data": {
      "text/plain": [
       "'data_20210319-09.csv'"
      ]
     },
     "execution_count": 35,
     "metadata": {},
     "output_type": "execute_result"
    }
   ],
   "source": [
    "get_filename()"
   ]
  },
  {
   "cell_type": "code",
   "execution_count": 48,
   "metadata": {},
   "outputs": [
    {
     "name": "stdout",
     "output_type": "stream",
     "text": [
      "https://bol.com/nl/p/samsung-galaxy-a51-128gb-wit/9200000127101721/\n",
      "https://bol.com/nl/p/samsung-galaxy-s10e-128gb-prism-zwart/9200000106450648/\n",
      "https://bol.com/nl/p/apple-iphone-12-mini-64gb-zwart/9300000013742257/\n",
      "https://bol.com/nl/p/apple-iphone-11-128gb-zwart/9200000119816199/\n",
      "https://bol.com/nl/p/samsung-galaxy-s21-5g-128gb-phantom-gray/9300000020732481/\n",
      "https://bol.com/nl/p/samsung-galaxy-a50-128gb-zwart/9200000106883561/\n",
      "https://bol.com/nl/p/samsung-galaxy-a10-32gb-blauw/9200000111950979/\n",
      "https://bol.com/nl/p/huawei-p30-lite-128gb-midnight-zwart/9200000107750278/\n",
      "https://bol.com/nl/p/apple-iphone-se-128gb-zwart/9300000000886601/\n",
      "https://bol.com/nl/p/samsung-galaxy-a32-5g-128gb-awesome-black/9300000022106004/\n",
      "https://bol.com/nl/p/samsung-galaxy-xcover-4s-32gb-zwart/9200000111950981/\n",
      "https://bol.com/nl/p/huawei-p30-lite-new-edition-256gb-midnight-black/9200000126132549/\n",
      "https://bol.com/nl/p/oppo-a72-128gb-zwart/9300000002779754/\n",
      "https://bol.com/nl/p/alcatel-1se-32gb-grijs/9300000001580712/\n",
      "https://bol.com/nl/p/samsung-galaxy-a10s-32gb-zwart/9200000121265417/\n",
      "https://bol.com/nl/p/apple-iphone-12-pro-max-256gb-grafiet/9300000013742208/\n",
      "https://bol.com/nl/p/apple-iphone-x-refurbished-door-forza-c-grade-64gb-spacegrijs/9200000101335076/\n",
      "https://bol.com/nl/p/oneplus-nord-n100-64gb-grijs/9300000017872622/\n",
      "https://bol.com/nl/p/samsung-galaxy-a21s-64gb-wit/9300000000132987/\n",
      "https://bol.com/nl/p/samsung-galaxy-s20-5g-128gb-cosmic-grey/9200000128429194/\n",
      "https://bol.com/nl/p/motorola-moto-g9-power-128gb-groen/9300000012375717/\n",
      "https://bol.com/nl/p/samsung-galaxy-a71-128gb-blauw/9200000127101719/\n",
      "https://bol.com/nl/p/samsung-galaxy-a02s-32gb-zwart/9300000020547718/\n",
      "https://bol.com/nl/p/samsung-galaxy-m21-power-64gb-zwart/9300000000133004/\n"
     ]
    }
   ],
   "source": [
    "for url in my_phones:\n",
    "    print(url)\n",
    "     \n",
    "    my_json = get_product_data(url)\n",
    "    f = open(get_filename(),'a',encoding='utf-8')\n",
    "    f.write(json.dumps(my_json)+'\\n')\n",
    "    f.close()"
   ]
  },
  {
   "cell_type": "markdown",
   "metadata": {},
   "source": [
    "## Get all page urls TRIAL"
   ]
  },
  {
   "cell_type": "code",
   "execution_count": null,
   "metadata": {},
   "outputs": [],
   "source": [
    "for url in my_urls:\n",
    "    print(my_phones)"
   ]
  },
  {
   "cell_type": "code",
   "execution_count": null,
   "metadata": {},
   "outputs": [],
   "source": []
  },
  {
   "cell_type": "code",
   "execution_count": null,
   "metadata": {},
   "outputs": [],
   "source": [
    "# Function get pages test delete after\n",
    "def get_pages(url):\n",
    "    base_url = \"https://bol.com/nl/l/smartphones/N/4010/\"\n",
    "    page_urls = []\n",
    "\n",
    "    #fix counter range\n",
    "    for counter in range(1,98): #work with num_pages variable instead of fixed ranged\n",
    "        full_url = base_url + \"?page=\" + str(counter)\n",
    "        page_urls.append(full_url)\n",
    "    return(page_urls)"
   ]
  },
  {
   "cell_type": "code",
   "execution_count": null,
   "metadata": {},
   "outputs": [],
   "source": [
    "#test delete after\n",
    "my_urls = get_pages(my_urls)\n",
    "print(my_urls)"
   ]
  },
  {
   "cell_type": "code",
   "execution_count": null,
   "metadata": {},
   "outputs": [],
   "source": [
    "# Trialing to loop over each page in my_urls and then execute function my_phones\n",
    "for url in my_urls[0:5]:\n",
    "    print(url)\n",
    "    \n",
    "    my_phones = get_phones(my_urls)\n",
    "    f = open(get_filename(),'a',encoding='utf-8')\n",
    "    f.write(json.dumps(my_json)+'\\n')\n",
    "    f.close()"
   ]
  },
  {
   "cell_type": "markdown",
   "metadata": {},
   "source": [
    "# variable collection trialing\n",
    "- Name\n",
    "- Price\n",
    "- Star rating\n",
    "- Number of reviews\n",
    "- Date"
   ]
  },
  {
   "cell_type": "markdown",
   "metadata": {},
   "source": [
    "### Packages and urls (to bo deleted when in function)"
   ]
  },
  {
   "cell_type": "code",
   "execution_count": null,
   "metadata": {},
   "outputs": [],
   "source": [
    "# Get TEST URL\n",
    "url = 'https://www.bol.com/nl/p/samsung-galaxy-a51-128gb-wit/9200000127101721/?s2a=#productTitle'\n",
    "res = requests.get(url)\n",
    "soup = BeautifulSoup(res.text, \"html.parser\")"
   ]
  },
  {
   "cell_type": "code",
   "execution_count": null,
   "metadata": {},
   "outputs": [],
   "source": [
    "# Get SELENIUM TEST URL\n",
    "driver.get(\"https://www.bol.com/nl/p/samsung-galaxy-a51-128gb-wit/9200000127101721/?s2a=#productTitle\")"
   ]
  },
  {
   "cell_type": "markdown",
   "metadata": {},
   "source": [
    "### Phone title"
   ]
  },
  {
   "cell_type": "code",
   "execution_count": null,
   "metadata": {},
   "outputs": [],
   "source": [
    "## Scrape phone title\n",
    "phone_title = soup.find(attrs={\"data-test\": \"title\"}).text\n",
    "print(phone_title)"
   ]
  },
  {
   "cell_type": "markdown",
   "metadata": {},
   "source": [
    "### Price"
   ]
  },
  {
   "cell_type": "code",
   "execution_count": null,
   "metadata": {},
   "outputs": [],
   "source": [
    "## Scrape price \n",
    "price = soup.find(attrs={\"data-test\": \"price\"}).text\n",
    "price = price.replace(\"\\n\", \"\")\n",
    "print(price)"
   ]
  },
  {
   "cell_type": "code",
   "execution_count": null,
   "metadata": {},
   "outputs": [],
   "source": [
    "## Scrape price fraction\n",
    "soup.find(attrs={\"data-test\": \"price-fraction\"}).text"
   ]
  },
  {
   "cell_type": "markdown",
   "metadata": {},
   "source": [
    "### Rating"
   ]
  },
  {
   "cell_type": "code",
   "execution_count": null,
   "metadata": {},
   "outputs": [],
   "source": [
    "## Scrape star rating and number of reviews\n",
    "star_rating = soup.find(attrs={\"data-test\": 'reviews'}).text\n",
    "star_rating = star_rating.replace(\"\\n\\n\\n\", \"\")\n",
    "print(star_rating)"
   ]
  },
  {
   "cell_type": "markdown",
   "metadata": {},
   "source": [
    "### Date"
   ]
  },
  {
   "cell_type": "code",
   "execution_count": null,
   "metadata": {},
   "outputs": [],
   "source": [
    "## DATE\n",
    "from datetime import date\n",
    "\n",
    "today = date.today()\n",
    "print(today)\n"
   ]
  },
  {
   "cell_type": "markdown",
   "metadata": {},
   "source": [
    "## Toon meer button WIP"
   ]
  },
  {
   "cell_type": "code",
   "execution_count": null,
   "metadata": {},
   "outputs": [],
   "source": [
    "# Works\n",
    "show_more = driver.find_elements_by_class_name(\"show-more__button\")[1]\n",
    "show_more.click()"
   ]
  },
  {
   "cell_type": "code",
   "execution_count": null,
   "metadata": {},
   "outputs": [],
   "source": [
    "brand = driver.find_elements_by_class_name(\"specs__title\")[1]\n",
    "print(brand)"
   ]
  },
  {
   "cell_type": "code",
   "execution_count": null,
   "metadata": {},
   "outputs": [],
   "source": [
    "model = soup.find(attrs={\"date__value\": \"title\"})\n",
    "print(model)"
   ]
  },
  {
   "cell_type": "markdown",
   "metadata": {},
   "source": [
    "## Overbodig (prototyping)"
   ]
  },
  {
   "cell_type": "code",
   "execution_count": null,
   "metadata": {},
   "outputs": [],
   "source": [
    "## OVerbodig\n",
    "#collecting product links\n",
    "phones = soup.find_all(class_=\"product-item--row js_item_root\")\n",
    "phones_urls = []\n",
    "\n",
    "for phone in phones: \n",
    "    phones_url = phone.find(\"a\").attrs[\"href\"]\n",
    "    phones_urls.append(phones_url)\n",
    "    \n",
    "    driver.execute_script('window.scrollTo(0, document.body.scrollHeight);')\n",
    "    \n",
    "        \n",
    "# print first 20 urls for each page\n",
    "\n",
    "print(phones_urls[0:28])\n",
    "\n",
    "#We are able to scrape the first 21 hits on each page. Why aren't we able to print the last 6 of them?"
   ]
  },
  {
   "cell_type": "code",
   "execution_count": null,
   "metadata": {},
   "outputs": [],
   "source": [
    "## Overbodig\n",
    "## all smartphone pages\n",
    "base_url = \"https://bol.com/nl/l/smartphones/N/4010/\"\n",
    "page_urls = []\n",
    "\n",
    "for counter in range(1, 98):\n",
    "    full_url = base_url + \"?page=\" + str(counter)\n",
    "    page_urls.append(full_url)\n",
    "    \n",
    "print(page_urls)"
   ]
  },
  {
   "cell_type": "code",
   "execution_count": null,
   "metadata": {},
   "outputs": [],
   "source": [
    "## Overbodig\n",
    "#click next page button\n",
    "next_page = driver.find_elements_by_class_name(\"js_pagination_item\")[0]\n",
    "next_page.click()"
   ]
  },
  {
   "cell_type": "code",
   "execution_count": null,
   "metadata": {},
   "outputs": [],
   "source": [
    "## Overbodig\n",
    "#click next page button v2\n",
    "next_page = driver.find_elements_by_class_name(\"[ pagination__controls pagination__controls--next ]\")\n",
    "next_page.click()"
   ]
  },
  {
   "cell_type": "code",
   "execution_count": null,
   "metadata": {},
   "outputs": [],
   "source": [
    "## OVerbodig\n",
    "#Selenium get, product link test\n",
    "product_link = soup.find(class_=\"product-item--row js_item_root\").find(\"a\").attrs[\"href\"]\n",
    "base_url = \"https://bol.com\"\n",
    "\n",
    "print(base_url + product_link)"
   ]
  },
  {
   "cell_type": "code",
   "execution_count": null,
   "metadata": {},
   "outputs": [],
   "source": [
    "## Overbodig\n",
    "#collecting product links\n",
    "phones = soup.find_all(class_=\"product-item--row js_item_root\")\n",
    "phones_urls = []\n",
    "\n",
    "for phone in phones: \n",
    "    phones_url = phone.find(\"a\").attrs[\"href\"]\n",
    "    phones_urls.append(phones_url)\n",
    "    \n",
    "    driver.execute_script('window.scrollTo(0, document.body.scrollHeight);')\n",
    "    \n",
    "        \n",
    "# print first 20 urls for each page\n",
    "\n",
    "print(phones_urls[0:28])\n",
    "\n",
    "#We are able to scrape the first 21 hits on each page. Why aren't we able to print the last 6 of them?\n"
   ]
  },
  {
   "cell_type": "code",
   "execution_count": null,
   "metadata": {},
   "outputs": [],
   "source": []
  },
  {
   "cell_type": "code",
   "execution_count": null,
   "metadata": {},
   "outputs": [],
   "source": []
  },
  {
   "cell_type": "code",
   "execution_count": null,
   "metadata": {},
   "outputs": [],
   "source": []
  }
 ],
 "metadata": {
  "kernelspec": {
   "display_name": "Python 3",
   "language": "python",
   "name": "python3"
  },
  "language_info": {
   "codemirror_mode": {
    "name": "ipython",
    "version": 3
   },
   "file_extension": ".py",
   "mimetype": "text/x-python",
   "name": "python",
   "nbconvert_exporter": "python",
   "pygments_lexer": "ipython3",
   "version": "3.8.5"
  }
 },
 "nbformat": 4,
 "nbformat_minor": 4
}
